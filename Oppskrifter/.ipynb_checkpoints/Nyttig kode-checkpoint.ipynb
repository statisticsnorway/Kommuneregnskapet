{
 "cells": [
  {
   "cell_type": "markdown",
   "id": "f47ebe76-3370-46d9-9605-f0a8b1face20",
   "metadata": {},
   "source": [
    "# Legge på ledende nuller"
   ]
  },
  {
   "cell_type": "code",
   "execution_count": null,
   "id": "986c9cf7-f626-48be-af7e-4dd8f166b42a",
   "metadata": {},
   "outputs": [],
   "source": [
    "#df['column']=df['column'].apply(lambda x: '{0:0>3}'.format(x))"
   ]
  },
  {
   "cell_type": "code",
   "execution_count": null,
   "id": "72a5763f-5b00-4bb8-8d72-79d9eabddb60",
   "metadata": {},
   "outputs": [],
   "source": []
  }
 ],
 "metadata": {
  "kernelspec": {
   "display_name": "Python 3",
   "language": "python",
   "name": "python3"
  },
  "language_info": {
   "codemirror_mode": {
    "name": "ipython",
    "version": 3
   },
   "file_extension": ".py",
   "mimetype": "text/x-python",
   "name": "python",
   "nbconvert_exporter": "python",
   "pygments_lexer": "ipython3",
   "version": "3.8.8"
  }
 },
 "nbformat": 4,
 "nbformat_minor": 5
}
