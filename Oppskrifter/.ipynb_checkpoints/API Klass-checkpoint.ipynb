{
 "cells": [
  {
   "cell_type": "markdown",
   "id": "18b9d995-a925-4a35-aa92-c2a4308beff3",
   "metadata": {},
   "source": [
    "# Hente kodelister fra klass via API i stedet for å laste opp filer fra excel. \n",
    "- Henter kostra-kommuner med tilhørende regionsgrupperinger\n",
    "- Henter korrespondanseliste mellom Kostra kommunegruppering og standard for kommuneinndeling"
   ]
  },
  {
   "cell_type": "code",
   "execution_count": null,
   "id": "1678beb5-1e0a-4557-925f-eb54d18bb34d",
   "metadata": {},
   "outputs": [],
   "source": [
    "import requests\n",
    "import pandas as pd\n",
    "import io"
   ]
  },
  {
   "cell_type": "code",
   "execution_count": null,
   "id": "84e5061e-55f8-4575-9d45-148613a83b70",
   "metadata": {},
   "outputs": [],
   "source": [
    "headers = {'content-type': 'text/csv', 'charset' : 'ISO-8859-1'}\n",
    "response = requests.get(\"http://data.ssb.no/api/klass/v1/classifications/231/codes?from=2020-01-01&to=2021-01-01&csvSeparator=;\", headers=headers).content\n",
    "#print(response.status_code)"
   ]
  },
  {
   "cell_type": "code",
   "execution_count": null,
   "id": "f2514edc-6f01-4b08-a3a6-3816f16a7ff7",
   "metadata": {},
   "outputs": [],
   "source": [
    "rawData = pd.read_csv(io.StringIO(response.decode('ISO-8859-1')), sep = ';')"
   ]
  },
  {
   "cell_type": "code",
   "execution_count": null,
   "id": "2b1564cb-95c4-4148-b9f5-5effb7f4d0d9",
   "metadata": {},
   "outputs": [],
   "source": [
    "rawData"
   ]
  },
  {
   "cell_type": "markdown",
   "id": "b82989be-9f50-4b09-b6dc-542a2ef1d74b",
   "metadata": {},
   "source": [
    "**Kan jeg hente korresponandetabell og bruke det som hierarki?**"
   ]
  },
  {
   "cell_type": "code",
   "execution_count": null,
   "id": "79f53b85-6e4b-4723-9084-a7754636910d",
   "metadata": {},
   "outputs": [],
   "source": [
    "headers = {'content-type': 'text/csv', 'charset' : 'ISO-8859-1'}\n",
    "response = requests.get(\"http://data.ssb.no/api/klass/v1/classifications/112/correspondsAt?targetClassificationId=131&date=2020-01-01\", headers=headers).content\n",
    "korr = pd.read_csv(io.StringIO(response.decode('ISO-8859-1')), sep = ',')\n",
    "korr\n"
   ]
  },
  {
   "cell_type": "code",
   "execution_count": null,
   "id": "c43af82e-31b5-474d-b570-247756767f38",
   "metadata": {},
   "outputs": [],
   "source": []
  }
 ],
 "metadata": {
  "kernelspec": {
   "display_name": "Python 3-- (ipykernel)",
   "language": "python",
   "name": "python3"
  },
  "language_info": {
   "codemirror_mode": {
    "name": "ipython",
    "version": 3
   },
   "file_extension": ".py",
   "mimetype": "text/x-python",
   "name": "python",
   "nbconvert_exporter": "python",
   "pygments_lexer": "ipython3",
   "version": "3.8.8"
  }
 },
 "nbformat": 4,
 "nbformat_minor": 5
}
