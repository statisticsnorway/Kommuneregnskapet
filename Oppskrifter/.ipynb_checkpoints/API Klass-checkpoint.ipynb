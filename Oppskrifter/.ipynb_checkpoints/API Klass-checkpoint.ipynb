{
 "cells": [
  {
   "cell_type": "markdown",
   "id": "83dff144-6923-4e05-a869-30f988e5f490",
   "metadata": {},
   "source": [
    "# Hente kodelister fra klass via API\n",
    "- Det finnes ulike måter å hente data\n",
    "- Se SSBs API Guide https://data.ssb.no/api/klass/v1/api-guide.html\n",
    "- Det finnes også oppskrifter på BitBucket "
   ]
  },
  {
   "cell_type": "markdown",
   "id": "30ecd84b-50dd-441d-bda7-0de3e00c3c73",
   "metadata": {},
   "source": [
    "## Importerer nødvendige pakker"
   ]
  },
  {
   "cell_type": "code",
   "execution_count": null,
   "id": "0e62a127-9dc0-44d3-9113-90c3a2fe2a27",
   "metadata": {},
   "outputs": [],
   "source": [
    "import requests\n",
    "import io\n",
    "import pandas as pd"
   ]
  },
  {
   "cell_type": "markdown",
   "id": "451db51b-d7d0-408d-80cc-5f61a07cfa25",
   "metadata": {},
   "source": [
    "## Henter Klass kodeliste\n",
    "**Henter Kodeliste for KOSTRA-kommuner med tilhørende regionsgrupperinger**  \n",
    "- Listen defineres ved nummer i URL. For denne listen 231. \n",
    "- I denne koden defineres versjon basert på periode."
   ]
  },
  {
   "cell_type": "code",
   "execution_count": null,
   "id": "507b8762-6570-4326-9e49-6113351292d8",
   "metadata": {},
   "outputs": [],
   "source": [
    "headers = {'content-type': 'text/csv', 'charset' : 'ISO-8859-1'}\n",
    "response = requests.get(\"http://data.ssb.no/api/klass/v1/classifications/231/codes?from=2020-01-01&to=2021-01-01&csvSeparator=;\", headers=headers).content\n",
    "rawData = pd.read_csv(io.StringIO(response.decode('ISO-8859-1')), sep = ';')\n",
    "rawData"
   ]
  },
  {
   "cell_type": "markdown",
   "id": "e782aa59-cb48-4eb3-a4b0-01bbea350f9b",
   "metadata": {},
   "source": [
    "## Henter Klass korrespondansetabell\n",
    "- Korrespondansetabell hentes ved å definere tabellnummer for de to kodelistene korrespondansen er lagd av.\n",
    "- Versjon angis basert på dato\n",
    "- I dette eksempelet hentes korrespondanse mellom tabellene:\n",
    "    - Kodeliste for KOSTRA - kommunegruppering *(tabellnummer 112)*\n",
    "    - Standard for kommuneinndeling *(tabellnummer 131)*"
   ]
  },
  {
   "cell_type": "code",
   "execution_count": null,
   "id": "ebd7d03c-fdf5-4bfe-a1c9-90ffc3c396fe",
   "metadata": {},
   "outputs": [],
   "source": [
    "headers = {'content-type': 'text/csv', 'charset' : 'ISO-8859-1'}\n",
    "response = requests.get(\"http://data.ssb.no/api/klass/v1/classifications/112/correspondsAt?targetClassificationId=131&date=2020-01-01\", headers=headers).content\n",
    "rawDataCorr = pd.read_csv(io.StringIO(response.decode('ISO-8859-1')), sep = ',')\n",
    "rawDataCorr"
   ]
  }
 ],
 "metadata": {
  "kernelspec": {
   "display_name": "Python 3 (gammel)",
   "language": "python",
   "name": "python3"
  },
  "language_info": {
   "codemirror_mode": {
    "name": "ipython",
    "version": 3
   },
   "file_extension": ".py",
   "mimetype": "text/x-python",
   "name": "python",
   "nbconvert_exporter": "python",
   "pygments_lexer": "ipython3",
   "version": "3.8.8"
  }
 },
 "nbformat": 4,
 "nbformat_minor": 5
}
