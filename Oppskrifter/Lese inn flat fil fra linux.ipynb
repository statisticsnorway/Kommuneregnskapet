{
 "cells": [
  {
   "cell_type": "code",
   "execution_count": null,
   "id": "2ab3c15e-3e85-4a34-8f5a-501e57ca8dbc",
   "metadata": {},
   "outputs": [],
   "source": [
    "import glob\n",
    "import pandas as pd"
   ]
  },
  {
   "cell_type": "code",
   "execution_count": null,
   "id": "6bf5a479-3620-4267-babe-e0bf265115a2",
   "metadata": {},
   "outputs": [],
   "source": [
    "#Sjekker hva som ligger i mappen på linux\n",
    "paths = glob.glob(\"/ssb/stamme03/komakro/komm_aarsregn_ubearb/arkiv/*\")\n",
    "paths"
   ]
  },
  {
   "cell_type": "code",
   "execution_count": null,
   "id": "2bd080a5-f455-42a6-af23-9838832e9177",
   "metadata": {},
   "outputs": [],
   "source": [
    "#Fil med faste posisjoner. Må benytte fwf (fixed width) og definere posisjonene\n",
    "regn_2020 = pd.read_fwf(\"/ssb/stamme03/komakro/komm_aarsregn_ubearb/arkiv/primk_regnskap/g2020.txt\",\n",
    "    names=[\"skjema\", \"periode\", \"kvartal\", \"komnr\", \"orgnr\", \"foretaksnr\" ,\"kontoklasse\", \"funksjon\", \"art\", \"belop\"],\n",
    "    dtype=object,\n",
    "    na_values={\".\",\" .\"},\n",
    "    widths=[2, 4, 1, 6, 9, 9, 1, 4, 3, 9]\n",
    ")\n",
    "regn_2020.info()\n",
    "regn_2020.head(2)"
   ]
  },
  {
   "cell_type": "code",
   "execution_count": null,
   "id": "98a2a624-b11a-4c23-b7aa-6c113d119ede",
   "metadata": {},
   "outputs": [],
   "source": [
    "#Sjekker lengden på filen\n",
    "len(regn_2020)"
   ]
  },
  {
   "cell_type": "code",
   "execution_count": null,
   "id": "3d8c8f90-b0fe-4454-9d78-7a497b3e6ce2",
   "metadata": {},
   "outputs": [],
   "source": [
    "#Sjekker typen på variablene\n",
    "regn_2020.dtypes"
   ]
  },
  {
   "cell_type": "code",
   "execution_count": null,
   "id": "f8dfaaae-7ce9-42ff-a479-3bfde5d4982e",
   "metadata": {},
   "outputs": [],
   "source": [
    "#Retter datatyde\n",
    "regn_2020['belop'] = regn_2020['belop'].astype(\"int\")\n",
    "regn_2020['kvartal'] = regn_2020['kvartal'].astype(\"str\")\n",
    "regn_2020['orgnr'] = regn_2020['orgnr'].astype(\"str\")\n",
    "regn_2020['foretaksnr'] = regn_2020['foretaksnr'].astype(\"str\")\n",
    "regn_2020.convert_dtypes().info()"
   ]
  },
  {
   "cell_type": "code",
   "execution_count": null,
   "id": "95166984-3e0b-4f1c-985d-af6f6cb53195",
   "metadata": {},
   "outputs": [],
   "source": []
  }
 ],
 "metadata": {
  "kernelspec": {
   "display_name": "Python 3-- (ipykernel)",
   "language": "python",
   "name": "python3"
  },
  "language_info": {
   "codemirror_mode": {
    "name": "ipython",
    "version": 3
   },
   "file_extension": ".py",
   "mimetype": "text/x-python",
   "name": "python",
   "nbconvert_exporter": "python",
   "pygments_lexer": "ipython3",
   "version": "3.8.8"
  }
 },
 "nbformat": 4,
 "nbformat_minor": 5
}
