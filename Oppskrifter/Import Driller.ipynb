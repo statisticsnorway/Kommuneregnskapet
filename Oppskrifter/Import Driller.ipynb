{
 "cells": [
  {
   "cell_type": "markdown",
   "id": "12b34573-1391-43b1-91a6-0cb819dfeb43",
   "metadata": {},
   "source": [
    "# Hente filer fra Oracle\n",
    "- Det finnes flere oppskrifter for å hente data fra andre Databaser på Bitbucket"
   ]
  },
  {
   "cell_type": "markdown",
   "id": "0bb816e5-5986-4b25-8fc3-989f524c4d8c",
   "metadata": {},
   "source": [
    "## Leser inn nødvendige pakker"
   ]
  },
  {
   "cell_type": "code",
   "execution_count": null,
   "id": "026142d4-036e-445c-a913-04e82b2a6655",
   "metadata": {},
   "outputs": [],
   "source": [
    "#Trengs for eksempel 1\n",
    "import pandas as pd\n",
    "import cx_Oracle as cx\n",
    "import getpass\n",
    "\n",
    "#Tillegg for eksempel 2. Benyttes ikke i spørringen, kun under \"ordner data\".\n",
    "import numpy as np"
   ]
  },
  {
   "cell_type": "markdown",
   "id": "9d59ff7b-9c3a-4eb8-b466-e4ec8811d965",
   "metadata": {},
   "source": [
    "## Eksempel 1 - ISEE\n",
    "Henter Driller-skjema"
   ]
  },
  {
   "cell_type": "markdown",
   "id": "4e74d46f-d7a8-4ede-8a6e-58a9e157e84d",
   "metadata": {},
   "source": [
    "### Åpner forbindelse til Oracle"
   ]
  },
  {
   "cell_type": "code",
   "execution_count": null,
   "id": "ba176abd-1a77-4077-8819-a96c6706dbc0",
   "metadata": {
    "tags": []
   },
   "outputs": [],
   "source": [
    "username = \"mtk\"\n",
    "db = \"DB1P\"\n",
    "con = cx.connect(username,getpass.getpass(),db)"
   ]
  },
  {
   "cell_type": "markdown",
   "id": "f5e9a87c-0c59-4169-ac8f-10946ce4d162",
   "metadata": {},
   "source": [
    "### Henter data\n",
    "- Definerer delregisternummer\n",
    "- Definerer skjema"
   ]
  },
  {
   "cell_type": "code",
   "execution_count": null,
   "id": "75c69ddb-8a86-44a8-af3b-9566944f49ca",
   "metadata": {},
   "outputs": [],
   "source": [
    "dnr = 425221\n",
    "query = \"\"\"\n",
    "select * \n",
    "from dynarev.vw_funk_KOSTRA0A \n",
    "where delreg_nr = :dnr\n",
    "\"\"\"\n",
    "kostra0a = pd.read_sql(query,con=con,params={\"dnr\": str(dnr)})"
   ]
  },
  {
   "cell_type": "markdown",
   "id": "da0b2cf3-e9de-4681-a408-7e00d18fb307",
   "metadata": {},
   "source": [
    "### Ordner data\n",
    "- Dette er ikke nødvendig for spørringen, men utføres for å vise. \n",
    "- Kan sikkert avgrenses direkte i spørringen i stedet."
   ]
  },
  {
   "cell_type": "code",
   "execution_count": null,
   "id": "4d4b4edb-c8f0-4203-b204-8b96f85796e3",
   "metadata": {},
   "outputs": [],
   "source": [
    "kostra0a = kostra0a[['PERIODE', 'REGION', 'KONTOKLASSE', 'FUNKSJON_KAPITTEL', 'ART_SEKTOR', 'BELOP', 'BYDEL']]"
   ]
  },
  {
   "cell_type": "markdown",
   "id": "bb1b52c6-5cf3-406f-b463-f856d00f08dd",
   "metadata": {},
   "source": [
    "### Lagrer tabellen \n",
    "- Lagres i parquet format *(anbefales fra IT, usikker på hvorfor)*\n",
    "- For å lagre i et annet format: bytt ut 'parquet' i både funkjson og filnavn med noe annet, f.eks. csv\n",
    "- Fil lagres i samme mappe som denne arbeidsboken med mindre annen filsti defineres."
   ]
  },
  {
   "cell_type": "code",
   "execution_count": null,
   "id": "27599931-d89e-4c20-9d6a-6340a27da2ab",
   "metadata": {},
   "outputs": [],
   "source": [
    "kostra0a.to_parquet(\"kostra0a.parquet\")"
   ]
  },
  {
   "cell_type": "markdown",
   "id": "ac6cdb92-e0f8-4f1b-9b7c-842c5a550d50",
   "metadata": {},
   "source": [
    "### Stenger forbindelsen til Oracle"
   ]
  },
  {
   "cell_type": "code",
   "execution_count": null,
   "id": "27cf2272-44be-494f-9825-02e386bf436b",
   "metadata": {},
   "outputs": [],
   "source": [
    "con.close()"
   ]
  },
  {
   "cell_type": "markdown",
   "id": "24fe355c-0864-42e3-a77e-99d36f5cf37b",
   "metadata": {},
   "source": [
    "## Eksempel 2 - DB1P\n",
    "- Henter skjema fra dsbbase"
   ]
  },
  {
   "cell_type": "markdown",
   "id": "1728e540-949f-45df-9446-b7d78a8c1a43",
   "metadata": {},
   "source": [
    "### Åpner forbindelse til Oracle\n",
    "Samme som i eksempel 1, men skrevet på en litt annen måte.  \n",
    "Brukes etter preferanse. F.eks. om du skal benytte arbeidsboken alene, eller om den skal deles. "
   ]
  },
  {
   "cell_type": "code",
   "execution_count": null,
   "id": "047786a1-9d75-4395-acd5-8bf6b874fa88",
   "metadata": {},
   "outputs": [],
   "source": [
    "bruker = input('Angi bruker: ') or getpass.getuser()"
   ]
  },
  {
   "cell_type": "code",
   "execution_count": null,
   "id": "b71f9d23-e3b4-4a84-b1a5-29b0650ad31b",
   "metadata": {},
   "outputs": [],
   "source": [
    "conn = cx.connect(bruker + \"/\" + getpass.getpass(prompt='Angi oracle-passord for bruker ' + bruker + ':')+\"@DB1P\")"
   ]
  },
  {
   "cell_type": "markdown",
   "id": "86a953f0-c049-428a-ab68-5857ac350781",
   "metadata": {},
   "source": [
    "### Henter data\n",
    "Data hentes ved en SQL spørring.  \n",
    "Skjema må defineres. I eksempelet henstes data fra ssb_foretak.  \n",
    "Avgrenser data i spørringen ved hjelp av where-setningen."
   ]
  },
  {
   "cell_type": "code",
   "execution_count": null,
   "id": "9bd44d0c-e1f3-43cf-bad6-2af91107b553",
   "metadata": {},
   "outputs": [],
   "source": [
    "query = \"\"\"\n",
    " select *\n",
    " from dsbbase.ssb_foretak\n",
    " where (org_form = 'KOMM' or org_form = 'FYLK' or org_form = 'IKS') and  (statuskode = 'B' or statuskode = 'S')\n",
    " \"\"\"\n",
    "\n",
    "komm = pd.read_sql_query(query, conn)"
   ]
  },
  {
   "cell_type": "markdown",
   "id": "8d00efac-08d7-4bd6-9795-bd64ff2107f7",
   "metadata": {},
   "source": [
    "### Ordner data\n",
    "Ikke nødvendig for spørringen, men inkluderes som et eksempel på hva som kan gjøres. \n",
    "1. Begrenser kolonner\n",
    "2. Lager en ny kolonne basert på en eksisterende\n",
    "3. Endrer navn på kolonnene\n",
    "4. Skriver ut en visning av tabellen"
   ]
  },
  {
   "cell_type": "code",
   "execution_count": null,
   "id": "7a3c837b-6bf7-448c-a5ab-37d10e061c68",
   "metadata": {},
   "outputs": [],
   "source": [
    "komm = komm[['ORGNR','ORG_FORM','STATUSKODE', 'NAVN', 'F_KOMMUNENR']]\n",
    "\n",
    "komm['sortering']= np.where(komm['ORG_FORM']== 'KOMM', 1, 2)\n",
    "\n",
    "komm.rename(columns={'ORGNR':'orgnr_eier','NAVN':'navn_eier', 'F_KOMMUNENR':'kommnr_eier', 'STATUSKODE':'status_eier', 'ORG_FORM':'orgform_eier'}, inplace = True)\n",
    "\n",
    "komm"
   ]
  },
  {
   "cell_type": "markdown",
   "id": "908c9071-d721-4c8b-bcb0-54af9a8cd95c",
   "metadata": {},
   "source": [
    "### Stenger forbindelsen til Oracle"
   ]
  },
  {
   "cell_type": "code",
   "execution_count": null,
   "id": "438c4709-bd44-484a-aaca-a016fb81434c",
   "metadata": {},
   "outputs": [],
   "source": [
    "conn.close()"
   ]
  },
  {
   "cell_type": "markdown",
   "id": "3e655f0d-2f72-4e52-b79b-a13bec66d11f",
   "metadata": {},
   "source": [
    "---\n",
    "## Oppskrift ISEE, tekstlig:\n",
    "\n",
    "### Python\n",
    "\n",
    "import pandas as pd  \n",
    "import cx_Oracle as cx  \n",
    "import getpass  \n",
    "\n",
    "username = **\"Sett_inn_brukernavn\"**  \n",
    "db = \"DB1P\"  \n",
    "con = cx.connect(username,getpass.getpass(),db)  \n",
    "dnr = **Sett_inn_delregisternummer**  \n",
    "query = \"SELECT * FROM dynarev.vw_funk_**Sett_inn_skjema** where delreg_nr = :dnr\"  \n",
    "mine_data = pd.read_sql(query,con=con,params={\"dnr\": str(dnr)})  \n",
    "con.close()  \n",
    "\n",
    "### R\n",
    "\n",
    "library(getPass)  \n",
    "library(ROracle)  \n",
    "\n",
    "drv <- dbDriver(\"Oracle\")  \n",
    "con <- dbConnect(drv, user = **\"Sett_inn_brukernavn\"**, password =getPass(), dbname = \"DB1P\")  \n",
    "Mine_data <- dbGetQuery(con, \"SELECT * FROM dynarev.VW_FUNK_**Sett_inn_skjema** WHERE DELREG_NR=**Sett_inn_delregisternummer**\")\n",
    "---"
   ]
  },
  {
   "cell_type": "code",
   "execution_count": null,
   "id": "fe19c4c6-c3d9-4c2b-8ea7-9e78baf50784",
   "metadata": {},
   "outputs": [],
   "source": []
  }
 ],
 "metadata": {
  "kernelspec": {
   "display_name": "Python 3",
   "language": "python",
   "name": "python3"
  },
  "language_info": {
   "codemirror_mode": {
    "name": "ipython",
    "version": 3
   },
   "file_extension": ".py",
   "mimetype": "text/x-python",
   "name": "python",
   "nbconvert_exporter": "python",
   "pygments_lexer": "ipython3",
   "version": "3.8.8"
  }
 },
 "nbformat": 4,
 "nbformat_minor": 5
}
