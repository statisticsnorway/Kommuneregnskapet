{
 "cells": [
  {
   "cell_type": "markdown",
   "id": "18b9d995-a925-4a35-aa92-c2a4308beff3",
   "metadata": {},
   "source": [
    "# Hente kodelister fra klass via API\n",
    "- Det finnes ulike måter å hente data\n",
    "- Se SSBs API Guide https://data.ssb.no/api/klass/v1/api-guide.html\n",
    "- Det finnes også oppskrifter på BitBucket "
   ]
  },
  {
   "cell_type": "markdown",
   "id": "9de730f9-8c15-4c68-ae8c-a526f8702a1c",
   "metadata": {},
   "source": [
    "## Importerer nødvendige pakker"
   ]
  },
  {
   "cell_type": "code",
   "execution_count": null,
   "id": "1678beb5-1e0a-4557-925f-eb54d18bb34d",
   "metadata": {},
   "outputs": [],
   "source": [
    "import requests\n",
    "import io\n",
    "import pandas as pd"
   ]
  },
  {
   "cell_type": "markdown",
   "id": "5ec9ddd6-80d4-4953-9548-3e57d17c4f78",
   "metadata": {},
   "source": [
    "## Henter Klass kodeliste\n",
    "**Henter Kodeliste for KOSTRA-kommuner med tilhørende regionsgrupperinger**  \n",
    "- Listen defineres ved nummer i URL. For denne listen 231. \n",
    "- I denne koden defineres versjon basert på periode."
   ]
  },
  {
   "cell_type": "code",
   "execution_count": null,
   "id": "84e5061e-55f8-4575-9d45-148613a83b70",
   "metadata": {
    "jupyter": {
     "outputs_hidden": true
    },
    "tags": []
   },
   "outputs": [],
   "source": [
    "headers = {'content-type': 'text/csv', 'charset' : 'ISO-8859-1'}\n",
    "response = requests.get(\"http://data.ssb.no/api/klass/v1/classifications/231/codes?from=2020-01-01&to=2021-01-01&csvSeparator=;\", headers=headers).content\n",
    "rawData = pd.read_csv(io.StringIO(response.decode('ISO-8859-1')), sep = ';')\n",
    "rawData"
   ]
  },
  {
   "cell_type": "markdown",
   "id": "b82989be-9f50-4b09-b6dc-542a2ef1d74b",
   "metadata": {},
   "source": [
    "## Henter Klass korrespondansetabell\n",
    "- Korrespondansetabell hentes ved å definere tabellnummer for de to kodelistene korrespondansen er lagd av.\n",
    "- Versjon angis basert på dato\n",
    "- I dette eksempelet hentes korrespondanse mellom tabellene:\n",
    "    - Kodeliste for KOSTRA - kommunegruppering *(tabellnummer 112)*\n",
    "    - Standard for kommuneinndeling *(tabellnummer 131)*"
   ]
  },
  {
   "cell_type": "code",
   "execution_count": null,
   "id": "79f53b85-6e4b-4723-9084-a7754636910d",
   "metadata": {
    "jupyter": {
     "outputs_hidden": true
    },
    "tags": []
   },
   "outputs": [],
   "source": [
    "headers = {'content-type': 'text/csv', 'charset' : 'ISO-8859-1'}\n",
    "response = requests.get(\"http://data.ssb.no/api/klass/v1/classifications/112/correspondsAt?targetClassificationId=131&date=2020-01-01\", headers=headers).content\n",
    "rawDataCorr = pd.read_csv(io.StringIO(response.decode('ISO-8859-1')), sep = ',')\n",
    "rawDataCorr"
   ]
  }
 ],
 "metadata": {
  "kernelspec": {
   "display_name": "Python 3-- (ipykernel)",
   "language": "python",
   "name": "python3"
  },
  "language_info": {
   "codemirror_mode": {
    "name": "ipython",
    "version": 3
   },
   "file_extension": ".py",
   "mimetype": "text/x-python",
   "name": "python",
   "nbconvert_exporter": "python",
   "pygments_lexer": "ipython3",
   "version": "3.8.8"
  }
 },
 "nbformat": 4,
 "nbformat_minor": 5
}
