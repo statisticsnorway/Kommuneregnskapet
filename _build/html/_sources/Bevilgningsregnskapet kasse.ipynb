{
 "cells": [
  {
   "cell_type": "markdown",
   "id": "be881442-5d04-4b0e-a3cf-064d6c9c2a5b",
   "metadata": {},
   "source": [
    "# Bevilgningsregnskapet kasse"
   ]
  },
  {
   "cell_type": "markdown",
   "id": "27433b2e-f291-40fc-af5e-42129a14157b",
   "metadata": {},
   "source": [
    "## KOSTRA skjema A og C"
   ]
  },
  {
   "cell_type": "code",
   "execution_count": null,
   "id": "23bffc18-bdf9-4403-9efe-eaee70d48637",
   "metadata": {},
   "outputs": [],
   "source": []
  }
 ],
 "metadata": {
  "kernelspec": {
   "display_name": "Python 3",
   "language": "python",
   "name": "python3-new"
  },
  "language_info": {
   "codemirror_mode": {
    "name": "ipython",
    "version": 3
   },
   "file_extension": ".py",
   "mimetype": "text/x-python",
   "name": "python",
   "nbconvert_exporter": "python",
   "pygments_lexer": "ipython3",
   "version": "3.8.8"
  }
 },
 "nbformat": 4,
 "nbformat_minor": 5
}
