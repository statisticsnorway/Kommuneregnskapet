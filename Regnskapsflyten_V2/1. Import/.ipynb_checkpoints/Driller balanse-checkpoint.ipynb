{
 "cells": [
  {
   "cell_type": "markdown",
   "id": "12b34573-1391-43b1-91a6-0cb819dfeb43",
   "metadata": {},
   "source": [
    "# Hente filer fra ISEE\n",
    "\n",
    "Oppskrift:\n",
    "Python:\n",
    "import pandas as pd\n",
    "import cx_Oracle as cx\n",
    "import getpass\n",
    "---------------------------------------\n",
    "username = \"<bruker>\"\n",
    "db = \"DB1P\"\n",
    "con = cx.connect(username,getpass.getpass(),db)\n",
    "dnr = <delregister>\n",
    "query = \"SELECT * FROM dynarev.vw_funk_<skjema> where delreg_nr = :dnr\"\n",
    "mine_data = pd.read_sql(query,con=con,params={\"dnr\": str(dnr)})\n",
    "con.close()\n",
    "\n",
    "R:\n",
    "Pakker/biblioteker\n",
    "library(getPass)\n",
    "library(ROracle)\n",
    "--------------------------------------\n",
    "drv <- dbDriver(\"Oracle\")\n",
    "con <- dbConnect(drv, user = \"<Bruker>\", password =getPass(), dbname = \"DB1P\")\n",
    "Mine_data <- dbGetQuery(con, \"SELECT * FROM dynarev.VW_FUNK_<skjema> WHERE DELREG_NR=<delregister>\")\n"
   ]
  },
  {
   "cell_type": "markdown",
   "id": "44872f36-d2fb-4892-ad56-26e0672a88a6",
   "metadata": {},
   "source": [
    "## Henter nødvendige pakker\n",
    "**For å hente data fra Driller trengs følgende pakker:**  \n",
    "   - cx_Oracle\n",
    "   - getpass\n",
    "   - Pandas\n",
    "   - Selvlagde funksjoner lagret i fil funksjoner.py"
   ]
  },
  {
   "cell_type": "code",
   "execution_count": null,
   "id": "026142d4-036e-445c-a913-04e82b2a6655",
   "metadata": {},
   "outputs": [],
   "source": [
    "import pandas as pd\n",
    "import cx_Oracle as cx\n",
    "import getpass\n",
    "exec(open('../funksjoner.py').read())"
   ]
  },
  {
   "cell_type": "code",
   "execution_count": null,
   "id": "d19f90fd-d4fd-4a86-971b-2e89956efaf9",
   "metadata": {},
   "outputs": [],
   "source": [
    "#Kan kjøres ved behov for å se alle kolonner\n",
    "#pd.set_option('display.max_columns', None)"
   ]
  },
  {
   "cell_type": "markdown",
   "id": "2507586d-6f23-48d1-8264-9274416fe7a5",
   "metadata": {},
   "source": [
    "## Angi årgang som skal hentes\n",
    "- Skal flere årganger hentes må programmet kjøres flere ganger"
   ]
  },
  {
   "cell_type": "code",
   "execution_count": null,
   "id": "fd1d78d3-2cba-4acc-82e4-e77368c6a869",
   "metadata": {},
   "outputs": [],
   "source": [
    "%run ./../aargang.ipynb"
   ]
  },
  {
   "cell_type": "markdown",
   "id": "89b3a2b5-8052-4a22-ac19-d0a4a5afe420",
   "metadata": {},
   "source": [
    "## Åpner forbindelsen"
   ]
  },
  {
   "cell_type": "code",
   "execution_count": null,
   "id": "c16d073f-896d-4511-910f-562de5a8df9e",
   "metadata": {},
   "outputs": [],
   "source": [
    "#Åpner kobling til Oracle\n",
    "\n",
    "bruker = input('Angi bruker: ') or getpass.getuser()\n",
    "\n",
    "con = cx.connect(bruker + \"/\" + getpass.getpass(prompt='Angi oracle-passord for bruker ' + bruker + ':')+\"@DB1P\")"
   ]
  },
  {
   "cell_type": "markdown",
   "id": "19dd312f-0e9b-4027-bd63-dba60b4f0a22",
   "metadata": {},
   "source": [
    "## Henter skjema 0B"
   ]
  },
  {
   "cell_type": "code",
   "execution_count": null,
   "id": "64114af9-26c7-4e75-9ca7-bdf21d1bb5a5",
   "metadata": {
    "tags": []
   },
   "outputs": [],
   "source": [
    "#Henter skjema 0B\n",
    "\n",
    "dnr = int('4252'+siste)\n",
    "query = \"SELECT * FROM dynarev.vw_funk_KOSTRA0B where delreg_nr = :dnr\"\n",
    "aktive0b = pd.read_sql(query,con=con,params={\"dnr\": str(dnr)})\n",
    "aktive0b = aktive0b[['PERIODE', 'REGION', 'KONTOKLASSE', 'FUNKSJON_KAPITTEL', 'ART_SEKTOR', 'BELOP', 'BYDEL', 'AKTIV_REC']]\n",
    "aktive0b = aktive0b[(aktive0b['AKTIV_REC']==1)]\n",
    "kostra0b = aktive0b.copy().drop_duplicates().drop(columns=['AKTIV_REC'])\n",
    "kontroll_merge(aktive0b,kostra0b)"
   ]
  },
  {
   "cell_type": "code",
   "execution_count": null,
   "id": "1f6701ad-08cf-466c-995a-33297f3cc894",
   "metadata": {},
   "outputs": [],
   "source": [
    "kostra0b.info()"
   ]
  },
  {
   "cell_type": "code",
   "execution_count": null,
   "id": "4a25743c-a2e5-4551-8d49-9977cfab1a48",
   "metadata": {},
   "outputs": [],
   "source": [
    "kostra0b.to_parquet(\"/ssb/stamme03/komakro/pilot_python/arbeidsdata/import_driller/\" + aar + \"/kostra0b.parquet\")"
   ]
  },
  {
   "cell_type": "markdown",
   "id": "7328fcc6-d2c3-46cd-8584-147935e309ed",
   "metadata": {},
   "source": [
    "## Henter skjema 0D"
   ]
  },
  {
   "cell_type": "code",
   "execution_count": null,
   "id": "ed0c985d-6124-4ff3-9507-208784630289",
   "metadata": {},
   "outputs": [],
   "source": [
    "#Henter skjema 0D\n",
    "\n",
    "dnr = int('4572'+siste)\n",
    "query = \"SELECT * FROM dynarev.vw_funk_KOSTRA0D where delreg_nr = :dnr\"\n",
    "aktive0d = pd.read_sql(query,con=con,params={\"dnr\": str(dnr)})\n",
    "aktive0d = aktive0d[['PERIODE', 'REGION', 'KONTOKLASSE', 'FUNKSJON_KAPITTEL', 'ART_SEKTOR', 'BELOP', 'BYDEL', 'AKTIV_REC']]\n",
    "aktive0d = aktive0d[(aktive0d['AKTIV_REC']==1)]\n",
    "kostra0d = aktive0d.copy().drop_duplicates().drop(columns=['AKTIV_REC'])\n",
    "kontroll_merge(aktive0d,kostra0d)"
   ]
  },
  {
   "cell_type": "code",
   "execution_count": null,
   "id": "dceefb33-3260-4137-aad6-80825d4a85aa",
   "metadata": {},
   "outputs": [],
   "source": [
    "kostra0d.info()"
   ]
  },
  {
   "cell_type": "code",
   "execution_count": null,
   "id": "0f7c3b52-6489-4d4e-a811-6be082a5a06b",
   "metadata": {},
   "outputs": [],
   "source": [
    "kostra0d.to_parquet(\"/ssb/stamme03/komakro/pilot_python/arbeidsdata/import_driller/\" + aar + \"/kostra0d.parquet\")"
   ]
  },
  {
   "cell_type": "markdown",
   "id": "d0f7c545-94c8-4380-9412-6961c82036d8",
   "metadata": {},
   "source": [
    "## Henter skjema 0J"
   ]
  },
  {
   "cell_type": "code",
   "execution_count": null,
   "id": "bc45afb2-fd00-44d2-90b3-0b2ad4f8588e",
   "metadata": {},
   "outputs": [],
   "source": [
    "#Henter skjema 0J\n",
    "\n",
    "dnr = int('2290'+siste)\n",
    "query = \"SELECT * FROM dynarev.vw_funk_KOSTRA0J where delreg_nr = :dnr\"\n",
    "aktive0j = pd.read_sql(query,con=con,params={\"dnr\": str(dnr)})\n",
    "aktive0j = aktive0j[['PERIODE', 'KONTOKLASSE', 'FUNKSJON_KAPITTEL', 'ART_SEKTOR', 'BELOP', 'ORG_NR', 'AKTIV_REC']]\n",
    "aktive0j = aktive0j[(aktive0j['AKTIV_REC']==1)]\n",
    "kostra0j = aktive0j.copy().drop_duplicates().drop(columns=['AKTIV_REC'])\n",
    "kontroll_merge(aktive0j,kostra0j)"
   ]
  },
  {
   "cell_type": "code",
   "execution_count": null,
   "id": "17db8566-2efa-47d2-9687-1628413fe284",
   "metadata": {},
   "outputs": [],
   "source": [
    "kostra0j.info()"
   ]
  },
  {
   "cell_type": "code",
   "execution_count": null,
   "id": "12e0c59c-10ae-496a-a454-5ba6ac1b5e5d",
   "metadata": {},
   "outputs": [],
   "source": [
    "kostra0j.to_parquet(\"/ssb/stamme03/komakro/pilot_python/arbeidsdata/import_driller/\" + aar + \"/kostra0j.parquet\")"
   ]
  },
  {
   "cell_type": "markdown",
   "id": "83750fb7-38c1-4e41-a187-f19b19f4de38",
   "metadata": {},
   "source": [
    "## Henter skjema 0L"
   ]
  },
  {
   "cell_type": "code",
   "execution_count": null,
   "id": "f5dcf843-c570-4298-98c3-976241f54206",
   "metadata": {},
   "outputs": [],
   "source": [
    "#Henter skjema 0L\n",
    "\n",
    "dnr = int('2290'+siste)\n",
    "query = \"SELECT * FROM dynarev.vw_funk_KOSTRA0L where delreg_nr = :dnr\"\n",
    "aktive0l = pd.read_sql(query,con=con,params={\"dnr\": str(dnr)})\n",
    "aktive0l = aktive0l[['PERIODE', 'KONTOKLASSE', 'FUNKSJON_KAPITTEL', 'ART_SEKTOR', 'BELOP', 'ORG_NR', 'AKTIV_REC']]\n",
    "aktive0l = aktive0l[(aktive0l['AKTIV_REC']==1)]\n",
    "kostra0l = aktive0l.copy().drop_duplicates().drop(columns=['AKTIV_REC'])\n",
    "kontroll_merge(aktive0l,kostra0l)"
   ]
  },
  {
   "cell_type": "code",
   "execution_count": null,
   "id": "b44e3662-d9ef-4721-9091-8b05a6c7534d",
   "metadata": {},
   "outputs": [],
   "source": [
    "kostra0l.info()"
   ]
  },
  {
   "cell_type": "code",
   "execution_count": null,
   "id": "d79a3919-722c-42e0-b352-055974c1dc7b",
   "metadata": {},
   "outputs": [],
   "source": [
    "kostra0l.to_parquet(\"/ssb/stamme03/komakro/pilot_python/arbeidsdata/import_driller/\" + aar + \"/kostra0l.parquet\")"
   ]
  },
  {
   "cell_type": "markdown",
   "id": "e1653db4-736d-46cd-98df-f1149fec6aeb",
   "metadata": {},
   "source": [
    "## Henter skjema 0N"
   ]
  },
  {
   "cell_type": "code",
   "execution_count": null,
   "id": "8cf0e13f-339d-4fc7-b243-769ae7fe2930",
   "metadata": {},
   "outputs": [],
   "source": [
    "#Henter skjema 0M\n",
    "\n",
    "dnr = int('4252'+siste)\n",
    "query = \"SELECT * FROM dynarev.vw_funk_KOSTRA0N where delreg_nr = :dnr\"\n",
    "aktive0n = pd.read_sql(query,con=con,params={\"dnr\": str(dnr)})\n",
    "aktive0n = aktive0n[['PERIODE', 'REGION', 'KONTOKLASSE', 'FUNKSJON_KAPITTEL', 'ART_SEKTOR', 'BELOP', 'AKTIV_REC']]\n",
    "aktive0n = aktive0n[(aktive0n['AKTIV_REC']==1)]\n",
    "kostra0n = aktive0n.copy().drop_duplicates().drop(columns=['AKTIV_REC'])\n",
    "kontroll_merge(aktive0n,kostra0n)"
   ]
  },
  {
   "cell_type": "code",
   "execution_count": null,
   "id": "56367c53-0a91-42ac-9ae3-d252756f5dee",
   "metadata": {},
   "outputs": [],
   "source": [
    "kostra0n.info()"
   ]
  },
  {
   "cell_type": "code",
   "execution_count": null,
   "id": "ddb69f43-0fbf-4b54-abbc-848549b54c7a",
   "metadata": {},
   "outputs": [],
   "source": [
    "kostra0n.to_parquet(\"/ssb/stamme03/komakro/pilot_python/arbeidsdata/import_driller/\" + aar + \"/kostra0n.parquet\")"
   ]
  },
  {
   "cell_type": "markdown",
   "id": "0c2fa975-f69c-4067-a0c4-03fd94189061",
   "metadata": {},
   "source": [
    "## Henter skjema 0Q"
   ]
  },
  {
   "cell_type": "code",
   "execution_count": null,
   "id": "062a3ad5-38e7-4e26-b66c-14c78174e682",
   "metadata": {},
   "outputs": [],
   "source": [
    "#Henter skjema 0Q\n",
    "\n",
    "dnr = int('4572'+siste)\n",
    "query = \"SELECT * FROM dynarev.vw_funk_KOSTRA0Q where delreg_nr = :dnr\"\n",
    "aktive0q = pd.read_sql(query,con=con,params={\"dnr\": str(dnr)})\n",
    "aktive0q = aktive0q[['PERIODE', 'REGION', 'KONTOKLASSE', 'FUNKSJON_KAPITTEL', 'ART_SEKTOR', 'BELOP', 'AKTIV_REC']]\n",
    "aktive0q = aktive0q[(aktive0q['AKTIV_REC']==1)]\n",
    "kostra0q = aktive0q.copy().drop_duplicates().drop(columns=['AKTIV_REC'])\n",
    "kontroll_merge(aktive0q,kostra0q)"
   ]
  },
  {
   "cell_type": "code",
   "execution_count": null,
   "id": "e3e22896-fd21-43f1-b924-70681cf742b0",
   "metadata": {},
   "outputs": [],
   "source": [
    "kostra0q.info()"
   ]
  },
  {
   "cell_type": "code",
   "execution_count": null,
   "id": "94f8a7f5-7f3b-4ec6-b8af-ec390ed2b489",
   "metadata": {},
   "outputs": [],
   "source": [
    "kostra0q.to_parquet(\"/ssb/stamme03/komakro/pilot_python/arbeidsdata/import_driller/\" + aar + \"/kostra0q.parquet\")"
   ]
  },
  {
   "cell_type": "markdown",
   "id": "8cfe24af-8107-42e9-9647-e81798fd105d",
   "metadata": {},
   "source": [
    "## Stenger forbindelsen"
   ]
  },
  {
   "cell_type": "code",
   "execution_count": null,
   "id": "f1e9ec9c-5bfe-4bfa-ad2c-f4b960dd787b",
   "metadata": {},
   "outputs": [],
   "source": [
    "#Stenger koblingen til oracle\n",
    "\n",
    "con.close()"
   ]
  },
  {
   "cell_type": "code",
   "execution_count": null,
   "id": "5a573125-b291-44fb-96ba-b57b7b84f094",
   "metadata": {},
   "outputs": [],
   "source": []
  }
 ],
 "metadata": {
  "kernelspec": {
   "display_name": "Python 3",
   "language": "python",
   "name": "python3"
  },
  "language_info": {
   "codemirror_mode": {
    "name": "ipython",
    "version": 3
   },
   "file_extension": ".py",
   "mimetype": "text/x-python",
   "name": "python",
   "nbconvert_exporter": "python",
   "pygments_lexer": "ipython3",
   "version": "3.8.8"
  }
 },
 "nbformat": 4,
 "nbformat_minor": 5
}
