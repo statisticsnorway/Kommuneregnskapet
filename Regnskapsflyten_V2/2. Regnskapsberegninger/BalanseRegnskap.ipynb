{
 "cells": [
  {
   "cell_type": "markdown",
   "id": "1074a943-c9f5-4c30-a6d3-712103c0aa76",
   "metadata": {},
   "source": [
    "# BalanseRegnskap og regionsaggregering\n",
    "### Laster inn nødvendige pakker"
   ]
  },
  {
   "cell_type": "code",
   "execution_count": null,
   "id": "740ffd4d-b52a-48f7-bd46-395c33d37919",
   "metadata": {},
   "outputs": [],
   "source": [
    "import pandas as pd\n",
    "import numpy as np\n",
    "exec(open('../Funksjoner m.m./funksjoner.py').read())"
   ]
  },
  {
   "cell_type": "markdown",
   "id": "7993358a-d1de-4e1f-86c2-91cf6e92d51b",
   "metadata": {},
   "source": [
    "## Produserer innputfilene til BalanseRegnskap\n",
    "Før dette gjøres må følgende filer være kjørt:\n",
    "\n",
    "1. API Klass\n",
    "    - Denne henter lister over følgende fra Klass: kapitler, kommuner, fylkeskommuner, kommunehierarki, fylkeskommunehierarki og bydeler\n",
    "2. Import fra Driller\n",
    "    - Denne henter følgende skjemaer fra driller: 0B, 0D, 0J, 0L, 0N og 0Q"
   ]
  },
  {
   "cell_type": "code",
   "execution_count": null,
   "id": "9cf52e04-7f3d-4224-8948-228a81e2eb34",
   "metadata": {},
   "outputs": [],
   "source": [
    "%run ./auto_balanse/'Kasse Balanse'.ipynb"
   ]
  },
  {
   "cell_type": "code",
   "execution_count": null,
   "id": "958868fe-d534-48a7-a098-30aa2f6a487d",
   "metadata": {},
   "outputs": [],
   "source": [
    "%run ./auto_balanse/'Konsolidert Balanse'.ipynb"
   ]
  },
  {
   "cell_type": "code",
   "execution_count": null,
   "id": "0bc768e7-fff5-4380-83ad-fc3b6b978ffe",
   "metadata": {},
   "outputs": [],
   "source": [
    "%run ./auto_balanse/'Saerbedriftsbalanse'.ipynb"
   ]
  },
  {
   "cell_type": "markdown",
   "id": "ff2f4da2-028b-4db6-81c7-2ba75f4f057d",
   "metadata": {},
   "source": [
    "<br>\n",
    "<br>\n",
    "\n",
    "## Kontroller \n",
    "### Kasse\n",
    "**1. Kontrollerer om det er fjernet rader med null i de innleste balansefilene**"
   ]
  },
  {
   "cell_type": "code",
   "execution_count": null,
   "id": "2ddbe9e1-0bca-4981-8680-45e3d8ac00e2",
   "metadata": {},
   "outputs": [],
   "source": [
    "kontroll_merge(bd,bd_null)"
   ]
  },
  {
   "cell_type": "markdown",
   "id": "513c82bb-95d0-4d1e-8684-a16bff3bbfcf",
   "metadata": {},
   "source": [
    "<br>\n",
    "\n",
    "**2. Kontrollerer om det er fjernet rader med ugyldige kapitler**"
   ]
  },
  {
   "cell_type": "code",
   "execution_count": null,
   "id": "df1bf183-985e-40e3-9670-630d5f0a5ac3",
   "metadata": {},
   "outputs": [],
   "source": [
    "kontroll_merge(bd_forts, bd_kapittelsfilter)"
   ]
  },
  {
   "cell_type": "markdown",
   "id": "046556e4-42c2-4d87-9e90-d07cd6465b97",
   "metadata": {},
   "source": [
    "<br>\n",
    "\n",
    "**3. Lister ut manglende kommuner**"
   ]
  },
  {
   "cell_type": "code",
   "execution_count": null,
   "id": "9c50a6fb-2c2d-4ecf-bbfc-226ce20a8d92",
   "metadata": {},
   "outputs": [],
   "source": [
    "bd_manglende"
   ]
  },
  {
   "cell_type": "markdown",
   "id": "63efa841-9798-4e06-945c-5ac56c7153fa",
   "metadata": {},
   "source": [
    "### Konsolidert"
   ]
  },
  {
   "cell_type": "markdown",
   "id": "b7f021a2-9764-45b4-8668-31ee2307ab92",
   "metadata": {},
   "source": [
    "**1. Kontrollerer om det er fjernet rader med null i de innleste balansefilene**"
   ]
  },
  {
   "cell_type": "code",
   "execution_count": null,
   "id": "b8b86af4-2911-44f7-a3fb-9bcfd8462294",
   "metadata": {},
   "outputs": [],
   "source": [
    "kontroll_merge(nq,nq_null)"
   ]
  },
  {
   "cell_type": "markdown",
   "id": "8ce673db-17bb-4de8-a1d2-c96fce12cf70",
   "metadata": {},
   "source": [
    "<br>\n",
    "\n",
    "**2. Kontrollerer om det er fjernet rader med ugyldige kapitler**"
   ]
  },
  {
   "cell_type": "code",
   "execution_count": null,
   "id": "1e11bbac-ccd1-4b6d-85ba-df5ae4c6b8f3",
   "metadata": {},
   "outputs": [],
   "source": [
    "kontroll_merge(nq_forts, nq_kapittelfilter)"
   ]
  },
  {
   "cell_type": "markdown",
   "id": "b6ee31e0-4e7f-46eb-8782-5184908ff97c",
   "metadata": {},
   "source": [
    "<br>\n",
    "\n",
    "**3. Lister ut manglende kommuner**"
   ]
  },
  {
   "cell_type": "code",
   "execution_count": null,
   "id": "ba359f39-637f-4001-bd62-1bcd08bca173",
   "metadata": {},
   "outputs": [],
   "source": [
    "nq_manglende"
   ]
  },
  {
   "cell_type": "markdown",
   "id": "ebe3885c-eb9a-47ab-aa79-85edbcd97eef",
   "metadata": {},
   "source": [
    "### Særbedriftene"
   ]
  },
  {
   "cell_type": "markdown",
   "id": "3be989e5-7961-4a14-8604-c55b547e29be",
   "metadata": {},
   "source": [
    "**1. Kontrollerer om det er fjernet rader med null i de innleste regnskapsfilene**"
   ]
  },
  {
   "cell_type": "code",
   "execution_count": null,
   "id": "a34e4c35-8355-4940-878f-ba0012b815c8",
   "metadata": {},
   "outputs": [],
   "source": [
    "kontroll_merge(jl,jl_null)"
   ]
  },
  {
   "cell_type": "markdown",
   "id": "f3bba851-005d-4a21-8f54-aa9f528ac80f",
   "metadata": {},
   "source": [
    "<br>\n",
    "\n",
    "**2. Kontrollerer om det er fjernet rader med ugyldige kapitler**"
   ]
  },
  {
   "cell_type": "code",
   "execution_count": null,
   "id": "4bb5f772-17f1-412c-8adf-f0e652ce2b2b",
   "metadata": {},
   "outputs": [],
   "source": [
    "kontroll_merge(jl_snudd, jl_kapittelfilter)"
   ]
  },
  {
   "cell_type": "markdown",
   "id": "c9506ea3-e4ec-484e-9dfb-4861bdc104c5",
   "metadata": {},
   "source": [
    "**3. Kontrollerer eierandelene som er fjernet som følge av at eierkommune ikke har levert balanseregnskapet**"
   ]
  },
  {
   "cell_type": "code",
   "execution_count": null,
   "id": "cb83cbcb-9017-4d47-8327-c9f48c19fdbb",
   "metadata": {},
   "outputs": [],
   "source": [
    "kontroll_merge(jl_eierandel, jl_eier_levert)"
   ]
  },
  {
   "cell_type": "markdown",
   "id": "d664df01-706b-424a-8ef0-83f1a8aac2a5",
   "metadata": {},
   "source": [
    "## Henter Hierarkifilene"
   ]
  },
  {
   "cell_type": "code",
   "execution_count": null,
   "id": "fa05ffec-def6-4710-9751-4e3c2b4bb2ea",
   "metadata": {},
   "outputs": [],
   "source": [
    "kapittelhierarki = pd.read_parquet(\"/ssb/stamme03/komakro/pilot_python/inndata/\" +aar+ \"/kapittelhierarki_\" +aar+ \".parquet\")\n",
    "kommunehierarki= pd.read_parquet(\"/ssb/stamme03/komakro/pilot_python/arbeidsdata/klass/\" + aar + \"/kommunehierarki.parquet\")\n",
    "fylkeskommunehierarki = pd.read_parquet(\"/ssb/stamme03/komakro/pilot_python/arbeidsdata/klass/\" + aar + \"/fylkeskommunehierarki.parquet\")"
   ]
  },
  {
   "cell_type": "code",
   "execution_count": null,
   "id": "7f31bb7a-dc97-4a3e-ab0d-966f5f850a50",
   "metadata": {},
   "outputs": [],
   "source": [
    "#Siden BalanseRegnskap ikke godtar regnskapsomfang C endret omfang til B som en quick fix\n",
    "kostra0n_0q_kontrollert['regnskapsomfang'] = kostra0n_0q_kontrollert['regnskapsomfang'].str.replace('C','B')"
   ]
  },
  {
   "cell_type": "markdown",
   "id": "569498a1-08be-4a61-b09f-806b0ae65bbb",
   "metadata": {},
   "source": [
    "## BalanseRegnskap"
   ]
  },
  {
   "cell_type": "code",
   "execution_count": null,
   "id": "a951dc6c-9a37-4440-a875-6e0787a1af39",
   "metadata": {},
   "outputs": [],
   "source": [
    "%load_ext rpy2.ipython"
   ]
  },
  {
   "cell_type": "markdown",
   "id": "e49294c9-ac0d-42b8-85ce-df9ecb0dd03a",
   "metadata": {},
   "source": [
    "### Leser inn nødvendige pakker"
   ]
  },
  {
   "cell_type": "code",
   "execution_count": null,
   "id": "3ac4b319-27de-4e06-8f7a-b156bccabf88",
   "metadata": {
    "tags": []
   },
   "outputs": [],
   "source": [
    "%R library(Kostra)\n",
    "%R library(tidyverse)"
   ]
  },
  {
   "cell_type": "code",
   "execution_count": null,
   "id": "06a59359-7b04-4f59-b507-312244fcb7af",
   "metadata": {},
   "outputs": [],
   "source": [
    "%R -i balanse_basis\n",
    "%R -i kostra0n_0q_kontrollert\n",
    "%R -i kapittelhierarki\n",
    "%R -i kommunehierarki\n",
    "%R -i fylkeskommunehierarki\n",
    "%R -i bd_manglende"
   ]
  },
  {
   "cell_type": "markdown",
   "id": "1abf9600-3797-4d3e-824f-d97a04c5de5b",
   "metadata": {},
   "source": [
    "## Balanse regnskapsfunksjonen\n",
    "- Kjører funksjonen BalanseRegnskap fra Kostra biblioteket. Dette er den samme funksjonen som er lagt inn i Kompis.\n",
    "- Funksjonen må skrives med inputdata i følgende rekkefølge: \n",
    "    1. Balanseregnskapet (Kasse og særbedrifter samlet)\n",
    "    2. Kapittelhierarki"
   ]
  },
  {
   "cell_type": "code",
   "execution_count": null,
   "id": "9ef905e1-d132-47e2-81b2-983787b8a8ac",
   "metadata": {
    "jupyter": {
     "outputs_hidden": true
    },
    "tags": [
     "hide-output"
    ]
   },
   "outputs": [],
   "source": [
    "%R resultat <- BalanseRegnskap(balanse_basis, kapittelhierarki, omfang = c('A','B','sbedr'))"
   ]
  },
  {
   "cell_type": "markdown",
   "id": "30fbb5e4-b508-4884-a0c3-794d372c719a",
   "metadata": {},
   "source": [
    "## Konsern\n",
    "- Filtrerer ut konsern-tall\n",
    "- Lager KG33, KG34, KG35, KG36\n",
    "- Aggregerer region\n",
    "- Fjerner estimerte kommuner"
   ]
  },
  {
   "cell_type": "code",
   "execution_count": null,
   "id": "c1a0a184-1447-45dc-83cc-1d618a5b62d3",
   "metadata": {
    "tags": []
   },
   "outputs": [],
   "source": [
    "%R konsern_start <- filter(resultat, regnskapsomfang == \"A\")"
   ]
  },
  {
   "cell_type": "code",
   "execution_count": null,
   "id": "4abe41f3-d12a-46f6-9d10-c3efc603ca86",
   "metadata": {
    "tags": []
   },
   "outputs": [],
   "source": [
    "%%R ny_var <- resultat %>% \n",
    "filter(kapittel %in% c('14','23','33','47') & regnskapsomfang %in% c('B','sbedr')) %>%\n",
    "pivot_wider(\n",
    "    names_from = c(regnskapsomfang, kapittel),\n",
    "    values_from = belop)%>%\n",
    "mutate (KG33 = B_14 - sbedr_33) %>%\n",
    "mutate (KG34 = B_23 - sbedr_47) %>%\n",
    "mutate (KG35 = B_33 - sbedr_14) %>%\n",
    "mutate (KG36 = B_47 - sbedr_23)\n",
    "\n",
    "ny_var <- ny_var[c('periode', 'region','KG33','KG34','KG35','KG36')]\n",
    "\n",
    "ny_var <- ny_var %>% \n",
    "pivot_longer(\n",
    "    cols = starts_with ('KG'), \n",
    "    names_to ='kapittel', \n",
    "    values_to = 'belop')%>%\n",
    "add_column(regnskapsomfang = 'A')"
   ]
  },
  {
   "cell_type": "code",
   "execution_count": null,
   "id": "aab4084f-cdce-4bb0-be98-bf7954c14940",
   "metadata": {
    "tags": []
   },
   "outputs": [],
   "source": [
    "%R konsern <- rbind(konsern_start, ny_var)"
   ]
  },
  {
   "cell_type": "markdown",
   "id": "c87c76c7-984a-4228-9a78-d1171459a4f7",
   "metadata": {},
   "source": [
    "### Aggregerer regnskapet\n",
    "- Kjører funksjon HierarchyCompute fra kostra biblioteket. \n",
    "- Funksjonen aggregerer regnskapet til følgende (så sant regionsfierarkiet er korrekt):\n",
    "    - EAK (Landet - kommuner)\n",
    "    - EAKUO (Landet uten Oslo - kommuner)\n",
    "    - EKAXX (Fylker)\n",
    "    - EKG (kostragrupper)\n",
    "    - EAFK (Landet - fylkeskommuner)\n",
    "    - EAFKUO (Landet uten Oslo - fylkeskommuner)\n",
    "    - EAFKXX (Landsdeler)\n",
    "<br>\n",
    "<br>\n",
    "- Vi lager kun aggregerte størrelser på konserntall. "
   ]
  },
  {
   "cell_type": "code",
   "execution_count": null,
   "id": "55d46146-4fe7-4a29-9668-b1d924091dbe",
   "metadata": {
    "tags": []
   },
   "outputs": [],
   "source": [
    "%R regionshierarki <- rbind(kommunehierarki, fylkeskommunehierarki)"
   ]
  },
  {
   "cell_type": "code",
   "execution_count": null,
   "id": "a030658d-073f-4081-9d2d-1701427eb008",
   "metadata": {},
   "outputs": [],
   "source": [
    "%%R bal_konsern <- HierarchyCompute(data=konsern, valueVar = \"belop\", \n",
    "                      hierarchies=list(region = regionshierarki, regnskapsomfang = \"rowFactor\",  kapittel = \"rowFactor\"), \n",
    "                      hierarchyVarNames = c(mapsFrom = \"from\", mapsTo = \"to\", sign = \"sign\"), \n",
    "                      colVar = \"region\", rowSelect = unique(konsern[, c(\"regnskapsomfang\", \"kapittel\")]),\n",
    "                      inputInOutput = TRUE)"
   ]
  },
  {
   "cell_type": "code",
   "execution_count": null,
   "id": "bb5b08f5-7b7a-4b0c-add0-50ec17f89112",
   "metadata": {
    "tags": []
   },
   "outputs": [],
   "source": [
    "%%R bal_konsern <- bal_konsern[!bal_konsern$region %in%\n",
    "                               bd_manglende$region,]"
   ]
  },
  {
   "cell_type": "code",
   "execution_count": null,
   "id": "15add0bc-1e54-4c52-b83f-73da15bbca44",
   "metadata": {},
   "outputs": [],
   "source": [
    "%R bal_konsern$periode <- '2021'"
   ]
  },
  {
   "cell_type": "markdown",
   "id": "dc90fc18-5469-48c9-bcf5-4aeed67e58c9",
   "metadata": {},
   "source": [
    "## Kasse\n",
    "- Filtrerer ut kasse-tall\n",
    "- Fjerner estimerte kommuner"
   ]
  },
  {
   "cell_type": "code",
   "execution_count": null,
   "id": "5e5c4316-982e-41e5-8158-821f8844c1bb",
   "metadata": {
    "tags": []
   },
   "outputs": [],
   "source": [
    "%R bal_kasse <- filter(resultat, regnskapsomfang == \"B\")"
   ]
  },
  {
   "cell_type": "code",
   "execution_count": null,
   "id": "72cad0f8-112c-47e7-8eb8-d231a0423a20",
   "metadata": {},
   "outputs": [],
   "source": [
    "%%R bal_kasse <- bal_kasse[!bal_kasse$region %in%\n",
    "                           bd_manglende$region,]"
   ]
  },
  {
   "cell_type": "markdown",
   "id": "b8605411-fd06-4cb5-852b-6b38170aa2b1",
   "metadata": {},
   "source": [
    "## Konsolidert\n",
    "- KostraRegnskaps-funksjonen er ikke laget for konsolidert. \n",
    "- Konsolidert skal behandles likt som kasse. Mekker derfor til ved å kalle sette regnskapsomfang B på konsolidert og kjøre KostraRegnskap for kun B. \n",
    "- Etter kjøringen endres regnskapsomfang tilbake til C. "
   ]
  },
  {
   "cell_type": "code",
   "execution_count": null,
   "id": "b8d5f351-c2a2-4558-ba70-15604f0894a6",
   "metadata": {
    "jupyter": {
     "outputs_hidden": true
    },
    "tags": [
     "hide-output"
    ]
   },
   "outputs": [],
   "source": [
    "%R resultat_konsolidert <- BalanseRegnskap(kostra0n_0q_kontrollert, kapittelhierarki, omfang = c('B'))"
   ]
  },
  {
   "cell_type": "code",
   "execution_count": null,
   "id": "32f24e57-87de-44c3-9b54-5cfd90cf664e",
   "metadata": {},
   "outputs": [],
   "source": [
    "%R resultat_konsolidert$regnskapsomfang <- gsub('B','C',resultat_konsolidert$regnskapsomfang)"
   ]
  },
  {
   "cell_type": "markdown",
   "id": "d4be4d28-7924-4629-9382-26d2b30142e0",
   "metadata": {},
   "source": [
    "## Samler kasse og konsolidert"
   ]
  },
  {
   "cell_type": "code",
   "execution_count": null,
   "id": "d3e648cc-8f5c-4aaf-8c77-92ee9a88bf42",
   "metadata": {
    "tags": []
   },
   "outputs": [],
   "source": [
    "%R bal_kasse_konsolidert <- rbind(bal_kasse, resultat_konsolidert)"
   ]
  },
  {
   "cell_type": "markdown",
   "id": "760958d9-d496-41f1-962f-b06e2358d41a",
   "metadata": {},
   "source": [
    "## Skriver tilbake til python"
   ]
  },
  {
   "cell_type": "code",
   "execution_count": null,
   "id": "86754aaa-af35-4d32-a9f0-43558d9594d1",
   "metadata": {},
   "outputs": [],
   "source": [
    "%R -o bal_kasse_konsolidert\n",
    "%R -o bal_konsern"
   ]
  },
  {
   "cell_type": "markdown",
   "id": "94c3b4ee-d395-43c8-a453-7905f5b2b952",
   "metadata": {},
   "source": [
    "## Kjører utregning av finansielle grunnlagsdata inkludert rentekompensasjon"
   ]
  },
  {
   "cell_type": "code",
   "execution_count": null,
   "id": "e1aaf96f-9485-43f0-aa72-912972a66e7a",
   "metadata": {},
   "outputs": [],
   "source": [
    "%run ./auto_balanse/'Rentekomp'.ipynb"
   ]
  },
  {
   "cell_type": "code",
   "execution_count": null,
   "id": "c2de14d9-cb8c-49fb-8857-335a6dd4b6e1",
   "metadata": {},
   "outputs": [],
   "source": [
    "fingr"
   ]
  },
  {
   "cell_type": "code",
   "execution_count": null,
   "id": "5d59e876-d14d-45de-9709-dade2765ac6e",
   "metadata": {},
   "outputs": [],
   "source": [
    "fingr.to_parquet('/ssb/stamme03/komakro/pilot_python/arbeidsdata/arbeidsfiler/'+aar+'/finansielt_grunnlag_ink_rente.parquet')"
   ]
  },
  {
   "cell_type": "code",
   "execution_count": null,
   "id": "4f238df8-f9fc-4a10-a73f-73e6eeb26c61",
   "metadata": {},
   "outputs": [],
   "source": [
    "bal_kasse_konsolidert.to_parquet('/ssb/stamme03/komakro/pilot_python/arbeidsdata/arbeidsfiler/'+aar+'/bal_kasse_konsolidert.parquet')"
   ]
  }
 ],
 "metadata": {
  "kernelspec": {
   "display_name": "Python 3",
   "language": "python",
   "name": "python3-new"
  },
  "language_info": {
   "codemirror_mode": {
    "name": "ipython",
    "version": 3
   },
   "file_extension": ".py",
   "mimetype": "text/x-python",
   "name": "python",
   "nbconvert_exporter": "python",
   "pygments_lexer": "ipython3",
   "version": "3.8.8"
  }
 },
 "nbformat": 4,
 "nbformat_minor": 5
}
