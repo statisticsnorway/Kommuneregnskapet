{
 "cells": [
  {
   "cell_type": "markdown",
   "id": "6fadda26-56ea-4b8d-ab88-30daf3de0470",
   "metadata": {},
   "source": [
    "# Test for å lage kontroller av Finansiering av investeringene\n",
    "\n",
    "## Krav for at tabellen skal være korrekt\n",
    "1. Andel av brutto investeringsutgifter skal være 100 % per kommune per årgang\n",
    "2. Beløp summert per kommune per årgang til tilsvare Brutto investeringsutgifter\n",
    "3. Årlig utvikling skal være fornuftig \n",
    "    - Definisjon av fornuftig utvikling må bestemmes\n",
    "\n",
    "### Steg\n",
    "- Importerer tabeller fra Linux. Trenger to tabeller:\n",
    "    - Finansiering av investeringene\n",
    "    - Finansielle grunnlagsdata \n",
    "    \n",
    "1. Kontroller om andel er 100 %\n",
    "    - Ok med avvik på 1 %\n",
    "    - Hvor mange kommuner har høyere avvik\n",
    "        - Er dette mer/mindre enn tidligere årganger\n",
    "2. Kontroller om summer av investeringene tilsvarer brutto investeringsutgifter for kommunen\n",
    "    - Hvor mange avviker\n",
    "    - Hvor betydelig er avviket\n",
    "    - Er det sammenheng mellom kommunene som avviker på kontroll 1 og 2\n",
    "3. Kontroller den årlige utviklingen for alle tilgjengelige årganger\n",
    "    - Prosentvis utvikling \n",
    "    - Plotte utviklingen\n",
    "    - Se om HP-metoden fra Kostra biblioteket kan være et alternativ\n",
    "\n"
   ]
  },
  {
   "cell_type": "code",
   "execution_count": null,
   "id": "90125144-02ad-465a-b355-fe63cf0c469e",
   "metadata": {},
   "outputs": [],
   "source": [
    "import pandas as pd\n",
    "import numpy as np\n",
    "import glob"
   ]
  },
  {
   "cell_type": "code",
   "execution_count": null,
   "id": "908ebdcd-c5f0-470d-8324-7f96ff9964e7",
   "metadata": {},
   "outputs": [],
   "source": [
    "#Sjekker hva som ligger i mappen på linux\n",
    "#Har tidligere lagret test-data på egen Linux mappe\n",
    "paths = glob.glob(\"/ssb/bruker/mtk/Testdata/*\")\n",
    "paths"
   ]
  },
  {
   "cell_type": "code",
   "execution_count": null,
   "id": "9d0170b1-f6a0-458c-9566-c11e6e18415f",
   "metadata": {},
   "outputs": [],
   "source": [
    "#Henter filen, sjekker innhold\n",
    "fininv = pd.read_csv(\"/ssb/bruker/mtk/Testdata/finansiering_av_investeringene.csv\", sep = ';')\n",
    "fininv.info()\n",
    "fininv.head(5)"
   ]
  },
  {
   "cell_type": "code",
   "execution_count": null,
   "id": "63e25926-b9e1-4a88-9787-6d098fcae464",
   "metadata": {},
   "outputs": [],
   "source": [
    "fingr = pd.read_csv('/ssb/bruker/mtk/Testdata/finansielle_grunnlagsdata.csv', sep = ';')\n",
    "fingr.dtypes\n",
    "fingr.info()\n",
    "fingr.head()"
   ]
  },
  {
   "cell_type": "code",
   "execution_count": null,
   "id": "2a753217-c5f0-4c27-abe3-d5dc33cdc984",
   "metadata": {
    "jupyter": {
     "outputs_hidden": true
    },
    "tags": []
   },
   "outputs": [],
   "source": [
    "#Retter datatyde\n",
    "#fininv['andelinv'] = fininv['andelinv'].astype(\"float64\")\n",
    "#fininv.convert_dtypes().info()"
   ]
  },
  {
   "cell_type": "code",
   "execution_count": null,
   "id": "34f95249-2995-419d-a19d-31d828295073",
   "metadata": {},
   "outputs": [],
   "source": [
    "#Filtrerer ut Halden og AGI23\n",
    "AGI23 = fininv[((fininv['kommuneregion'] == '3001')  | (fininv['kommuneregion'] == '0101')) & (fininv['art_kap'] == 'AGI23')]\n",
    "AGI23.head(10)"
   ]
  },
  {
   "cell_type": "code",
   "execution_count": null,
   "id": "306a0627-c143-47c2-81e4-5a1f2e0f80b8",
   "metadata": {
    "jupyter": {
     "outputs_hidden": true
    },
    "tags": []
   },
   "outputs": [],
   "source": [
    "#Grupperer finansiering av investeringene etter kommuneregion og periode\n",
    "gruppert_alle = fininv.groupby(['periode','kommuneregion'])[['belop','andelinv']].sum()\n",
    "gruppert_alle"
   ]
  },
  {
   "cell_type": "code",
   "execution_count": null,
   "id": "7d1716aa-eb58-4a67-a902-f508bcaf52ea",
   "metadata": {
    "jupyter": {
     "outputs_hidden": true
    },
    "tags": []
   },
   "outputs": [],
   "source": [
    "#Filtrerer ut observasjoner hvor andelinv avviker fra 100 med intervall på 0.5\n",
    "diff = gruppert_alle[(gruppert_alle['andelinv'] >= 100.5) | (gruppert_alle['andelinv'] <= 99.5)]\n",
    "diff"
   ]
  },
  {
   "cell_type": "code",
   "execution_count": null,
   "id": "0ab34260-bf1b-441f-a82a-fbf05e6c2021",
   "metadata": {
    "jupyter": {
     "outputs_hidden": true
    },
    "tags": []
   },
   "outputs": [],
   "source": [
    "#Filtrerer ut 2021\n",
    "p2021 = fininv[(fininv['periode'] == 2021)]\n",
    "p2021\n",
    "\n",
    "#Grupperer finansiering av investeringene etter kommuneregion og periode\n",
    "gruppert_2021 = p2021.groupby(['periode','kommuneregion'])[['belop','andelinv']].sum()\n",
    "gruppert_2021\n",
    "\n",
    "#Filtrerer ut observasjoner hvor andelinv avviker fra 100 med intervall på 1.0\n",
    "diff2021 = gruppert_2021[(gruppert_2021['andelinv'] >= 101.0) | (gruppert_2021['andelinv'] <= 99.0)]\n",
    "diff2021\n"
   ]
  },
  {
   "cell_type": "code",
   "execution_count": null,
   "id": "cb3bb7b2-3f51-4424-ac73-e12d055b5dce",
   "metadata": {},
   "outputs": [],
   "source": [
    "len(diff2021)"
   ]
  },
  {
   "cell_type": "code",
   "execution_count": null,
   "id": "1724066d-57c8-4256-a91d-72fc40fc41d4",
   "metadata": {},
   "outputs": [],
   "source": []
  }
 ],
 "metadata": {
  "kernelspec": {
   "display_name": "Python 3 (ipykernel)",
   "language": "python",
   "name": "python3"
  },
  "language_info": {
   "codemirror_mode": {
    "name": "ipython",
    "version": 3
   },
   "file_extension": ".py",
   "mimetype": "text/x-python",
   "name": "python",
   "nbconvert_exporter": "python",
   "pygments_lexer": "ipython3",
   "version": "3.8.8"
  }
 },
 "nbformat": 4,
 "nbformat_minor": 5
}
