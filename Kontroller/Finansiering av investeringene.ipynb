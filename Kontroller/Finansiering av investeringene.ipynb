{
 "cells": [
  {
   "cell_type": "markdown",
   "id": "6fadda26-56ea-4b8d-ab88-30daf3de0470",
   "metadata": {},
   "source": [
    "# Test for å lage kontroller av Finansiering av investeringene\n",
    "\n",
    "## Krav for at tabellen skal være korrekt\n",
    "1. Andel av brutto investeringsutgifter skal være 100 % per kommune per årgang\n",
    "2. Beløp summert per kommune per årgang til tilsvare brutto investeringsutgifter\n",
    "3. Årlig utvikling skal være fornuftig \n",
    "    - Definisjon av fornuftig utvikling må bestemmes\n",
    "\n",
    "### Steg\n",
    "- Importerer tabeller fra Linux. Trenger to tabeller:\n",
    "    - Finansiering av investeringene\n",
    "    - Finansielle grunnlagsdata \n",
    "    \n",
    "1. Kontroller om andel er 100 %\n",
    "    - Ok med avvik på 1 %\n",
    "    - Hvor mange kommuner har høyere avvik\n",
    "        - Er dette mer/mindre enn tidligere årganger\n",
    "        - Ta ut liste over kommuner med avvik\n",
    "2. Kontroller om sum av investeringene tilsvarer brutto investeringsutgifter for kommunen\n",
    "    - Hvor mange avviker\n",
    "    - Hvor betydelig er avviket\n",
    "    - Er det sammenheng mellom kommunene som avviker på kontroll 1 og 2\n",
    "3. Kontroller den årlige utviklingen for alle tilgjengelige årganger\n",
    "    - Prosentvis utvikling \n",
    "    - Plotte utviklingen\n",
    "    - Se om HP-metoden fra Kostra biblioteket kan være et alternativ\n",
    "\n"
   ]
  },
  {
   "cell_type": "code",
   "execution_count": null,
   "id": "90125144-02ad-465a-b355-fe63cf0c469e",
   "metadata": {},
   "outputs": [],
   "source": [
    "import pandas as pd\n",
    "import numpy as np\n",
    "import glob"
   ]
  },
  {
   "cell_type": "markdown",
   "id": "21a2583a-012c-440b-977d-338bfa177c89",
   "metadata": {},
   "source": [
    "## Importerer og ordner data"
   ]
  },
  {
   "cell_type": "code",
   "execution_count": null,
   "id": "908ebdcd-c5f0-470d-8324-7f96ff9964e7",
   "metadata": {},
   "outputs": [],
   "source": [
    "#Sjekker hva som ligger i mappen på linux\n",
    "#Har tidligere lagret test-data på egen Linux mappe\n",
    "paths = glob.glob(\"/ssb/bruker/mtk/Testdata/*\")\n",
    "paths"
   ]
  },
  {
   "cell_type": "code",
   "execution_count": null,
   "id": "9d0170b1-f6a0-458c-9566-c11e6e18415f",
   "metadata": {},
   "outputs": [],
   "source": [
    "#Henter filen, sjekker innhold\n",
    "fininv = pd.read_csv(\"/ssb/bruker/mtk/Testdata/finansiering_av_investeringene.csv\", sep = ';')\n",
    "fininv.info()\n",
    "fininv.head(20)"
   ]
  },
  {
   "cell_type": "code",
   "execution_count": null,
   "id": "63e25926-b9e1-4a88-9787-6d098fcae464",
   "metadata": {},
   "outputs": [],
   "source": [
    "fingr = pd.read_csv('/ssb/bruker/mtk/Testdata/finansielle_grunnlagsdata.csv', sep = ';')\n",
    "fingr.dtypes\n",
    "fingr.info()\n",
    "fingr.head()"
   ]
  },
  {
   "cell_type": "code",
   "execution_count": null,
   "id": "2a753217-c5f0-4c27-abe3-d5dc33cdc984",
   "metadata": {
    "jupyter": {
     "outputs_hidden": true
    },
    "tags": []
   },
   "outputs": [],
   "source": [
    "#Retter datatyde\n",
    "#fininv['andelinv'] = fininv['andelinv'].astype(\"float64\")\n",
    "#fininv.convert_dtypes().info()"
   ]
  },
  {
   "cell_type": "markdown",
   "id": "c2dbea99-7883-4b1b-8aed-29345a98d3d5",
   "metadata": {},
   "source": [
    "## Kontroll 1: Sjekker andel av brutto investeringsutgifter"
   ]
  },
  {
   "cell_type": "code",
   "execution_count": null,
   "id": "34f95249-2995-419d-a19d-31d828295073",
   "metadata": {
    "jupyter": {
     "outputs_hidden": true
    },
    "tags": []
   },
   "outputs": [],
   "source": [
    "#Filtrerer ut Halden og AGI23\n",
    "#AGI23 = fininv[((fininv['kommuneregion'] == '3001')  | (fininv['kommuneregion'] == '0101')) & (fininv['art_kap'] == 'AGI23')]\n",
    "#AGI23.head(10)"
   ]
  },
  {
   "cell_type": "code",
   "execution_count": null,
   "id": "306a0627-c143-47c2-81e4-5a1f2e0f80b8",
   "metadata": {
    "tags": []
   },
   "outputs": [],
   "source": [
    "#Grupperer finansiering av investeringene etter kommuneregion og periode\n",
    "gruppert_alle = fininv.groupby(['kommuneregion', 'periode'])[['belop','andelinv']].sum()\n",
    "gruppert_alle"
   ]
  },
  {
   "cell_type": "code",
   "execution_count": null,
   "id": "7d1716aa-eb58-4a67-a902-f508bcaf52ea",
   "metadata": {
    "jupyter": {
     "outputs_hidden": true
    },
    "tags": []
   },
   "outputs": [],
   "source": [
    "#Filtrerer ut observasjoner hvor andelinv avviker fra 100 med intervall på 0.5\n",
    "diff = gruppert_alle[(gruppert_alle['andelinv'] >= 100.5) | (gruppert_alle['andelinv'] <= 99.5)]\n",
    "diff.head(20)"
   ]
  },
  {
   "cell_type": "code",
   "execution_count": null,
   "id": "ea71dd0f-6011-4856-8602-95e9860f2a32",
   "metadata": {},
   "outputs": [],
   "source": [
    "kontroll=diff.drop(columns=['belop'])\n",
    "kontroll\n",
    "juks=fingr.drop(columns=['art_kap', 'belop'])\n",
    "juks=juks.drop_duplicates(subset=['periode','kommuneregion'], keep= 'first')\n",
    "juks\n",
    "#En merge ser ut til å løse groupby problemet. Det er riktignok juks... \n",
    "test=pd.merge(kontroll, juks, on=['periode','kommuneregion'])\n",
    "test"
   ]
  },
  {
   "cell_type": "markdown",
   "id": "703ca559-7597-48fc-8b74-9cb4fc74b360",
   "metadata": {},
   "source": [
    "### De to neste stegene grupperer, filtrerer og viser antall for en årgang. \n",
    "Mål: Hvordan iterere over alle årganger?"
   ]
  },
  {
   "cell_type": "code",
   "execution_count": null,
   "id": "0ab34260-bf1b-441f-a82a-fbf05e6c2021",
   "metadata": {
    "tags": []
   },
   "outputs": [],
   "source": [
    "#Filtrerer ut 2021\n",
    "p2021 = fininv[(fininv['periode'] == 2021)]\n",
    "#Grupperer finansiering av investeringene etter kommuneregion og periode\n",
    "gruppert_2021 = p2021.groupby(['kommuneregion', 'periode'])[['belop','andelinv']].sum()\n",
    "#Filtrerer ut observasjoner hvor andelinv avviker fra 100 med intervall på 1.0\n",
    "diff2021 = gruppert_2021[(gruppert_2021['andelinv'] >= 101.0) | (gruppert_2021['andelinv'] <= 99.0)]\n",
    "\n",
    "#2020\n",
    "p2020 = fininv[(fininv['periode'] == 2020)]\n",
    "gruppert_2020 = p2020.groupby(['kommuneregion', 'periode'])[['belop','andelinv']].sum()\n",
    "diff2020= gruppert_2020[(gruppert_2020['andelinv'] >= 101.0) | (gruppert_2020['andelinv'] <= 99.0)]\n",
    "\n",
    "print('Antall kommuner som i 2021 hadde avvik på mer enn 1 %:', len(diff2021))\n",
    "print('Antall kommuner som i 2020 hadde avvik på mer enn 1 %:', len(diff2020))"
   ]
  },
  {
   "cell_type": "code",
   "execution_count": null,
   "id": "f58740c2-6a59-40b9-81ec-ee4bd2927b79",
   "metadata": {},
   "outputs": [],
   "source": [
    "p2020_test=fininv.loc[(fininv['periode']==2020) & (fininv['kommuneregion']=='0301'),'andelinv'].sum()\n",
    "p2020_test"
   ]
  },
  {
   "cell_type": "markdown",
   "id": "930744ca-6e70-44ac-aea0-5a60cc39f3a1",
   "metadata": {},
   "source": [
    "## Kontroll 2: Sjekker om sum beløp stemmer overens med brutto investeringutgifter"
   ]
  },
  {
   "cell_type": "code",
   "execution_count": null,
   "id": "6b4772d0-2df3-4dcd-b8b3-083428e6cf18",
   "metadata": {
    "tags": []
   },
   "outputs": [],
   "source": [
    "gruppert_alle.info\n",
    "#fingr.head()\n",
    "\n"
   ]
  },
  {
   "cell_type": "code",
   "execution_count": null,
   "id": "c28ac55f-51e8-457a-8048-e5161253e9b8",
   "metadata": {},
   "outputs": [],
   "source": [
    "biu = fingr[(fingr['art_kap']=='AGI1')]\n",
    "#biu=biu.rename(columns={'belop':'biu'})\n",
    "biu\n"
   ]
  },
  {
   "cell_type": "code",
   "execution_count": null,
   "id": "741e4710-9ac7-4542-b7a6-8216955f86b9",
   "metadata": {},
   "outputs": [],
   "source": [
    "#biu.merge(gruppert_alle, left_on=['periode', 'kommuneregion'], right_on=['periode','kommuneregion'])\n",
    "merged=biu.merge(gruppert_alle, on=['periode', 'kommuneregion'])\n",
    "merged=merged.rename(columns={'belop_x':'biu','belop_y':'summert'})\n",
    "merged=merged.drop(columns=['andelinv'])\n",
    "merged"
   ]
  },
  {
   "cell_type": "code",
   "execution_count": null,
   "id": "348388ce-d883-48e0-98da-eb6a735ca4a5",
   "metadata": {},
   "outputs": [],
   "source": []
  }
 ],
 "metadata": {
  "kernelspec": {
   "display_name": "Python 3 (ipykernel)",
   "language": "python",
   "name": "python3"
  },
  "language_info": {
   "codemirror_mode": {
    "name": "ipython",
    "version": 3
   },
   "file_extension": ".py",
   "mimetype": "text/x-python",
   "name": "python",
   "nbconvert_exporter": "python",
   "pygments_lexer": "ipython3",
   "version": "3.8.8"
  }
 },
 "nbformat": 4,
 "nbformat_minor": 5
}
