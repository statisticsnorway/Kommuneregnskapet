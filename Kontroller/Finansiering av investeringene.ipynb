{
 "cells": [
  {
   "cell_type": "markdown",
   "id": "6fadda26-56ea-4b8d-ab88-30daf3de0470",
   "metadata": {},
   "source": [
    "# Test for å lage kontroller av Finansiering av investeringene\n",
    "\n",
    "## Krav for at tabellen skal være korrekt\n",
    "1. Andel av brutto investeringsutgifter skal være 100 % per kommune per årgang\n",
    "2. Beløp summert per kommune per årgang til tilsvare brutto investeringsutgifter\n",
    "3. Årlig utvikling skal være fornuftig \n",
    "    - Definisjon av fornuftig utvikling må bestemmes\n",
    "\n",
    "### Steg\n",
    "- Importerer tabeller fra Linux. Trenger to tabeller:\n",
    "    - Finansiering av investeringene\n",
    "    - Finansielle grunnlagsdata \n",
    "    \n",
    "1. Kontroller om andel er 100 %\n",
    "    - Ok med avvik på 1 %\n",
    "    - Hvor mange kommuner har høyere avvik\n",
    "        - Er dette mer/mindre enn tidligere årganger\n",
    "        - Ta ut liste over kommuner med avvik\n",
    "2. Kontroller om sum av investeringene tilsvarer brutto investeringsutgifter for kommunen\n",
    "    - Hvor mange avviker\n",
    "    - Hvor betydelig er avviket\n",
    "    - Er det sammenheng mellom kommunene som avviker på kontroll 1 og 2\n",
    "3. Kontroller den årlige utviklingen for alle tilgjengelige årganger\n",
    "    - Prosentvis utvikling \n",
    "    - Plotte utviklingen\n",
    "    - Se om HP-metoden fra Kostra biblioteket kan være et alternativ\n",
    "\n"
   ]
  },
  {
   "cell_type": "code",
   "execution_count": null,
   "id": "90125144-02ad-465a-b355-fe63cf0c469e",
   "metadata": {},
   "outputs": [],
   "source": [
    "import pandas as pd\n",
    "import numpy as np\n",
    "import glob"
   ]
  },
  {
   "cell_type": "markdown",
   "id": "21a2583a-012c-440b-977d-338bfa177c89",
   "metadata": {},
   "source": [
    "## Importerer og ordner data"
   ]
  },
  {
   "cell_type": "code",
   "execution_count": null,
   "id": "908ebdcd-c5f0-470d-8324-7f96ff9964e7",
   "metadata": {},
   "outputs": [],
   "source": [
    "#Sjekker hva som ligger i mappen på linux\n",
    "#Har tidligere lagret test-data på egen Linux mappe\n",
    "paths = glob.glob(\"/ssb/bruker/mtk/Testdata/publiseringstabeller til kontroll/*\")\n",
    "paths"
   ]
  },
  {
   "cell_type": "code",
   "execution_count": null,
   "id": "9d0170b1-f6a0-458c-9566-c11e6e18415f",
   "metadata": {
    "tags": []
   },
   "outputs": [],
   "source": [
    "#Henter filen, sjekker innhold\n",
    "fininv = pd.read_csv(\"/ssb/bruker/mtk/Testdata/publiseringstabeller til kontroll/finansiering_av_investeringene.csv\", sep = ';')\n",
    "fininv.info()\n",
    "fininv.head()"
   ]
  },
  {
   "cell_type": "code",
   "execution_count": null,
   "id": "63e25926-b9e1-4a88-9787-6d098fcae464",
   "metadata": {
    "tags": []
   },
   "outputs": [],
   "source": [
    "fingr = pd.read_csv('/ssb/bruker/mtk/Testdata/publiseringstabeller til kontroll/finansielle_grunnlagsdata.csv', sep = ';')\n",
    "fingr.dtypes\n",
    "fingr.info()"
   ]
  },
  {
   "cell_type": "code",
   "execution_count": null,
   "id": "2a753217-c5f0-4c27-abe3-d5dc33cdc984",
   "metadata": {
    "jupyter": {
     "outputs_hidden": true
    },
    "tags": []
   },
   "outputs": [],
   "source": [
    "#Retter datatyde\n",
    "#fininv['andelinv'] = fininv['andelinv'].astype(\"float64\")\n",
    "#fininv.convert_dtypes().info()"
   ]
  },
  {
   "cell_type": "markdown",
   "id": "c2dbea99-7883-4b1b-8aed-29345a98d3d5",
   "metadata": {},
   "source": [
    "## Kontroll 1: Sjekker andel av brutto investeringsutgifter"
   ]
  },
  {
   "cell_type": "code",
   "execution_count": null,
   "id": "34f95249-2995-419d-a19d-31d828295073",
   "metadata": {
    "tags": []
   },
   "outputs": [],
   "source": [
    "#Filtrerer ut Halden og AGI23\n",
    "#AGI23 = fininv[((fininv['kommuneregion'] == '3001')  | (fininv['kommuneregion'] == '0101')) & (fininv['art_kap'] == 'AGI23')]\n",
    "#AGI23.head(10)"
   ]
  },
  {
   "cell_type": "code",
   "execution_count": null,
   "id": "306a0627-c143-47c2-81e4-5a1f2e0f80b8",
   "metadata": {
    "tags": []
   },
   "outputs": [],
   "source": [
    "#Grupperer finansiering av investeringene etter kommuneregion og periode\n",
    "gruppert_alle = fininv.groupby(['kommuneregion', 'periode'])[['belop','andelinv']].sum()\n",
    "gruppert_alle"
   ]
  },
  {
   "cell_type": "code",
   "execution_count": null,
   "id": "7d1716aa-eb58-4a67-a902-f508bcaf52ea",
   "metadata": {
    "tags": []
   },
   "outputs": [],
   "source": [
    "#Filtrerer ut observasjoner hvor andelinv avviker fra 100 med intervall på 0.5\n",
    "diff = gruppert_alle[(gruppert_alle['andelinv'] >= 101.0) | (gruppert_alle['andelinv'] <= 99.0)].drop(columns=['belop'])\n",
    "#diff.head(20)"
   ]
  },
  {
   "cell_type": "code",
   "execution_count": null,
   "id": "17e8e36d-47ed-4b9f-8f28-617d5de06701",
   "metadata": {
    "tags": []
   },
   "outputs": [],
   "source": [
    "#Teller opp antall observasjoner hvor andel investering avviker per årgang\n",
    "antall=diff.groupby('periode').count()\n",
    "antall"
   ]
  },
  {
   "cell_type": "markdown",
   "id": "0465c081-9785-4d54-9f3f-e72454f8d7b9",
   "metadata": {},
   "source": [
    "### I det neste steget jukser jeg for å gjøre om det grupperte datasettet. Dermed får jeg en fil med periode, region og andel kun for kommunene med differanse\n",
    "- Dette steget trenger jeg egentlig ikke siden jeg teller opp antall observasjoner over. \n",
    "- Lar det stå da jeg vil huske metoden"
   ]
  },
  {
   "cell_type": "code",
   "execution_count": null,
   "id": "ea71dd0f-6011-4856-8602-95e9860f2a32",
   "metadata": {
    "tags": []
   },
   "outputs": [],
   "source": [
    "#En merge ser ut til å løse groupby problemet. Det er riktignok juks...\n",
    "juks=fingr.drop(columns=['art_kap', 'belop']).drop_duplicates(subset=['periode','kommuneregion'], keep= 'first')\n",
    "#juks\n",
    "test=pd.merge(diff, juks, on=['periode','kommuneregion'])\n",
    "test"
   ]
  },
  {
   "cell_type": "code",
   "execution_count": null,
   "id": "e6e87fe1-5dac-4448-ac32-31af568b4021",
   "metadata": {},
   "outputs": [],
   "source": [
    "diff_andel_2021=test[(test['periode'] == 2021)].sort_values(by=['andelinv'])\n",
    "diff_andel_2021.to_csv(\"data/andel_summert_ulik100.csv\")"
   ]
  },
  {
   "cell_type": "markdown",
   "id": "703ca559-7597-48fc-8b74-9cb4fc74b360",
   "metadata": {},
   "source": [
    "### De to neste stegene grupperer, filtrerer og viser antall for en årgang. \n",
    "Mål: Hvordan iterere over alle årganger?\n",
    "- Trengs ikke - har løst problemet på en annen måte over.\n",
    "- Lar det likevel stå da det kan være lurt å finne ut hvordan jeg kan itterere over på et senere tidspunkt"
   ]
  },
  {
   "cell_type": "code",
   "execution_count": null,
   "id": "0ab34260-bf1b-441f-a82a-fbf05e6c2021",
   "metadata": {
    "tags": []
   },
   "outputs": [],
   "source": [
    "#Filtrerer ut 2021\n",
    "p2021 = fininv[(fininv['periode'] == 2021)]\n",
    "#Grupperer finansiering av investeringene etter kommuneregion og periode\n",
    "gruppert_2021 = p2021.groupby(['kommuneregion', 'periode'])[['belop','andelinv']].sum()\n",
    "#Filtrerer ut observasjoner hvor andelinv avviker fra 100 med intervall på 1.0\n",
    "diff2021 = gruppert_2021[(gruppert_2021['andelinv'] >= 101.0) | (gruppert_2021['andelinv'] <= 99.0)]\n",
    "\n",
    "#2020\n",
    "p2020 = fininv[(fininv['periode'] == 2020)]\n",
    "gruppert_2020 = p2020.groupby(['kommuneregion', 'periode'])[['belop','andelinv']].sum()\n",
    "diff2020= gruppert_2020[(gruppert_2020['andelinv'] >= 101.0) | (gruppert_2020['andelinv'] <= 99.0)]\n",
    "\n",
    "print('Antall kommuner som i 2021 hadde avvik på mer enn 1 %:', len(diff2021))\n",
    "print('Antall kommuner som i 2020 hadde avvik på mer enn 1 %:', len(diff2020))"
   ]
  },
  {
   "cell_type": "code",
   "execution_count": null,
   "id": "f58740c2-6a59-40b9-81ec-ee4bd2927b79",
   "metadata": {},
   "outputs": [],
   "source": [
    "p2020_test=fininv.loc[(fininv['periode']==2020) & (fininv['kommuneregion']=='0301'),'andelinv'].sum()\n",
    "p2020_test"
   ]
  },
  {
   "cell_type": "markdown",
   "id": "930744ca-6e70-44ac-aea0-5a60cc39f3a1",
   "metadata": {},
   "source": [
    "## Kontroll 2: Sjekker om sum beløp stemmer overens med brutto investeringutgifter"
   ]
  },
  {
   "cell_type": "code",
   "execution_count": null,
   "id": "6b4772d0-2df3-4dcd-b8b3-083428e6cf18",
   "metadata": {
    "tags": []
   },
   "outputs": [],
   "source": [
    "#gruppert_alle.info\n",
    "#fingr.head()"
   ]
  },
  {
   "cell_type": "code",
   "execution_count": null,
   "id": "c28ac55f-51e8-457a-8048-e5161253e9b8",
   "metadata": {},
   "outputs": [],
   "source": [
    "biu = fingr[(fingr['art_kap']=='AGI1')]\n",
    "#biu"
   ]
  },
  {
   "cell_type": "code",
   "execution_count": null,
   "id": "741e4710-9ac7-4542-b7a6-8216955f86b9",
   "metadata": {},
   "outputs": [],
   "source": [
    "merged=biu.merge(gruppert_alle, on=['periode', 'kommuneregion']).rename(columns={'belop_x':'biu','belop_y':'summert'}).drop(columns=['andelinv'])\n",
    "#merged"
   ]
  },
  {
   "cell_type": "code",
   "execution_count": null,
   "id": "348388ce-d883-48e0-98da-eb6a735ca4a5",
   "metadata": {},
   "outputs": [],
   "source": [
    "merged['differanse'] = merged['summert'] - merged['biu']\n",
    "#merged"
   ]
  },
  {
   "cell_type": "code",
   "execution_count": null,
   "id": "c7ec5adf-1dfd-4995-89a1-b19bef950523",
   "metadata": {},
   "outputs": [],
   "source": [
    "diff_tot=merged[(merged['differanse'] > 10) | (merged['differanse'] < -10)]\n",
    "#diff_tot"
   ]
  },
  {
   "cell_type": "code",
   "execution_count": null,
   "id": "8b4c4bbe-6fa6-4bf5-8406-7b2a3ba196cc",
   "metadata": {},
   "outputs": [],
   "source": [
    "antall_tot=diff_tot.groupby('periode').count().drop(columns=['art_kap','biu','summert','differanse'])\n",
    "antall_tot"
   ]
  },
  {
   "cell_type": "code",
   "execution_count": null,
   "id": "fc4be0af-8f6a-47ce-955f-ce4bc03409bf",
   "metadata": {},
   "outputs": [],
   "source": [
    "d2021=diff_tot[(diff_tot['periode'] == 2021)].sort_values(by=['differanse'])\n",
    "d2021.to_csv(\"data/differanse_BIU_vs_fininv_summert.csv\")"
   ]
  },
  {
   "cell_type": "markdown",
   "id": "25e6365b-47d0-4708-8d60-6858041ad465",
   "metadata": {},
   "source": [
    "## Kontroll 3: Årlig utvikling"
   ]
  },
  {
   "cell_type": "code",
   "execution_count": null,
   "id": "816d0a0e-0763-4f62-9a60-754109e31da3",
   "metadata": {},
   "outputs": [],
   "source": [
    "import matplotlib.pyplot as plt\n",
    "from matplotlib.pyplot import figure"
   ]
  },
  {
   "cell_type": "code",
   "execution_count": null,
   "id": "c1f5c444-dedc-49b4-b042-f8e38f25511f",
   "metadata": {},
   "outputs": [],
   "source": [
    "#merged['per_diff'] = (merged['biu']/merged['summert'].shift(1)-1).fillna(0)\n",
    "#res = merged[(merged['per_diff'] > 1) | (merged['per_diff'] < -1)]\n",
    "#res"
   ]
  },
  {
   "cell_type": "code",
   "execution_count": null,
   "id": "fbf9e38e-788d-4fee-b043-13fddc500ec6",
   "metadata": {},
   "outputs": [],
   "source": [
    "utv_land_test = fininv[(fininv['kommuneregion']=='EAK')&(fininv['art_kap']=='AGI29')].drop(columns=['andelinv']).sort_values(by=['art_kap','periode'])\n",
    "utv_land_test"
   ]
  },
  {
   "cell_type": "code",
   "execution_count": null,
   "id": "63c796fa-90b4-4943-9162-420486924cad",
   "metadata": {},
   "outputs": [],
   "source": [
    "utv_land_test['pct_change']=utv_land['belop'].pct_change()\n",
    "utv_land_test"
   ]
  },
  {
   "cell_type": "code",
   "execution_count": null,
   "id": "883d93ec-a29a-4426-a5b4-ecdbfcc970fa",
   "metadata": {},
   "outputs": [],
   "source": [
    "utv_land_test.plot(x='periode', y='pct_change', kind= 'line')"
   ]
  },
  {
   "cell_type": "code",
   "execution_count": null,
   "id": "82dc4c40-8a23-4968-8a04-5fa305e97611",
   "metadata": {},
   "outputs": [],
   "source": [
    "landet = fininv[(fininv['kommuneregion']=='EAK')].drop(columns=['andelinv']).sort_values(by=['art_kap','periode'])\n",
    "landet"
   ]
  },
  {
   "cell_type": "code",
   "execution_count": null,
   "id": "72d32aed-50b7-4e54-90d4-13e7e48d92b0",
   "metadata": {},
   "outputs": [],
   "source": [
    "pivoted=landet.pivot(index=['periode'], columns='art_kap', values = 'belop').reset_index()\n",
    "pivoted = pivoted.rename_axis(None, axis=1)\n",
    "pivoted.set_index('periode',inplace=True)\n",
    "pivoted.columns\n",
    "pivoted"
   ]
  },
  {
   "cell_type": "code",
   "execution_count": null,
   "id": "e05eaae4-a58f-4393-8e09-7391fe155c20",
   "metadata": {},
   "outputs": [],
   "source": [
    "p=pivoted.pct_change().reset_index()\n",
    "fjerner = p[(p['periode']!=2015)]\n",
    "fjerner\n",
    "#pivoted['pct_970']=pivoted['970'].pct_change()\n",
    "#pivoted['pct_A670']=pivoted['A670'].pct_change()\n",
    "#pivoted['pct_AGI23']=pivoted['AGI23'].pct_change()\n",
    "#pivoted['pct_AGI26']=pivoted['AGI26'].pct_change()\n",
    "#pivoted.drop(columns=['970', 'A670', 'AGI23', 'AGI26'])"
   ]
  },
  {
   "cell_type": "code",
   "execution_count": null,
   "id": "a44b5cda-4a2f-4a78-8982-ca374e7b99f0",
   "metadata": {
    "tags": []
   },
   "outputs": [],
   "source": [
    "plt.plot('periode', '970', data=fjerner, marker='', color='blue', linewidth=1, label='970')\n",
    "plt.plot('periode', 'A670', data=fjerner, marker='', color='red', linewidth=1, label='A670')\n",
    "plt.plot('periode', 'AGI23', data=fjerner, marker='', color='green', linewidth=1, label='AGI23')\n",
    "plt.plot('periode', 'AGI26', data=fjerner, marker='', color='yellow', linewidth=1, label='AGI26')\n",
    "plt.plot('periode', 'AGI28', data=fjerner, marker='', color='brown', linewidth=1, label='AGI28')\n",
    "plt.plot('periode', 'AGI29', data=fjerner, marker='', color='black', linewidth=1, label='AGI29')\n",
    "plt.plot('periode', 'AGI31', data=fjerner, marker='', color='blue',linestyle='dashed', linewidth=1, label='AGI31')\n",
    "plt.plot('periode', 'AGI4', data=fjerner, marker='', color='red',linestyle='dashed', linewidth=1, label='AGI4')\n",
    "plt.plot('periode', 'AGI6', data=fjerner, marker='', color='green',linestyle='dashed', linewidth=1, label='AGI6')\n",
    "plt.plot('periode', 'AGI7', data=fjerner, marker='', color='yellow',linestyle='dashed', linewidth=1, label='AGI7')\n",
    "plt.plot('periode', 'AI660', data=fjerner, marker='', color='brown',linestyle='dashed', linewidth=1, label='AI660')\n",
    "plt.plot('periode', 'AI729', data=fjerner, marker='', color='black',linestyle='dashed', linewidth=1, label='AI729')\n",
    "plt.legend()\n",
    "plt.figure(figsize=(10, 4))\n",
    "plt.show()\n",
    "plt.savefig('prosentvis_endring.jpg')"
   ]
  },
  {
   "cell_type": "code",
   "execution_count": null,
   "id": "90ca5756-2b56-4bce-83f3-0ef117a8187d",
   "metadata": {},
   "outputs": [],
   "source": []
  },
  {
   "cell_type": "code",
   "execution_count": null,
   "id": "59cb21c9-1dac-44c8-9b23-9bfdbe6fbeb1",
   "metadata": {},
   "outputs": [],
   "source": []
  }
 ],
 "metadata": {
  "kernelspec": {
   "display_name": "Python 3",
   "language": "python",
   "name": "python3"
  },
  "language_info": {
   "codemirror_mode": {
    "name": "ipython",
    "version": 3
   },
   "file_extension": ".py",
   "mimetype": "text/x-python",
   "name": "python",
   "nbconvert_exporter": "python",
   "pygments_lexer": "ipython3",
   "version": "3.8.8"
  }
 },
 "nbformat": 4,
 "nbformat_minor": 5
}
