{
 "cells": [
  {
   "cell_type": "markdown",
   "id": "ae05baa2-c2fb-4d1f-97ad-21eb0ab6597e",
   "metadata": {},
   "source": [
    "# Kontroll av økonomisk oversikt drift\n",
    "\n",
    "## Krav for at tabellen skal være korrekt\n",
    "- Alle summeringer skal stemme\n",
    "    - Sum driftsinntekter (AGD45) = A800 + AGD75 + AG10 + AGD76 + AGD77 + AGD78 + A600 + AGD96\n",
    "    - Sum driftsutgifter (AGD46) = AG15 + AG35 + AG17 + AGD51 + AGD80 + A590\n",
    "    - Brutto driftsresultat (AGD65) = AGD45 - AGD46 - AG18\n",
    "    - Netto finansutgifter (AGD85) = AGD82 + AG5 - AGD79 - AGD81 - AGD83\n",
    "    - Netto driftsresultat (AGD89) = AGD65 - AGD85 + AGD87 - AGD84\n",
    "    - Sum disponering eller dekning av netto driftsresultat (AGD93) = 570 + 550 - 950 + 540 - 940 - AD930 + AD530\n",
    "    - Fremført til inndekning i senere år (AGD94) = AGD90 - AGD93\n",
    "    \n",
    "- Beløp skal være like som i andre tabeller\n",
    "    - Brutto driftsutgifter totalt AGD9\n",
    "    - Brutto driftsinntekter i alt AGD13\n",
    "    - Brutto driftsresultat AGD18\n",
    "    - Netto driftsresultat AGD23\n",
    "    \n",
    "- Årlig utvikling i hpvedstørrelsene    "
   ]
  },
  {
   "cell_type": "code",
   "execution_count": null,
   "id": "54f979fe-d879-4875-8480-8186d5366688",
   "metadata": {},
   "outputs": [],
   "source": [
    "import pandas as pd\n",
    "import numpy as np\n",
    "import glob as gb"
   ]
  },
  {
   "cell_type": "code",
   "execution_count": null,
   "id": "bd282283-62ec-4a54-8c40-2737a0a5bce9",
   "metadata": {},
   "outputs": [],
   "source": [
    "paths = gb.glob(\"/ssb/bruker/mtk/Testdata/*\")\n",
    "paths"
   ]
  },
  {
   "cell_type": "code",
   "execution_count": null,
   "id": "30019a12-0ad2-44a3-965a-9c164bec6b6c",
   "metadata": {},
   "outputs": [],
   "source": [
    "okovd = pd.read_csv(\"/ssb/bruker/mtk/Testdata/okonomisk_oversikt_drift.csv\", sep = ';').drop(columns=['belop_prikket'])\n",
    "okovd.head(20)\n",
    "okovd.info()"
   ]
  },
  {
   "cell_type": "code",
   "execution_count": null,
   "id": "28b22c48-5634-484e-b201-7b44bda30d3a",
   "metadata": {},
   "outputs": [],
   "source": [
    "#Filtreringen fungerer hver for seg, men ikke sammen\n",
    "#okovd[(okovd['periode']==aar)&(okovd['kommuneregion']==region)&(okovd['art']==\"AGD45\")][['belop']]\n",
    "#(okovd[(okovd['periode']==aar)&(okovd['kommuneregion']==region)&(okovd['art']==\"AGD46\")][['belop']]\n"
   ]
  },
  {
   "cell_type": "code",
   "execution_count": null,
   "id": "043d9b72-aa75-4d2c-9cb6-9e1f685c8f16",
   "metadata": {},
   "outputs": [],
   "source": [
    "##Starten på en loop i en loop. Filtreringen fungerer ikke... \n",
    "#for aar in pd.unique(okovd['periode']):\n",
    "   # for region in pd.unique(okovd['kommuneregion']):\n",
    "a=okovd[(okovd['periode']==aar)&(okovd['kommuneregion']==region)&(okovd['art']==\"AGD45\")][['belop']].add(okovd[(okovd['periode']==aar)&(okovd['kommuneregion']==region)&(okovd['art']==\"AGD46\")][['belop']])\n",
    "b=okovd[(okovd['periode']==aar)&(okovd['kommuneregion']==region)&(okovd['art']==\"AGD46\")][['belop']].to_numeric()\n",
    "a+b"
   ]
  },
  {
   "cell_type": "code",
   "execution_count": null,
   "id": "feef01ef-e529-4d32-993b-48e6c2f19a8c",
   "metadata": {},
   "outputs": [],
   "source": [
    "aar=2020\n",
    "region='0301'"
   ]
  },
  {
   "cell_type": "code",
   "execution_count": null,
   "id": "2dc5e7c8-433b-464c-83f8-1677f22ef7cc",
   "metadata": {},
   "outputs": [],
   "source": [
    "type(a)\n",
    "type(b)"
   ]
  },
  {
   "cell_type": "code",
   "execution_count": null,
   "id": "20ab81cd-2d7d-4892-9242-1b470d8582e4",
   "metadata": {},
   "outputs": [],
   "source": [
    "bdr= ['AGD45', 'AGD46', 'AG18']\n",
    "utvalg= okovd[okovd['art'].isin(bdr)]\n",
    "utvalg"
   ]
  },
  {
   "cell_type": "code",
   "execution_count": null,
   "id": "1ae4565a-b9aa-43fb-8996-fe16aa5b12f0",
   "metadata": {
    "jupyter": {
     "outputs_hidden": true
    },
    "tags": []
   },
   "outputs": [],
   "source": [
    "test=okovd[(okovd['periode']==2020)&(okovd['kommuneregion']==\"EAK\")]\n",
    "test.set_index('art', inplace=True)\n",
    "test"
   ]
  },
  {
   "cell_type": "code",
   "execution_count": null,
   "id": "c11e4647-2dbb-4242-b937-64b32c4d0a09",
   "metadata": {
    "tags": []
   },
   "outputs": [],
   "source": [
    "pivoted=okovd.pivot(index=['periode','kommuneregion'], columns='art', values = ['belop'])"
   ]
  },
  {
   "cell_type": "code",
   "execution_count": null,
   "id": "f80f4b70-9a06-48bb-a155-17fe885b16ba",
   "metadata": {},
   "outputs": [],
   "source": [
    "test = pivoted.reset_index()\n",
    "test.columns = test.columns.droplevel(0)\n",
    "test"
   ]
  },
  {
   "cell_type": "code",
   "execution_count": null,
   "id": "e6c78bfb-112d-4c52-9e0b-bd7137bf43ae",
   "metadata": {},
   "outputs": [],
   "source": [
    "test.rename(columns = {test.columns[1]: 'kommuneregion'}, inplace=True)\n",
    "test"
   ]
  },
  {
   "cell_type": "code",
   "execution_count": null,
   "id": "06709e47-e21d-4940-a6e9-68e2dce280a8",
   "metadata": {},
   "outputs": [],
   "source": [
    "test['sum']= test['A800'] + test['AGD75']\n",
    "test"
   ]
  },
  {
   "cell_type": "code",
   "execution_count": null,
   "id": "cbe40665-e082-4204-a39b-55d7c18bb702",
   "metadata": {},
   "outputs": [],
   "source": [
    "type(test['A800'])"
   ]
  },
  {
   "cell_type": "code",
   "execution_count": null,
   "id": "8ec76df6-8561-4551-8987-d348f3ce3b40",
   "metadata": {},
   "outputs": [],
   "source": []
  }
 ],
 "metadata": {
  "kernelspec": {
   "display_name": "Python 3 (ipykernel)",
   "language": "python",
   "name": "python3"
  },
  "language_info": {
   "codemirror_mode": {
    "name": "ipython",
    "version": 3
   },
   "file_extension": ".py",
   "mimetype": "text/x-python",
   "name": "python",
   "nbconvert_exporter": "python",
   "pygments_lexer": "ipython3",
   "version": "3.8.8"
  }
 },
 "nbformat": 4,
 "nbformat_minor": 5
}
