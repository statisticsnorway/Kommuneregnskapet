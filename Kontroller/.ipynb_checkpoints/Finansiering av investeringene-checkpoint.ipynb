{
 "cells": [
  {
   "cell_type": "code",
   "execution_count": null,
   "id": "90125144-02ad-465a-b355-fe63cf0c469e",
   "metadata": {},
   "outputs": [],
   "source": [
    "import pandas as pd\n",
    "import numpy as np"
   ]
  },
  {
   "cell_type": "code",
   "execution_count": null,
   "id": "478aac4f-8c21-4e0b-8c11-dbfd4fc666ed",
   "metadata": {},
   "outputs": [],
   "source": [
    "#Leser inn fil\n",
    "fin_inv = pd.read_csv('Testtabeller/Finansiering av investeringene.csv', sep = ';')\n",
    "\n",
    "fin_inv.head()"
   ]
  },
  {
   "cell_type": "code",
   "execution_count": null,
   "id": "63e25926-b9e1-4a88-9787-6d098fcae464",
   "metadata": {},
   "outputs": [],
   "source": [
    "#Sjekker datatype\n",
    "fin_inv.dtypes"
   ]
  },
  {
   "cell_type": "code",
   "execution_count": null,
   "id": "2a753217-c5f0-4c27-abe3-d5dc33cdc984",
   "metadata": {},
   "outputs": [],
   "source": [
    "#Retter datatyde\n",
    "#fin_inv['andelinv'] = fin_inv['andelinv'].astype(\"float64\")\n",
    "#fin_inv.convert_dtypes().info()"
   ]
  },
  {
   "cell_type": "code",
   "execution_count": null,
   "id": "34f95249-2995-419d-a19d-31d828295073",
   "metadata": {},
   "outputs": [],
   "source": [
    "#Filtrerer ut Halden og AGI23\n",
    "AGI23 = fin_inv[((fin_inv['kommuneregion'] == '3001')  | (fin_inv['kommuneregion'] == '101')) & (fin_inv['art_kap'] == 'AGI23')]\n",
    "AGI23.head(10)"
   ]
  },
  {
   "cell_type": "code",
   "execution_count": null,
   "id": "9afbd8d7-d8b1-472f-88dd-11984096b65a",
   "metadata": {
    "jupyter": {
     "outputs_hidden": true
    },
    "tags": []
   },
   "outputs": [],
   "source": [
    "#Filtrerer ut Oslo\n",
    "oslo = fin_inv[(fin_inv['kommuneregion'] == '301')]\n",
    "oslo.head(20)"
   ]
  },
  {
   "cell_type": "code",
   "execution_count": null,
   "id": "531e994e-2d70-446a-8ac9-7bf8732da9bc",
   "metadata": {
    "jupyter": {
     "outputs_hidden": true
    },
    "tags": []
   },
   "outputs": [],
   "source": [
    "#Grupperer oslo etter periode\n",
    "oslo.groupby('periode')[['belop','andelinv']].sum()"
   ]
  },
  {
   "cell_type": "code",
   "execution_count": null,
   "id": "6f2c6201-55c7-46e2-a75a-0b8b07aac874",
   "metadata": {},
   "outputs": [],
   "source": [
    "#Grupperer oslo etter periode og region\n",
    "gruppert = oslo.groupby(['periode','kommuneregion'])[['belop','andelinv']].sum()\n",
    "gruppert"
   ]
  },
  {
   "cell_type": "code",
   "execution_count": null,
   "id": "306a0627-c143-47c2-81e4-5a1f2e0f80b8",
   "metadata": {},
   "outputs": [],
   "source": [
    "#Grupperer finansiering av investeringene etter kommuneregion og periode\n",
    "gruppert_alle = fin_inv.groupby(['periode','kommuneregion'])[['belop','andelinv']].sum()\n",
    "gruppert_alle"
   ]
  },
  {
   "cell_type": "code",
   "execution_count": null,
   "id": "7d1716aa-eb58-4a67-a902-f508bcaf52ea",
   "metadata": {},
   "outputs": [],
   "source": [
    "#Filtrerer ut observasjoner hvor andelinv avviker fra 100 med intervall på 0.5\n",
    "diff = gruppert_alle[(gruppert_alle['andelinv'] >= 100.5) | (gruppert_alle['andelinv'] <= 99.5)]\n",
    "diff"
   ]
  },
  {
   "cell_type": "code",
   "execution_count": null,
   "id": "0ab34260-bf1b-441f-a82a-fbf05e6c2021",
   "metadata": {
    "jupyter": {
     "outputs_hidden": true
    },
    "tags": []
   },
   "outputs": [],
   "source": [
    "#Filtrerer ut 2021\n",
    "p2021 = fin_inv[(fin_inv['periode'] == 2021)]\n",
    "p2021\n",
    "\n",
    "#Grupperer finansiering av investeringene etter kommuneregion og periode\n",
    "gruppert_2021 = p2021.groupby(['periode','kommuneregion'])[['belop','andelinv']].sum()\n",
    "gruppert_2021\n",
    "\n",
    "#Filtrerer ut observasjoner hvor andelinv avviker fra 100 med intervall på 1.0\n",
    "diff2021 = gruppert_2021[(gruppert_2021['andelinv'] >= 101.0) | (gruppert_2021['andelinv'] <= 99.0)]\n",
    "diff2021\n"
   ]
  },
  {
   "cell_type": "code",
   "execution_count": null,
   "id": "cb3bb7b2-3f51-4424-ac73-e12d055b5dce",
   "metadata": {},
   "outputs": [],
   "source": [
    "len(diff2021)"
   ]
  },
  {
   "cell_type": "code",
   "execution_count": null,
   "id": "cae8590e-42f8-47a6-9aa9-0b53469b3288",
   "metadata": {},
   "outputs": [],
   "source": [
    "a=2"
   ]
  },
  {
   "cell_type": "code",
   "execution_count": null,
   "id": "1724066d-57c8-4256-a91d-72fc40fc41d4",
   "metadata": {},
   "outputs": [],
   "source": []
  }
 ],
 "metadata": {
  "kernelspec": {
   "display_name": "Python 3 (ipykernel)",
   "language": "python",
   "name": "python3"
  },
  "language_info": {
   "codemirror_mode": {
    "name": "ipython",
    "version": 3
   },
   "file_extension": ".py",
   "mimetype": "text/x-python",
   "name": "python",
   "nbconvert_exporter": "python",
   "pygments_lexer": "ipython3",
   "version": "3.8.8"
  }
 },
 "nbformat": 4,
 "nbformat_minor": 5
}
