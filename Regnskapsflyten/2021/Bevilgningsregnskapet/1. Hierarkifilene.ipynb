{
 "cells": [
  {
   "cell_type": "markdown",
   "id": "5801571e-5713-40e0-8e36-8f061707254d",
   "metadata": {},
   "source": [
    "# Hierarkifilene\n",
    "Dette er kun en midlertidig fil. Hierarkifilene her opp via excel. \n",
    "Slik kan det ikke være videre. \n",
    "- Formel-arket kan kanskje lagres her, det er nesten aldri endringer i dette.\n",
    "- Kombinasjonsfilen også. \n",
    "- Art og funksjonshierarkiet må vi finne på noe lurt for. \n",
    "\n",
    "\n",
    "Det var strengt tatt ikke nødvenig å endre filene fra csv til parquet. Gjorde det kun for å sjekke innholdet underveis. "
   ]
  },
  {
   "cell_type": "markdown",
   "id": "04ea45f5-96b7-4fb2-bc48-4dbb038debb0",
   "metadata": {},
   "source": [
    "## Importerer nødvendige pakker"
   ]
  },
  {
   "cell_type": "code",
   "execution_count": null,
   "id": "e7070b25-45e3-42e9-a0a5-87eebc20315b",
   "metadata": {},
   "outputs": [],
   "source": [
    "import pandas as pd\n",
    "import glob\n",
    "import requests\n",
    "import io"
   ]
  },
  {
   "cell_type": "code",
   "execution_count": null,
   "id": "c6cea503-e050-45c9-bca4-5fa68af87d8e",
   "metadata": {},
   "outputs": [],
   "source": [
    "paths = glob.glob(\"/ssb/bruker/mtk/Testdata/inndata/KostraRegnskap/*\")\n",
    "paths"
   ]
  },
  {
   "cell_type": "markdown",
   "id": "518073bb-54c7-40e9-8c79-f4e325e5878e",
   "metadata": {},
   "source": [
    "## Funksjonshierarki"
   ]
  },
  {
   "cell_type": "code",
   "execution_count": null,
   "id": "8392aa9f-deb5-40f5-a12f-764e27f1aecd",
   "metadata": {},
   "outputs": [],
   "source": [
    "funksjonshierarki = pd.read_csv(\"/ssb/bruker/mtk/Testdata/inndata/KostraRegnskap/Funksjonshierarki_2021.csv\", sep=';')\n",
    "funksjonshierarki = funksjonshierarki.astype(str)\n",
    "funksjonshierarki.dtypes"
   ]
  },
  {
   "cell_type": "code",
   "execution_count": null,
   "id": "818d8148-4547-41e1-b7ad-e7b09e61a527",
   "metadata": {},
   "outputs": [],
   "source": [
    "funksjonshierarki.to_parquet(\"../../../../Testdata/arbeidsdata/KostraRegnskap/funksjonshierarki_2021.parquet\")"
   ]
  },
  {
   "cell_type": "markdown",
   "id": "916c59e2-95d2-4094-a39b-0d1ce16c771c",
   "metadata": {},
   "source": [
    "## Artshierarki"
   ]
  },
  {
   "cell_type": "code",
   "execution_count": null,
   "id": "04a4ae24-9233-4d48-ba86-6874ca3ee90b",
   "metadata": {},
   "outputs": [],
   "source": [
    "artshierarki = pd.read_csv(\"/ssb/bruker/mtk/Testdata/inndata/KostraRegnskap/Artshierarki_2021.csv\", sep=';')\n",
    "artshierarki = artshierarki.astype(str)\n",
    "artshierarki.dtypes"
   ]
  },
  {
   "cell_type": "code",
   "execution_count": null,
   "id": "22f239b3-95dd-4823-b6dc-6d0005803210",
   "metadata": {},
   "outputs": [],
   "source": [
    "artshierarki.to_parquet(\"../../../../Testdata/arbeidsdata/KostraRegnskap/artshierarki_2021.parquet\")"
   ]
  },
  {
   "cell_type": "markdown",
   "id": "30e081bd-e73a-4ca5-bc23-db88f5b7d4b8",
   "metadata": {},
   "source": [
    "## Formler"
   ]
  },
  {
   "cell_type": "code",
   "execution_count": null,
   "id": "ec3eeed8-aaef-43aa-8e66-f4cc7315a77f",
   "metadata": {},
   "outputs": [],
   "source": [
    "formler = pd.read_csv(\"/ssb/bruker/mtk/Testdata/inndata/KostraRegnskap/Formler_2021.csv\", sep=';')\n",
    "formler = formler.astype(str)\n",
    "formler"
   ]
  },
  {
   "cell_type": "code",
   "execution_count": null,
   "id": "6b626206-5b42-4115-a135-4a91f1bf1d45",
   "metadata": {},
   "outputs": [],
   "source": [
    "formler.to_parquet(\"../../../../Testdata/arbeidsdata/KostraRegnskap/formler_2021.parquet\")"
   ]
  },
  {
   "cell_type": "markdown",
   "id": "644ae10d-d16d-475b-9aa8-664817d6ac0b",
   "metadata": {},
   "source": [
    "## Stjernetabell"
   ]
  },
  {
   "cell_type": "code",
   "execution_count": null,
   "id": "228fc82a-8397-401f-91e4-0ede60bf3c9a",
   "metadata": {},
   "outputs": [],
   "source": [
    "stjernetabell = pd.read_csv(\"/ssb/bruker/mtk/Testdata/inndata/KostraRegnskap/Stjernekombinasjoner_2021.csv\", sep=';')\n",
    "#stjernetabell = stjernetabell.astype(str)\n",
    "stjernetabell.head()"
   ]
  },
  {
   "cell_type": "code",
   "execution_count": null,
   "id": "d615b9c3-af84-4c8f-b846-05c602c48a01",
   "metadata": {},
   "outputs": [],
   "source": [
    "stjernetabell.to_parquet(\"../../../../Testdata/arbeidsdata/KostraRegnskap/stjernetabell_2021.parquet\")"
   ]
  },
  {
   "cell_type": "markdown",
   "id": "ae02674a-015f-40c3-b6b6-22ca2a490d16",
   "metadata": {},
   "source": [
    "## Nettinger kasse"
   ]
  },
  {
   "cell_type": "code",
   "execution_count": null,
   "id": "516aa06b-9cc4-4a85-a628-689f3c7e5e5d",
   "metadata": {},
   "outputs": [],
   "source": [
    "nettinger_kasse = pd.read_csv(\"/ssb/bruker/mtk/Testdata/inndata/KostraRegnskap/Artshierarki_nettinger_kasse_2021.csv\", sep=';')\n",
    "nettinger_kasse = nettinger_kasse.astype(str)\n",
    "nettinger_kasse.dtypes"
   ]
  },
  {
   "cell_type": "code",
   "execution_count": null,
   "id": "b47954ef-62bc-4cc0-a286-95e77e61682f",
   "metadata": {},
   "outputs": [],
   "source": [
    "nettinger_kasse.to_parquet(\"../../../../Testdata/arbeidsdata/KostraRegnskap/nettinger_kasse_2021.parquet\")"
   ]
  },
  {
   "cell_type": "markdown",
   "id": "58936e5a-8b68-419c-a91f-872e3c5deaf8",
   "metadata": {},
   "source": [
    "## Nettinger særbedrift"
   ]
  },
  {
   "cell_type": "code",
   "execution_count": null,
   "id": "eaccedfb-2a8b-4f83-a60a-b3510e7f7b0c",
   "metadata": {},
   "outputs": [],
   "source": [
    "nettinger_saer = pd.read_csv(\"/ssb/bruker/mtk/Testdata/inndata/KostraRegnskap/Artshierarki_nettinger_saerbedrift_2021.csv\", sep=';')\n",
    "nettinger_saer = nettinger_saer.astype(str)\n",
    "nettinger_saer.dtypes"
   ]
  },
  {
   "cell_type": "code",
   "execution_count": null,
   "id": "e4553bf4-d374-46fe-8ef2-baa4f9de69ad",
   "metadata": {},
   "outputs": [],
   "source": [
    "nettinger_saer.to_parquet(\"../../../../Testdata/arbeidsdata/KostraRegnskap/nettinger_saer_2021.parquet\")"
   ]
  },
  {
   "cell_type": "markdown",
   "id": "3408f24f-af20-4d33-be74-9295705a11d5",
   "metadata": {},
   "source": [
    "## Kapittelhierarki"
   ]
  },
  {
   "cell_type": "code",
   "execution_count": null,
   "id": "17c49731-7aa8-404e-b41e-bfe2a6d5ff19",
   "metadata": {},
   "outputs": [],
   "source": [
    "kapittelhierarki = pd.read_csv(\"/ssb/bruker/mtk/Testdata/inndata/KostraRegnskap/Kapittel_hierarki_2021_bal_KLASS.csv\", sep=';', encoding='latin-1')\n",
    "kapittelhierarki = kapittelhierarki.astype(str)\n",
    "kapittelhierarki = kapittelhierarki.drop(columns=['title_from'])\n"
   ]
  },
  {
   "cell_type": "code",
   "execution_count": null,
   "id": "c10a7efb-19c8-40d2-958b-b6bbbaea60e0",
   "metadata": {},
   "outputs": [],
   "source": [
    "kapittelhierarki.to_parquet(\"../../../../Testdata/arbeidsdata/KostraRegnskap/kapittelhierarki_2021.parquet\")"
   ]
  },
  {
   "cell_type": "code",
   "execution_count": null,
   "id": "786f91b0-e8e8-4f73-abb0-2d94f742fe50",
   "metadata": {},
   "outputs": [],
   "source": []
  }
 ],
 "metadata": {
  "kernelspec": {
   "display_name": "Python 3",
   "language": "python",
   "name": "python3"
  },
  "language_info": {
   "codemirror_mode": {
    "name": "ipython",
    "version": 3
   },
   "file_extension": ".py",
   "mimetype": "text/x-python",
   "name": "python",
   "nbconvert_exporter": "python",
   "pygments_lexer": "ipython3",
   "version": "3.8.8"
  }
 },
 "nbformat": 4,
 "nbformat_minor": 5
}
