{
 "cells": [
  {
   "cell_type": "markdown",
   "id": "648939b2-e4db-4629-bb41-10332b88b921",
   "metadata": {},
   "source": [
    "# KOSTRA skjema A og C\n",
    "- Hente fra Dynarev\n",
    "- I Kompis slås A og C sammen etter operasjonene er gjort på hver av datasettene. Kan det gjøres før?\n",
    "- Må legge til bydeler på Oslo før de slås sammen. I kompis gjøres dette ved: identifier fylkesregion := if BYDEL <> \"00\" then t1.REGION || t1.BYDEL else t1.REGION,\n",
    "- Oslo: kopiere alle rader med region 0301 til 0300. \n",
    "- Kan jeg kontrollere at kun gyldige arter og funksjoner er inkludert på en annen måte enn filtrering? Kanskje en merge? "
   ]
  },
  {
   "cell_type": "markdown",
   "id": "349e6a8f-f038-4b6d-9e02-8936ee73c10f",
   "metadata": {},
   "source": [
    "## Henter nødvendige pakker\n",
    "**For løpet Kostra0A_0C trengs følgende pakker:**  \n",
    "   - Pandas\n",
    "   - Numpy\n",
    "   - Selvlagde funksjoner lagret i fil funksjoner.py"
   ]
  },
  {
   "cell_type": "code",
   "execution_count": null,
   "id": "a2d17656-98d8-4623-9f35-c3cf34eade8a",
   "metadata": {},
   "outputs": [],
   "source": [
    "import pandas as pd\n",
    "import numpy as np\n",
    "exec(open('../../funksjoner.py').read())"
   ]
  },
  {
   "cell_type": "markdown",
   "id": "f0f7ba30-0176-4422-8f35-9facc7858393",
   "metadata": {},
   "source": [
    "## Henter nødvendige datafiler\n",
    "**For løpet Kostra0A_0C trengs følgende datafiler:**\n",
    "- Import fra Driller\n",
    "    - Skjema KOSTRA0A\n",
    "    - Skjema KOSTRA0C\n",
    "- Lister fra KLASS\n",
    "    - Kodeliste for Kostra regnskapsarter\n",
    "    - Kodeliste for Kostra regnskapsfunksjoner\n",
    "    - Kommunelisten for gjeldene årgang\n",
    "    - Fylkeskommunelisten for gjeldene årgang"
   ]
  },
  {
   "cell_type": "code",
   "execution_count": null,
   "id": "8df5b9a3-f330-4ad7-ac65-c5c79640fc6f",
   "metadata": {
    "tags": []
   },
   "outputs": [],
   "source": [
    "kostra0a = pd.read_parquet(\"../../../../Testdata/arbeidsdata/import_driller/kostra0a.parquet\")\n",
    "kostra0c = pd.read_parquet(\"../../../../Testdata/arbeidsdata/import_driller/kostra0c.parquet\")\n",
    "art = pd.read_parquet(\"../../../../Testdata/arbeidsdata/klass/art.parquet\")\n",
    "funksjon = pd.read_parquet(\"../../../../Testdata/arbeidsdata/klass/funksjon.parquet\")\n",
    "kommuner = pd.read_parquet(\"../../../../Testdata/arbeidsdata/klass/kommuner.parquet\")\n",
    "fykomm = pd.read_parquet(\"../../../../Testdata/arbeidsdata/klass/fykomm.parquet\")"
   ]
  },
  {
   "cell_type": "markdown",
   "id": "5571d632-b1e3-4cf8-b2a4-90599aeeacb2",
   "metadata": {},
   "source": [
    "## Bearbeider regnskapsfilene"
   ]
  },
  {
   "cell_type": "markdown",
   "id": "30c3534f-5d6c-4f52-98d2-45c507eaccb7",
   "metadata": {},
   "source": [
    "### Slår sammen Kostra0A og Kostra0C"
   ]
  },
  {
   "cell_type": "code",
   "execution_count": null,
   "id": "81f21d68-1567-432d-b83a-77e9e9c76193",
   "metadata": {},
   "outputs": [],
   "source": [
    "#Setter sammen skjema a og c\n",
    "a_c = pd.concat([kostra0a, kostra0c])"
   ]
  },
  {
   "cell_type": "code",
   "execution_count": null,
   "id": "2439051c-01b8-4550-8e91-5e9cf6d8cf56",
   "metadata": {},
   "outputs": [],
   "source": [
    "kostra0a"
   ]
  },
  {
   "cell_type": "markdown",
   "id": "a91fc34a-f4a0-4728-bf9d-67c785737db4",
   "metadata": {},
   "source": [
    "### Ordner data\n",
    "- Definerer rett datatype\n",
    "- Endrer kolonnenavn\n",
    "    - Fra store til små bokstaver\n",
    "    - Endrer navn\n",
    "- Fjerner manglende observasjoner\n",
    "    - Har ikke sjekket om denne funksjonen faktisk fungerer da datasettet mitt ikke har noen manglende observasjonen. Jeg fjerne na. Men det kan jo være manglende registreres som NaN? Dette må kontrolleres!"
   ]
  },
  {
   "cell_type": "code",
   "execution_count": null,
   "id": "88efff66-6b0d-4ea9-90f7-138ab76beace",
   "metadata": {
    "tags": []
   },
   "outputs": [],
   "source": [
    "a_c = a_c.astype({'ART_SEKTOR':str,'FUNKSJON_KAPITTEL':str,'KONTOKLASSE':str,'PERIODE':str,'REGION':str, 'BYDEL':str})"
   ]
  },
  {
   "cell_type": "code",
   "execution_count": null,
   "id": "4ef12d4e-07f6-4ee0-bcce-832022053260",
   "metadata": {},
   "outputs": [],
   "source": [
    "#Endrer headingen fra store til små bokstaver\n",
    "a_c.columns = [x.lower() for x in a_c.columns]"
   ]
  },
  {
   "cell_type": "code",
   "execution_count": null,
   "id": "ab323586-5389-4a25-8db7-23cbe1dfbca4",
   "metadata": {
    "tags": []
   },
   "outputs": [],
   "source": [
    "#Gir nytt navn til et par kolonner. Denne gir feilmelding, men funker. Bør fikses så feilmelding ikke kommer. \n",
    "a_c.rename(columns={'funksjon_kapittel':'funksjon','art_sektor':'art'}, inplace = True)"
   ]
  },
  {
   "cell_type": "code",
   "execution_count": null,
   "id": "79e99468-f4b8-4d68-9309-b12753f2af24",
   "metadata": {
    "tags": []
   },
   "outputs": [],
   "source": [
    "#Filtrerer bort alle rader med manglede verdier. Fungerer det? Må testes på et annet datasett som faktisk har manglende verdier... \n",
    "a_c.dropna()"
   ]
  },
  {
   "cell_type": "code",
   "execution_count": null,
   "id": "adb0ee1a-6b5b-4b27-9975-dcd8d7d84b6c",
   "metadata": {
    "tags": []
   },
   "outputs": [],
   "source": [
    "#Legger på ledende nuller. Forhåpentligvis slipper vi dette når data kan hentes direkte fra ISEE\n",
    "#a_c['art']=a_c['art'].apply(lambda x: '{0:0>3}'.format(x))\n",
    "#a_c['region']=a_c['region'].apply(lambda x: '{0:0>4}'.format(x))\n",
    "#a_c['bydel']=a_c['bydel'].apply(lambda x: '{0:0>2}'.format(x))\n"
   ]
  },
  {
   "cell_type": "markdown",
   "id": "f29b89fe-1884-4c7a-a139-930a2c856a0d",
   "metadata": {},
   "source": [
    "### Snur fortegn for inntektsarter\n",
    "- Endrer alle verdier som har art høyere eller lik 600 til negative tall\n",
    "- Koden under snur fortegn på alle verdier hvor art starter på siffer 6 eller mer. "
   ]
  },
  {
   "cell_type": "code",
   "execution_count": null,
   "id": "eb5ed5b2-f40a-4ac3-9f8e-145677aaa76c",
   "metadata": {
    "tags": []
   },
   "outputs": [],
   "source": [
    "a_c['belop']=np.where((a_c.art > '600'), a_c.belop*-1, a_c.belop)"
   ]
  },
  {
   "cell_type": "markdown",
   "id": "928cc17d-a292-44f7-bc38-321b1de00962",
   "metadata": {},
   "source": [
    "## Lager bydelsregioner\n",
    "- Slår sammen regions- og bydelsnummer til samme kolonne"
   ]
  },
  {
   "cell_type": "code",
   "execution_count": null,
   "id": "173fa4c9-ae95-4b6d-82d3-5c05df3124b4",
   "metadata": {},
   "outputs": [],
   "source": [
    "#Henter ut alle Oslo tall som har bydel. Slår sammen region og bydelkode.\n",
    "bydeler = a_c[(a_c['region'] == '0301') & (a_c['bydel'] != '00')].copy()\n",
    "bydeler.dtypes\n",
    "bydeler[\"region\"] = bydeler[\"region\"] + bydeler[\"bydel\"]"
   ]
  },
  {
   "cell_type": "code",
   "execution_count": null,
   "id": "d28cc4fa-9c1c-4678-aa4a-e753da840493",
   "metadata": {
    "tags": []
   },
   "outputs": [],
   "source": [
    "#Fjerner bydelene fra originalfilen, slår sammen den nye bydelsfilen og arbdeisfilen. Fjerner kolonnen for bydeler. \n",
    "ac_uten_bydel = a_c[(a_c['bydel'] == '00')].copy()\n",
    "bydeler_ac = pd.concat([ac_uten_bydel, bydeler]).drop(columns=['bydel'])"
   ]
  },
  {
   "cell_type": "markdown",
   "id": "e7c17110-9dca-476d-a1ed-691bed857900",
   "metadata": {},
   "source": [
    "## Lager Oslo Fylkeskommune\n",
    "- Tallene fra Oslo skal være med både for kommune og fylkeskommune. Vi må derfor kopiere alle Oslo tall og endre region på de kopierte radene fra 0301 til 0300. "
   ]
  },
  {
   "cell_type": "code",
   "execution_count": null,
   "id": "ae2bc33e-cfc7-4041-a8e1-73da380973be",
   "metadata": {
    "tags": []
   },
   "outputs": [],
   "source": [
    "#Henter ut Oslo og endrer regionskode til 0300. Legger Oslo fylkeskommune på arbeidsfilen. \n",
    "oslo=bydeler_ac[(bydeler_ac['region']=='0301')].copy()\n",
    "oslo['region'] = oslo['region'].str.replace('0301', '0300')"
   ]
  },
  {
   "cell_type": "markdown",
   "id": "3741052c-6f26-4ab0-b499-42cbd6e467ce",
   "metadata": {},
   "source": [
    "Slår sammen Oslo Fylkeskommune med regnskapsfilen"
   ]
  },
  {
   "cell_type": "code",
   "execution_count": null,
   "id": "950a4499-de29-4944-aa84-f228e38b20ad",
   "metadata": {},
   "outputs": [],
   "source": [
    "forts_ac = pd.concat([bydeler_ac, oslo])"
   ]
  },
  {
   "cell_type": "markdown",
   "id": "38746acc-5786-4360-b4ea-f535fe0e2aac",
   "metadata": {},
   "source": [
    "## Filtrerer gyldige funksjoner/arter\n",
    "**Funksjons- og artslisten**\n",
    "- Hentes direkte fra KLASS via API i egen notebook (API Klass). \n",
    "- Filen laget i API-notebooken er lastet inn helt i starten av denne boken.\n",
    "\n",
    "**Kontroll**\n",
    "- Funksjonen kontroll_merge er laget i egen notebook (funksjoner.py)\n",
    "- Kontrollen lister ut alle rader som er fjernet i mergen over. Dersom ingen rader listes ut ble ingenting fjernet i operasjonen over."
   ]
  },
  {
   "cell_type": "markdown",
   "id": "b277da04-8e21-4111-9b91-1c46f8331b0b",
   "metadata": {},
   "source": [
    "### Artsfilter\n",
    "- Merger alle gylige arter med regnskapsfilen. Dette fjerner alle reder med ugyldige arter"
   ]
  },
  {
   "cell_type": "code",
   "execution_count": null,
   "id": "a909b8d4-ddd8-46b6-a4f0-820a480428fd",
   "metadata": {},
   "outputs": [],
   "source": [
    "artsfilter=pd.merge(art, forts_ac,how='inner', on=['art'])"
   ]
  },
  {
   "cell_type": "markdown",
   "id": "29997be3-b751-420c-852f-cc12b5337c21",
   "metadata": {},
   "source": [
    "#### Kontrollerer fjernede rader"
   ]
  },
  {
   "cell_type": "code",
   "execution_count": null,
   "id": "2ca22fae-73d7-44f1-9d50-826dde68002e",
   "metadata": {},
   "outputs": [],
   "source": [
    "kontroll_merge(forts_ac, artsfilter)"
   ]
  },
  {
   "cell_type": "markdown",
   "id": "8a6c5743-a988-46d7-b285-31b75ae53fe0",
   "metadata": {},
   "source": [
    "### Funksjonsfilter\n",
    "- Merger alle gylige funksjoner med regnskapsfilen. Dette fjerner alle rader med ugyldige funksjoenr"
   ]
  },
  {
   "cell_type": "code",
   "execution_count": null,
   "id": "6e046de0-2056-4a89-95f4-b309d81b7f52",
   "metadata": {},
   "outputs": [],
   "source": [
    "funksjonsfilter = pd.merge(funksjon, artsfilter, on=['funksjon'])"
   ]
  },
  {
   "cell_type": "markdown",
   "id": "21f93063-be2c-4178-824a-29db9d6673b7",
   "metadata": {},
   "source": [
    "#### Kontrollerer fjernede rader"
   ]
  },
  {
   "cell_type": "code",
   "execution_count": null,
   "id": "024de2b2-4a83-49c4-b796-383ee4ebc4fc",
   "metadata": {},
   "outputs": [],
   "source": [
    "kontroll_merge(artsfilter,funksjonsfilter)"
   ]
  },
  {
   "cell_type": "markdown",
   "id": "e3d1f848-f198-4c16-b944-b98ad59c11cc",
   "metadata": {},
   "source": [
    "# * Foreløpig Fil - kontrollert *"
   ]
  },
  {
   "cell_type": "code",
   "execution_count": null,
   "id": "10b3c68a-588c-47d4-b813-3ab3b1c9fcac",
   "metadata": {},
   "outputs": [],
   "source": [
    "kostra0a_0c_kontrollert = funksjonsfilter"
   ]
  },
  {
   "cell_type": "markdown",
   "id": "06a14b0e-7c34-4ee9-9ea3-6dc652821f1f",
   "metadata": {},
   "source": [
    "## Finner manglende kommuner\n",
    "- For å finne hvem som mangler må vi koble opp mot regionslisten. Dette gjøres via API mot Klass (notebook API Klass).\n",
    "\n",
    "- Lagt opp mot kommuner og fylkeskommuner, ikke bydeler\n"
   ]
  },
  {
   "cell_type": "code",
   "execution_count": null,
   "id": "925f2b0a-6693-440c-a40a-bae4a2d61216",
   "metadata": {},
   "outputs": [],
   "source": [
    "#Lister ut alle kommuner og fylkeskommuner som er med i regnskapsfilen. \n",
    "#Lagrer filen til senere bruk.\n",
    "levert = kostra0a_0c_kontrollert[['region']].drop_duplicates()\n",
    "levert.to_parquet(\"../../../../Testdata/arbeidsdata/kostra0a_0c_levert_2021.parquet\")"
   ]
  },
  {
   "cell_type": "markdown",
   "id": "81ae23f0-c232-4069-bd4b-05433e11feac",
   "metadata": {},
   "source": [
    "### Alle regioner"
   ]
  },
  {
   "cell_type": "code",
   "execution_count": null,
   "id": "bce1166b-2ffb-47cd-b50b-603e18d875d1",
   "metadata": {},
   "outputs": [],
   "source": [
    "#Slår sammen kommujne og fylkeskommunelisten tidligere hentet fra Klass. \n",
    "regioner = pd.concat([kommuner, fykomm])"
   ]
  },
  {
   "cell_type": "markdown",
   "id": "2181f441-8870-439b-bb1c-06833ba60031",
   "metadata": {},
   "source": [
    "### Manglende kommuner"
   ]
  },
  {
   "cell_type": "code",
   "execution_count": null,
   "id": "e51eb3c4-2062-4720-b9d3-34a53c0b73e9",
   "metadata": {},
   "outputs": [],
   "source": [
    "#Lister ut manglende kommuner\n",
    "manglende = kontroll_merge(regioner,levert)\n",
    "manglende"
   ]
  },
  {
   "cell_type": "markdown",
   "id": "e567efe4-4451-446e-8e1d-196724fe7222",
   "metadata": {},
   "source": [
    "## Imputerer for manglende kommuner"
   ]
  },
  {
   "cell_type": "markdown",
   "id": "4131d828-8659-4f8b-a92d-fb056f584fde",
   "metadata": {},
   "source": [
    "### Henter og tilpasser fjorårets regnskap\n",
    "Filtrerer fjorårets regnskap mot årets arts og funksjonsliste"
   ]
  },
  {
   "cell_type": "code",
   "execution_count": null,
   "id": "a322f14c-c4c5-40c8-ab28-de1fe98f74ae",
   "metadata": {},
   "outputs": [],
   "source": [
    "#Henter inn fjorårets 0A_0C-fil\n",
    "a_c_2020 = pd.read_parquet(\"../../../../Testdata/arbeidsdata/a_c_2020.parquet\")"
   ]
  },
  {
   "cell_type": "code",
   "execution_count": null,
   "id": "fb6dbc04-37ed-4cfc-b109-36accd74b4bd",
   "metadata": {},
   "outputs": [],
   "source": [
    "a_c_2020.rename(columns={'fylkesregion':'region'}, inplace = True)\n",
    "estimat_artsfilter=pd.merge(art, a_c_2020, on=['art'])\n",
    "estimat_funksjonsfilter=pd.merge(funksjon, estimat_artsfilter, on=['funksjon'])\n",
    "a_c_2020 = estimat_funksjonsfilter"
   ]
  },
  {
   "cell_type": "markdown",
   "id": "93ac78df-5760-472d-84b5-00fc28b2e621",
   "metadata": {},
   "source": [
    "Filterer ut mangldene kommuner  \n",
    "Endrer periode "
   ]
  },
  {
   "cell_type": "code",
   "execution_count": null,
   "id": "3e2b18ab-bf4a-454a-ad56-0bb5536071ab",
   "metadata": {},
   "outputs": [],
   "source": [
    "manglende_estimat=pd.merge(manglende, a_c_2020, on=['region']).drop(columns=['_merge'])\n",
    "manglende_estimat.loc[manglende_estimat['periode'] == '2020', 'periode'] = '2021'"
   ]
  },
  {
   "cell_type": "markdown",
   "id": "69eca9b8-fecc-447e-b045-88c284c9bb61",
   "metadata": {},
   "source": [
    "Slår sammen årets regnskap med fjorårets for de manglende kommiunene"
   ]
  },
  {
   "cell_type": "code",
   "execution_count": null,
   "id": "54bf06a1-249c-4379-a186-feb7c7f77d9d",
   "metadata": {},
   "outputs": [],
   "source": [
    "a_c_basis = pd.concat([kostra0a_0c_kontrollert, manglende_estimat])"
   ]
  },
  {
   "cell_type": "markdown",
   "id": "07b9c7de-3480-4b3b-97af-6984a5dce0f7",
   "metadata": {},
   "source": [
    "# Ferdig fil\n",
    "- Oppretter kolonne regnskapsomfang som definerer at dette er kassetall\n",
    "- Lagrer fil som er klar som input til KostraRegnskaps-metode"
   ]
  },
  {
   "cell_type": "code",
   "execution_count": null,
   "id": "5b60a40c-0972-4de5-a928-666f5134ea0d",
   "metadata": {},
   "outputs": [],
   "source": [
    "a_c_basis['regnskapsomfang'] = 'B'\n",
    "#a_c_basis.rename(columns={'region':'fylkesregion'}, inplace = True)"
   ]
  },
  {
   "cell_type": "code",
   "execution_count": null,
   "id": "3d494bcd-642b-4196-9a78-14de8ab07fc3",
   "metadata": {},
   "outputs": [],
   "source": [
    "a_c_basis.to_parquet(\"../../../../Testdata/arbeidsdata/KostraRegnskap/kostra0a_0c_basis_2021.parquet\")"
   ]
  },
  {
   "cell_type": "code",
   "execution_count": null,
   "id": "198be86d-63b5-4055-a8bd-2360cea3f7b7",
   "metadata": {},
   "outputs": [],
   "source": [
    "a_c_basis.drop_duplicates()"
   ]
  },
  {
   "cell_type": "code",
   "execution_count": null,
   "id": "5e147b8b-49cf-4d55-97bf-8fd64b957ec8",
   "metadata": {},
   "outputs": [],
   "source": []
  }
 ],
 "metadata": {
  "kernelspec": {
   "display_name": "Python 3",
   "language": "python",
   "name": "python3"
  },
  "language_info": {
   "codemirror_mode": {
    "name": "ipython",
    "version": 3
   },
   "file_extension": ".py",
   "mimetype": "text/x-python",
   "name": "python",
   "nbconvert_exporter": "python",
   "pygments_lexer": "ipython3",
   "version": "3.8.8"
  }
 },
 "nbformat": 4,
 "nbformat_minor": 5
}
