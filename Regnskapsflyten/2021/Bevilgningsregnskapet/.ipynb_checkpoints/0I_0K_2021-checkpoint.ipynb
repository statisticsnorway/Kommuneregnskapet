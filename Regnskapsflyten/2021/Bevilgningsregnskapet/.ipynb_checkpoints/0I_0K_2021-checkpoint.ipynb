{
 "cells": [
  {
   "cell_type": "markdown",
   "id": "e77bdc8c-8885-4e48-b12c-9dd4e22b058f",
   "metadata": {},
   "source": [
    "# Replikere løpet for skjema I og K fra Kompis"
   ]
  },
  {
   "cell_type": "code",
   "execution_count": null,
   "id": "0703f4e3-7db9-4b4a-afb8-2b07261898a7",
   "metadata": {},
   "outputs": [],
   "source": [
    "import pandas as pd\n",
    "import numpy as np\n",
    "import glob\n",
    "import requests\n",
    "import io"
   ]
  },
  {
   "cell_type": "code",
   "execution_count": null,
   "id": "c5d7ff75-d3c0-4d28-a5a2-148d66eb150c",
   "metadata": {},
   "outputs": [],
   "source": [
    "#Henter nødvendige filer\n",
    "i_2021 = pd.read_parquet(\"../../../../Testdata/arbeidsdata/import_driller/i_2021.parquet\")\n",
    "k_2021 = pd.read_parquet(\"../../../../Testdata/arbeidsdata/import_driller/k_2021.parquet\")\n",
    "art = pd.read_parquet(\"../../../../Testdata/arbeidsdata/klass/art.parquet\")\n",
    "funksjon = pd.read_parquet(\"../../../../Testdata/arbeidsdata/klass/funksjon.parquet\")\n",
    "levert = pd.read_parquet(\"../../../../Testdata/arbeidsdata/a_c_levert_2021.parquet\")"
   ]
  },
  {
   "cell_type": "code",
   "execution_count": null,
   "id": "0971d444-1e1f-4c31-a32c-396f5f8d1e60",
   "metadata": {},
   "outputs": [],
   "source": [
    "i_k = pd.concat([i_2021, k_2021])"
   ]
  },
  {
   "cell_type": "code",
   "execution_count": null,
   "id": "dda78cd8-3324-414a-9e44-76112d0e58b7",
   "metadata": {
    "tags": []
   },
   "outputs": [],
   "source": [
    "#Endrer datatype.\n",
    "i_k = i_k.astype({'ART_SEKTOR':str,'FUNKSJON_KAPITTEL':str,'KONTOKLASSE':str,'PERIODE':str,'REGION':str, 'ORG_NR':str})"
   ]
  },
  {
   "cell_type": "code",
   "execution_count": null,
   "id": "c46cd038-663f-4046-9b55-8a7cd0e6de1e",
   "metadata": {},
   "outputs": [],
   "source": [
    "#Endrer headingen fra store til små bokstaver og navn på to av variablene\n",
    "i_k.columns = [x.lower() for x in i_k.columns]\n",
    "i_k.rename(columns={'funksjon_kapittel':'funksjon','art_sektor':'art', 'org_nr':'saerbedrift'}, inplace = True)"
   ]
  },
  {
   "cell_type": "code",
   "execution_count": null,
   "id": "6dac1c13-6aed-4356-99df-d1ae3217ba6a",
   "metadata": {
    "tags": []
   },
   "outputs": [],
   "source": [
    "#Filtrerer bort alle rader med manglede verdier. Fungerer det? Må testes på et annet datasett som faktisk har manglende verdier... Denne er ikke med i KOMPIS?\n",
    "i_k.dropna()"
   ]
  },
  {
   "cell_type": "code",
   "execution_count": null,
   "id": "101b3f06-44ac-4ff5-8a5f-0414951f851e",
   "metadata": {},
   "outputs": [],
   "source": [
    "#Legger på ledende nuller. Forhåpentligvis slipper vi dette når data kan hentes direkte fra ISEE\n",
    "#i_k['art']=i_k['art'].apply(lambda x: '{0:0>3}'.format(x))\n",
    "#i_k['region']=i_k['region'].apply(lambda x: '{0:0>4}'.format(x))"
   ]
  },
  {
   "cell_type": "code",
   "execution_count": null,
   "id": "28efd6d2-6c56-4a6d-ae0f-bd9a87bcf774",
   "metadata": {},
   "outputs": [],
   "source": [
    "#start_a['belop'] = start_a.loc[np.where(start_a['art']>'600', start_a['belop'], start_a['belop']*-1)]\n",
    "i_k['belop']=np.where((i_k.art > '600'), i_k.belop*-1, i_k.belop)"
   ]
  },
  {
   "cell_type": "code",
   "execution_count": null,
   "id": "6a47c196-2862-41d2-b28f-ec42c4b01dbb",
   "metadata": {},
   "outputs": [],
   "source": [
    "#Merger alle gyldige arter med regnskapsfilen. Dette vil fjerne alle rader med ugyldige arter. \n",
    "artsfilter=pd.merge(art, i_k, on=['art'])"
   ]
  },
  {
   "cell_type": "code",
   "execution_count": null,
   "id": "54cbcc50-764f-4f9c-a4cd-31788764c458",
   "metadata": {},
   "outputs": [],
   "source": [
    "#Kontrollerer om noen arter ble fjernet. Er test tom er ingen rader filtrer ut i forrige steg og det var dermed ikke inkludert noen ugyldige arter. \n",
    "kontroll_artsfilter = i_k.merge(artsfilter,indicator = True, how='left').loc[lambda x : x['_merge']!='both']\n",
    "kontroll_artsfilter"
   ]
  },
  {
   "cell_type": "code",
   "execution_count": null,
   "id": "42f618f1-62ac-4d3d-93f4-878e4d207358",
   "metadata": {},
   "outputs": [],
   "source": [
    "funksjonsfilter = pd.merge(funksjon, artsfilter, on=['funksjon'])"
   ]
  },
  {
   "cell_type": "code",
   "execution_count": null,
   "id": "b8dbb6aa-8399-47fe-8cc6-fa5e312b3520",
   "metadata": {},
   "outputs": [],
   "source": [
    "#Kontrollerer om noen funksjoner ble fjernet. Er test tom er ingen rader filtrer ut i forrige steg og det var dermed ikke inkludert noen ugyldige arter. \n",
    "kontroll_funksjonsfilter = artsfilter.merge(funksjonsfilter,indicator = True, how='left').loc[lambda x : x['_merge']!='both']\n",
    "kontroll_funksjonsfilter"
   ]
  }
 ],
 "metadata": {
  "kernelspec": {
   "display_name": "Python 3 (ipykernel)",
   "language": "python",
   "name": "python3"
  },
  "language_info": {
   "codemirror_mode": {
    "name": "ipython",
    "version": 3
   },
   "file_extension": ".py",
   "mimetype": "text/x-python",
   "name": "python",
   "nbconvert_exporter": "python",
   "pygments_lexer": "ipython3",
   "version": "3.8.8"
  }
 },
 "nbformat": 4,
 "nbformat_minor": 5
}
