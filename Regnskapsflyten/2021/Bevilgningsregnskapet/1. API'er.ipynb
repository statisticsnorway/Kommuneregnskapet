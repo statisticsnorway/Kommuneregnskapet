{
 "cells": [
  {
   "cell_type": "markdown",
   "id": "8b44b6f0-a259-4ffc-9b59-4f865d8b004e",
   "metadata": {},
   "source": [
    "# Notebook med API'er som benyttes i beregningene\n",
    "- Alle spørringer lagres i egen datamappe"
   ]
  },
  {
   "cell_type": "markdown",
   "id": "9bf9afee-7c57-4375-8b0e-db44f614bb37",
   "metadata": {},
   "source": [
    "## Laster inn nødvendige pakker"
   ]
  },
  {
   "cell_type": "code",
   "execution_count": null,
   "id": "8c6082cf-43d9-4977-93a4-dcd94c10e39e",
   "metadata": {},
   "outputs": [],
   "source": [
    "import pandas as pd\n",
    "import requests\n",
    "import io"
   ]
  },
  {
   "cell_type": "markdown",
   "id": "f84ef750-fe02-4367-a49c-1246fa72c783",
   "metadata": {},
   "source": [
    "## Angi årgang som skal hentes\n",
    "- Årgangen som angis vil gjelde for hele arket\n",
    "- Skal det hentes flere årganger må arket kjøres flere ganger\n",
    "\n",
    "Mappen der filene skal lagres må allerede eksistere"
   ]
  },
  {
   "cell_type": "code",
   "execution_count": null,
   "id": "6ea49ec0-7273-4577-b851-9b693294adb8",
   "metadata": {},
   "outputs": [],
   "source": [
    "aar=input('Angi årgang for filene:' )\n",
    "aar_t1= str(int(aar) + 1)"
   ]
  },
  {
   "cell_type": "markdown",
   "id": "fedd1e09-1078-4bf5-8d84-e392e786564d",
   "metadata": {},
   "source": [
    "### Art"
   ]
  },
  {
   "cell_type": "code",
   "execution_count": null,
   "id": "0be9e2fb-4906-4a66-9722-116090073312",
   "metadata": {},
   "outputs": [],
   "source": [
    "#API mot KOSTRA regnskapsarter. \n",
    "headers = {'content-type': 'text/csv', 'charset' : 'ISO-8859-1'}\n",
    "response = requests.get(\"http://data.ssb.no/api/klass/v1/classifications/259/codes?from=\" + aar + \"-01-01&to=\" + aar_t1 + \"-01-01&csvSeparator=;\", headers=headers).content\n",
    "art = pd.read_csv(io.StringIO(response.decode('ISO-8859-1')), sep = ';')\n",
    "\n",
    "#Ordner datasettet til ønsket struktur\n",
    "art = art[['code', 'validFromInRequestedRange']]\n",
    "art.rename(columns={'code':'art', 'validFromInRequestedRange':'periode'}, inplace = True)\n",
    "art['periode']=pd.DatetimeIndex(art['periode']).year\n",
    "art = art[~art.art.str.contains(\"AG\")]\n",
    "art['art'] = art['art'].replace('I','', regex=True).replace('A','', regex=True).replace('D','', regex=True)\n",
    "art.drop_duplicates().astype(str).info()\n",
    "art.head(2)"
   ]
  },
  {
   "cell_type": "code",
   "execution_count": null,
   "id": "0324e807-2b55-4b93-aa01-574d179d4b09",
   "metadata": {},
   "outputs": [],
   "source": [
    "art.to_parquet(\"../../../../Testdata/arbeidsdata/klass/\" + aar + \"/art.parquet\")"
   ]
  },
  {
   "cell_type": "markdown",
   "id": "dc6b804e-271c-4a61-976d-62a12f43bfb9",
   "metadata": {},
   "source": [
    "### Funksjon"
   ]
  },
  {
   "cell_type": "code",
   "execution_count": null,
   "id": "c2abff2b-9fc0-4da4-b427-420242d38232",
   "metadata": {},
   "outputs": [],
   "source": [
    "#API mot KOSTRA regnskapsfunksjoner\n",
    "headers = {'content-type': 'text/csv', 'charset' : 'ISO-8859-1'}\n",
    "response = requests.get(\"http://data.ssb.no/api/klass/v1/classifications/277/codes?from=\" + aar + \"-01-01&to=\" + aar_t1 + \"-01-01&csvSeparator=;\", headers=headers).content\n",
    "funksjon = pd.read_csv(io.StringIO(response.decode('ISO-8859-1')), sep = ';')\n",
    "\n",
    "#Ordner datasettet til ønsket struktur\n",
    "funksjon = funksjon[['code', 'validFromInRequestedRange']]\n",
    "funksjon.rename(columns={'code':'funksjon', 'validFromInRequestedRange':'periode'}, inplace = True)\n",
    "funksjon['periode']=pd.DatetimeIndex(funksjon['periode']).year\n",
    "funksjon = funksjon[~funksjon.funksjon.str.contains(\"F\")]\n",
    "funksjon.drop_duplicates().astype(str).info()\n",
    "funksjon.head(2)"
   ]
  },
  {
   "cell_type": "code",
   "execution_count": null,
   "id": "be128157-0888-4207-ad6b-da64e15893ea",
   "metadata": {},
   "outputs": [],
   "source": [
    "funksjon.to_parquet(\"../../../../Testdata/arbeidsdata/klass/\" + aar + \"/funksjon.parquet\")"
   ]
  },
  {
   "cell_type": "markdown",
   "id": "0e2ee279-bec6-4813-91fc-c86cba123df5",
   "metadata": {},
   "source": [
    "### Kommuner"
   ]
  },
  {
   "cell_type": "code",
   "execution_count": null,
   "id": "d19aec47-1dd9-4043-b06e-5a47ae134d75",
   "metadata": {},
   "outputs": [],
   "source": [
    "#API mot KOSTRA-kommuner med tilhørende regionsgrupperinger\n",
    "headers = {'content-type': 'text/csv', 'charset' : 'ISO-8859-1'}\n",
    "response = requests.get(\"http://data.ssb.no/api/klass/v1/classifications/231/codes?from=\" + aar + \"-01-01&to=\" + aar_t1 + \"-01-01&csvSeparator=;\", headers=headers).content\n",
    "komm = pd.read_csv(io.StringIO(response.decode('ISO-8859-1')), sep = ';')\n",
    "\n",
    "#Ordner datasettet til ønsket struktur\n",
    "komm = komm[['code', 'validFromInRequestedRange']]\n",
    "komm.rename(columns={'code':'region', 'validFromInRequestedRange':'periode'}, inplace = True)\n",
    "komm['periode']=pd.DatetimeIndex(komm['periode']).year\n",
    "komm = komm[~komm.region.str.contains(\"E\")]\n",
    "komm.drop_duplicates().astype(str).info()\n",
    "komm.head(2)"
   ]
  },
  {
   "cell_type": "code",
   "execution_count": null,
   "id": "d95bff9e-785b-48ac-8279-f14b32e5f831",
   "metadata": {},
   "outputs": [],
   "source": [
    "komm.to_parquet(\"../../../../Testdata/arbeidsdata/klass/\" + aar + \"/kommuner.parquet\")"
   ]
  },
  {
   "cell_type": "markdown",
   "id": "3b3f5ee6-4a8d-4939-8831-b4571ff5f50f",
   "metadata": {},
   "source": [
    "### Fylkeskommuner"
   ]
  },
  {
   "cell_type": "code",
   "execution_count": null,
   "id": "34afeb6d-9c93-46d1-b456-e557e8ee282b",
   "metadata": {},
   "outputs": [],
   "source": [
    "#API mot KOSTRA-fylkeskommuner med tilhørende regionsgrupperinger\n",
    "headers = {'content-type': 'text/csv', 'charset' : 'ISO-8859-1'}\n",
    "response = requests.get(\"http://data.ssb.no/api/klass/v1/classifications/232/codes?from=\" + aar + \"-01-01&to=\" + aar_t1 + \"-01-01&csvSeparator=;\", headers=headers).content\n",
    "fykomm = pd.read_csv(io.StringIO(response.decode('ISO-8859-1')), sep = ';')\n",
    "\n",
    "#Ordner datasettet til ønsket struktur\n",
    "fykomm = fykomm[['code', 'validFromInRequestedRange']]\n",
    "fykomm.rename(columns={'code':'region', 'validFromInRequestedRange':'periode'}, inplace = True)\n",
    "fykomm['periode']=pd.DatetimeIndex(fykomm['periode']).year\n",
    "fykomm = fykomm[~fykomm.region.str.contains(\"E\")]\n",
    "fykomm.drop_duplicates().astype(str).info()\n",
    "fykomm.head(2)"
   ]
  },
  {
   "cell_type": "code",
   "execution_count": null,
   "id": "38609100-aa89-4486-94de-d84404b44503",
   "metadata": {},
   "outputs": [],
   "source": [
    "fykomm.to_parquet(\"../../../../Testdata/arbeidsdata/klass/\" + aar + \"/fykomm.parquet\")"
   ]
  }
 ],
 "metadata": {
  "kernelspec": {
   "display_name": "Python 3",
   "language": "python",
   "name": "python3"
  },
  "language_info": {
   "codemirror_mode": {
    "name": "ipython",
    "version": 3
   },
   "file_extension": ".py",
   "mimetype": "text/x-python",
   "name": "python",
   "nbconvert_exporter": "python",
   "pygments_lexer": "ipython3",
   "version": "3.8.8"
  }
 },
 "nbformat": 4,
 "nbformat_minor": 5
}
