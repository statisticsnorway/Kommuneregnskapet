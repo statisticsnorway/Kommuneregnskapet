{
 "cells": [
  {
   "cell_type": "markdown",
   "id": "1074a943-c9f5-4c30-a6d3-712103c0aa76",
   "metadata": {},
   "source": [
    "# KostraRegnskap og regionsaggregering"
   ]
  },
  {
   "cell_type": "markdown",
   "id": "e49294c9-ac0d-42b8-85ce-df9ecb0dd03a",
   "metadata": {},
   "source": [
    "## Leser inn nødvendige pakker"
   ]
  },
  {
   "cell_type": "code",
   "execution_count": null,
   "id": "3ac4b319-27de-4e06-8f7a-b156bccabf88",
   "metadata": {
    "tags": []
   },
   "outputs": [],
   "source": [
    "library(Kostra)\n",
    "library(\"arrow\")\n",
    "library(tidyverse)"
   ]
  },
  {
   "cell_type": "code",
   "execution_count": null,
   "id": "9b754803-789b-433d-8f8c-71cca8cea31c",
   "metadata": {},
   "outputs": [],
   "source": [
    "regnskap <- read_parquet((\"../../../../Testdata/arbeidsdata/KostraRegnskap/2021/kostra0a_0c_basis_2021.parquet\"))\n",
    "saerbedrift <- read_parquet((\"../../../../Testdata/arbeidsdata/KostraRegnskap/kostra0i_0k_fordelt_2021.parquet\"))\n",
    "artshierarki <- read_parquet((\"../../../../Testdata/arbeidsdata/KostraRegnskap/artshierarki_2021.parquet\"))\n",
    "funksjonshierarki <- read_parquet((\"../../../../Testdata/arbeidsdata/KostraRegnskap/funksjonshierarki_2021.parquet\"))\n",
    "formler <- read_parquet((\"../../../../Testdata/arbeidsdata/KostraRegnskap/formler_2021.parquet\"))\n",
    "stjerne <- read_parquet((\"../../../../Testdata/arbeidsdata/KostraRegnskap/stjernetabell_2021.parquet\"))\n",
    "nettinger_kasse <- read_parquet((\"../../../../Testdata/arbeidsdata/KostraRegnskap/nettinger_kasse_2021.parquet\"))\n",
    "nettinger_saer <- read_parquet((\"../../../../Testdata/arbeidsdata/KostraRegnskap/nettinger_saer_2021.parquet\"))"
   ]
  },
  {
   "cell_type": "code",
   "execution_count": null,
   "id": "50e573ce-10fe-4abb-9fe5-f9a21a43125a",
   "metadata": {
    "tags": []
   },
   "outputs": [],
   "source": [
    "#head(nettinger_kasse,5)\n",
    "#head(nettinger_saer,5)\n",
    "#head(regnskap,5)\n",
    "#head(saerbedrift,5)\n",
    "#head(artshierarki,5)\n",
    "#head(funksjonshierarki,5)\n",
    "#head(formler,5)\n",
    "#head(stjerne,5)"
   ]
  },
  {
   "cell_type": "code",
   "execution_count": null,
   "id": "60015ead-f84d-4f33-83b9-aa1361691697",
   "metadata": {
    "tags": []
   },
   "outputs": [],
   "source": [
    "#Den kommer med en index kolonne på regnskapsfilene. Hvorfor det? Og gjør det noe?\n",
    "#saerbedrift <- select(saerbedrift, -last_col())\n",
    "regnskap <- select(regnskap, -last_col())\n",
    "head(regnskap,2)\n",
    "#head(saerbedrift,2)"
   ]
  },
  {
   "cell_type": "code",
   "execution_count": null,
   "id": "544b4c26-14c4-4b5b-ba14-5950efce78c2",
   "metadata": {},
   "outputs": [],
   "source": [
    "#stjerne <- stjerne %>%\n",
    "# dplyr::mutate(funksjon = replace_na(funksjon, \"0\"))\n",
    "# replace_na(\"0\")\n",
    "#replace(is.na(.), \"\")\n",
    "#dplyr::mutate(funksjon = case_when(\n",
    "#funksjon == \"nan\" ~ \"0\", \n",
    "#    TRUE ~ funksjon\n",
    "#))"
   ]
  },
  {
   "cell_type": "code",
   "execution_count": null,
   "id": "23bd8e1c-6e92-442a-b75b-23b03bac8cb9",
   "metadata": {},
   "outputs": [],
   "source": [
    "regnskap$kontoklasse <- CharacterReCode(NaToZero(regnskap$kontoklasse), c(\"0\", \"1\"), c(\"I\", \"D\"))\n",
    "saerbedrift$kontoklasse <- CharacterReCode(NaToZero(saerbedrift$kontoklasse), c(\"3\", \"4\", \"0\"), c(\"I\", \"D\", \"I\"))\n",
    "stjerne[is.na(stjerne)] <- \"\""
   ]
  },
  {
   "cell_type": "code",
   "execution_count": null,
   "id": "52f0bf8f-3ce4-493d-8834-8918db364a80",
   "metadata": {},
   "outputs": [],
   "source": [
    "#head(stjerne,5)"
   ]
  },
  {
   "cell_type": "code",
   "execution_count": null,
   "id": "6dc253cb-7c5d-46c2-92b8-3d2e52867744",
   "metadata": {
    "tags": []
   },
   "outputs": [],
   "source": [
    "#?KostraRegnskap"
   ]
  },
  {
   "cell_type": "code",
   "execution_count": null,
   "id": "9ef905e1-d132-47e2-81b2-983787b8a8ac",
   "metadata": {
    "tags": []
   },
   "outputs": [],
   "source": [
    "resultat <- KostraRegnskap(regnskap, funksjonshierarki, artshierarki, saerbedrift, nettinger_saer, nettinger_kasse, stjerne, formler)"
   ]
  },
  {
   "cell_type": "code",
   "execution_count": null,
   "id": "9db7d33b-ad2d-4346-900b-7528e072f89a",
   "metadata": {
    "tags": []
   },
   "outputs": [],
   "source": [
    "head(resultat,20)"
   ]
  },
  {
   "cell_type": "code",
   "execution_count": null,
   "id": "4ed05757-8ce2-4a83-8a4b-3f22e339d11d",
   "metadata": {},
   "outputs": [],
   "source": [
    "filter(resultat, region == \"0301\", art == \"AGD86\", funksjon == \"FG2\")"
   ]
  },
  {
   "cell_type": "code",
   "execution_count": null,
   "id": "a4d1025f-27ee-411c-b1ef-a8471e1279f8",
   "metadata": {},
   "outputs": [],
   "source": [
    "filter(resultat, region == \"0301\", art == \"AGD85\", funksjon == \"FG2\")"
   ]
  },
  {
   "cell_type": "markdown",
   "id": "98044a0f-a549-4964-9ecd-cecc11c32ece",
   "metadata": {},
   "source": [
    "### Kasse ser ut til å bli riktig. Konsern blir ikke riktig. Er det inputfilen eller metoden?"
   ]
  },
  {
   "cell_type": "code",
   "execution_count": null,
   "id": "a21af060-accd-44fb-94b1-070d96587081",
   "metadata": {},
   "outputs": [],
   "source": []
  }
 ],
 "metadata": {
  "kernelspec": {
   "display_name": "R",
   "language": "R",
   "name": "ir"
  },
  "language_info": {
   "codemirror_mode": "r",
   "file_extension": ".r",
   "mimetype": "text/x-r-source",
   "name": "R",
   "pygments_lexer": "r",
   "version": "4.1.2"
  }
 },
 "nbformat": 4,
 "nbformat_minor": 5
}
