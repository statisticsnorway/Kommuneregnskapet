{
 "cells": [
  {
   "cell_type": "markdown",
   "id": "8b44b6f0-a259-4ffc-9b59-4f865d8b004e",
   "metadata": {},
   "source": [
    "# Notebook med API'er som benyttes i beregningene\n",
    "- Alle spørringer lagres i egen datamappe"
   ]
  },
  {
   "cell_type": "code",
   "execution_count": null,
   "id": "8c6082cf-43d9-4977-93a4-dcd94c10e39e",
   "metadata": {},
   "outputs": [],
   "source": [
    "import pandas as pd\n",
    "import requests\n",
    "import io"
   ]
  },
  {
   "cell_type": "markdown",
   "id": "fedd1e09-1078-4bf5-8d84-e392e786564d",
   "metadata": {},
   "source": [
    "### Art"
   ]
  },
  {
   "cell_type": "code",
   "execution_count": null,
   "id": "0be9e2fb-4906-4a66-9722-116090073312",
   "metadata": {},
   "outputs": [],
   "source": [
    "#API mot KOSTRA regnskapsarter. \n",
    "headers = {'content-type': 'text/csv', 'charset' : 'ISO-8859-1'}\n",
    "response = requests.get(\"http://data.ssb.no/api/klass/v1/classifications/259/codes?from=2021-01-01&to=2022-01-01&csvSeparator=;\", headers=headers).content\n",
    "art = pd.read_csv(io.StringIO(response.decode('ISO-8859-1')), sep = ';')\n",
    "\n",
    "#Ordner datasettet til ønsket struktur\n",
    "art = art[['code']]\n",
    "art.rename(columns={'code':'art'}, inplace = True)\n",
    "art = art[~art.art.str.contains(\"AG\")]\n",
    "#Hvorfor endrer neste linje datasettet fra frame til series?\n",
    "art = art.art.replace({'A':'', 'I':'', 'D':''}, regex=True).drop_duplicates()\n",
    "art = art.to_frame()\n",
    "art.to_parquet(\"../../../../Testdata/arbeidsdata/klass/art.parquet\")"
   ]
  },
  {
   "cell_type": "markdown",
   "id": "dc6b804e-271c-4a61-976d-62a12f43bfb9",
   "metadata": {},
   "source": [
    "### Funksjon"
   ]
  },
  {
   "cell_type": "code",
   "execution_count": null,
   "id": "c2abff2b-9fc0-4da4-b427-420242d38232",
   "metadata": {},
   "outputs": [],
   "source": [
    "#API mot KOSTRA regnskapsfunksjoner\n",
    "headers = {'content-type': 'text/csv', 'charset' : 'ISO-8859-1'}\n",
    "response = requests.get(\"http://data.ssb.no/api/klass/v1/classifications/277/codes?from=2021-01-01&to=2022-01-01&csvSeparator=;\", headers=headers).content\n",
    "funksjon = pd.read_csv(io.StringIO(response.decode('ISO-8859-1')), sep = ';')\n",
    "\n",
    "#Ordner datasettet til ønsket struktur\n",
    "funksjon = funksjon[['code']]\n",
    "funksjon.rename(columns={'code':'funksjon'}, inplace = True)\n",
    "funksjon = funksjon[~funksjon.funksjon.str.contains(\"F\")]\n",
    "funksjon.to_parquet(\"../../../../Testdata/arbeidsdata/klass/funksjon.parquet\")"
   ]
  },
  {
   "cell_type": "markdown",
   "id": "0e2ee279-bec6-4813-91fc-c86cba123df5",
   "metadata": {},
   "source": [
    "### Kommuner"
   ]
  },
  {
   "cell_type": "code",
   "execution_count": null,
   "id": "d19aec47-1dd9-4043-b06e-5a47ae134d75",
   "metadata": {},
   "outputs": [],
   "source": [
    "#API mot KOSTRA-kommuner med tilhørende regionsgrupperinger\n",
    "headers = {'content-type': 'text/csv', 'charset' : 'ISO-8859-1'}\n",
    "response = requests.get(\"http://data.ssb.no/api/klass/v1/classifications/231/codes?from=2021-01-01&to=2022-01-01&csvSeparator=;\", headers=headers).content\n",
    "kommuner = pd.read_csv(io.StringIO(response.decode('ISO-8859-1')), sep = ';')\n",
    "kommuner = kommuner[['code']]\n",
    "kommuner.rename(columns={'code':'region'}, inplace = True)\n",
    "kommuner = kommuner[~kommuner.region.str.contains(\"E\")]\n",
    "kommuner.to_parquet(\"../../../../Testdata/arbeidsdata/klass/kommuner.parquet\")"
   ]
  },
  {
   "cell_type": "markdown",
   "id": "3b3f5ee6-4a8d-4939-8831-b4571ff5f50f",
   "metadata": {},
   "source": [
    "### Fylkeskommuner"
   ]
  },
  {
   "cell_type": "code",
   "execution_count": null,
   "id": "34afeb6d-9c93-46d1-b456-e557e8ee282b",
   "metadata": {},
   "outputs": [],
   "source": [
    "#API mot KOSTRA-fylkeskommuner med tilhørende regionsgrupperinger\n",
    "headers = {'content-type': 'text/csv', 'charset' : 'ISO-8859-1'}\n",
    "response = requests.get(\"http://data.ssb.no/api/klass/v1/classifications/232/codes?from=2021-01-01&to=2022-01-01&csvSeparator=;\", headers=headers).content\n",
    "fykomm = pd.read_csv(io.StringIO(response.decode('ISO-8859-1')), sep = ';')\n",
    "fykomm = fykomm[['code']]\n",
    "fykomm.rename(columns={'code':'region'}, inplace = True)\n",
    "fykomm = fykomm[~fykomm.region.str.contains(\"E\")]\n",
    "fykomm.to_parquet(\"../../../../Testdata/arbeidsdata/klass/fykomm.parquet\")"
   ]
  },
  {
   "cell_type": "code",
   "execution_count": null,
   "id": "38609100-aa89-4486-94de-d84404b44503",
   "metadata": {},
   "outputs": [],
   "source": []
  }
 ],
 "metadata": {
  "kernelspec": {
   "display_name": "Python 3 (ipykernel)",
   "language": "python",
   "name": "python3"
  },
  "language_info": {
   "codemirror_mode": {
    "name": "ipython",
    "version": 3
   },
   "file_extension": ".py",
   "mimetype": "text/x-python",
   "name": "python",
   "nbconvert_exporter": "python",
   "pygments_lexer": "ipython3",
   "version": "3.8.8"
  }
 },
 "nbformat": 4,
 "nbformat_minor": 5
}
