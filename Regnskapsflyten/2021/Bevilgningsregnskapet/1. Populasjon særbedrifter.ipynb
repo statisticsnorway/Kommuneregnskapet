{
 "cells": [
  {
   "cell_type": "code",
   "execution_count": null,
   "id": "cbbfad3b-c1a5-4fa4-b942-a2d7c366131f",
   "metadata": {},
   "outputs": [],
   "source": [
    "import cx_Oracle\n",
    "import getpass\n",
    "import pandas as pd\n",
    "import numpy as np"
   ]
  },
  {
   "cell_type": "code",
   "execution_count": null,
   "id": "aef3f91c-b7e1-4b29-8c86-c3eeafea4946",
   "metadata": {},
   "outputs": [],
   "source": [
    "bruker = input('Angi bruker: ') or getpass.getuser()\n",
    "bruker"
   ]
  },
  {
   "cell_type": "code",
   "execution_count": null,
   "id": "32761561-8126-42c1-8a79-e73f0f8685d7",
   "metadata": {},
   "outputs": [],
   "source": [
    "#getpass.getpass(prompt='Angi oracle-passord for bruker ' + bruker + ':')"
   ]
  },
  {
   "cell_type": "code",
   "execution_count": null,
   "id": "0dd60475-efd5-4a3b-b791-0c13f22f903a",
   "metadata": {},
   "outputs": [],
   "source": [
    "conn = cx_Oracle.connect(bruker + \"/\" + getpass.getpass(prompt='Angi oracle-passord for bruker ' + bruker + ':')+\"@DB1P\")\n"
   ]
  },
  {
   "cell_type": "code",
   "execution_count": null,
   "id": "de556d69-b01e-4e53-9ac5-57dee2479da5",
   "metadata": {
    "tags": []
   },
   "outputs": [],
   "source": [
    "#Denne ser ut til å fungere ganske bra(?)\n",
    "\n",
    "query = \"\"\"\n",
    " select *\n",
    " from dsbbase.ssb_foretak\n",
    " where (sektor_2014 = '6500' or sektor_2014 = '1510') and  statuskode = 'B' and org_form = 'IKS'\n",
    " \"\"\"\n",
    "\n",
    "iks = pd.read_sql_query(query, conn)\n",
    "iks = iks[['ORGNR','ORG_FORM','STATUSKODE', 'SEKTOR_2014', 'UNDERSEKTOR_2014', 'NAVN', 'F_KOMMUNENR']]\n",
    "iks\n",
    "#, 'status', 'sektor_2014', 'undersektor_2014', 'navn', 'fkommune', 'statdat', 'sektor2014_dato'\n",
    "#statdato må enten være STATUSKODE_GDATO eller STATUSKODE_RDATO\n",
    "#sektor2014_dato må enten være SEKTOR_2014_GDATO ELLER SEKTOR_2014_RDATO"
   ]
  },
  {
   "cell_type": "code",
   "execution_count": null,
   "id": "ec07fd29-af83-4cf8-b0fc-15fee668c19a",
   "metadata": {},
   "outputs": [],
   "source": [
    "query = \"\"\"\n",
    " select *\n",
    " from dsbbase.ssb_foretak\n",
    " where (org_form = 'KOMM' or org_form = 'FYLK' or org_form = 'IKS') and  (statuskode = 'B' or statuskode = 'S')\n",
    " \"\"\"\n",
    "\n",
    "komm = pd.read_sql_query(query, conn)\n",
    "\n",
    "komm = komm[['ORGNR','ORG_FORM','STATUSKODE', 'NAVN', 'F_KOMMUNENR']]\n",
    "\n",
    "komm['sortering']= np.where(komm['ORG_FORM']== 'KOMM', 1, 2)\n",
    "\n",
    "komm.rename(columns={'ORGNR':'orgnr_eier','NAVN':'navn_eier', 'F_KOMMUNENR':'kommnr_eier', 'STATUSKODE':'status_eier', 'ORG_FORM':'orgform_eier'}, inplace = True)\n",
    "\n",
    "komm"
   ]
  },
  {
   "cell_type": "code",
   "execution_count": null,
   "id": "e6a64d28-933c-49e8-a320-1dec2f1ec8d5",
   "metadata": {},
   "outputs": [],
   "source": [
    "conn.close()"
   ]
  },
  {
   "cell_type": "code",
   "execution_count": null,
   "id": "d5ec7cb9-955e-4804-9271-619df21963a0",
   "metadata": {},
   "outputs": [],
   "source": [
    "pd.set_option('display.max_columns', None)"
   ]
  },
  {
   "cell_type": "code",
   "execution_count": null,
   "id": "33960f9f-b387-46b5-a51d-35684bc8409e",
   "metadata": {},
   "outputs": [],
   "source": [
    "komm"
   ]
  },
  {
   "cell_type": "code",
   "execution_count": null,
   "id": "87ed862d-7556-417e-9c02-f65b16bbdb17",
   "metadata": {
    "tags": []
   },
   "outputs": [],
   "source": [
    "kommuner = pd.read_parquet(\"../../../../Testdata/arbeidsdata/klass/kommuner.parquet\")\n",
    "fykomm = pd.read_parquet(\"../../../../Testdata/arbeidsdata/klass/fykomm.parquet\")\n",
    "regioner = pd.concat([kommuner, fykomm]).rename(columns={'region':'kommnr_eier'})"
   ]
  },
  {
   "cell_type": "code",
   "execution_count": null,
   "id": "ae003ad5-5d3c-4235-a384-07853b3f1c99",
   "metadata": {},
   "outputs": [],
   "source": [
    "gyldige=pd.merge(komm, regioner, on=['kommnr_eier'])\n",
    "gyldige"
   ]
  },
  {
   "cell_type": "code",
   "execution_count": null,
   "id": "322d85f4-1863-4a18-bd1d-d2cce386c29b",
   "metadata": {},
   "outputs": [],
   "source": [
    "uoppgitt = komm.merge(regioner,indicator = True, how='left').loc[lambda x : x['_merge']!='both']\n",
    "uoppgitt"
   ]
  },
  {
   "cell_type": "code",
   "execution_count": null,
   "id": "e96c5392-55c1-42f1-800a-4a0f79599a18",
   "metadata": {},
   "outputs": [],
   "source": []
  }
 ],
 "metadata": {
  "kernelspec": {
   "display_name": "Python 3-- (ipykernel)",
   "language": "python",
   "name": "python3"
  },
  "language_info": {
   "codemirror_mode": {
    "name": "ipython",
    "version": 3
   },
   "file_extension": ".py",
   "mimetype": "text/x-python",
   "name": "python",
   "nbconvert_exporter": "python",
   "pygments_lexer": "ipython3",
   "version": "3.8.8"
  }
 },
 "nbformat": 4,
 "nbformat_minor": 5
}
