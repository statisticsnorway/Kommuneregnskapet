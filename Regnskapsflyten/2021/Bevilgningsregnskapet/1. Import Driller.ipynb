{
 "cells": [
  {
   "cell_type": "markdown",
   "id": "12b34573-1391-43b1-91a6-0cb819dfeb43",
   "metadata": {},
   "source": [
    "# Hente filer fra ISEE\n",
    "\n",
    "Oppskrift:\n",
    "Python:\n",
    "import pandas as pd\n",
    "import cx_Oracle as cx\n",
    "import getpass\n",
    "---------------------------------------\n",
    "username = \"<bruker>\"\n",
    "db = \"DB1P\"\n",
    "con = cx.connect(username,getpass.getpass(),db)\n",
    "dnr = <delregister>\n",
    "query = \"SELECT * FROM dynarev.vw_funk_<skjema> where delreg_nr = :dnr\"\n",
    "mine_data = pd.read_sql(query,con=con,params={\"dnr\": str(dnr)})\n",
    "con.close()\n",
    "\n",
    "R:\n",
    "Pakker/biblioteker\n",
    "library(getPass)\n",
    "library(ROracle)\n",
    "--------------------------------------\n",
    "drv <- dbDriver(\"Oracle\")\n",
    "con <- dbConnect(drv, user = \"<Bruker>\", password =getPass(), dbname = \"DB1P\")\n",
    "Mine_data <- dbGetQuery(con, \"SELECT * FROM dynarev.VW_FUNK_<skjema> WHERE DELREG_NR=<delregister>\")\n"
   ]
  },
  {
   "cell_type": "code",
   "execution_count": null,
   "id": "026142d4-036e-445c-a913-04e82b2a6655",
   "metadata": {},
   "outputs": [],
   "source": [
    "import pandas as pd\n",
    "import cx_Oracle as cx\n",
    "import getpass"
   ]
  },
  {
   "cell_type": "code",
   "execution_count": null,
   "id": "c16d073f-896d-4511-910f-562de5a8df9e",
   "metadata": {},
   "outputs": [],
   "source": [
    "#Åpner kobling til Oracle\n",
    "\n",
    "username = \"mtk\"\n",
    "db = \"DB1P\"\n",
    "con = cx.connect(username,getpass.getpass(),db)"
   ]
  },
  {
   "cell_type": "code",
   "execution_count": null,
   "id": "64114af9-26c7-4e75-9ca7-bdf21d1bb5a5",
   "metadata": {},
   "outputs": [],
   "source": [
    "#Henter skjema 0A\n",
    "\n",
    "dnr = 425221\n",
    "query = \"SELECT * FROM dynarev.vw_funk_KOSTRA0A where delreg_nr = :dnr\"\n",
    "kostra0a = pd.read_sql(query,con=con,params={\"dnr\": str(dnr)})\n",
    "kostra0a = kostra0a[['PERIODE', 'REGION', 'KONTOKLASSE', 'FUNKSJON_KAPITTEL', 'ART_SEKTOR', 'BELOP', 'BYDEL']]\n",
    "\n",
    "kostra0a.to_parquet(\"../../../../Testdata/arbeidsdata/import_driller/kostra0a.parquet\")"
   ]
  },
  {
   "cell_type": "code",
   "execution_count": null,
   "id": "ed0c985d-6124-4ff3-9507-208784630289",
   "metadata": {},
   "outputs": [],
   "source": [
    "#Henter skjema 0C\n",
    "\n",
    "dnr = 457221\n",
    "query = \"SELECT * FROM dynarev.vw_funk_KOSTRA0C where delreg_nr = :dnr\"\n",
    "kostra0c = pd.read_sql(query,con=con,params={\"dnr\": str(dnr)})\n",
    "kostra0c = kostra0c[['PERIODE', 'REGION', 'KONTOKLASSE', 'FUNKSJON_KAPITTEL', 'ART_SEKTOR', 'BELOP', 'BYDEL']]\n",
    "\n",
    "kostra0c.to_parquet(\"../../../../Testdata/arbeidsdata/import_driller/kostra0c.parquet\")"
   ]
  },
  {
   "cell_type": "code",
   "execution_count": null,
   "id": "bc45afb2-fd00-44d2-90b3-0b2ad4f8588e",
   "metadata": {},
   "outputs": [],
   "source": [
    "#Henter skjema 0I\n",
    "\n",
    "dnr = 229021\n",
    "query = \"SELECT * FROM dynarev.vw_funk_KOSTRA0I where delreg_nr = :dnr\"\n",
    "kostra0i = pd.read_sql(query,con=con,params={\"dnr\": str(dnr)})\n",
    "kostra0i = kostra0i[['PERIODE', 'REGION', 'KONTOKLASSE', 'FUNKSJON_KAPITTEL', 'ART_SEKTOR', 'BELOP', 'ORG_NR']]\n",
    "\n",
    "kostra0i.to_parquet(\"../../../../Testdata/arbeidsdata/import_driller/kostra0i.parquet\")"
   ]
  },
  {
   "cell_type": "code",
   "execution_count": null,
   "id": "2c00b4d1-e144-4f32-a19e-c0042e94833d",
   "metadata": {},
   "outputs": [],
   "source": [
    "#Henter skjema 0I\n",
    "\n",
    "dnr = 229021\n",
    "query = \"SELECT * FROM dynarev.vw_funk_KOSTRA0K where delreg_nr = :dnr\"\n",
    "kostra0k = pd.read_sql(query,con=con,params={\"dnr\": str(dnr)})\n",
    "kostra0k = kostra0k[['PERIODE', 'REGION', 'KONTOKLASSE', 'FUNKSJON_KAPITTEL', 'ART_SEKTOR', 'BELOP', 'ORG_NR']]\n",
    "\n",
    "kostra0k.to_parquet(\"../../../../Testdata/arbeidsdata/import_driller/kostra0k.parquet\")"
   ]
  },
  {
   "cell_type": "code",
   "execution_count": null,
   "id": "f1e9ec9c-5bfe-4bfa-ad2c-f4b960dd787b",
   "metadata": {},
   "outputs": [],
   "source": [
    "#Stenger koblingen til oracle\n",
    "\n",
    "con.close()"
   ]
  },
  {
   "cell_type": "code",
   "execution_count": null,
   "id": "5a573125-b291-44fb-96ba-b57b7b84f094",
   "metadata": {},
   "outputs": [],
   "source": []
  }
 ],
 "metadata": {
  "kernelspec": {
   "display_name": "Python 3-- (ipykernel)",
   "language": "python",
   "name": "python3"
  },
  "language_info": {
   "codemirror_mode": {
    "name": "ipython",
    "version": 3
   },
   "file_extension": ".py",
   "mimetype": "text/x-python",
   "name": "python",
   "nbconvert_exporter": "python",
   "pygments_lexer": "ipython3",
   "version": "3.8.8"
  }
 },
 "nbformat": 4,
 "nbformat_minor": 5
}
