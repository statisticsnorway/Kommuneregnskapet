{
 "cells": [
  {
   "cell_type": "markdown",
   "id": "12b34573-1391-43b1-91a6-0cb819dfeb43",
   "metadata": {},
   "source": [
    "# Hente filer fra ISEE\n",
    "\n",
    "Oppskrift:\n",
    "Python:\n",
    "import pandas as pd\n",
    "import cx_Oracle as cx\n",
    "import getpass\n",
    "---------------------------------------\n",
    "username = \"<bruker>\"\n",
    "db = \"DB1P\"\n",
    "con = cx.connect(username,getpass.getpass(),db)\n",
    "dnr = <delregister>\n",
    "query = \"SELECT * FROM dynarev.vw_funk_<skjema> where delreg_nr = :dnr\"\n",
    "mine_data = pd.read_sql(query,con=con,params={\"dnr\": str(dnr)})\n",
    "con.close()\n",
    "\n",
    "R:\n",
    "Pakker/biblioteker\n",
    "library(getPass)\n",
    "library(ROracle)\n",
    "--------------------------------------\n",
    "drv <- dbDriver(\"Oracle\")\n",
    "con <- dbConnect(drv, user = \"<Bruker>\", password =getPass(), dbname = \"DB1P\")\n",
    "Mine_data <- dbGetQuery(con, \"SELECT * FROM dynarev.VW_FUNK_<skjema> WHERE DELREG_NR=<delregister>\")\n"
   ]
  },
  {
   "cell_type": "code",
   "execution_count": null,
   "id": "026142d4-036e-445c-a913-04e82b2a6655",
   "metadata": {},
   "outputs": [],
   "source": [
    "import pandas as pd\n",
    "import cx_Oracle as cx\n",
    "import getpass"
   ]
  },
  {
   "cell_type": "code",
   "execution_count": null,
   "id": "64114af9-26c7-4e75-9ca7-bdf21d1bb5a5",
   "metadata": {},
   "outputs": [],
   "source": [
    "#Henter skjema 0A fra driller\n",
    "username = \"mtk\"\n",
    "db = \"DB1P\"\n",
    "con = cx.connect(username,getpass.getpass(),db)\n",
    "dnr = 425221\n",
    "query = \"SELECT * FROM dynarev.vw_funk_KOSTRA0A where delreg_nr = :dnr\"\n",
    "a_2021 = pd.read_sql(query,con=con,params={\"dnr\": str(dnr)})\n",
    "a_2021 = a_2021[['PERIODE', 'REGION', 'KONTOKLASSE', 'FUNKSJON_KAPITTEL', 'ART_SEKTOR', 'BELOP', 'BYDEL']]\n",
    "con.close()\n",
    "a_2021.to_parquet(\"../../../../Testdata/arbeidsdata/import_driller/a_2021.parquet\")"
   ]
  },
  {
   "cell_type": "code",
   "execution_count": null,
   "id": "ed0c985d-6124-4ff3-9507-208784630289",
   "metadata": {},
   "outputs": [],
   "source": [
    "#Henter skjema 0C fra driller\n",
    "username = \"mtk\"\n",
    "db = \"DB1P\"\n",
    "con = cx.connect(username,getpass.getpass(),db)\n",
    "dnr = 457221\n",
    "query = \"SELECT * FROM dynarev.vw_funk_KOSTRA0C where delreg_nr = :dnr\"\n",
    "c_2021 = pd.read_sql(query,con=con,params={\"dnr\": str(dnr)})\n",
    "c_2021 = c_2021[['PERIODE', 'REGION', 'KONTOKLASSE', 'FUNKSJON_KAPITTEL', 'ART_SEKTOR', 'BELOP', 'BYDEL']]\n",
    "con.close()\n",
    "c_2021.to_parquet(\"../../../../Testdata/arbeidsdata/import_driller/c_2021.parquet\")"
   ]
  },
  {
   "cell_type": "code",
   "execution_count": null,
   "id": "bc45afb2-fd00-44d2-90b3-0b2ad4f8588e",
   "metadata": {},
   "outputs": [],
   "source": [
    "#Henter skjema 0I fra driller\n",
    "username = \"mtk\"\n",
    "db = \"DB1P\"\n",
    "con = cx.connect(username,getpass.getpass(),db)\n",
    "dnr = 229021\n",
    "query = \"SELECT * FROM dynarev.vw_funk_KOSTRA0I where delreg_nr = :dnr\"\n",
    "i_2021 = pd.read_sql(query,con=con,params={\"dnr\": str(dnr)})\n",
    "i_2021 = i_2021[['PERIODE', 'REGION', 'KONTOKLASSE', 'FUNKSJON_KAPITTEL', 'ART_SEKTOR', 'BELOP', 'ORG_NR']]\n",
    "con.close()\n",
    "i_2021.to_parquet(\"../../../../Testdata/arbeidsdata/import_driller/i_2021.parquet\")"
   ]
  },
  {
   "cell_type": "code",
   "execution_count": null,
   "id": "2c00b4d1-e144-4f32-a19e-c0042e94833d",
   "metadata": {},
   "outputs": [],
   "source": [
    "#Henter skjema 0I fra driller\n",
    "username = \"mtk\"\n",
    "db = \"DB1P\"\n",
    "con = cx.connect(username,getpass.getpass(),db)\n",
    "dnr = 229021\n",
    "query = \"SELECT * FROM dynarev.vw_funk_KOSTRA0K where delreg_nr = :dnr\"\n",
    "k_2021 = pd.read_sql(query,con=con,params={\"dnr\": str(dnr)})\n",
    "k_2021 = k_2021[['PERIODE', 'REGION', 'KONTOKLASSE', 'FUNKSJON_KAPITTEL', 'ART_SEKTOR', 'BELOP', 'ORG_NR']]\n",
    "con.close()\n",
    "k_2021.to_parquet(\"../../../../Testdata/arbeidsdata/import_driller/k_2021.parquet\")"
   ]
  },
  {
   "cell_type": "code",
   "execution_count": null,
   "id": "f1e9ec9c-5bfe-4bfa-ad2c-f4b960dd787b",
   "metadata": {},
   "outputs": [],
   "source": []
  }
 ],
 "metadata": {
  "kernelspec": {
   "display_name": "Python 3 (ipykernel)",
   "language": "python",
   "name": "python3"
  },
  "language_info": {
   "codemirror_mode": {
    "name": "ipython",
    "version": 3
   },
   "file_extension": ".py",
   "mimetype": "text/x-python",
   "name": "python",
   "nbconvert_exporter": "python",
   "pygments_lexer": "ipython3",
   "version": "3.8.8"
  }
 },
 "nbformat": 4,
 "nbformat_minor": 5
}
