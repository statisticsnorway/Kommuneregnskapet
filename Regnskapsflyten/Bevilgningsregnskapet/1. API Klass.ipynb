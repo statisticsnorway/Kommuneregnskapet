{
 "cells": [
  {
   "cell_type": "markdown",
   "id": "8b44b6f0-a259-4ffc-9b59-4f865d8b004e",
   "metadata": {},
   "source": [
    "# Notebook med API'er som benyttes i beregningene\n",
    "- Alle spørringer lagres i egen datamappe"
   ]
  },
  {
   "cell_type": "markdown",
   "id": "9bf9afee-7c57-4375-8b0e-db44f614bb37",
   "metadata": {},
   "source": [
    "## Laster inn nødvendige pakker"
   ]
  },
  {
   "cell_type": "code",
   "execution_count": null,
   "id": "8c6082cf-43d9-4977-93a4-dcd94c10e39e",
   "metadata": {},
   "outputs": [],
   "source": [
    "import pandas as pd\n",
    "import requests\n",
    "import io"
   ]
  },
  {
   "cell_type": "markdown",
   "id": "f84ef750-fe02-4367-a49c-1246fa72c783",
   "metadata": {},
   "source": [
    "## Angi årgang som skal hentes\n",
    "- Årgangen som angis vil gjelde for hele arket\n",
    "- Skal det hentes flere årganger må arket kjøres flere ganger\n",
    "\n",
    "Mappen der filene skal lagres må allerede eksistere"
   ]
  },
  {
   "cell_type": "code",
   "execution_count": null,
   "id": "6ea49ec0-7273-4577-b851-9b693294adb8",
   "metadata": {},
   "outputs": [],
   "source": [
    "aar=input('Angi årgang for filene:' )\n",
    "aar_1t = str(int(aar) - 1)\n",
    "aar_t1 = str(int(aar) + 1)\n",
    "print(\"Du lager nå filer for \" + aar)"
   ]
  },
  {
   "cell_type": "markdown",
   "id": "fedd1e09-1078-4bf5-8d84-e392e786564d",
   "metadata": {},
   "source": [
    "### Art"
   ]
  },
  {
   "cell_type": "code",
   "execution_count": null,
   "id": "0be9e2fb-4906-4a66-9722-116090073312",
   "metadata": {},
   "outputs": [],
   "source": [
    "#API mot KOSTRA regnskapsarter. \n",
    "headers = {'content-type': 'text/csv', 'charset' : 'ISO-8859-1'}\n",
    "response = requests.get(\"http://data.ssb.no/api/klass/v1/classifications/259/codes?from=\" + aar + \"-01-01&to=\" + aar_t1 + \"-01-01&csvSeparator=;\", headers=headers).content\n",
    "art = pd.read_csv(io.StringIO(response.decode('ISO-8859-1')), sep = ';')\n",
    "\n",
    "#Ordner datasettet til ønsket struktur\n",
    "art = art[['code', 'validFromInRequestedRange']]\n",
    "art.rename(columns={'code':'art', 'validFromInRequestedRange':'periode'}, inplace = True)\n",
    "art['periode']=pd.DatetimeIndex(art['periode']).year\n",
    "art = art[~art.art.str.contains(\"AG\")]\n",
    "art['art'] = art['art'].replace('I','', regex=True).replace('A','', regex=True).replace('D','', regex=True)\n",
    "art.drop_duplicates().astype(str).info()\n",
    "art.head(2)"
   ]
  },
  {
   "cell_type": "code",
   "execution_count": null,
   "id": "0324e807-2b55-4b93-aa01-574d179d4b09",
   "metadata": {},
   "outputs": [],
   "source": [
    "#art.to_parquet(\"../../../Testdata/arbeidsdata/klass/\" + aar + \"/art.parquet\")\n",
    "art.to_parquet(\"/ssb/stamme03/komakro/pilot_python/arbeidsdata/klass/\" + aar + \"/art.parquet\")"
   ]
  },
  {
   "cell_type": "markdown",
   "id": "dc6b804e-271c-4a61-976d-62a12f43bfb9",
   "metadata": {},
   "source": [
    "### Funksjon"
   ]
  },
  {
   "cell_type": "code",
   "execution_count": null,
   "id": "c2abff2b-9fc0-4da4-b427-420242d38232",
   "metadata": {},
   "outputs": [],
   "source": [
    "#API mot KOSTRA regnskapsfunksjoner\n",
    "headers = {'content-type': 'text/csv', 'charset' : 'ISO-8859-1'}\n",
    "response = requests.get(\"http://data.ssb.no/api/klass/v1/classifications/277/codes?from=\" + aar + \"-01-01&to=\" + aar_t1 + \"-01-01&csvSeparator=;\", headers=headers).content\n",
    "funksjon = pd.read_csv(io.StringIO(response.decode('ISO-8859-1')), sep = ';')\n",
    "\n",
    "#Ordner datasettet til ønsket struktur\n",
    "funksjon = funksjon[['code', 'validFromInRequestedRange']]\n",
    "funksjon.rename(columns={'code':'funksjon', 'validFromInRequestedRange':'periode'}, inplace = True)\n",
    "funksjon['periode']=pd.DatetimeIndex(funksjon['periode']).year\n",
    "funksjon = funksjon[~funksjon.funksjon.str.contains(\"F\")]\n",
    "funksjon.drop_duplicates().astype(str).info()\n",
    "funksjon.head(2)"
   ]
  },
  {
   "cell_type": "code",
   "execution_count": null,
   "id": "be128157-0888-4207-ad6b-da64e15893ea",
   "metadata": {},
   "outputs": [],
   "source": [
    "funksjon.to_parquet(\"/ssb/stamme03/komakro/pilot_python/arbeidsdata/klass/\" + aar + \"/funksjon.parquet\")"
   ]
  },
  {
   "cell_type": "markdown",
   "id": "0e2ee279-bec6-4813-91fc-c86cba123df5",
   "metadata": {},
   "source": [
    "### Kommuner"
   ]
  },
  {
   "cell_type": "code",
   "execution_count": null,
   "id": "d19aec47-1dd9-4043-b06e-5a47ae134d75",
   "metadata": {
    "jupyter": {
     "outputs_hidden": true
    },
    "tags": []
   },
   "outputs": [],
   "source": [
    "#API mot KOSTRA-kommuner med tilhørende regionsgrupperinger\n",
    "headers = {'content-type': 'text/csv', 'charset' : 'ISO-8859-1'}\n",
    "response = requests.get(\"http://data.ssb.no/api/klass/v1/classifications/231/codes?from=\" + aar + \"-01-01&to=\" + aar_t1 + \"-01-01&csvSeparator=;\", headers=headers).content\n",
    "komm = pd.read_csv(io.StringIO(response.decode('ISO-8859-1')), sep = ';')\n",
    "\n",
    "#Ordner datasettet til ønsket struktur\n",
    "komm = komm[['code', 'validFromInRequestedRange']]\n",
    "komm.rename(columns={'code':'region', 'validFromInRequestedRange':'periode'}, inplace = True)\n",
    "komm['periode']=pd.DatetimeIndex(komm['periode']).year\n",
    "komm = komm[~komm.region.str.contains(\"E\")]\n",
    "komm.drop_duplicates().astype(str).info()\n",
    "komm.head(2)"
   ]
  },
  {
   "cell_type": "code",
   "execution_count": null,
   "id": "d95bff9e-785b-48ac-8279-f14b32e5f831",
   "metadata": {},
   "outputs": [],
   "source": [
    "komm.to_parquet(\"/ssb/stamme03/komakro/pilot_python/arbeidsdata/klass/\" + aar + \"/komm.parquet\")"
   ]
  },
  {
   "cell_type": "markdown",
   "id": "3b3f5ee6-4a8d-4939-8831-b4571ff5f50f",
   "metadata": {},
   "source": [
    "### Fylkeskommuner"
   ]
  },
  {
   "cell_type": "code",
   "execution_count": null,
   "id": "34afeb6d-9c93-46d1-b456-e557e8ee282b",
   "metadata": {},
   "outputs": [],
   "source": [
    "#API mot KOSTRA-fylkeskommuner med tilhørende regionsgrupperinger\n",
    "headers = {'content-type': 'text/csv', 'charset' : 'ISO-8859-1'}\n",
    "response = requests.get(\"http://data.ssb.no/api/klass/v1/classifications/232/codes?from=\" + aar + \"-01-01&to=\" + aar_t1 + \"-01-01&csvSeparator=;\", headers=headers).content\n",
    "fykomm = pd.read_csv(io.StringIO(response.decode('ISO-8859-1')), sep = ';')\n",
    "\n",
    "#Ordner datasettet til ønsket struktur\n",
    "fykomm = fykomm[['code', 'validFromInRequestedRange']]\n",
    "fykomm.rename(columns={'code':'region', 'validFromInRequestedRange':'periode'}, inplace = True)\n",
    "fykomm['periode']=pd.DatetimeIndex(fykomm['periode']).year\n",
    "fykomm = fykomm[~fykomm.region.str.contains(\"E\")]\n",
    "fykomm.drop_duplicates().astype(str).info()\n",
    "fykomm.head(2)"
   ]
  },
  {
   "cell_type": "code",
   "execution_count": null,
   "id": "38609100-aa89-4486-94de-d84404b44503",
   "metadata": {},
   "outputs": [],
   "source": [
    "fykomm.to_parquet(\"/ssb/stamme03/komakro/pilot_python/arbeidsdata/klass/\" + aar + \"/fykomm.parquet\")"
   ]
  },
  {
   "cell_type": "markdown",
   "id": "ae07af77-f781-44c1-91b6-e7b58260bc76",
   "metadata": {},
   "source": [
    "### Kommunehierarki"
   ]
  },
  {
   "cell_type": "code",
   "execution_count": null,
   "id": "55454cf5-866e-40f9-be28-11600d897090",
   "metadata": {},
   "outputs": [],
   "source": [
    "kommuner = komm[(komm['region']!= '2111')].copy().astype(str)"
   ]
  },
  {
   "cell_type": "code",
   "execution_count": null,
   "id": "9e4d5522-3d36-45b8-91d2-92facbc2490a",
   "metadata": {},
   "outputs": [],
   "source": [
    "EAKUO = kommuner[(kommuner['region']!= '0301')].copy()\n",
    "EAKUO['to'] = 'EAKUO'"
   ]
  },
  {
   "cell_type": "code",
   "execution_count": null,
   "id": "0db39bd4-2493-42a4-b050-8d602a9f9cee",
   "metadata": {},
   "outputs": [],
   "source": [
    "EAK = kommuner.copy()\n",
    "EAK['to'] = 'EAK'"
   ]
  },
  {
   "cell_type": "code",
   "execution_count": null,
   "id": "f69e8c88-3a67-40ed-a382-255c4c55c183",
   "metadata": {},
   "outputs": [],
   "source": [
    "EKA = kommuner.copy()\n",
    "EKA['to'] = 'EKA' + EKA['region'].str[0:2]"
   ]
  },
  {
   "cell_type": "code",
   "execution_count": null,
   "id": "8417d037-b66c-44d2-88be-075fa2604a77",
   "metadata": {},
   "outputs": [],
   "source": [
    "headers = {'content-type': 'text/csv', 'charset' : 'ISO-8859-1'}\n",
    "response = requests.get(\"http://data.ssb.no/api/klass/v1/classifications/112/correspondsAt?targetClassificationId=131&date=\" + aar + \"-01-01\", headers=headers).content\n",
    "EKG = pd.read_csv(io.StringIO(response.decode('ISO-8859-1')), sep = ',')\n",
    "EKG = EKG[['sourceCode', 'targetCode']]\n",
    "EKG.rename(columns={'sourceCode':'to', 'targetCode':'region'}, inplace = True)\n",
    "EKG = EKG.astype({'region':str})\n",
    "EKG['region']=EKG['region'].apply(lambda x: '{0:0>4}'.format(x))\n",
    "EKG.to_parquet(\"../../../Testdata/arbeidsdata/KostraRegnskap/kommunegrupper.parquet\")\n",
    "EKG['periode'] = aar"
   ]
  },
  {
   "cell_type": "code",
   "execution_count": null,
   "id": "8e13aecc-8765-4366-aa3b-e259edc28d90",
   "metadata": {
    "tags": []
   },
   "outputs": [],
   "source": [
    "kommunehierarki = pd.concat([EAKUO, EAK, EKA, EKG]).drop_duplicates()"
   ]
  },
  {
   "cell_type": "code",
   "execution_count": null,
   "id": "15a0e3ae-ae78-4cc7-a010-be45aabb0df8",
   "metadata": {},
   "outputs": [],
   "source": [
    "kommunehierarki['sign'] = '+'\n",
    "kommunehierarki.rename(columns={'region':'from'}, inplace = True)"
   ]
  },
  {
   "cell_type": "code",
   "execution_count": null,
   "id": "1e382ac9-bc38-4480-a4b0-8fd31c53135a",
   "metadata": {},
   "outputs": [],
   "source": [
    "kommunehierarki.to_parquet(\"/ssb/stamme03/komakro/pilot_python/arbeidsdata/klass/\" + aar + \"/kommunehierarki.parquet\")"
   ]
  },
  {
   "cell_type": "markdown",
   "id": "41c14bfc-1be7-4c59-b42f-02cbd12648c5",
   "metadata": {},
   "source": [
    "### Fylkeskommunehierarki"
   ]
  },
  {
   "cell_type": "code",
   "execution_count": null,
   "id": "6c226261-b150-48dd-a362-f8381ecc4bf8",
   "metadata": {
    "tags": []
   },
   "outputs": [],
   "source": [
    "headers = {'content-type': 'text/csv', 'charset' : 'ISO-8859-1'}\n",
    "response = requests.get(\"http://data.ssb.no/api/klass/v1/classifications/152/correspondsAt?targetClassificationId=127&date=\" + aar + \"-01-01\", headers=headers).content\n",
    "EAFKL = pd.read_csv(io.StringIO(response.decode('ISO-8859-1')), sep = ',')\n",
    "EAFKL = EAFKL[['sourceCode', 'targetCode']]\n",
    "EAFKL.rename(columns={'sourceCode':'to', 'targetCode':'region'}, inplace = True)\n",
    "EAFKL = EKG.astype({'region':str})\n",
    "EAFKL['region']=EKG['region'].apply(lambda x: '{0:0>4}'.format(x))\n",
    "EAFKL.to_parquet(\"../../../Testdata/arbeidsdata/KostraRegnskap/kommunegrupper.parquet\")\n",
    "EAFKL['periode'] = aar"
   ]
  },
  {
   "cell_type": "code",
   "execution_count": null,
   "id": "72b8edab-8754-40f8-9ffc-ecc5bf51c7b4",
   "metadata": {
    "tags": []
   },
   "outputs": [],
   "source": [
    "EAFKUO = fykomm[(fykomm['region']!= '0301')].copy().astype(str)\n",
    "EAFKUO['to'] = 'EAFKUO'"
   ]
  },
  {
   "cell_type": "code",
   "execution_count": null,
   "id": "6b70e266-658d-4e36-968f-ad1c6d09fe12",
   "metadata": {},
   "outputs": [],
   "source": [
    "EAFK = fykomm.copy().astype(str)\n",
    "EAFK['to'] = 'EAK'"
   ]
  },
  {
   "cell_type": "code",
   "execution_count": null,
   "id": "4f4dc7ee-4e25-4459-9f3e-1e5aa5d5cca0",
   "metadata": {},
   "outputs": [],
   "source": [
    "fylkeskommunehierarki = pd.concat([EAFKUO, EAFK, EAFKL]).drop_duplicates()"
   ]
  },
  {
   "cell_type": "code",
   "execution_count": null,
   "id": "11942576-79bd-4c38-b9ac-3070064f2f7a",
   "metadata": {},
   "outputs": [],
   "source": [
    "fylkeskommunehierarki['sign'] = '+'\n",
    "fylkeskommunehierarki.rename(columns={'region':'from'}, inplace = True)"
   ]
  },
  {
   "cell_type": "code",
   "execution_count": null,
   "id": "6e394fb0-bf27-4b4e-b99d-ca42cb86823b",
   "metadata": {},
   "outputs": [],
   "source": [
    "fylkeskommunehierarki.to_parquet(\"/ssb/stamme03/komakro/pilot_python/arbeidsdata/klass/\" + aar + \"/fylkeskommunehierarki.parquet\")"
   ]
  },
  {
   "cell_type": "markdown",
   "id": "d5dbdfd1-603a-4c1f-9c25-e879eec31e61",
   "metadata": {},
   "source": [
    "### Bydeler"
   ]
  },
  {
   "cell_type": "code",
   "execution_count": null,
   "id": "b4d024fd-d04d-490a-9ad9-7a131237c7bf",
   "metadata": {},
   "outputs": [],
   "source": [
    "#API mot KOSTRA-fylkeskommuner med tilhørende regionsgrupperinger\n",
    "headers = {'content-type': 'text/csv', 'charset' : 'ISO-8859-1'}\n",
    "response = requests.get(\"http://data.ssb.no/api/klass/v1/classifications/241/codes?from=\" + aar + \"-01-01&to=\" + aar_t1 + \"-01-01&csvSeparator=;\", headers=headers).content\n",
    "bydel = pd.read_csv(io.StringIO(response.decode('ISO-8859-1')), sep = ';')\n",
    "\n",
    "#Ordner datasettet til ønsket struktur\n",
    "bydel = bydel[['code', 'validFromInRequestedRange']]\n",
    "bydel.rename(columns={'code':'region', 'validFromInRequestedRange':'periode'}, inplace = True)\n",
    "bydel['periode']=pd.DatetimeIndex(bydel['periode']).year\n",
    "bydel = bydel[~bydel.region.str.contains(\"E\")]\n",
    "bydel.drop_duplicates().astype(str).info()\n",
    "bydel.head(2)"
   ]
  },
  {
   "cell_type": "code",
   "execution_count": null,
   "id": "b2c8f572-2a70-48d6-bb8a-47582ab0f97a",
   "metadata": {},
   "outputs": [],
   "source": [
    "bydel = bydel[(bydel['region']!= '030199') & (bydel['region']!= 'EAB')].copy().astype(str)\n",
    "bydel['to'] = 'EAB'\n",
    "bydel['sign'] = '+'\n",
    "bydel.rename(columns={'region':'from'}, inplace = True)"
   ]
  },
  {
   "cell_type": "code",
   "execution_count": null,
   "id": "a8e1e54f-c253-4058-a597-0457e9c20cb4",
   "metadata": {},
   "outputs": [],
   "source": [
    "bydel.to_parquet(\"/ssb/stamme03/komakro/pilot_python/arbeidsdata/klass/\" + aar + \"/bydelshierarki.parquet\")"
   ]
  },
  {
   "cell_type": "markdown",
   "id": "dbe50674-9748-4c55-8220-31ca3239049b",
   "metadata": {},
   "source": [
    "### Regionshierarki"
   ]
  },
  {
   "cell_type": "code",
   "execution_count": null,
   "id": "74e86ad4-0c2b-47a6-8486-be0388be8164",
   "metadata": {},
   "outputs": [],
   "source": [
    "regionshierarki = pd.concat([kommunehierarki, fylkeskommunehierarki, bydel])"
   ]
  },
  {
   "cell_type": "code",
   "execution_count": null,
   "id": "423a385c-5f5a-427a-810f-111db8db13a7",
   "metadata": {},
   "outputs": [],
   "source": [
    "regionshierarki.to_parquet(\"/ssb/stamme03/komakro/pilot_python/arbeidsdata/klass/\" + aar + \"/regionshierarki.parquet\")"
   ]
  }
 ],
 "metadata": {
  "kernelspec": {
   "display_name": "Python 3",
   "language": "python",
   "name": "python3"
  },
  "language_info": {
   "codemirror_mode": {
    "name": "ipython",
    "version": 3
   },
   "file_extension": ".py",
   "mimetype": "text/x-python",
   "name": "python",
   "nbconvert_exporter": "python",
   "pygments_lexer": "ipython3",
   "version": "3.8.8"
  }
 },
 "nbformat": 4,
 "nbformat_minor": 5
}
