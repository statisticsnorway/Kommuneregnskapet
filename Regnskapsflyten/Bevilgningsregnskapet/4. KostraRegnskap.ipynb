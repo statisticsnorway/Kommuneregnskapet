{
 "cells": [
  {
   "cell_type": "markdown",
   "id": "1074a943-c9f5-4c30-a6d3-712103c0aa76",
   "metadata": {},
   "source": [
    "# KostraRegnskap og regionsaggregering"
   ]
  },
  {
   "cell_type": "markdown",
   "id": "e49294c9-ac0d-42b8-85ce-df9ecb0dd03a",
   "metadata": {},
   "source": [
    "## Leser inn nødvendige pakker\n",
    "- Vi trenger følgende pakker i dette arket:\n",
    "    - Kostra\n",
    "    - arrow (for å lese inn parquet filer)\n",
    "    - Tidyverse (brukes strengt tatt ikke, men fin å ha med om man vil gjøre noe annet med datane)"
   ]
  },
  {
   "cell_type": "code",
   "execution_count": null,
   "id": "3ac4b319-27de-4e06-8f7a-b156bccabf88",
   "metadata": {
    "tags": []
   },
   "outputs": [],
   "source": [
    "library(Kostra)\n",
    "library(\"arrow\")\n",
    "library(tidyverse)"
   ]
  },
  {
   "cell_type": "code",
   "execution_count": null,
   "id": "57f9e31f-331b-475b-addb-347f7f1f8b57",
   "metadata": {
    "jupyter": {
     "outputs_hidden": true
    },
    "tags": []
   },
   "outputs": [],
   "source": [
    "source('../KostraPakken_redigert/RegionsAggregering.R',echo=TRUE)"
   ]
  },
  {
   "cell_type": "code",
   "execution_count": null,
   "id": "6bf52281-e65b-4804-bcc9-8bb1df8f663e",
   "metadata": {},
   "outputs": [],
   "source": [
    "aar <- readline(prompt=\"Angi årgang:\")"
   ]
  },
  {
   "cell_type": "markdown",
   "id": "b40f0446-0dea-463e-99be-92081a973128",
   "metadata": {},
   "source": [
    "## Leser inn nødvendige filer\n",
    "- **Vi trenger følgende filer for å kjøre KostraRegnskap**\n",
    "    - Kasseregnskapet \n",
    "        - *Gjør om filen til dataframe* \n",
    "        - *Fjerner ekstra kolonne som kommer med i regnskapsfilen. Dette bør ikke komme med. Må finne ut hvorfor å lese inn filen uten denne.*\n",
    "        - *Endrer kontoklasse fra tall til bokstaver*\n",
    "        - *Skriver ut de første linjene for å konstrollere at filen blir korrekt. Filen skal inneholde kolonner: periode, region, kontoklasse, art, belop, regnskapsomfang.*"
   ]
  },
  {
   "cell_type": "code",
   "execution_count": null,
   "id": "9b754803-789b-433d-8f8c-71cca8cea31c",
   "metadata": {},
   "outputs": [],
   "source": [
    "regnskap <- read_parquet(paste('/ssb/stamme03/komakro/pilot_python/arbeidsdata/arbeidsfiler/',aar,'/kostra0a_0c_basis_',aar,'.parquet', sep = \"\"))\n",
    "regnskap <- as.data.frame(regnskap)\n",
    "regnskap <- select(regnskap, -last_col())\n",
    "regnskap$kontoklasse <- CharacterReCode(NaToZero(regnskap$kontoklasse), c(\"0\", \"1\"), c(\"I\", \"D\"))\n",
    "head(regnskap,2)"
   ]
  },
  {
   "cell_type": "markdown",
   "id": "599b8337-9192-47de-918e-aaa6e1b25ce4",
   "metadata": {},
   "source": [
    "- Særbedriftsregnskapet\n",
    "    - *Gjør om filen til dataframe* \n",
    "    - *Endrer kontoklasse fra tall til bokstaver*"
   ]
  },
  {
   "cell_type": "code",
   "execution_count": null,
   "id": "f712a574-2d35-4424-8199-7e1e28f5871d",
   "metadata": {},
   "outputs": [],
   "source": [
    "saerbedrift <- read_parquet(paste('/ssb/stamme03/komakro/pilot_python/arbeidsdata/arbeidsfiler/',aar,'/kostra0i_0k_fordelt_',aar,'.parquet', sep = \"\"))\n",
    "saerbedrift <- as.data.frame(saerbedrift)\n",
    "saerbedrift$kontoklasse <- CharacterReCode(NaToZero(saerbedrift$kontoklasse), c(\"3\", \"4\", \"0\"), c(\"D\", \"I\", \"I\"))\n",
    "head(saerbedrift,2)"
   ]
  },
  {
   "cell_type": "markdown",
   "id": "1e83f1eb-8e9b-4eb9-b785-cc23208d8f9d",
   "metadata": {},
   "source": [
    "- Konsolidert\n",
    "    - *Gjør om filen til dataframe* \n",
    "    - *Endrer kontoklasse fra tall til bokstaver*"
   ]
  },
  {
   "cell_type": "code",
   "execution_count": null,
   "id": "ac270974-87af-4388-b30f-7fbc14b47b07",
   "metadata": {},
   "outputs": [],
   "source": [
    "konsolidert <- read_parquet(paste('/ssb/stamme03/komakro/pilot_python/arbeidsdata/arbeidsfiler/',aar,'/kostra0m_0p_basis_',aar,'.parquet', sep = \"\"))\n",
    "konsolidert <- as.data.frame(konsolidert)\n",
    "konsolidert$kontoklasse <- CharacterReCode(NaToZero(konsolidert$kontoklasse), c(\"3\", \"4\", \"0\"), c(\"D\", \"I\", \"I\"))\n",
    "konsolidert$regnskapsomfang <- gsub('C','B',konsolidert$regnskapsomfang)\n",
    "konsolidert <- select(konsolidert, -last_col())\n",
    "head(konsolidert,2)"
   ]
  },
  {
   "cell_type": "markdown",
   "id": "3befc5c4-4a60-4b73-abbf-ea27cb16d96c",
   "metadata": {},
   "source": [
    "- Artshierarki\n",
    "    - *Gjør om filen til dataframe* "
   ]
  },
  {
   "cell_type": "code",
   "execution_count": null,
   "id": "34e832fd-358c-4083-a4f0-6fe2440494ea",
   "metadata": {},
   "outputs": [],
   "source": [
    "artshierarki <- read_parquet(paste('../../../Testdata/arbeidsdata/KostraRegnskap/artshierarki_',aar,'.parquet', sep = \"\"))\n",
    "artshierarki <- as.data.frame(artshierarki)"
   ]
  },
  {
   "cell_type": "markdown",
   "id": "db4e4120-16bb-45ff-80be-2b79294dfd50",
   "metadata": {},
   "source": [
    "- Funksjonshierarki\n",
    "    - *Gjør om filen til dataframe* "
   ]
  },
  {
   "cell_type": "code",
   "execution_count": null,
   "id": "dead1b3e-5164-42e5-9306-ee35d3e18c84",
   "metadata": {},
   "outputs": [],
   "source": [
    "funksjonshierarki <- read_parquet(paste('../../../Testdata/arbeidsdata/KostraRegnskap/funksjonshierarki_',aar,'.parquet', sep = \"\"))\n",
    "funksjonshierarki <- as.data.frame(funksjonshierarki)"
   ]
  },
  {
   "cell_type": "markdown",
   "id": "8601ecd9-4c58-4b13-9a7a-d3e4c6178b66",
   "metadata": {},
   "source": [
    "- Formler\n",
    "    - *Gjør om filen til dataframe* "
   ]
  },
  {
   "cell_type": "code",
   "execution_count": null,
   "id": "0d631492-9313-42b5-bd21-ede77c843fbf",
   "metadata": {},
   "outputs": [],
   "source": [
    "formler <- read_parquet(paste('../../../Testdata/arbeidsdata/KostraRegnskap/formler_',aar,'.parquet', sep = \"\"))\n",
    "formler <- as.data.frame(formler)"
   ]
  },
  {
   "cell_type": "markdown",
   "id": "b8a035e5-2d03-46ae-b5c7-c965ea5af4fd",
   "metadata": {},
   "source": [
    "- Stjernetabell\n",
    "    - *Gjør om filen til dataframe* \n",
    "    - *Endrer manglende verdier fra NA til blank*"
   ]
  },
  {
   "cell_type": "code",
   "execution_count": null,
   "id": "dca2f75a-f148-4166-b5a5-40df60b86630",
   "metadata": {},
   "outputs": [],
   "source": [
    "stjerne <- read_parquet(paste('../../../Testdata/arbeidsdata/KostraRegnskap/stjernetabell_',aar,'.parquet', sep = \"\"))\n",
    "stjerne <- as.data.frame(stjerne)\n",
    "stjerne[is.na(stjerne)] <- \"\""
   ]
  },
  {
   "cell_type": "markdown",
   "id": "8fac8659-fe5b-48f4-b9f0-99242bed0406",
   "metadata": {},
   "source": [
    "- Nettingshierarki kasse\n",
    "    - *Gjør om filen til dataframe* "
   ]
  },
  {
   "cell_type": "code",
   "execution_count": null,
   "id": "b952d76b-7b48-4b9f-bc3d-d016e860b92e",
   "metadata": {},
   "outputs": [],
   "source": [
    "nettinger_kasse <- read_parquet(paste('../../../Testdata/arbeidsdata/KostraRegnskap/nettinger_kasse_',aar,'.parquet', sep = \"\"))\n",
    "nettinger_kasse <- as.data.frame(nettinger_kasse)"
   ]
  },
  {
   "cell_type": "markdown",
   "id": "6e7c8877-48bd-4aa4-81ed-3252d66b5e35",
   "metadata": {},
   "source": [
    "- Nettingshierarki særbedrift\n",
    "    - *Gjør om filen til dataframe* "
   ]
  },
  {
   "cell_type": "code",
   "execution_count": null,
   "id": "04985826-cbd0-47df-b64f-6bf81a654ddb",
   "metadata": {},
   "outputs": [],
   "source": [
    "nettinger_saer <- read_parquet(paste('../../../Testdata/arbeidsdata/KostraRegnskap/nettinger_saer_',aar,'.parquet', sep = \"\"))\n",
    "nettinger_saer <- as.data.frame(nettinger_saer)"
   ]
  },
  {
   "cell_type": "markdown",
   "id": "6ca608ce-4d85-47d7-9754-f428f6395045",
   "metadata": {},
   "source": [
    "- **Vi trenger følgende filer for å kjøre aggregering**\n",
    "    - Regionshierarki\n",
    "- Det kommer med en ekstra kolonne når tabellen lastes inn her. Det bør fikses. Fjerner siste kolonne foreløpig.\n",
    "- Skriver ut de to første radene for å kontrollere hierarkiet. Det skal inneholde følgende kolonner:\n",
    "    - from\n",
    "    - periode\n",
    "    - to\n",
    "    - sign"
   ]
  },
  {
   "cell_type": "code",
   "execution_count": null,
   "id": "b220d93b-1b7a-4605-815f-f32fae3a3539",
   "metadata": {},
   "outputs": [],
   "source": [
    "kommunehierarki <- read_parquet(paste('/ssb/stamme03/komakro/pilot_python/arbeidsdata/klass/',aar,'/kommunehierarki.parquet', sep = \"\"))\n",
    "kommunehierarki <- as.data.frame(kommunehierarki)\n",
    "kommunehierarki <- select(kommunehierarki, -last_col())"
   ]
  },
  {
   "cell_type": "code",
   "execution_count": null,
   "id": "ff886e6b-0018-40f1-9c02-ca772adf3bef",
   "metadata": {},
   "outputs": [],
   "source": [
    "fylkeskommunehierarki <- read_parquet(paste('/ssb/stamme03/komakro/pilot_python/arbeidsdata/klass/',aar,'/fylkeskommunehierarki.parquet', sep = \"\"))\n",
    "fylkeskommunehierarki <- as.data.frame(fylkeskommunehierarki)\n",
    "fylkeskommunehierarki <- select(fylkeskommunehierarki, -last_col())"
   ]
  },
  {
   "cell_type": "code",
   "execution_count": null,
   "id": "cf18af97-34f3-4b47-86b6-529f72b46fef",
   "metadata": {},
   "outputs": [],
   "source": [
    "bydelshierarki <- read_parquet(paste('/ssb/stamme03/komakro/pilot_python/arbeidsdata/klass/',aar,'/bydelshierarki.parquet', sep = \"\"))\n",
    "bydelshierarki <- as.data.frame(bydelshierarki)\n",
    "bydelshierarki <- select(bydelshierarki, -last_col())"
   ]
  },
  {
   "cell_type": "markdown",
   "id": "1cb73bf4-c774-455e-980a-0bd0f25b7089",
   "metadata": {},
   "source": [
    "- **Trenger følgende for å fjerne estimerte kommuner**\n",
    "    - Kommuner som mangler for 0A og 0C"
   ]
  },
  {
   "cell_type": "code",
   "execution_count": null,
   "id": "1d6110a2-a3d8-4a1e-bc3f-9b30603404fc",
   "metadata": {},
   "outputs": [],
   "source": [
    "manglende <-  read_parquet(paste('/ssb/stamme03/komakro/pilot_python/arbeidsdata/arbeidsfiler/',aar,'/kostra0a_0c_manglende_',aar,'.parquet', sep = \"\"))\n",
    "manglende <- as.data.frame(manglende)"
   ]
  },
  {
   "cell_type": "markdown",
   "id": "0df77da9-92bf-4338-93bf-941ef112a707",
   "metadata": {},
   "source": [
    "### Info om KostraRegnskaps-funksjonen"
   ]
  },
  {
   "cell_type": "code",
   "execution_count": null,
   "id": "6dc253cb-7c5d-46c2-92b8-3d2e52867744",
   "metadata": {
    "tags": []
   },
   "outputs": [],
   "source": [
    "#?KostraRegnskap"
   ]
  },
  {
   "cell_type": "markdown",
   "id": "1abf9600-3797-4d3e-824f-d97a04c5de5b",
   "metadata": {},
   "source": [
    "## Kostra regnskapsfunksjonen\n",
    "- Kjører funksjonen KostraRegnskap fra Kostra biblioteket. Dette er den samme funksjonen som er lagt inn i Kompis.\n",
    "- Funksjonen må skrives med inputdata i følgende rekkefølge: \n",
    "    1. Kasseregnskapet\n",
    "    2. Funksjonshierarki\n",
    "    3. Artshierarki\n",
    "    4. Særbedriftsregnskapet\n",
    "    5. Nettingshierarki særbedrifter\n",
    "    6. Nettingshierarki kasse\n",
    "    7. Stjernetabell\n",
    "    8. Formler"
   ]
  },
  {
   "cell_type": "code",
   "execution_count": null,
   "id": "9ef905e1-d132-47e2-81b2-983787b8a8ac",
   "metadata": {
    "jupyter": {
     "outputs_hidden": true
    },
    "tags": []
   },
   "outputs": [],
   "source": [
    "resultat <- KostraRegnskap(regnskap, funksjonshierarki, artshierarki, saerbedrift, nettinger_saer, nettinger_kasse, stjerne, formler)"
   ]
  },
  {
   "cell_type": "markdown",
   "id": "31b69903-f581-491e-9316-b331795c8272",
   "metadata": {},
   "source": [
    "**Filter**  \n",
    "Legger på et filter for å kunne kontrollere output.  \n",
    "Kontrollerer output ved å sammenligne med verdiene i Kompis."
   ]
  },
  {
   "cell_type": "code",
   "execution_count": null,
   "id": "4ed05757-8ce2-4a83-8a4b-3f22e339d11d",
   "metadata": {},
   "outputs": [],
   "source": [
    "#filter(resultat, region == \"0301\", art == \"AGD23\", funksjon == \"FG2\", kontoklasse == 'D')"
   ]
  },
  {
   "cell_type": "markdown",
   "id": "3893e3b3-8229-4457-8369-a4f93276f16d",
   "metadata": {},
   "source": [
    "## Konsern\n",
    "### Aggregerer regnskapet"
   ]
  },
  {
   "cell_type": "markdown",
   "id": "43daad85-c4c5-466d-9ae5-6bc53adb95c3",
   "metadata": {},
   "source": [
    "- Kjører funksjon HierarchyCompute fra kostra biblioteket. \n",
    "- Funksjonen aggregerer regnskapet til følgende (så sant regionsfierarkiet er korrekt):\n",
    "    - EAK (Landet - kommuner)\n",
    "    - EAKUO (Landet uten Oslo - kommuner)\n",
    "    - EKAXX (Fylker)\n",
    "    - EKG (kostragrupper)\n",
    "    - EAFK (Landet - fylkeskommuner)\n",
    "    - EAFKUO (Landet uten Oslo - fylkeskommuner)\n",
    "    - EAFKXX (Landsdeler)\n",
    "    - EAB (Bydeler)  \n",
    "<br>\n",
    "<br>\n",
    "- Vi lager kun aggregerte størrelser på konserntall. Filtrerer derfor bort kasse før aggregeringen. "
   ]
  },
  {
   "cell_type": "code",
   "execution_count": null,
   "id": "52b4c877-ceb9-4875-8dbb-ef835329426a",
   "metadata": {},
   "outputs": [],
   "source": [
    "regionshierarki <- rbind(kommunehierarki, fylkeskommunehierarki, bydelshierarki)"
   ]
  },
  {
   "cell_type": "code",
   "execution_count": null,
   "id": "c1a0a184-1447-45dc-83cc-1d618a5b62d3",
   "metadata": {},
   "outputs": [],
   "source": [
    "konsern <- filter(resultat, regnskapsomfang == \"A\")"
   ]
  },
  {
   "cell_type": "code",
   "execution_count": null,
   "id": "b1b1c0df-f436-4b3b-acc7-82d29cf1d21d",
   "metadata": {
    "tags": []
   },
   "outputs": [],
   "source": [
    "aggregert <- KostraRegnskapRegionAggregering(data=konsern, hierarki=regionshierarki)"
   ]
  },
  {
   "cell_type": "code",
   "execution_count": null,
   "id": "21cdb8c1-8d7d-4ff6-9ce6-f4e4441b0ba0",
   "metadata": {},
   "outputs": [],
   "source": [
    "aggregert$periode <- '2021'"
   ]
  },
  {
   "cell_type": "code",
   "execution_count": null,
   "id": "83e62067-7df6-46ff-aa1e-2035d65c78d2",
   "metadata": {},
   "outputs": [],
   "source": [
    "konsern_aggregert <- rbind(konsern, aggregert)"
   ]
  },
  {
   "cell_type": "markdown",
   "id": "dc90fc18-5469-48c9-bcf5-4aeed67e58c9",
   "metadata": {},
   "source": [
    "### Fjerner estimerte kommuner\n",
    "- Før filen kan lagres til mappe må estimerte kommuner fjernes. Vi publiserer ikke tall for estimerte kommuner."
   ]
  },
  {
   "cell_type": "code",
   "execution_count": null,
   "id": "bb5b08f5-7b7a-4b0c-add0-50ec17f89112",
   "metadata": {},
   "outputs": [],
   "source": [
    "bev_konsern <- konsern_aggregert[!konsern_aggregert$region %in% manglende$region,]"
   ]
  },
  {
   "cell_type": "code",
   "execution_count": null,
   "id": "f7e4b7b5-8a36-4cf7-932e-d61d7f611be6",
   "metadata": {
    "tags": []
   },
   "outputs": [],
   "source": [
    "#sjekk <- bev_konsern %>%\n",
    "#filter(grepl('EAK',region))\n",
    "\n",
    "#summary(sjekk)"
   ]
  },
  {
   "cell_type": "markdown",
   "id": "9182282d-8e8e-4e23-bc6a-02d883d16fcd",
   "metadata": {},
   "source": [
    "## Kasse\n",
    "- Filterer ut en fil for kassetegnskapet og fjerner estimerte kommuner"
   ]
  },
  {
   "cell_type": "code",
   "execution_count": null,
   "id": "5e5c4316-982e-41e5-8158-821f8844c1bb",
   "metadata": {},
   "outputs": [],
   "source": [
    "bev_kasse <- filter(resultat, regnskapsomfang == \"B\")"
   ]
  },
  {
   "cell_type": "code",
   "execution_count": null,
   "id": "72cad0f8-112c-47e7-8eb8-d231a0423a20",
   "metadata": {},
   "outputs": [],
   "source": [
    "bev_kasse <- bev_kasse[!bev_kasse$region %in% manglende$region,]"
   ]
  },
  {
   "cell_type": "markdown",
   "id": "40470941-b057-446c-915d-f4522777d68e",
   "metadata": {},
   "source": [
    "## Konsolidert\n",
    "- KostraRegnskaps-funksjonen er ikke laget for konsolidert. \n",
    "- Konsolidert skal behandles likt som kasse. Mekker derfor til ved å kalle sette regnskapsomfang B på konsolidert og kjøre KostraRegnskap for kun B. \n",
    "- Etter kjøringen endres regnskapsomfang tilbake til C. "
   ]
  },
  {
   "cell_type": "code",
   "execution_count": null,
   "id": "75158ea6-3087-4e7e-9bb2-aecc31de8cff",
   "metadata": {
    "jupyter": {
     "outputs_hidden": true
    },
    "tags": []
   },
   "outputs": [],
   "source": [
    "resultat_konsolidert <- KostraRegnskap(data=konsolidert, funksjonshierarki=funksjonshierarki,artshierarki=artshierarki, data_saer=NULL,\n",
    "  artshierarki_nettinger=NULL,artshierarki_nettinger_kasse=NULL,stjernetabell=stjerne,formler=formler,regnskapsomfang=\"B\")"
   ]
  },
  {
   "cell_type": "code",
   "execution_count": null,
   "id": "d4162064-0022-45a9-a395-0cb2e971b393",
   "metadata": {},
   "outputs": [],
   "source": [
    "resultat_konsolidert$regnskapsomfang <- gsub('B','C',resultat_konsolidert$regnskapsomfang)"
   ]
  },
  {
   "cell_type": "markdown",
   "id": "18ff6737-4fd8-44af-9c8b-13f29186df8e",
   "metadata": {},
   "source": [
    "## Samler kasse og konsolidert"
   ]
  },
  {
   "cell_type": "code",
   "execution_count": null,
   "id": "b9b1a458-a3d7-4716-b018-e13e76fbff7b",
   "metadata": {},
   "outputs": [],
   "source": [
    "bev_kasse_konsolidert <- rbind(bev_kasse, resultat_konsolidert)"
   ]
  },
  {
   "cell_type": "markdown",
   "id": "760958d9-d496-41f1-962f-b06e2358d41a",
   "metadata": {},
   "source": [
    "# Ferdige filer\n",
    "- Skriver det ferdig aggregerte konsernregnskapet til mappe"
   ]
  },
  {
   "cell_type": "code",
   "execution_count": null,
   "id": "c9528941-2ddc-4c69-afbf-c0e7e41483a7",
   "metadata": {},
   "outputs": [],
   "source": [
    "lagring_konsern <- paste('/ssb/stamme03/komakro/pilot_python/arbeidsdata/arbeidsfiler/',aar,'/bev_konsern.parquet', sep = \"\")"
   ]
  },
  {
   "cell_type": "code",
   "execution_count": null,
   "id": "27a01142-6780-458b-91e2-a805b1e8ae19",
   "metadata": {},
   "outputs": [],
   "source": [
    "write_parquet(bev_konsern, lagring_konsern)"
   ]
  },
  {
   "cell_type": "markdown",
   "id": "a488e416-0ec3-4f9b-9bf5-6cd27065184c",
   "metadata": {},
   "source": [
    "- Filtrerer ut kasse-tallene fra resultatet av KostraRegnskaps-funksjonen \n",
    "- Skriver kasseregnskapet til mappe"
   ]
  },
  {
   "cell_type": "code",
   "execution_count": null,
   "id": "b39f0581-8873-4b40-98a4-dd941fada6bd",
   "metadata": {},
   "outputs": [],
   "source": [
    "lagring_kasse_konsolidert <- paste('/ssb/stamme03/komakro/pilot_python/arbeidsdata/arbeidsfiler/',aar,'/bev_kasse_konsolidert.parquet', sep = \"\")"
   ]
  },
  {
   "cell_type": "code",
   "execution_count": null,
   "id": "79297ea4-2c90-4458-9078-a297f2a9f8a1",
   "metadata": {},
   "outputs": [],
   "source": [
    "write_parquet(bev_kasse_konsolidert, lagring_kasse_konsolidert)"
   ]
  },
  {
   "cell_type": "code",
   "execution_count": null,
   "id": "cde2ae3c-573c-4487-a2f2-ff1f2aca1404",
   "metadata": {},
   "outputs": [],
   "source": []
  }
 ],
 "metadata": {
  "kernelspec": {
   "display_name": "R",
   "language": "R",
   "name": "ir"
  },
  "language_info": {
   "codemirror_mode": "r",
   "file_extension": ".r",
   "mimetype": "text/x-r-source",
   "name": "R",
   "pygments_lexer": "r",
   "version": "4.1.3"
  }
 },
 "nbformat": 4,
 "nbformat_minor": 5
}
