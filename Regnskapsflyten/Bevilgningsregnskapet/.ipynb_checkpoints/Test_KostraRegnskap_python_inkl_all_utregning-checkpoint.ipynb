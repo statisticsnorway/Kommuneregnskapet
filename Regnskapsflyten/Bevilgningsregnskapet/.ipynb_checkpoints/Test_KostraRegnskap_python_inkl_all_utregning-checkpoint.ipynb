{
 "cells": [
  {
   "cell_type": "markdown",
   "id": "2ed2b721-f668-48a4-9794-c48ff55edb23",
   "metadata": {},
   "source": [
    "# KostraRegnskap og regionsaggregering"
   ]
  },
  {
   "cell_type": "markdown",
   "id": "2fad537d-7267-4530-92fb-c71c760e6d29",
   "metadata": {},
   "source": [
    "### Laster inn nødvendige pakker"
   ]
  },
  {
   "cell_type": "code",
   "execution_count": null,
   "id": "b7e10d9e-fb0f-4ccd-9840-29ddd714b9a2",
   "metadata": {},
   "outputs": [],
   "source": [
    "import pandas as pd\n",
    "import numpy as np"
   ]
  },
  {
   "cell_type": "markdown",
   "id": "21325636-2110-4b72-b479-1e44fc9b3aa1",
   "metadata": {},
   "source": [
    "## Produserer inputfilene til KostraRegnskap\n",
    "Før dette gjøres må følgende filer være kjørt:\n",
    "1. API Klass \n",
    "    - Denne henter lister over følgende fra Klass: arter, fuksjoner, kommuner, fylkeskommuner, kommunehierarki, fylkeskommunehierarki og bydeler\n",
    "1. Import fra Driller\n",
    "    - Denne henter følgende skjemaer fra driller: 0A, 0C, 0I, 0K, 0M og 0P"
   ]
  },
  {
   "cell_type": "code",
   "execution_count": null,
   "id": "d58fc5c9-b594-4f50-a93f-1fc535cc212a",
   "metadata": {},
   "outputs": [],
   "source": [
    "%run ./'2. Kasse'.ipynb"
   ]
  },
  {
   "cell_type": "code",
   "execution_count": null,
   "id": "61f834e2-103b-42ec-97e7-73f42cc063ca",
   "metadata": {},
   "outputs": [],
   "source": [
    "%run ./'2. Konsolidert'.ipynb"
   ]
  },
  {
   "cell_type": "code",
   "execution_count": null,
   "id": "3111b534-5993-4061-a526-4a9e1e4b0028",
   "metadata": {},
   "outputs": [],
   "source": [
    "%run ./'3. Saerbedriftsregnskapene'.ipynb"
   ]
  },
  {
   "cell_type": "markdown",
   "id": "48b6ddf6-a8bc-4a74-8115-2d729fc3789b",
   "metadata": {},
   "source": [
    "## Henter hierarkifilene\n",
    "Disse filene er tidligere lagret på felles område på Linux. "
   ]
  },
  {
   "cell_type": "code",
   "execution_count": null,
   "id": "6772315c-de22-4b8b-aaba-a9d52dcdbcbc",
   "metadata": {},
   "outputs": [],
   "source": [
    "artshierarki = pd.read_parquet('../../../Testdata/arbeidsdata/KostraRegnskap/artshierarki_'+aar+'.parquet')\n",
    "funksjonshierarki = pd.read_parquet('../../../Testdata/arbeidsdata/KostraRegnskap/funksjonshierarki_'+aar+'.parquet')\n",
    "formler = pd.read_parquet('../../../Testdata/arbeidsdata/KostraRegnskap/formler_'+aar+'.parquet')\n",
    "stjerne = pd.read_parquet('../../../Testdata/arbeidsdata/KostraRegnskap/stjernetabell_'+aar+'.parquet')\n",
    "nettinger_kasse = pd.read_parquet('../../../Testdata/arbeidsdata/KostraRegnskap/nettinger_kasse_'+aar+'.parquet')\n",
    "nettinger_saer = pd.read_parquet('../../../Testdata/arbeidsdata/KostraRegnskap/nettinger_saer_'+aar+'.parquet')\n",
    "kommunehierarki = pd.read_parquet(\"/ssb/stamme03/komakro/pilot_python/arbeidsdata/klass/\" + aar + \"/kommunehierarki.parquet\")\n",
    "fylkeskommunehierarki = pd.read_parquet(\"/ssb/stamme03/komakro/pilot_python/arbeidsdata/klass/\" + aar + \"/fylkeskommunehierarki.parquet\")\n",
    "bydelshierarki = pd.read_parquet(\"/ssb/stamme03/komakro/pilot_python/arbeidsdata/klass/\" + aar + \"/bydelshierarki.parquet\")"
   ]
  },
  {
   "cell_type": "markdown",
   "id": "483cf2c5-5b5d-495c-823b-79f916e385d1",
   "metadata": {},
   "source": [
    "## KostraRegnskap\n",
    "- Funksjonen er i R. Vi må derfor endre språk og laste over alle objekter som skal benyttes. "
   ]
  },
  {
   "cell_type": "code",
   "execution_count": null,
   "id": "b9977ac5-07be-4a79-b15d-40c11df5f4a3",
   "metadata": {},
   "outputs": [],
   "source": [
    "%load_ext rpy2.ipython"
   ]
  },
  {
   "cell_type": "code",
   "execution_count": null,
   "id": "0c2c28a6-ae7a-4ebf-8110-c0c9a99922ef",
   "metadata": {
    "tags": []
   },
   "outputs": [],
   "source": [
    "%R library(Kostra)\n",
    "%R library(tidyverse)"
   ]
  },
  {
   "cell_type": "code",
   "execution_count": null,
   "id": "af4c1129-64fd-4a76-bc92-740334159a7a",
   "metadata": {},
   "outputs": [],
   "source": [
    "%R -i a_c_basis\n",
    "%R -i kostra0i_0k_fordelt\n",
    "%R -i m_p_basis\n",
    "%R -i artshierarki\n",
    "%R -i funksjonshierarki\n",
    "%R -i formler\n",
    "%R -i stjerne\n",
    "%R -i nettinger_kasse\n",
    "%R -i nettinger_saer\n",
    "%R -i kommunehierarki\n",
    "%R -i fylkeskommunehierarki\n",
    "%R -i bydelshierarki\n",
    "%R -i ac_manglende"
   ]
  },
  {
   "cell_type": "code",
   "execution_count": null,
   "id": "34229d47-b3e1-466e-8d86-d10220ec4b9c",
   "metadata": {},
   "outputs": [],
   "source": [
    "%R a_c_basis$kontoklasse <- CharacterReCode(NaToZero(a_c_basis$kontoklasse), c(\"0\", \"1\"), c(\"I\", \"D\"))\n",
    "%R kostra0i_0k_fordelt$kontoklasse <- CharacterReCode(NaToZero(kostra0i_0k_fordelt$kontoklasse), c(\"3\", \"4\", \"0\"), c(\"D\", \"I\", \"I\"))\n",
    "%R m_p_basis$kontoklasse <- CharacterReCode(NaToZero(m_p_basis$kontoklasse), c(\"3\", \"4\", \"0\"), c(\"D\", \"I\", \"I\"))\n",
    "%R m_p_basis$regnskapsomfang <- gsub('C','B',m_p_basis$regnskapsomfang)\n",
    "%R stjerne[is.na(stjerne)] <- \"\""
   ]
  },
  {
   "cell_type": "code",
   "execution_count": null,
   "id": "6cabd8c7-9bcb-458a-883f-339984c64347",
   "metadata": {
    "jupyter": {
     "outputs_hidden": true
    },
    "tags": []
   },
   "outputs": [],
   "source": [
    "%R resultat <- KostraRegnskap(data=a_c_basis, funksjonshierarki, artshierarki, kostra0i_0k_fordelt, nettinger_saer, nettinger_kasse, stjerne, formler)"
   ]
  },
  {
   "cell_type": "markdown",
   "id": "ff279607-124c-4bc1-ab95-07206fbbacfe",
   "metadata": {},
   "source": [
    "## Konsern\n",
    "### Aggregerer regnskapet\n",
    "- Kjører funksjon HierarchyCompute fra kostra biblioteket. \n",
    "- Funksjonen aggregerer regnskapet til følgende (så sant regionsfierarkiet er korrekt):\n",
    "    - EAK (Landet - kommuner)\n",
    "    - EAKUO (Landet uten Oslo - kommuner)\n",
    "    - EKAXX (Fylker)\n",
    "    - EKG (kostragrupper)\n",
    "    - EAFK (Landet - fylkeskommuner)\n",
    "    - EAFKUO (Landet uten Oslo - fylkeskommuner)\n",
    "    - EAFKXX (Landsdeler)\n",
    "    - EAB (Bydeler)  \n",
    "<br>\n",
    "<br>\n",
    "- Vi lager kun aggregerte størrelser på konserntall. Filtrerer derfor bort kasse før aggregeringen. "
   ]
  },
  {
   "cell_type": "code",
   "execution_count": null,
   "id": "e2a39f4e-56ba-4c31-b95c-0811a571d28e",
   "metadata": {
    "jupyter": {
     "outputs_hidden": true
    },
    "tags": []
   },
   "outputs": [],
   "source": [
    "%R regionshierarki <- rbind(kommunehierarki, fylkeskommunehierarki, bydelshierarki)"
   ]
  },
  {
   "cell_type": "code",
   "execution_count": null,
   "id": "d123b714-c493-42b5-9fa3-2ed223fa7c34",
   "metadata": {
    "jupyter": {
     "outputs_hidden": true
    },
    "tags": []
   },
   "outputs": [],
   "source": [
    "%R konsern <- filter(resultat, regnskapsomfang == \"A\")"
   ]
  },
  {
   "cell_type": "code",
   "execution_count": null,
   "id": "91b210ad-91c9-4bb9-94f2-eeba23531e0c",
   "metadata": {
    "jupyter": {
     "outputs_hidden": true
    },
    "tags": []
   },
   "outputs": [],
   "source": [
    "%R aggregert <- KostraRegnskapRegionAggregering(data=konsern, hierarki=regionshierarki)"
   ]
  },
  {
   "cell_type": "code",
   "execution_count": null,
   "id": "0d7e5ef0-e031-478c-9f45-b1b952e4b598",
   "metadata": {},
   "outputs": [],
   "source": [
    "%R aggregert$periode <- '2021'"
   ]
  },
  {
   "cell_type": "code",
   "execution_count": null,
   "id": "47bf167f-cbc3-48ee-9d79-86477eb9476c",
   "metadata": {
    "jupyter": {
     "outputs_hidden": true
    },
    "tags": []
   },
   "outputs": [],
   "source": [
    "%R konsern_aggregert <- rbind(konsern, aggregert)"
   ]
  },
  {
   "cell_type": "markdown",
   "id": "910209bb-b8ee-462f-9551-64ac0fbb3229",
   "metadata": {},
   "source": [
    "### Fjerner estimerte kommuner\n",
    "- Før filen kan lagres til mappe må estimerte kommuner fjernes. Vi publiserer ikke tall for estimerte kommuner."
   ]
  },
  {
   "cell_type": "code",
   "execution_count": null,
   "id": "16e06b16-03c1-41da-bb25-8a5cbef7d007",
   "metadata": {
    "tags": []
   },
   "outputs": [],
   "source": [
    "%%R bev_konsern <- konsern_aggregert[!konsern_aggregert$region %in%\n",
    "                                     ac_manglende$region,]"
   ]
  },
  {
   "cell_type": "markdown",
   "id": "11f25fdb-d243-401d-8826-476f09270359",
   "metadata": {},
   "source": [
    "## Kasse\n",
    "- Filterer ut en fil for kassetegnskapet og fjerner estimerte kommuner"
   ]
  },
  {
   "cell_type": "code",
   "execution_count": null,
   "id": "b401c55c-d27d-4a2d-8726-0e0992a3937b",
   "metadata": {},
   "outputs": [],
   "source": [
    "%R bev_kasse <- filter(resultat, regnskapsomfang == \"B\")"
   ]
  },
  {
   "cell_type": "code",
   "execution_count": null,
   "id": "571855dd-b7ec-4aa4-b3ce-876026f92162",
   "metadata": {},
   "outputs": [],
   "source": [
    "%%R bev_kasse <- bev_kasse[!bev_kasse$region %in%\n",
    "                           ac_manglende$region,]"
   ]
  },
  {
   "cell_type": "markdown",
   "id": "e9937f2d-4134-4026-acb6-0c4e4c8ef29b",
   "metadata": {},
   "source": [
    "## Konsolidert\n",
    "- KostraRegnskaps-funksjonen er ikke laget for konsolidert. \n",
    "- Konsolidert skal behandles likt som kasse. Mekker derfor til ved å kalle sette regnskapsomfang B på konsolidert og kjøre KostraRegnskap for kun B. \n",
    "- Etter kjøringen endres regnskapsomfang tilbake til C. "
   ]
  },
  {
   "cell_type": "code",
   "execution_count": null,
   "id": "b02262b1-c16b-4055-ba12-323c1e7d59aa",
   "metadata": {
    "jupyter": {
     "outputs_hidden": true
    },
    "tags": []
   },
   "outputs": [],
   "source": [
    "%%R resultat_konsolidert <- KostraRegnskap(data=m_p_basis, funksjonshierarki=funksjonshierarki,artshierarki=artshierarki, data_saer=NULL,\n",
    "                                           artshierarki_nettinger=NULL,artshierarki_nettinger_kasse=NULL,stjernetabell=stjerne,formler=formler,\n",
    "                                           regnskapsomfang=\"B\")"
   ]
  },
  {
   "cell_type": "code",
   "execution_count": null,
   "id": "c398cab9-fd7f-4c95-b2f6-63bd708c791a",
   "metadata": {},
   "outputs": [],
   "source": [
    "%R resultat_konsolidert$regnskapsomfang <- gsub('B','C',resultat_konsolidert$regnskapsomfang)"
   ]
  },
  {
   "cell_type": "markdown",
   "id": "5a193c67-19cf-4c0f-b57f-5e7cd58350e3",
   "metadata": {},
   "source": [
    "## Samler kasse og konsolidert"
   ]
  },
  {
   "cell_type": "code",
   "execution_count": null,
   "id": "cee3c2a1-c8cb-4a50-a74e-53070bb57d88",
   "metadata": {
    "jupyter": {
     "outputs_hidden": true
    },
    "tags": []
   },
   "outputs": [],
   "source": [
    "%R bev_kasse_konsolidert <- rbind(bev_kasse, resultat_konsolidert)"
   ]
  },
  {
   "cell_type": "markdown",
   "id": "02ed2a13-dc8c-470e-aef3-96f4695debe5",
   "metadata": {},
   "source": [
    "### Skriver tilbake til Python"
   ]
  },
  {
   "cell_type": "code",
   "execution_count": null,
   "id": "c817da23-ce33-4608-b4f6-b9add0f31606",
   "metadata": {},
   "outputs": [],
   "source": [
    "%R -o bev_konsern\n",
    "%R -o bev_kasse_konsolidert"
   ]
  },
  {
   "cell_type": "markdown",
   "id": "b9846515-2a9a-466a-93f5-d03050b04678",
   "metadata": {},
   "source": [
    "## Lage filer:\n",
    "Konsern uten bydel  \n",
    "Konsern med bydel  \n",
    "kasse_konsolidert uten bydel  "
   ]
  },
  {
   "cell_type": "code",
   "execution_count": null,
   "id": "c463fa85-e48e-4096-9d9c-6edcc93788bb",
   "metadata": {},
   "outputs": [],
   "source": []
  }
 ],
 "metadata": {
  "kernelspec": {
   "display_name": "Python 3",
   "language": "python",
   "name": "python3"
  },
  "language_info": {
   "codemirror_mode": {
    "name": "ipython",
    "version": 3
   },
   "file_extension": ".py",
   "mimetype": "text/x-python",
   "name": "python",
   "nbconvert_exporter": "python",
   "pygments_lexer": "ipython3",
   "version": "3.8.8"
  }
 },
 "nbformat": 4,
 "nbformat_minor": 5
}
