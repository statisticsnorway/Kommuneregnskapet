{
 "cells": [
  {
   "cell_type": "markdown",
   "id": "18b9d995-a925-4a35-aa92-c2a4308beff3",
   "metadata": {},
   "source": [
    "# Hente kodelister på klass via API i stedet for å laste opp filer fra excel. \n",
    "- SSBs forklaring på Klass hjelper ikke stort - ikke i python. \n",
    "\n",
    "    $ curl 'http://data.ssb.no/api/klass/v1/classifications/231' -i \\\n",
    "        -H 'Accept: text/csv; charset=ISO-8859-1'\n",
    "        \n",
    "- Får hentet noe, men ikke den informasjonen jeg vil ha i det formatet jeg vil ha.. "
   ]
  },
  {
   "cell_type": "code",
   "execution_count": null,
   "id": "904c8117-3f00-4122-adfc-90c1988db926",
   "metadata": {},
   "outputs": [],
   "source": [
    "pip install requests"
   ]
  },
  {
   "cell_type": "code",
   "execution_count": null,
   "id": "e96f6ba4-8184-40b9-bcb9-78fa799d0a0a",
   "metadata": {},
   "outputs": [],
   "source": [
    "conda install requests"
   ]
  },
  {
   "cell_type": "code",
   "execution_count": null,
   "id": "1678beb5-1e0a-4557-925f-eb54d18bb34d",
   "metadata": {},
   "outputs": [],
   "source": [
    "import requests"
   ]
  },
  {
   "cell_type": "code",
   "execution_count": null,
   "id": "a56ab8ed-72b9-49f8-b500-3665e6b38255",
   "metadata": {},
   "outputs": [],
   "source": [
    "import csv"
   ]
  },
  {
   "cell_type": "code",
   "execution_count": null,
   "id": "84e5061e-55f8-4575-9d45-148613a83b70",
   "metadata": {},
   "outputs": [],
   "source": [
    "response = requests.get(\"http://data.ssb.no/api/klass/v1/classifications/231\")\n",
    "print(response.status_code)"
   ]
  },
  {
   "cell_type": "code",
   "execution_count": null,
   "id": "d272920d-3ab3-4dd8-8daf-d18f52564c4d",
   "metadata": {},
   "outputs": [],
   "source": [
    "print(response.json())"
   ]
  },
  {
   "cell_type": "code",
   "execution_count": null,
   "id": "7693c12e-9166-44b4-bfec-aa04c0fdd930",
   "metadata": {},
   "outputs": [],
   "source": []
  }
 ],
 "metadata": {
  "kernelspec": {
   "display_name": "Python 3 (ipykernel)",
   "language": "python",
   "name": "python3"
  },
  "language_info": {
   "codemirror_mode": {
    "name": "ipython",
    "version": 3
   },
   "file_extension": ".py",
   "mimetype": "text/x-python",
   "name": "python",
   "nbconvert_exporter": "python",
   "pygments_lexer": "ipython3",
   "version": "3.8.8"
  }
 },
 "nbformat": 4,
 "nbformat_minor": 5
}
