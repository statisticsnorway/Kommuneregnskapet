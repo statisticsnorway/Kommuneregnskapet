{
 "cells": [
  {
   "cell_type": "markdown",
   "id": "648939b2-e4db-4629-bb41-10332b88b921",
   "metadata": {},
   "source": [
    "# Replikere løpet for skjema A og C fra Kompis\n",
    "- Hente fra Dynarev\n",
    "- I Kompis slås A og C sammen etter operasjonene er gjort på hver av datasettene. Kan det gjøres før?\n",
    "- Må legge til bydeler på Oslo før de slås sammen. I kompis gjøres dette ved: identifier fylkesregion := if BYDEL <> \"00\" then t1.REGION || t1.BYDEL else t1.REGION,\n",
    "- Oslo: kopiere alle rader med region 0301 til 0300. \n",
    "- Kan jeg kontrollere at kun gyldige arter og funksjoner er inkludert på en annen måte enn filtrering? Kanskje en merge? "
   ]
  },
  {
   "cell_type": "code",
   "execution_count": null,
   "id": "a2d17656-98d8-4623-9f35-c3cf34eade8a",
   "metadata": {},
   "outputs": [],
   "source": [
    "import pandas as pd\n",
    "import numpy as np\n",
    "import glob\n"
   ]
  },
  {
   "cell_type": "code",
   "execution_count": null,
   "id": "c195a0fe-cf21-43b7-a650-06f756b5c5b3",
   "metadata": {
    "tags": []
   },
   "outputs": [],
   "source": [
    "paths = glob.glob(\"/ssb/bruker/mtk/Testdata/*\")\n",
    "paths"
   ]
  },
  {
   "cell_type": "code",
   "execution_count": null,
   "id": "8df5b9a3-f330-4ad7-ac65-c5c79640fc6f",
   "metadata": {
    "tags": []
   },
   "outputs": [],
   "source": [
    "a_2021 = pd.read_csv(\"/ssb/bruker/mtk/Testdata/0A_2021.csv\", sep = ';')\n",
    "c_2021 = pd.read_csv(\"/ssb/bruker/mtk/Testdata/0C_2021.csv\", sep = ';')"
   ]
  },
  {
   "cell_type": "code",
   "execution_count": null,
   "id": "81f21d68-1567-432d-b83a-77e9e9c76193",
   "metadata": {},
   "outputs": [],
   "source": [
    "#Setter sammen skjema a og c\n",
    "a_c = pd.concat([a_2021, c_2021])"
   ]
  },
  {
   "cell_type": "code",
   "execution_count": null,
   "id": "942db921-2af8-48b8-aaca-7c7b65e8ce2a",
   "metadata": {
    "tags": []
   },
   "outputs": [],
   "source": [
    "#a_2021.dtypes"
   ]
  },
  {
   "cell_type": "code",
   "execution_count": null,
   "id": "1ade095d-ed0c-443a-b52b-d00c168e527a",
   "metadata": {
    "tags": []
   },
   "outputs": [],
   "source": [
    "#Endrer datatype. Bør kunne gjøres på alle i et steg. \n",
    "a_c['PERIODE'] = a_c['PERIODE'].astype(\"str\")\n",
    "a_c['REGION'] = a_c['REGION'].astype(\"str\")\n",
    "a_c['KONTOKLASSE'] = a_c['KONTOKLASSE'].astype(\"str\")\n",
    "a_c['FUNKSJON_KAPITTEL'] = a_c['FUNKSJON_KAPITTEL'].astype(\"str\")\n",
    "a_c['ART_SEKTOR'] = a_c['ART_SEKTOR'].astype(\"str\")\n",
    "a_c['BYDEL'] = a_c['BYDEL'].astype(\"str\")"
   ]
  },
  {
   "cell_type": "code",
   "execution_count": null,
   "id": "88efff66-6b0d-4ea9-90f7-138ab76beace",
   "metadata": {
    "tags": []
   },
   "outputs": [],
   "source": [
    "#a_c.dtypes"
   ]
  },
  {
   "cell_type": "code",
   "execution_count": null,
   "id": "de95a9a5-eeb4-48fa-92bf-4fa0b8f5fb2f",
   "metadata": {},
   "outputs": [],
   "source": [
    "#Velger kun de kolonnene jeg skal ha med videre\n",
    "start_a_c = a_c[['PERIODE', 'REGION', 'KONTOKLASSE', 'FUNKSJON_KAPITTEL', 'ART_SEKTOR', 'BELOP', 'BYDEL']]"
   ]
  },
  {
   "cell_type": "code",
   "execution_count": null,
   "id": "4ef12d4e-07f6-4ee0-bcce-832022053260",
   "metadata": {},
   "outputs": [],
   "source": [
    "#Endrer headingen fra store til små bokstaver\n",
    "start_a_c.columns = [x.lower() for x in start_a_c.columns]"
   ]
  },
  {
   "cell_type": "code",
   "execution_count": null,
   "id": "6d974d3d-9b4c-4597-afd2-1e0c1f3121c0",
   "metadata": {
    "tags": []
   },
   "outputs": [],
   "source": [
    "#start_a_c.dtypes"
   ]
  },
  {
   "cell_type": "code",
   "execution_count": null,
   "id": "ab323586-5389-4a25-8db7-23cbe1dfbca4",
   "metadata": {},
   "outputs": [],
   "source": [
    "#Gir nytt navn til et par kolonner. Denne gir feilmelding, men funker. Bør fikses så feilmelding ikke kommer. \n",
    "start_a_c.rename(columns={'funksjon_kapittel':'funksjon','art_sektor':'art'}, inplace = True)"
   ]
  },
  {
   "cell_type": "code",
   "execution_count": null,
   "id": "efda2392-7f3b-4beb-a2e2-8a741fcc81c2",
   "metadata": {
    "tags": []
   },
   "outputs": [],
   "source": [
    "#start_a.head()"
   ]
  },
  {
   "cell_type": "code",
   "execution_count": null,
   "id": "79e99468-f4b8-4d68-9309-b12753f2af24",
   "metadata": {
    "tags": []
   },
   "outputs": [],
   "source": [
    "#Filtrerer bort alle rader med manglede verdier. Fungerer det? Må testes på et annet datasett som faktisk har manglende verdier... \n",
    "start_a_c.dropna()"
   ]
  },
  {
   "cell_type": "code",
   "execution_count": null,
   "id": "8d0356e3-4315-4e6f-9071-5edf22db4ccc",
   "metadata": {
    "tags": []
   },
   "outputs": [],
   "source": [
    "#start_a_c.head(400)"
   ]
  },
  {
   "cell_type": "code",
   "execution_count": null,
   "id": "adb0ee1a-6b5b-4b27-9975-dcd8d7d84b6c",
   "metadata": {},
   "outputs": [],
   "source": [
    "#Legger på ledende nuller. Forhåpentligvis slipper vi dette når data kan hentes direkte fra ISEE\n",
    "start_a_c['art']=start_a_c['art'].apply(lambda x: '{0:0>3}'.format(x))\n",
    "start_a_c['region']=start_a_c['region'].apply(lambda x: '{0:0>4}'.format(x))\n",
    "start_a_c['bydel']=start_a_c['bydel'].apply(lambda x: '{0:0>2}'.format(x))\n"
   ]
  },
  {
   "cell_type": "markdown",
   "id": "f29b89fe-1884-4c7a-a139-930a2c856a0d",
   "metadata": {},
   "source": [
    "### Skal endre alle verdier som har art høyere eller lik 600 til negative tall\n",
    "- Koden under snur fortegn på alle verdier hvor art starter på siffer 6 eller mer. \n",
    "- Vet ikke hva advarselen betyr"
   ]
  },
  {
   "cell_type": "code",
   "execution_count": null,
   "id": "eb5ed5b2-f40a-4ac3-9f8e-145677aaa76c",
   "metadata": {
    "tags": []
   },
   "outputs": [],
   "source": [
    "#start_a['belop'] = start_a.loc[np.where(start_a['art']>'600', start_a['belop'], start_a['belop']*-1)]\n",
    "start_a_c['belop']=np.where((start_a_c.art > '600'), start_a_c.belop*-1, start_a_c.belop)\n",
    "#start_a_c.head(400)"
   ]
  },
  {
   "cell_type": "markdown",
   "id": "e7c17110-9dca-476d-a1ed-691bed857900",
   "metadata": {},
   "source": [
    "## Oslo bydeler og fylkeskommune\n",
    "- Tallene fra Oslo skal være med både for kommune og fylkeskommune. Vi må derfor kopiere alle Oslo tall og endre region på de kopierte radene fra 0301 til 0300. "
   ]
  },
  {
   "cell_type": "code",
   "execution_count": null,
   "id": "d28cc4fa-9c1c-4678-aa4a-e753da840493",
   "metadata": {
    "tags": []
   },
   "outputs": [],
   "source": [
    "#Henter ut alle Oslo tall som har bydel. Slår sammen region og bydelkode.\n",
    "bydeler = start_a_c[(start_a_c['region'] == '0301') & (start_a_c['bydel'] != '00')]\n",
    "bydeler[\"region\"] = bydeler[\"region\"] + bydeler[\"bydel\"]\n",
    "\n",
    "#Fjerner bydelene fra originalfilen, slår sammen den nye bydelsfilen og arbdeisfilen. Fjerner kolonnen for bydeler. \n",
    "ac_uten_bydel = start_a_c[(start_a_c['bydel'] == '00')]\n",
    "bydeler_ac = pd.concat([ac_uten_bydel, bydeler]).drop(columns=['bydel'])"
   ]
  },
  {
   "cell_type": "code",
   "execution_count": null,
   "id": "ae2bc33e-cfc7-4041-a8e1-73da380973be",
   "metadata": {},
   "outputs": [],
   "source": [
    "#Henter ut Oslo og endrer regionskode til 0300. Legger Oslo fylkeskommune på arbeidsfilen. \n",
    "oslo=bydeler_ac[(bydeler_ac['region']=='0301')]\n",
    "oslo.loc[oslo['region'] == '0301', 'region'] = '0300'\n",
    "forts_ac = pd.concat([bydeler_ac, oslo])\n",
    "#forts_ac"
   ]
  },
  {
   "cell_type": "markdown",
   "id": "38746acc-5786-4360-b4ea-f535fe0e2aac",
   "metadata": {},
   "source": [
    "## Filtrere kun gyldige funksjoner/arter\n",
    "- Kan jeg hente funksjons- og artslisten direkte fra KDD via et API?\n",
    "    - Går dette i så fall via prod, eller må jeg vente til vi får det over på dapla?\n",
    "    - Artskontoplanen er tilgjengelig, ikke funksjon\n",
    "### Nei, kan ikke benytte KDD sin. De har ikke med bydelsarter :( \n",
    "\n",
    "    \n",
    "- Kan listene hentes fra Klass? Art kan være vanskelig siden mange begynner med A, men det bør gå an å fikse.\n",
    "\n",
    "- Laster foreløpig opp i Excel siden jeg ikke kan API ennå"
   ]
  },
  {
   "cell_type": "code",
   "execution_count": null,
   "id": "ccbc93ac-9a28-4611-84e0-0361b8d6dfd0",
   "metadata": {
    "tags": []
   },
   "outputs": [],
   "source": [
    "# Klargjør liste over alle gyldige arter (Data hentet fra KDD)\n",
    "#art = pd.read_csv(\"/ssb/bruker/mtk/Testdata/art.csv\", sep = ';')\n",
    "#art.rename(columns={'F1':'art'}, inplace = True)\n",
    "#art['art']=art['art'].apply(lambda x: '{0:0>3}'.format(x))\n",
    "#art"
   ]
  },
  {
   "cell_type": "code",
   "execution_count": null,
   "id": "3197b67d-2ce4-40cb-8647-c66eff90e9f0",
   "metadata": {
    "tags": []
   },
   "outputs": [],
   "source": [
    "# Klargjør liste over alle gyldige arter (Data hentet fra Klass)\n",
    "art = pd.read_csv(\"/ssb/bruker/mtk/Testdata/art_klass.csv\", sep = ';')\n",
    "art.rename(columns={'code':'art'}, inplace = True)\n",
    "art['art']=art['art'].apply(lambda x: '{0:0>3}'.format(x))\n",
    "art=art[~art.art.str.contains(\"AG\")]\n",
    "art=art.art.replace({'A':'', 'I':'', 'D':''}, regex=True).drop_duplicates()\n",
    "art=art.to_frame()\n",
    "#art"
   ]
  },
  {
   "cell_type": "code",
   "execution_count": null,
   "id": "a909b8d4-ddd8-46b6-a4f0-820a480428fd",
   "metadata": {},
   "outputs": [],
   "source": [
    "#Merger alle gyldige arter med regnskapsfilen. Dette vil fjerne alle rader med ugyldige arter. \n",
    "artsfilter=pd.merge(art, forts_ac, on=['art'])"
   ]
  },
  {
   "cell_type": "code",
   "execution_count": null,
   "id": "2ca22fae-73d7-44f1-9d50-826dde68002e",
   "metadata": {},
   "outputs": [],
   "source": [
    "#Kontrollerer om noen arter ble fjernet. Er test tom er ingen rader filtrer ut i forrige steg og det var dermed ikke inkludert noen ugyldige arter. \n",
    "kontroll_artsfilter = forts_ac.merge(artsfilter,indicator = True, how='left').loc[lambda x : x['_merge']!='both']\n",
    "kontroll_artsfilter"
   ]
  },
  {
   "cell_type": "code",
   "execution_count": null,
   "id": "1cf92093-d50c-4292-9b38-4d7a9ee1f941",
   "metadata": {
    "tags": []
   },
   "outputs": [],
   "source": [
    "# Klargjør liste over alle gyldige funksjoner\n",
    "funksjon = pd.read_csv(\"/ssb/bruker/mtk/Testdata/funksjon.csv\", sep = ';')\n",
    "funksjon.rename(columns={'code':'funksjon'}, inplace = True)\n",
    "funksjon=funksjon[~funksjon.funksjon.str.contains(\"F\")]\n",
    "#funksjon"
   ]
  },
  {
   "cell_type": "code",
   "execution_count": null,
   "id": "6e046de0-2056-4a89-95f4-b309d81b7f52",
   "metadata": {},
   "outputs": [],
   "source": [
    "funksjonsfilter = pd.merge(funksjon, artsfilter, on=['funksjon'])"
   ]
  },
  {
   "cell_type": "code",
   "execution_count": null,
   "id": "024de2b2-4a83-49c4-b796-383ee4ebc4fc",
   "metadata": {},
   "outputs": [],
   "source": [
    "#Kontrollerer om noen funksjoner ble fjernet. Er test tom er ingen rader filtrer ut i forrige steg og det var dermed ikke inkludert noen ugyldige arter. \n",
    "kontroll_funksjonsfilter = artsfilter.merge(funksjonsfilter,indicator = True, how='left').loc[lambda x : x['_merge']!='both']\n",
    "kontroll_funksjonsfilter"
   ]
  },
  {
   "cell_type": "code",
   "execution_count": null,
   "id": "20093b89-9776-40a5-8e33-e5fb329cafd9",
   "metadata": {},
   "outputs": [],
   "source": []
  }
 ],
 "metadata": {
  "kernelspec": {
   "display_name": "Python 3 (ipykernel)",
   "language": "python",
   "name": "python3"
  },
  "language_info": {
   "codemirror_mode": {
    "name": "ipython",
    "version": 3
   },
   "file_extension": ".py",
   "mimetype": "text/x-python",
   "name": "python",
   "nbconvert_exporter": "python",
   "pygments_lexer": "ipython3",
   "version": "3.8.8"
  }
 },
 "nbformat": 4,
 "nbformat_minor": 5
}
