{
 "cells": [
  {
   "cell_type": "markdown",
   "id": "12b34573-1391-43b1-91a6-0cb819dfeb43",
   "metadata": {},
   "source": [
    "# Hente filer fra ISEE\n",
    "\n",
    "Oppskrift:\n",
    "---------------------------------------\n",
    "Python:\n",
    "---------------------------------------\n",
    "import pandas as pd  \n",
    "import cx_Oracle as cx  \n",
    "import getpass\n",
    "---------------------------------------\n",
    "username = **\"Sett_inn_brukernavn\"**  \n",
    "db = \"DB1P\"  \n",
    "con = cx.connect(username,getpass.getpass(),db)  \n",
    "dnr = **Sett_inn_delregisternummer**  \n",
    "query = \"SELECT * FROM dynarev.vw_funk_**Sett_inn_skjema** where delreg_nr = :dnr\"  \n",
    "mine_data = pd.read_sql(query,con=con,params={\"dnr\": str(dnr)})  \n",
    "con.close()  \n",
    "\n",
    "R:\n",
    "---------------------------------------\n",
    "Pakker/biblioteker\n",
    "---------------------------------------\n",
    "library(getPass)  \n",
    "library(ROracle)  \n",
    "--------------------------------------\n",
    "drv <- dbDriver(\"Oracle\")  \n",
    "con <- dbConnect(drv, user = **\"Sett_inn_brukernavn\"**, password =getPass(), dbname = \"DB1P\")  \n",
    "Mine_data <- dbGetQuery(con, \"SELECT * FROM dynarev.VW_FUNK_**Sett_inn_skjema** WHERE DELREG_NR=**Sett_inn_delregisternummer**\")\n"
   ]
  },
  {
   "cell_type": "code",
   "execution_count": null,
   "id": "026142d4-036e-445c-a913-04e82b2a6655",
   "metadata": {},
   "outputs": [],
   "source": [
    "import pandas as pd\n",
    "import cx_Oracle as cx\n",
    "import getpass"
   ]
  },
  {
   "cell_type": "code",
   "execution_count": null,
   "id": "64114af9-26c7-4e75-9ca7-bdf21d1bb5a5",
   "metadata": {
    "jupyter": {
     "outputs_hidden": true
    },
    "tags": []
   },
   "outputs": [],
   "source": [
    "username = \"mtk\"\n",
    "db = \"DB1P\"\n",
    "con = cx.connect(username,getpass.getpass(),db)\n",
    "dnr = 425221\n",
    "query = \"SELECT * FROM dynarev.vw_funk_KOSTRA0A where delreg_nr = :dnr\"\n",
    "mine_data = pd.read_sql(query,con=con,params={\"dnr\": str(dnr)})\n",
    "con.close()"
   ]
  }
 ],
 "metadata": {
  "kernelspec": {
   "display_name": "Python 3 (ipykernel)",
   "language": "python",
   "name": "python3"
  },
  "language_info": {
   "codemirror_mode": {
    "name": "ipython",
    "version": 3
   },
   "file_extension": ".py",
   "mimetype": "text/x-python",
   "name": "python",
   "nbconvert_exporter": "python",
   "pygments_lexer": "ipython3",
   "version": "3.8.8"
  }
 },
 "nbformat": 4,
 "nbformat_minor": 5
}
