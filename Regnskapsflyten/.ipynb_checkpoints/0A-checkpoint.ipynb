{
 "cells": [
  {
   "cell_type": "markdown",
   "id": "648939b2-e4db-4629-bb41-10332b88b921",
   "metadata": {},
   "source": [
    "# Replikere løpet for skjema A og C fra Kompis\n",
    "- I Kompis slås A og C sammen etter operasjonene er gjort på hver av datasettene. Kan det gjøres før?\n",
    "- Oslo: kopiere alle rader med region 0301 til 0300. \n",
    "- Kan jeg kontrollere at kun gyldige arter og funksjoner er inkludert på en annen måte enn filtrering? Kanskje en merge? "
   ]
  },
  {
   "cell_type": "code",
   "execution_count": null,
   "id": "a2d17656-98d8-4623-9f35-c3cf34eade8a",
   "metadata": {},
   "outputs": [],
   "source": [
    "import pandas as pd\n",
    "import glob"
   ]
  },
  {
   "cell_type": "code",
   "execution_count": null,
   "id": "c195a0fe-cf21-43b7-a650-06f756b5c5b3",
   "metadata": {
    "jupyter": {
     "outputs_hidden": true
    },
    "tags": []
   },
   "outputs": [],
   "source": [
    "paths = glob.glob(\"/ssb/bruker/mtk/Testdata/*\")\n",
    "paths"
   ]
  },
  {
   "cell_type": "code",
   "execution_count": null,
   "id": "8df5b9a3-f330-4ad7-ac65-c5c79640fc6f",
   "metadata": {
    "jupyter": {
     "outputs_hidden": true
    },
    "tags": []
   },
   "outputs": [],
   "source": [
    "a_2021 = pd.read_csv(\"/ssb/bruker/mtk/Testdata/0A_2021.csv\", sep = ';')\n",
    "a_2021.info()\n",
    "a_2021.head()"
   ]
  },
  {
   "cell_type": "code",
   "execution_count": null,
   "id": "942db921-2af8-48b8-aaca-7c7b65e8ce2a",
   "metadata": {
    "jupyter": {
     "outputs_hidden": true
    },
    "tags": []
   },
   "outputs": [],
   "source": [
    "#a_2021.dtypes"
   ]
  },
  {
   "cell_type": "code",
   "execution_count": null,
   "id": "1ade095d-ed0c-443a-b52b-d00c168e527a",
   "metadata": {
    "tags": []
   },
   "outputs": [],
   "source": [
    "#Endrer datatype\n",
    "a_2021['PERIODE'] = a_2021['PERIODE'].astype(\"str\")\n",
    "a_2021['REGION'] = a_2021['REGION'].astype(\"str\")\n",
    "a_2021['KONTOKLASSE'] = a_2021['KONTOKLASSE'].astype(\"str\")\n",
    "a_2021['FUNKSJON_KAPITTEL'] = a_2021['FUNKSJON_KAPITTEL'].astype(\"str\")\n",
    "a_2021['ART_SEKTOR'] = a_2021['ART_SEKTOR'].astype(\"str\")"
   ]
  },
  {
   "cell_type": "code",
   "execution_count": null,
   "id": "88efff66-6b0d-4ea9-90f7-138ab76beace",
   "metadata": {
    "jupyter": {
     "outputs_hidden": true
    },
    "tags": []
   },
   "outputs": [],
   "source": [
    "#a_2021.dtypes"
   ]
  },
  {
   "cell_type": "code",
   "execution_count": null,
   "id": "de95a9a5-eeb4-48fa-92bf-4fa0b8f5fb2f",
   "metadata": {},
   "outputs": [],
   "source": [
    "#Velger kun de kolonnene jeg skal ha med videre\n",
    "start_a = a_2021[['PERIODE', 'REGION', 'KONTOKLASSE', 'FUNKSJON_KAPITTEL', 'ART_SEKTOR', 'BELOP']]"
   ]
  },
  {
   "cell_type": "code",
   "execution_count": null,
   "id": "4ef12d4e-07f6-4ee0-bcce-832022053260",
   "metadata": {},
   "outputs": [],
   "source": [
    "#Endrer headingen fra store til små bokstaver\n",
    "start_a.columns = [x.lower() for x in start_a.columns]"
   ]
  },
  {
   "cell_type": "code",
   "execution_count": null,
   "id": "6d974d3d-9b4c-4597-afd2-1e0c1f3121c0",
   "metadata": {
    "jupyter": {
     "outputs_hidden": true
    },
    "tags": []
   },
   "outputs": [],
   "source": [
    "#start_a.dtypes"
   ]
  },
  {
   "cell_type": "code",
   "execution_count": null,
   "id": "ab323586-5389-4a25-8db7-23cbe1dfbca4",
   "metadata": {},
   "outputs": [],
   "source": [
    "#Gir nytt navn til et par kolonner. Denne gir feilmelding, men funker. Bør fikses så feilmelding ikke kommer. \n",
    "start_a.rename(columns={'funksjon_kapittel':'funksjon','art_sektor':'art'}, inplace = True)"
   ]
  },
  {
   "cell_type": "code",
   "execution_count": null,
   "id": "efda2392-7f3b-4beb-a2e2-8a741fcc81c2",
   "metadata": {
    "jupyter": {
     "outputs_hidden": true
    },
    "tags": []
   },
   "outputs": [],
   "source": [
    "#start_a.head()"
   ]
  },
  {
   "cell_type": "code",
   "execution_count": null,
   "id": "79e99468-f4b8-4d68-9309-b12753f2af24",
   "metadata": {},
   "outputs": [],
   "source": [
    "#Filtrerer bort alle rader med manglede verdier. Fungerer det? Må testes på et annet datasett som faktisk har manglende verdier... \n",
    "start_a.dropna()"
   ]
  },
  {
   "cell_type": "markdown",
   "id": "f29b89fe-1884-4c7a-a139-930a2c856a0d",
   "metadata": {},
   "source": [
    "### Skal endre alle verdier som har art høyere eller lik 600 til negative tall"
   ]
  },
  {
   "cell_type": "code",
   "execution_count": null,
   "id": "2b06f934-eb2d-4ee6-86e4-541881891956",
   "metadata": {},
   "outputs": [],
   "source": []
  }
 ],
 "metadata": {
  "kernelspec": {
   "display_name": "Python 3 (ipykernel)",
   "language": "python",
   "name": "python3"
  },
  "language_info": {
   "codemirror_mode": {
    "name": "ipython",
    "version": 3
   },
   "file_extension": ".py",
   "mimetype": "text/x-python",
   "name": "python",
   "nbconvert_exporter": "python",
   "pygments_lexer": "ipython3",
   "version": "3.8.8"
  }
 },
 "nbformat": 4,
 "nbformat_minor": 5
}
