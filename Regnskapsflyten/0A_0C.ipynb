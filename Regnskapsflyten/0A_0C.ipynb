{
 "cells": [
  {
   "cell_type": "markdown",
   "id": "648939b2-e4db-4629-bb41-10332b88b921",
   "metadata": {},
   "source": [
    "# Replikere løpet for skjema A og C fra Kompis\n",
    "- Hente fra Dynarev\n",
    "- I Kompis slås A og C sammen etter operasjonene er gjort på hver av datasettene. Kan det gjøres før?\n",
    "- Oslo: kopiere alle rader med region 0301 til 0300. \n",
    "- Kan jeg kontrollere at kun gyldige arter og funksjoner er inkludert på en annen måte enn filtrering? Kanskje en merge? "
   ]
  },
  {
   "cell_type": "code",
   "execution_count": null,
   "id": "a2d17656-98d8-4623-9f35-c3cf34eade8a",
   "metadata": {},
   "outputs": [],
   "source": [
    "import pandas as pd\n",
    "import numpy as np\n",
    "import glob\n"
   ]
  },
  {
   "cell_type": "code",
   "execution_count": null,
   "id": "c195a0fe-cf21-43b7-a650-06f756b5c5b3",
   "metadata": {
    "tags": []
   },
   "outputs": [],
   "source": [
    "paths = glob.glob(\"/ssb/bruker/mtk/Testdata/*\")\n",
    "paths"
   ]
  },
  {
   "cell_type": "code",
   "execution_count": null,
   "id": "8df5b9a3-f330-4ad7-ac65-c5c79640fc6f",
   "metadata": {
    "tags": []
   },
   "outputs": [],
   "source": [
    "a_2021 = pd.read_csv(\"/ssb/bruker/mtk/Testdata/0A_2021.csv\", sep = ';')\n",
    "c_2021 = pd.read_csv(\"/ssb/bruker/mtk/Testdata/0C_2021.csv\", sep = ';')"
   ]
  },
  {
   "cell_type": "code",
   "execution_count": null,
   "id": "81f21d68-1567-432d-b83a-77e9e9c76193",
   "metadata": {},
   "outputs": [],
   "source": [
    "#Setter sammen skjema a og c\n",
    "a_c = pd.concat([a_2021, c_2021])"
   ]
  },
  {
   "cell_type": "code",
   "execution_count": null,
   "id": "942db921-2af8-48b8-aaca-7c7b65e8ce2a",
   "metadata": {
    "jupyter": {
     "outputs_hidden": true
    },
    "tags": []
   },
   "outputs": [],
   "source": [
    "#a_2021.dtypes"
   ]
  },
  {
   "cell_type": "code",
   "execution_count": null,
   "id": "1ade095d-ed0c-443a-b52b-d00c168e527a",
   "metadata": {
    "tags": []
   },
   "outputs": [],
   "source": [
    "#Endrer datatype\n",
    "a_c['PERIODE'] = a_c['PERIODE'].astype(\"str\")\n",
    "a_c['REGION'] = a_c['REGION'].astype(\"str\")\n",
    "a_c['KONTOKLASSE'] = a_c['KONTOKLASSE'].astype(\"str\")\n",
    "a_c['FUNKSJON_KAPITTEL'] = a_c['FUNKSJON_KAPITTEL'].astype(\"str\")\n",
    "a_c['ART_SEKTOR'] = a_c['ART_SEKTOR'].astype(\"str\")"
   ]
  },
  {
   "cell_type": "code",
   "execution_count": null,
   "id": "88efff66-6b0d-4ea9-90f7-138ab76beace",
   "metadata": {
    "jupyter": {
     "outputs_hidden": true
    },
    "tags": []
   },
   "outputs": [],
   "source": [
    "#a_2021.dtypes"
   ]
  },
  {
   "cell_type": "code",
   "execution_count": null,
   "id": "de95a9a5-eeb4-48fa-92bf-4fa0b8f5fb2f",
   "metadata": {},
   "outputs": [],
   "source": [
    "#Velger kun de kolonnene jeg skal ha med videre\n",
    "start_a_c = a_c[['PERIODE', 'REGION', 'KONTOKLASSE', 'FUNKSJON_KAPITTEL', 'ART_SEKTOR', 'BELOP']]"
   ]
  },
  {
   "cell_type": "code",
   "execution_count": null,
   "id": "4ef12d4e-07f6-4ee0-bcce-832022053260",
   "metadata": {},
   "outputs": [],
   "source": [
    "#Endrer headingen fra store til små bokstaver\n",
    "start_a_c.columns = [x.lower() for x in start_a_c.columns]"
   ]
  },
  {
   "cell_type": "code",
   "execution_count": null,
   "id": "6d974d3d-9b4c-4597-afd2-1e0c1f3121c0",
   "metadata": {
    "tags": []
   },
   "outputs": [],
   "source": [
    "start_a_c.dtypes"
   ]
  },
  {
   "cell_type": "code",
   "execution_count": null,
   "id": "ab323586-5389-4a25-8db7-23cbe1dfbca4",
   "metadata": {},
   "outputs": [],
   "source": [
    "#Gir nytt navn til et par kolonner. Denne gir feilmelding, men funker. Bør fikses så feilmelding ikke kommer. \n",
    "start_a_c.rename(columns={'funksjon_kapittel':'funksjon','art_sektor':'art'}, inplace = True)"
   ]
  },
  {
   "cell_type": "code",
   "execution_count": null,
   "id": "efda2392-7f3b-4beb-a2e2-8a741fcc81c2",
   "metadata": {
    "jupyter": {
     "outputs_hidden": true
    },
    "tags": []
   },
   "outputs": [],
   "source": [
    "#start_a.head()"
   ]
  },
  {
   "cell_type": "code",
   "execution_count": null,
   "id": "79e99468-f4b8-4d68-9309-b12753f2af24",
   "metadata": {},
   "outputs": [],
   "source": [
    "#Filtrerer bort alle rader med manglede verdier. Fungerer det? Må testes på et annet datasett som faktisk har manglende verdier... \n",
    "start_a_c.dropna()"
   ]
  },
  {
   "cell_type": "code",
   "execution_count": null,
   "id": "8d0356e3-4315-4e6f-9071-5edf22db4ccc",
   "metadata": {},
   "outputs": [],
   "source": [
    "start_a_c.head(400)"
   ]
  },
  {
   "cell_type": "code",
   "execution_count": null,
   "id": "adb0ee1a-6b5b-4b27-9975-dcd8d7d84b6c",
   "metadata": {},
   "outputs": [],
   "source": [
    "start_a_c['art']=start_a_c['art'].apply(lambda x: '{0:0>3}'.format(x))\n"
   ]
  },
  {
   "cell_type": "markdown",
   "id": "f29b89fe-1884-4c7a-a139-930a2c856a0d",
   "metadata": {},
   "source": [
    "### Skal endre alle verdier som har art høyere eller lik 600 til negative tall\n",
    "- Koden under snur fortegn på alle verdier hvor art starter på siffer 6 eller mer. \n",
    "- Vet ikke hva advarselen betyr"
   ]
  },
  {
   "cell_type": "code",
   "execution_count": null,
   "id": "eb5ed5b2-f40a-4ac3-9f8e-145677aaa76c",
   "metadata": {},
   "outputs": [],
   "source": [
    "#start_a['belop'] = start_a.loc[np.where(start_a['art']>'600', start_a['belop'], start_a['belop']*-1)]\n",
    "start_a_c['belop']=np.where((start_a_c.art > '600'), start_a_c.belop*-1, start_a_c.belop)\n",
    "start_a_c.head(400)"
   ]
  },
  {
   "cell_type": "markdown",
   "id": "e7c17110-9dca-476d-a1ed-691bed857900",
   "metadata": {},
   "source": [
    "## Oslo \n",
    "- Tallene fra Oslo skal være med både for kommune og fylkeskommune. Vi må derfor kopiere alle Oslo tall og endre region på de kopierte radene fra 0301 til 0300. "
   ]
  },
  {
   "cell_type": "code",
   "execution_count": null,
   "id": "ae2bc33e-cfc7-4041-a8e1-73da380973be",
   "metadata": {},
   "outputs": [],
   "source": [
    "oslo=start_a_c[(start_a_c['region']=='301')]"
   ]
  },
  {
   "cell_type": "code",
   "execution_count": null,
   "id": "2c03c6d5-e1f2-417e-94d5-6e82f84dc555",
   "metadata": {},
   "outputs": [],
   "source": [
    "oslo"
   ]
  },
  {
   "cell_type": "code",
   "execution_count": null,
   "id": "b8eba16a-78e2-405a-8516-57f61de172be",
   "metadata": {},
   "outputs": [],
   "source": []
  }
 ],
 "metadata": {
  "kernelspec": {
   "display_name": "Python 3 (ipykernel)",
   "language": "python",
   "name": "python3"
  },
  "language_info": {
   "codemirror_mode": {
    "name": "ipython",
    "version": 3
   },
   "file_extension": ".py",
   "mimetype": "text/x-python",
   "name": "python",
   "nbconvert_exporter": "python",
   "pygments_lexer": "ipython3",
   "version": "3.8.8"
  }
 },
 "nbformat": 4,
 "nbformat_minor": 5
}
