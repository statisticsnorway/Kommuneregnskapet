{
 "cells": [
  {
   "cell_type": "code",
   "execution_count": null,
   "id": "b7a10110-5a2f-4576-bbc2-45edc1f355bc",
   "metadata": {},
   "outputs": [],
   "source": [
    "from pyjstat import pyjstat\n",
    "import requests\n",
    "import pandas as pd\n",
    "import json\n",
    "import urllib.request, json\n",
    "import plotly.express as px"
   ]
  },
  {
   "cell_type": "markdown",
   "id": "e4b3f5dc-3eaf-487b-a61d-82a6014128f7",
   "metadata": {},
   "source": [
    "# Henter tabell 13551 - Økonomisk oversikt drift kommunekonsern\n",
    "- Henter tabellen fra statistikkbanken og lager en liste over variabler. Listen skal benyttes inn i filtrering av publiseringstabellene. "
   ]
  },
  {
   "cell_type": "code",
   "execution_count": null,
   "id": "844851fd-a15f-45b6-8d14-28925563dcd7",
   "metadata": {
    "tags": []
   },
   "outputs": [],
   "source": [
    "POST_URL = 'https://data.ssb.no/api/v0/no/table/13551'\n",
    "\n",
    "payload = {\"query\": [\n",
    "    {\"code\": \"KOKkommuneregion0000\", \"selection\": {\"filter\": \"agg_single:KOGkommuneregion000006503\", \"values\": [\"EAK\"] } },\n",
    "    {\"code\": \"Tid\", \"selection\": {\"filter\": \"iten\", \"values\": [\"2021\"] } }\n",
    "],\n",
    "\"response\": {\"format\": \"json-stat2\"}\n",
    "}\n",
    "\n",
    "resultat = requests.post(POST_URL, json = payload)\n",
    "# Resultat gir bare http statuskode - 200 hvis OK. Body ligger i resultat.text\n",
    "print(resultat)\n",
    "\n",
    "dataset = pyjstat.Dataset.read(resultat.text)\n",
    "okovdrift_konsern = dataset.write('dataframe',naming='id')\n",
    "var_okovdrift_konsern = okovdrift_konsern.KOKart0000.unique()\n",
    "#okovdrift_konsern.sample(11)"
   ]
  },
  {
   "cell_type": "markdown",
   "id": "26ba55c7-c238-49e0-b0b5-3b3736c81bc2",
   "metadata": {},
   "source": [
    "# Henter tabell 13552 - Økonomisk oversikt investering kommunekonsern"
   ]
  },
  {
   "cell_type": "code",
   "execution_count": null,
   "id": "f93edfe7-c738-41ee-900b-1744f9bd0eb1",
   "metadata": {
    "jupyter": {
     "outputs_hidden": true
    },
    "tags": []
   },
   "outputs": [],
   "source": [
    "POST_URL = 'https://data.ssb.no/api/v0/no/table/13552'\n",
    "\n",
    "payload = {\"query\": [\n",
    "    {\"code\": \"KOKkommuneregion0000\", \"selection\": {\"filter\": \"agg_single:KOGkommuneregion000006503\", \"values\": [\"EAK\"] } },\n",
    "    {\"code\": \"Tid\", \"selection\": {\"filter\": \"iten\", \"values\": [\"2021\"] } }\n",
    "],\n",
    "\"response\": {\"format\": \"json-stat2\"}\n",
    "}\n",
    "\n",
    "resultat = requests.post(POST_URL, json = payload)\n",
    "# Resultat gir bare http statuskode - 200 hvis OK. Body ligger i resultat.text\n",
    "print(resultat)\n",
    "\n",
    "dataset = pyjstat.Dataset.read(resultat.text)\n",
    "okovinv_konsern = dataset.write('dataframe',naming='id')\n",
    "var_okovinv_konsern = okovinv_konsern.KOKart0000.unique()\n",
    "#okovinv_konsern.sample(11)"
   ]
  },
  {
   "cell_type": "markdown",
   "id": "0277a3e8-a5ef-4911-90e7-31c173112db4",
   "metadata": {},
   "source": [
    "# Henter tabell 13202 - Økonomisk oversikt balanse kommunekonsern"
   ]
  },
  {
   "cell_type": "code",
   "execution_count": null,
   "id": "7b74f3bb-8a8a-45ff-824c-006a1f5b656b",
   "metadata": {
    "jupyter": {
     "outputs_hidden": true
    },
    "tags": []
   },
   "outputs": [],
   "source": [
    "POST_URL = 'https://data.ssb.no/api/v0/no/table/13202'\n",
    "\n",
    "payload = {\"query\": [\n",
    "    {\"code\": \"KOKkommuneregion0000\", \"selection\": {\"filter\": \"agg_single:KOGkommuneregion000004903\", \"values\": [\"EAK\"] } },\n",
    "    {\"code\": \"Tid\", \"selection\": {\"filter\": \"iten\", \"values\": [\"2021\"] } }\n",
    "],\n",
    "\"response\": {\"format\": \"json-stat2\"}\n",
    "}\n",
    "\n",
    "resultat = requests.post(POST_URL, json = payload)\n",
    "# Resultat gir bare http statuskode - 200 hvis OK. Body ligger i resultat.text\n",
    "print(resultat)\n",
    "\n",
    "dataset = pyjstat.Dataset.read(resultat.text)\n",
    "okovbal_konsern = dataset.write('dataframe',naming='id')\n",
    "var_okovbal_konsern = okovbal_konsern.KOKkapittel0000.unique()\n",
    "#okovbal_konsern.sample(11)"
   ]
  },
  {
   "cell_type": "markdown",
   "id": "910e20a0-f74c-45bc-955e-28df1224c838",
   "metadata": {},
   "source": [
    "# Henter tabell 13543 - Økonomisk oversikt drift kasse og konsolidert"
   ]
  },
  {
   "cell_type": "code",
   "execution_count": null,
   "id": "aea176ca-400b-4b32-ba15-71fc57321717",
   "metadata": {
    "jupyter": {
     "outputs_hidden": true
    },
    "tags": []
   },
   "outputs": [],
   "source": [
    "POST_URL = 'https://data.ssb.no/api/v0/no/table/13543'\n",
    "\n",
    "payload = {\"query\": [\n",
    "    {\"code\": \"KOKkommuneregion0000\", \"selection\": {\"filter\": \"values\", \"values\": [\"0301\"] } },\n",
    "    {\"code\": \"KOKregnskapsomfa0000\", \"selection\": {\"filter\": \"item\", \"values\": [\"B\"]}},\n",
    "    {\"code\": \"Tid\", \"selection\": {\"filter\": \"iten\", \"values\": [\"2021\"] } }\n",
    "],\n",
    "\"response\": {\"format\": \"json-stat2\"}\n",
    "}\n",
    "\n",
    "resultat = requests.post(POST_URL, json = payload)\n",
    "# Resultat gir bare http statuskode - 200 hvis OK. Body ligger i resultat.text\n",
    "print(resultat)\n",
    "\n",
    "dataset = pyjstat.Dataset.read(resultat.text)\n",
    "okovdrift_kako = dataset.write('dataframe',naming='id')\n",
    "var_okovdrift_kako = okovdrift_kako.KOKart0000.unique()\n",
    "#okovdrift_kako.sample(11)"
   ]
  },
  {
   "cell_type": "markdown",
   "id": "6d1febc1-9b67-4204-97bf-6ec10ee5304f",
   "metadata": {},
   "source": [
    "# Henter tabell 13557 - Økonomisk oversikt investering kasse og konsolidert"
   ]
  },
  {
   "cell_type": "code",
   "execution_count": null,
   "id": "3326abb8-b271-41de-900b-4f205465f3d7",
   "metadata": {
    "jupyter": {
     "outputs_hidden": true
    },
    "tags": []
   },
   "outputs": [],
   "source": [
    "POST_URL = 'https://data.ssb.no/api/v0/no/table/13557'\n",
    "\n",
    "payload = {\"query\": [\n",
    "    {\"code\": \"KOKkommuneregion0000\", \"selection\": {\"filter\": \"values\", \"values\": [\"0301\"] } },\n",
    "    {\"code\": \"KOKregnskapsomfa0000\", \"selection\": {\"filter\": \"item\", \"values\": [\"B\"]}},\n",
    "    {\"code\": \"Tid\", \"selection\": {\"filter\": \"iten\", \"values\": [\"2021\"] } }\n",
    "],\n",
    "\"response\": {\"format\": \"json-stat2\"}\n",
    "}\n",
    "\n",
    "resultat = requests.post(POST_URL, json = payload)\n",
    "# Resultat gir bare http statuskode - 200 hvis OK. Body ligger i resultat.text\n",
    "print(resultat)\n",
    "\n",
    "dataset = pyjstat.Dataset.read(resultat.text)\n",
    "okovinv_kako = dataset.write('dataframe',naming='id')\n",
    "var_okovinv_kako = okovinv_kako.KOKart0000.unique()\n",
    "#okovinv_kako.sample(11)"
   ]
  },
  {
   "cell_type": "markdown",
   "id": "9f0f91f9-0e43-4503-8861-9b238984eca0",
   "metadata": {},
   "source": [
    "# Henter tabell 13545 - Økonomisk oversikt balanse kasse og konsolidert"
   ]
  },
  {
   "cell_type": "code",
   "execution_count": null,
   "id": "647ae209-83b5-4d82-9899-ebdcb36a2c8e",
   "metadata": {
    "jupyter": {
     "outputs_hidden": true
    },
    "tags": []
   },
   "outputs": [],
   "source": [
    "POST_URL = 'https://data.ssb.no/api/v0/no/table/13545'\n",
    "\n",
    "payload = {\"query\": [\n",
    "    {\"code\": \"KOKkommuneregion0000\", \"selection\": {\"filter\": \"values\", \"values\": [\"0301\"] } },\n",
    "    {\"code\": \"KOKregnskapsomfa0000\", \"selection\": {\"filter\": \"item\", \"values\": [\"B\"]}},\n",
    "    {\"code\": \"Tid\", \"selection\": {\"filter\": \"iten\", \"values\": [\"2021\"] } }\n",
    "],\n",
    "\"response\": {\"format\": \"json-stat2\"}\n",
    "}\n",
    "\n",
    "resultat = requests.post(POST_URL, json = payload)\n",
    "# Resultat gir bare http statuskode - 200 hvis OK. Body ligger i resultat.text\n",
    "print(resultat)\n",
    "\n",
    "dataset = pyjstat.Dataset.read(resultat.text)\n",
    "okovbal_kako = dataset.write('dataframe',naming='id')\n",
    "var_okovbal_kako = okovbal_kako.KOKkapittel0000.unique()\n",
    "#okovbal_kako.sample(11)"
   ]
  },
  {
   "cell_type": "code",
   "execution_count": null,
   "id": "c81f03e2-8c17-484f-a32e-a8bf6e377ec3",
   "metadata": {},
   "outputs": [],
   "source": []
  }
 ],
 "metadata": {
  "kernelspec": {
   "display_name": "Python 3",
   "language": "python",
   "name": "python3"
  },
  "language_info": {
   "codemirror_mode": {
    "name": "ipython",
    "version": 3
   },
   "file_extension": ".py",
   "mimetype": "text/x-python",
   "name": "python",
   "nbconvert_exporter": "python",
   "pygments_lexer": "ipython3",
   "version": "3.8.8"
  }
 },
 "nbformat": 4,
 "nbformat_minor": 5
}
