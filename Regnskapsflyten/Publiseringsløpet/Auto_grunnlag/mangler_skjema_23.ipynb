{
 "cells": [
  {
   "cell_type": "markdown",
   "id": "a93cdbc4-0b9c-43f8-919e-2042ea667891",
   "metadata": {},
   "source": [
    "### Henter kommuner som ikke har levert skjema 23"
   ]
  },
  {
   "cell_type": "code",
   "execution_count": null,
   "id": "b2cf2df1-9fe7-4cf1-b5a3-29d8d6a8d3de",
   "metadata": {},
   "outputs": [],
   "source": [
    "%load_ext rpy2.ipython"
   ]
  },
  {
   "cell_type": "code",
   "execution_count": null,
   "id": "137def53-aff5-40ca-a167-8a374fdfb775",
   "metadata": {},
   "outputs": [],
   "source": [
    "%R library(rvest)\n",
    "%R library(tidyverse)\n",
    "%R library(httr)"
   ]
  },
  {
   "cell_type": "code",
   "execution_count": null,
   "id": "4d061430-ae20-4cdc-a6c9-d7643bbccc9a",
   "metadata": {
    "jupyter": {
     "outputs_hidden": true
    },
    "tags": []
   },
   "outputs": [],
   "source": [
    "%R nettside <- httr::GET(\"https://skjema.ssb.no/xtra/mottatt.asp?skjemanr=23&filter=\")"
   ]
  },
  {
   "cell_type": "code",
   "execution_count": null,
   "id": "bfa2c530-3c17-4d8a-bf2f-0de885bacd7c",
   "metadata": {},
   "outputs": [],
   "source": [
    "%%R skjema_23 <- nettside %>% \n",
    "  httr::content() %>% \n",
    "  rvest::html_element(\"tbody\") %>% \n",
    "  rvest::html_elements(\"tr\") %>% \n",
    "  map(function(tr){\n",
    "    \n",
    "    strenger <- \n",
    "      tr %>% \n",
    "      rvest::html_elements(\"td\") %>% \n",
    "      rvest::html_text()\n",
    "    \n",
    "    names(strenger) <- c(\"region\", \"kommunenavn\")\n",
    "     \n",
    "    strenger\n",
    "    \n",
    "  }) %>% \n",
    "  bind_rows()"
   ]
  },
  {
   "cell_type": "code",
   "execution_count": null,
   "id": "dfec4699-13f4-4d90-94b1-243810b4012c",
   "metadata": {},
   "outputs": [],
   "source": [
    "%R -o skjema_23"
   ]
  },
  {
   "cell_type": "code",
   "execution_count": null,
   "id": "74b08c9d-ac4f-4660-89ce-04726688e6ff",
   "metadata": {},
   "outputs": [],
   "source": []
  }
 ],
 "metadata": {
  "kernelspec": {
   "display_name": "Python 3",
   "language": "python",
   "name": "python3"
  },
  "language_info": {
   "codemirror_mode": {
    "name": "ipython",
    "version": 3
   },
   "file_extension": ".py",
   "mimetype": "text/x-python",
   "name": "python",
   "nbconvert_exporter": "python",
   "pygments_lexer": "ipython3",
   "version": "3.8.8"
  }
 },
 "nbformat": 4,
 "nbformat_minor": 5
}
