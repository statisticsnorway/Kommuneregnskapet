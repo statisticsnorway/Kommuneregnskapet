{
 "cells": [
  {
   "cell_type": "code",
   "execution_count": null,
   "id": "6b66193d-be4c-48ab-9e49-185be0361cae",
   "metadata": {},
   "outputs": [],
   "source": [
    "#import pandas as pd\n",
    "from bokeh.io import push_notebook, show, output_notebook\n",
    "from bokeh.plotting import show\n",
    "from bokeh.models import ColumnDataSource, TableColumn, DataTable\n",
    "\n",
    "import os"
   ]
  },
  {
   "cell_type": "code",
   "execution_count": null,
   "id": "b56a337a-c19d-4917-96ad-14e1fd1c0124",
   "metadata": {},
   "outputs": [],
   "source": [
    "from bokeh.io import curdoc\n",
    "\n",
    "curdoc().clear()"
   ]
  },
  {
   "cell_type": "code",
   "execution_count": null,
   "id": "45ca337b-cccd-44df-af79-9b25b034bb1e",
   "metadata": {},
   "outputs": [],
   "source": [
    "os.environ[\"BOKEH_RESOURCES\"] = \"inline\""
   ]
  },
  {
   "cell_type": "code",
   "execution_count": null,
   "id": "d54eced1-4b9b-44a6-be4f-eeb0aceb446f",
   "metadata": {},
   "outputs": [],
   "source": [
    "output_notebook()"
   ]
  },
  {
   "cell_type": "markdown",
   "id": "12e80caf-fd8a-46f6-963c-1cd32e0bd403",
   "metadata": {},
   "source": [
    "## Lager tabell for fylkeskommune"
   ]
  },
  {
   "cell_type": "code",
   "execution_count": null,
   "id": "6d72eb66-b450-444d-b50c-5f0637757152",
   "metadata": {},
   "outputs": [],
   "source": [
    "fykom_inv_kako_tabell = fykom_inv_kako.reset_index(drop=True).copy()\n",
    "source3 = ColumnDataSource(fykom_inv_kako_tabell)\n",
    "columns = [TableColumn(field=col, title=col) for col in fykom_inv_kako_tabell.columns]\n",
    "okonomisk_oversikt_investering_fylkeskommune_kasse_konsolidert = DataTable(source=source3, columns = columns, width = 1000, height=400, index_position=None)"
   ]
  },
  {
   "cell_type": "code",
   "execution_count": null,
   "id": "fd2dcb25-69e3-4b69-85f1-c2de6d6a176c",
   "metadata": {},
   "outputs": [],
   "source": [
    "\n",
    "#show(data_table)\n"
   ]
  },
  {
   "cell_type": "markdown",
   "id": "1b30b861-2805-4b61-9719-af3322e74fbc",
   "metadata": {},
   "source": [
    "## Lager tabell for kommune"
   ]
  },
  {
   "cell_type": "code",
   "execution_count": null,
   "id": "cdeaecc4-be62-45e9-b300-039b71cfe559",
   "metadata": {},
   "outputs": [],
   "source": [
    "kom_inv_kako_tabell = kom_inv_kako.reset_index(drop=True).copy()"
   ]
  },
  {
   "cell_type": "code",
   "execution_count": null,
   "id": "16bcbbd0-b9ce-4385-98ee-f7d41be15fe7",
   "metadata": {},
   "outputs": [],
   "source": [
    "source4 = ColumnDataSource(kom_inv_kako_tabell)"
   ]
  },
  {
   "cell_type": "code",
   "execution_count": null,
   "id": "554f3c4c-8b9a-4f63-a793-d6a7b241710e",
   "metadata": {},
   "outputs": [],
   "source": [
    "columns = [TableColumn(field=col, title=col) for col in kom_inv_kako_tabell.columns]"
   ]
  },
  {
   "cell_type": "code",
   "execution_count": null,
   "id": "3cfb9860-03f2-4772-aa7e-07871adeabe5",
   "metadata": {},
   "outputs": [],
   "source": [
    "okonomisk_oversikt_investering_kommune_kasse_konsolidert = DataTable(source=source4, columns = columns, width = 1000, height=400, index_position=None)\n",
    "#show(data_table)\n"
   ]
  }
 ],
 "metadata": {
  "kernelspec": {
   "display_name": "Python 3",
   "language": "python",
   "name": "python3"
  },
  "language_info": {
   "codemirror_mode": {
    "name": "ipython",
    "version": 3
   },
   "file_extension": ".py",
   "mimetype": "text/x-python",
   "name": "python",
   "nbconvert_exporter": "python",
   "pygments_lexer": "ipython3",
   "version": "3.8.8"
  }
 },
 "nbformat": 4,
 "nbformat_minor": 5
}
