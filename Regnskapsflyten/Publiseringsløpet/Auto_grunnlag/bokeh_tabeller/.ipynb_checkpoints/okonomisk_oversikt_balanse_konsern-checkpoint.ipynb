{
 "cells": [
  {
   "cell_type": "code",
   "execution_count": null,
   "id": "6b66193d-be4c-48ab-9e49-185be0361cae",
   "metadata": {},
   "outputs": [],
   "source": [
    "#import pandas as pd\n",
    "from bokeh.io import push_notebook, show, output_notebook\n",
    "from bokeh.plotting import show\n",
    "from bokeh.models import ColumnDataSource, TableColumn, DataTable\n",
    "\n",
    "import os"
   ]
  },
  {
   "cell_type": "code",
   "execution_count": null,
   "id": "b56a337a-c19d-4917-96ad-14e1fd1c0124",
   "metadata": {},
   "outputs": [],
   "source": [
    "from bokeh.io import curdoc\n",
    "\n",
    "curdoc().clear()"
   ]
  },
  {
   "cell_type": "code",
   "execution_count": null,
   "id": "45ca337b-cccd-44df-af79-9b25b034bb1e",
   "metadata": {},
   "outputs": [],
   "source": [
    "os.environ[\"BOKEH_RESOURCES\"] = \"inline\""
   ]
  },
  {
   "cell_type": "code",
   "execution_count": null,
   "id": "d54eced1-4b9b-44a6-be4f-eeb0aceb446f",
   "metadata": {},
   "outputs": [],
   "source": [
    "output_notebook()"
   ]
  },
  {
   "cell_type": "code",
   "execution_count": null,
   "id": "6d72eb66-b450-444d-b50c-5f0637757152",
   "metadata": {},
   "outputs": [],
   "source": [
    "okov_bal_konsern_tabell_start = okov_bal_konsern.reset_index(drop=True).copy()"
   ]
  },
  {
   "cell_type": "code",
   "execution_count": null,
   "id": "60c3a2a9-4133-45f6-9178-f7c6a5933a22",
   "metadata": {},
   "outputs": [],
   "source": [
    "source = ColumnDataSource(okov_bal_konsern_tabell_start)"
   ]
  },
  {
   "cell_type": "code",
   "execution_count": null,
   "id": "61191582-ee64-4f22-ad1a-7741be658bc8",
   "metadata": {},
   "outputs": [],
   "source": [
    "columns = [TableColumn(field=col, title=col) for col in okov_bal_konsern_tabell_start.columns]"
   ]
  },
  {
   "cell_type": "code",
   "execution_count": null,
   "id": "fd2dcb25-69e3-4b69-85f1-c2de6d6a176c",
   "metadata": {},
   "outputs": [],
   "source": [
    "okov_bal_konsern_tabell = DataTable(source=source, columns = columns, width = 1000, height=400, index_position=None)\n",
    "#show(data_table)\n"
   ]
  }
 ],
 "metadata": {
  "kernelspec": {
   "display_name": "Python 3",
   "language": "python",
   "name": "python3"
  },
  "language_info": {
   "codemirror_mode": {
    "name": "ipython",
    "version": 3
   },
   "file_extension": ".py",
   "mimetype": "text/x-python",
   "name": "python",
   "nbconvert_exporter": "python",
   "pygments_lexer": "ipython3",
   "version": "3.8.8"
  }
 },
 "nbformat": 4,
 "nbformat_minor": 5
}
