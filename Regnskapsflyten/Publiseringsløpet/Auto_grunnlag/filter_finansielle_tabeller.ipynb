{
 "cells": [
  {
   "cell_type": "code",
   "execution_count": null,
   "id": "55dcd056-7f17-4898-a366-d01f33103e1f",
   "metadata": {},
   "outputs": [],
   "source": [
    "import pandas as pd"
   ]
  },
  {
   "cell_type": "code",
   "execution_count": null,
   "id": "064690d3-b0a9-482a-81ea-4e2a2a4e6e21",
   "metadata": {
    "jupyter": {
     "outputs_hidden": true
    },
    "tags": []
   },
   "outputs": [],
   "source": [
    "filter_bev = pd.read_csv(\"/ssb/bruker/mtk/Testdata/inndata/Filter Finansielle grunnlagsdata.csv\", sep=';')\n",
    "filter_bev"
   ]
  },
  {
   "cell_type": "code",
   "execution_count": null,
   "id": "89f93177-d92b-40ca-a920-bf91cca9066f",
   "metadata": {},
   "outputs": [],
   "source": [
    "#filter_bev_komkonsern = ({'funksjon': ['FG2','FG2','FG2','840','FG2','800','800','FG2','FG2','800','FG2','800','FG2','800','FG4','FG2','FG2','FG2','321','321','FG2','FG2','FG2','FG2','FG2','FG2','FG5','321','FG2','FG2','FG2','FG4','FG2','FG2','FG2','FG2','FG2','FG2','FG2','FG2','FG2','FG2','FG2','FG2','FG2','841'],\n",
    "#                          'kontoklasse': ['I','D','I','D','D','D','D','D','D','D','D','D','D','D','D','D','D','D','D','D','D','D','D','D','D','D','D','D','D','D','D','I','I','I','I','I','I','I','I','I','I','I','D','D','I','I'],\n",
    "#                         'art': ['970','A590','A670','A800','A810','A874','A875','AD729','AD905','AG10','AG11','AG12','AG16','AG43','AGD1','AGD13','AGD16','AGD18','AGD19','AGD20','AGD21','AGD23','AGD24','AGD25','AGD29','AGD3','AGD62','AGD63','AGD73','AGD74','AGD9','AGI1','AGI2','AGI21','AGI23','AGI26','AGI28','AGI29','AGI31','AGI4','AGI6','AGI7','AGID1','AGID2','AI660','AI729']\n",
    "#                         })"
   ]
  },
  {
   "cell_type": "code",
   "execution_count": null,
   "id": "de6456fc-e479-4637-a8d0-aecdd649214c",
   "metadata": {},
   "outputs": [],
   "source": []
  }
 ],
 "metadata": {
  "kernelspec": {
   "display_name": "Python 3",
   "language": "python",
   "name": "python3"
  },
  "language_info": {
   "codemirror_mode": {
    "name": "ipython",
    "version": 3
   },
   "file_extension": ".py",
   "mimetype": "text/x-python",
   "name": "python",
   "nbconvert_exporter": "python",
   "pygments_lexer": "ipython3",
   "version": "3.8.8"
  }
 },
 "nbformat": 4,
 "nbformat_minor": 5
}
