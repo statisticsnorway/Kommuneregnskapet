{
 "cells": [
  {
   "cell_type": "markdown",
   "id": "b162bd2c-d069-4ef5-badf-fa53eba382e7",
   "metadata": {},
   "source": [
    "# Finansielle tabeller\n",
    "- Lager alle finansielle tabeller:\n",
    "    1. Finansielle grunnlagsdata\n",
    "    2. Finansielle nøkkeltall i kr per innbygger\n",
    "    3. Finansielle nøkkeltall i prosent av langsiktig gjeld\n",
    "    4. Finansielle nøkkeltall i prosent av brutto driftsinntekter\n",
    "    5. Utvalgte nøkkeltall\n",
    "- For regnskapsomfang\n",
    "    1. Kasse\n",
    "    2. Konsoliderte\n",
    "    3. Konsern\n",
    "- For region\n",
    "    1. Kommune\n",
    "    2. Fylkeskommune"
   ]
  },
  {
   "cell_type": "markdown",
   "id": "fc839392-dc34-4a8d-8c01-9e8a81c3be40",
   "metadata": {},
   "source": [
    "## Henter nødvendige pakker"
   ]
  },
  {
   "cell_type": "code",
   "execution_count": null,
   "id": "062f9872-7acb-40b4-acea-b9e64189a742",
   "metadata": {},
   "outputs": [],
   "source": [
    "import pandas as pd\n",
    "import numpy as np"
   ]
  },
  {
   "cell_type": "markdown",
   "id": "23324da8-73a8-4a8e-a660-7215e12121df",
   "metadata": {},
   "source": [
    "## Angi årgang som skal produseres"
   ]
  },
  {
   "cell_type": "code",
   "execution_count": null,
   "id": "3c9fd8ff-1d28-4556-93fb-83307bcec747",
   "metadata": {},
   "outputs": [],
   "source": [
    "%run ./../aargang.ipynb"
   ]
  },
  {
   "cell_type": "markdown",
   "id": "f9d1aa78-67e1-429a-9277-acefa4db7220",
   "metadata": {},
   "source": [
    "## Henter data"
   ]
  },
  {
   "cell_type": "code",
   "execution_count": null,
   "id": "b2a2eeeb-724e-44b3-a8c4-952bd719782e",
   "metadata": {},
   "outputs": [],
   "source": [
    "bev_konsern = pd.read_parquet('/ssb/stamme03/komakro/pilot_python/arbeidsdata/arbeidsfiler/'+aar+'/bev_konsern.parquet')\n",
    "bev_kako = pd.read_parquet('/ssb/stamme03/komakro/pilot_python/arbeidsdata/arbeidsfiler/'+aar+'/bev_kasse_konsolidert.parquet')"
   ]
  },
  {
   "cell_type": "code",
   "execution_count": null,
   "id": "c64d6242-aa0f-4421-a7d6-6a540d118da3",
   "metadata": {},
   "outputs": [],
   "source": [
    "bal_konsern= pd.read_parquet('/ssb/stamme03/komakro/pilot_python/arbeidsdata/arbeidsfiler/'+aar+'/finansielt_grunnlag_ink_rente.parquet')\n",
    "bal_kako = pd.read_parquet('/ssb/stamme03/komakro/pilot_python/arbeidsdata/arbeidsfiler/'+aar+'/bal_kasse_konsolidert.parquet')"
   ]
  },
  {
   "cell_type": "markdown",
   "id": "08a6af1b-8034-4f6c-a8a9-d2a5253171ca",
   "metadata": {},
   "source": [
    "## Fjerner bydel\n",
    "- Lager ikke finansielle tabeller for bydel\n",
    "**Er bydel fjernet for kasse? Om ikke kan de fjernes tidligere i løpet.**"
   ]
  },
  {
   "cell_type": "code",
   "execution_count": null,
   "id": "8afbe48b-9758-4f4e-8016-113c664f1c2f",
   "metadata": {},
   "outputs": [],
   "source": [
    "bydel = bev_konsern[(bev_konsern['region'].str.contains('0301'))\n",
    "                    & (bev_konsern['region'].str[4:]!='')]\n",
    "bydelsliste = bydel.region.unique()"
   ]
  },
  {
   "cell_type": "code",
   "execution_count": null,
   "id": "8dd60770-66af-4421-918f-e894c516161d",
   "metadata": {},
   "outputs": [],
   "source": [
    "bev_konsern_ub = bev_konsern[(~bev_konsern['region'].isin(bydelsliste)) &\n",
    "                            (bev_konsern['region'] != 'EAB')]"
   ]
  },
  {
   "cell_type": "code",
   "execution_count": null,
   "id": "eab35177-5601-4224-b226-2899f8d523ba",
   "metadata": {},
   "outputs": [],
   "source": [
    "bal_konsern_ub = bal_konsern[(~bal_konsern['region'].isin(bydelsliste)) &\n",
    "                            (bal_konsern['region'] != 'EAB')]"
   ]
  },
  {
   "cell_type": "markdown",
   "id": "65ba104a-cd37-4dba-95cf-0ed80f36b78b",
   "metadata": {},
   "source": [
    "# Finansielle grunnlagsdata\n",
    "## Kommunekonsern"
   ]
  },
  {
   "cell_type": "code",
   "execution_count": null,
   "id": "698c4dbc-300a-4cfd-abe8-f0ca09890d53",
   "metadata": {
    "jupyter": {
     "outputs_hidden": true
    },
    "tags": []
   },
   "outputs": [],
   "source": [
    "filter_bev = pd.read_csv(\"/ssb/bruker/mtk/Testdata/inndata/Filter Finansielle grunnlagsdata.csv\", sep=';')"
   ]
  },
  {
   "cell_type": "markdown",
   "id": "66686c50-4d8c-40c3-895d-243863fd3959",
   "metadata": {},
   "source": [
    "- Filtrerer ut de variablene som skal være med fra bevilgningsregnskapet"
   ]
  },
  {
   "cell_type": "code",
   "execution_count": null,
   "id": "bf097c02-a62a-46e1-9bc6-fb642ebffbca",
   "metadata": {},
   "outputs": [],
   "source": [
    "keys = list(filter_bev.columns.values)\n",
    "i1 = bev_konsern_ub.set_index(keys).index\n",
    "i2 = filter_bev.set_index(keys).index\n",
    "fingr_bev= bev_konsern_ub[i1.isin(i2)]\n",
    "fingr_bev = fingr_bev.drop(columns=['funksjon', 'kontoklasse','regnskapsomfang']).reset_index(drop=True)\n",
    "fingr_bev.rename(columns={'art':'art_kap'}, inplace = True)"
   ]
  },
  {
   "cell_type": "markdown",
   "id": "4e1c9296-f6ff-498d-9042-4461cec0f6d5",
   "metadata": {},
   "source": [
    "- Filtrerer ut de verdiene som skal være med fra balanseregnskapet"
   ]
  },
  {
   "cell_type": "code",
   "execution_count": null,
   "id": "9200d21f-0b4e-4f53-87c1-493ea59a4424",
   "metadata": {
    "tags": []
   },
   "outputs": [],
   "source": [
    "filter_bal = [\"5900\", \"KG14\", \"KG15\", \"KG28\", \"KG38\", \"56\", \"KG21\", \"KG25\", \"KG32\", \"KG18\", \"KG31\", \"KG40\", \"40\", \"KG39\", \"41\", \"42\", \"43\"]\n",
    "fingr_bal = bal_konsern_ub[(bal_konsern_ub['kapittel'].isin(filter_bal))]\n",
    "fingr_bal.rename(columns={'kapittel':'art_kap'}, inplace = True)"
   ]
  },
  {
   "cell_type": "markdown",
   "id": "e01d5ea9-bc59-4058-8f8f-d1b8d4ee5c68",
   "metadata": {},
   "source": [
    "- Samler bevilgning og balanse"
   ]
  },
  {
   "cell_type": "code",
   "execution_count": null,
   "id": "1e2db86f-79d8-4c85-962e-c1f901e403d2",
   "metadata": {},
   "outputs": [],
   "source": [
    "fingr_konsern = pd.concat([fingr_bal, fingr_bev])"
   ]
  },
  {
   "cell_type": "code",
   "execution_count": null,
   "id": "c407edef-311f-4cbf-94ac-e39d97a550b4",
   "metadata": {},
   "outputs": [],
   "source": [
    "#Fylkeskommune. Denne stemmer ikke siden det ikke er riktig filter\n",
    "fingn_komkonsern = fingr_konsern.loc[(fingr_konsern['region'].str[2:]!='00')&\n",
    "                                     (~fingr_konsern['region'].str.contains('EAFK'))]"
   ]
  },
  {
   "cell_type": "markdown",
   "id": "10ccb27c-3771-4ce9-aa9b-2cbf39b7c39f",
   "metadata": {},
   "source": [
    "### Henter kommuner som ikke har levert skjema 23\n",
    "- Skjema hentes i egen notebook. Her skapes innrapporteringssiden. "
   ]
  },
  {
   "cell_type": "code",
   "execution_count": null,
   "id": "5cfc20f8-a49b-4e7b-83d1-5bb0d831d639",
   "metadata": {
    "jupyter": {
     "outputs_hidden": true
    },
    "tags": []
   },
   "outputs": [],
   "source": [
    "%run ./Auto_grunnlag/mangler_skjema_23.ipynb"
   ]
  },
  {
   "cell_type": "markdown",
   "id": "f16ab008-fe6d-4eea-9026-479bacc4e1df",
   "metadata": {},
   "source": [
    "### Filtrerer ut KG39 og KG40 for kommuner som ikke har levert skjema 23"
   ]
  },
  {
   "cell_type": "code",
   "execution_count": null,
   "id": "96f86490-05ad-4b4f-a930-083069e4db3f",
   "metadata": {
    "tags": []
   },
   "outputs": [],
   "source": [
    "skjema_23 = skjema_23.drop(columns={'kommunenavn'})\n",
    "skjema_23['KG39'] = 'KG39'\n",
    "skjema_23['KG40'] = 'KG40'\n",
    "skjema_23_miss = skjema_23.melt('region', value_name='art_kap').drop(columns={'variable'})"
   ]
  },
  {
   "cell_type": "code",
   "execution_count": null,
   "id": "12b596db-40d0-49a4-9741-d951a1c2af4e",
   "metadata": {},
   "outputs": [],
   "source": [
    "skjema_23_miss['marker']= 1"
   ]
  },
  {
   "cell_type": "code",
   "execution_count": null,
   "id": "ddba3dee-95e0-4fa6-bbc5-774fecb50251",
   "metadata": {
    "tags": []
   },
   "outputs": [],
   "source": [
    "joined = pd.merge(fingn_komkonsern, skjema_23_miss, on=['region', 'art_kap'], how='left')\n",
    "finansielle_grunnlagsdata_kommunekonsern = joined[pd.isna(joined['marker'])][fingn_komkonsern.columns]"
   ]
  },
  {
   "cell_type": "code",
   "execution_count": null,
   "id": "7c7b7c66-a8d5-4d8e-828e-12acd8b4a162",
   "metadata": {},
   "outputs": [],
   "source": []
  }
 ],
 "metadata": {
  "kernelspec": {
   "display_name": "Python 3",
   "language": "python",
   "name": "python3"
  },
  "language_info": {
   "codemirror_mode": {
    "name": "ipython",
    "version": 3
   },
   "file_extension": ".py",
   "mimetype": "text/x-python",
   "name": "python",
   "nbconvert_exporter": "python",
   "pygments_lexer": "ipython3",
   "version": "3.8.8"
  }
 },
 "nbformat": 4,
 "nbformat_minor": 5
}
