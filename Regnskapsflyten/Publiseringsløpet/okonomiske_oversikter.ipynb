{
 "cells": [
  {
   "cell_type": "markdown",
   "id": "c7d69bb9-c280-48e9-ad90-258d36996d12",
   "metadata": {},
   "source": [
    "# Økonomiske oversikter\n",
    "- Lager alle tabeller med økonomiske oversikter:\n",
    "    1. Økonomisk oversikt drift\n",
    "    2. Økonomisk oversikt investering\n",
    "    3. Økonomisk oversikt balanse\n",
    "- For regnskapsomfang\n",
    "    1. Kasse\n",
    "    2. Konsoliderte\n",
    "    3. Konsern\n",
    "- For region\n",
    "    1. Kommune\n",
    "    2. Fylkeskommune"
   ]
  },
  {
   "cell_type": "markdown",
   "id": "fada4a0d-cb3e-4544-b5a0-1ba1b02dbdf4",
   "metadata": {},
   "source": [
    "## Henter nødvendige pakker\n",
    "**For å lage økonomiske oversikter trengs følgende pakker:**  \n",
    "   - Pandas\n",
    "   - Numpy\n",
    "   - Selvlagde funksjoner"
   ]
  },
  {
   "cell_type": "code",
   "execution_count": null,
   "id": "52193300-3b1c-4263-8de3-b5cf78a414dc",
   "metadata": {},
   "outputs": [],
   "source": [
    "import pandas as pd\n",
    "import numpy as np"
   ]
  },
  {
   "cell_type": "markdown",
   "id": "9b152cdc-9065-4edf-ab50-f236c97d16fd",
   "metadata": {},
   "source": [
    "**Henter inn art og kapittelfiltere lagt i egen bok.**  \n",
    "- Publiseringstabeller fra 2021 er hentet\n",
    "- For hver tabell er det lagd en liste over hvilke arter/kapitler som er inkluderet\n",
    "- Benytter disse listene til å filtrere i produksjonen  \n",
    "- Gjør dette nå for å slippe å skrive inn liste. Kan objektet lagres til senere årganger?"
   ]
  },
  {
   "cell_type": "code",
   "execution_count": null,
   "id": "913ad105-83ef-4641-8a05-9c0bc9e9d264",
   "metadata": {},
   "outputs": [],
   "source": [
    "%run ./Auto_grunnlag/API_OKOV.ipynb"
   ]
  },
  {
   "cell_type": "markdown",
   "id": "6cee3f0a-a13d-4d39-80f6-fd93135f4b88",
   "metadata": {},
   "source": [
    "## Angi årgang som skal produseres"
   ]
  },
  {
   "cell_type": "code",
   "execution_count": null,
   "id": "d9660db0-651c-45d6-8601-80957798be8f",
   "metadata": {},
   "outputs": [],
   "source": [
    "%run ./../aargang.ipynb"
   ]
  },
  {
   "cell_type": "markdown",
   "id": "28b78a62-6d03-4156-a09d-3f328d73472a",
   "metadata": {},
   "source": [
    "## Henter nødvendige filer\n",
    "Henter regnskapsfiler klargjort i bevilgnings- og balanseløpet. "
   ]
  },
  {
   "cell_type": "code",
   "execution_count": null,
   "id": "dc211b7c-498f-4f80-9d6e-1a6d39fc6c1e",
   "metadata": {},
   "outputs": [],
   "source": [
    "bev_konsern = pd.read_parquet('/ssb/stamme03/komakro/pilot_python/arbeidsdata/arbeidsfiler/'+aar+'/bev_konsern.parquet')\n",
    "bev_kako = pd.read_parquet('/ssb/stamme03/komakro/pilot_python/arbeidsdata/arbeidsfiler/'+aar+'/bev_kasse_konsolidert.parquet')"
   ]
  },
  {
   "cell_type": "code",
   "execution_count": null,
   "id": "bfdfcdbe-0e8a-48af-8464-7e7045f8620a",
   "metadata": {},
   "outputs": [],
   "source": [
    "bal_konsern = pd.read_parquet('/ssb/stamme03/komakro/pilot_python/arbeidsdata/arbeidsfiler/'+aar+'/bal_konsern.parquet')\n",
    "bal_kako = pd.read_parquet('/ssb/stamme03/komakro/pilot_python/arbeidsdata/arbeidsfiler/'+aar+'/bal_kasse_konsolidert.parquet')"
   ]
  },
  {
   "cell_type": "code",
   "execution_count": null,
   "id": "9831fb11-872c-4a24-aa28-de95988a7312",
   "metadata": {},
   "outputs": [],
   "source": [
    "bydel = bev_konsern[(bev_konsern['region'].str.contains('0301'))\n",
    "                    & (bev_konsern['region'].str[4:]!='')]\n",
    "bydelsliste = bydel.region.unique()"
   ]
  },
  {
   "cell_type": "markdown",
   "id": "a45c8785-3978-42e4-bce6-b31318a5ef27",
   "metadata": {},
   "source": [
    "# Kasse og Konsolidert"
   ]
  },
  {
   "cell_type": "markdown",
   "id": "d10c25db-28e8-47f5-bff6-ccb646bbeef1",
   "metadata": {},
   "source": [
    "### Økonomisk oversikt drift"
   ]
  },
  {
   "cell_type": "code",
   "execution_count": null,
   "id": "eb31a3e6-12c5-4d7f-ab03-df686aea65d9",
   "metadata": {},
   "outputs": [],
   "source": [
    "drift_kako = bev_kako[(bev_kako['art'].isin(var_okovdrift_kako)) & \n",
    "                      (~bev_kako['region'].isin(bydelsliste)) &\n",
    "                      (bev_kako['funksjon']== 'FG2') & \n",
    "                      (bev_kako['kontoklasse']== 'D')]"
   ]
  },
  {
   "cell_type": "code",
   "execution_count": null,
   "id": "7bcda3f5-7bf2-4935-9ee8-9e711bf5051b",
   "metadata": {},
   "outputs": [],
   "source": [
    "fykom_drift_kako = drift_kako.loc[(drift_kako['region'].str[2:]=='00')]"
   ]
  },
  {
   "cell_type": "code",
   "execution_count": null,
   "id": "5a2d52e4-9868-4614-ac6e-1984d1aa0b73",
   "metadata": {},
   "outputs": [],
   "source": [
    "kom_drift_kako = drift_kako.loc[(drift_kako['region'].str[2:]!='00')]"
   ]
  },
  {
   "cell_type": "markdown",
   "id": "1d88742a-a224-41a1-8db0-a314ce0e8232",
   "metadata": {},
   "source": [
    "### Økonomisk oversikt investering"
   ]
  },
  {
   "cell_type": "code",
   "execution_count": null,
   "id": "943e7860-9714-4143-9a91-e8b31ec2e692",
   "metadata": {},
   "outputs": [],
   "source": [
    "inv_kako = bev_kako[(bev_kako['art'].isin(var_okovinv_kako)) & \n",
    "                    (~bev_kako['region'].isin(bydelsliste)) &\n",
    "                    (bev_kako['funksjon']== 'FG2') &\n",
    "                    (bev_kako['kontoklasse']== 'I')]"
   ]
  },
  {
   "cell_type": "code",
   "execution_count": null,
   "id": "f8d0de0d-1dae-4887-895c-7bce40966614",
   "metadata": {},
   "outputs": [],
   "source": [
    "fykom_inv_kako = inv_kako.loc[(inv_kako['region'].str[2:]=='00')]"
   ]
  },
  {
   "cell_type": "code",
   "execution_count": null,
   "id": "3835f3e6-7bbf-4205-a191-d0fe67ad8d51",
   "metadata": {},
   "outputs": [],
   "source": [
    "kom_inv_kako = inv_kako.loc[(inv_kako['region'].str[2:]!='00')]"
   ]
  },
  {
   "cell_type": "markdown",
   "id": "1336d93f-4572-4776-a7e7-63e88f72f743",
   "metadata": {},
   "source": [
    "#### Viser interaktive tabeller"
   ]
  },
  {
   "cell_type": "code",
   "execution_count": null,
   "id": "4836d065-e4bf-489a-875b-c73c07be0bfc",
   "metadata": {},
   "outputs": [],
   "source": [
    "%run ./Auto_grunnlag/bokeh_tabeller/okonomisk_oversikt_investering_kasse_konsolidert.ipynb"
   ]
  },
  {
   "cell_type": "code",
   "execution_count": null,
   "id": "f164b163-6ff7-43ef-a60e-9dbd15cd8ce3",
   "metadata": {},
   "outputs": [],
   "source": [
    "show(okonomisk_oversikt_investering_fylkeskommune_kasse_konsolidert)"
   ]
  },
  {
   "cell_type": "code",
   "execution_count": null,
   "id": "537821d3-cc67-480c-99f4-668fe68df986",
   "metadata": {},
   "outputs": [],
   "source": [
    "show(okonomisk_oversikt_investering_kommune_kasse_konsolidert)"
   ]
  },
  {
   "cell_type": "markdown",
   "id": "88710a6c-2727-4e33-adad-785c38db2f5b",
   "metadata": {},
   "source": [
    "### Økonomisk oversikt balanse"
   ]
  },
  {
   "cell_type": "code",
   "execution_count": null,
   "id": "034582ef-354d-4392-bc5a-318b7e205a6b",
   "metadata": {},
   "outputs": [],
   "source": [
    "bal_kako = bal_kako[(bal_kako['kapittel'].isin(var_okovbal_kako)) &\n",
    "                   (~bal_kako['region'].isin(bydelsliste))]"
   ]
  },
  {
   "cell_type": "code",
   "execution_count": null,
   "id": "64f79c0a-bbaf-436d-88c5-c23c1e876598",
   "metadata": {},
   "outputs": [],
   "source": [
    "fykom_bal_kako = bal_kako.loc[(bal_kako['region'].str[2:]=='00')]"
   ]
  },
  {
   "cell_type": "code",
   "execution_count": null,
   "id": "b9f00afb-0f7f-483c-9b62-67a7c73e5daf",
   "metadata": {},
   "outputs": [],
   "source": [
    "kom_bal_kako = bal_kako.loc[(bal_kako['region'].str[2:]!='00')]"
   ]
  },
  {
   "cell_type": "markdown",
   "id": "af9132b9-7430-462f-ab49-bd73bface83f",
   "metadata": {},
   "source": [
    "# Konsern"
   ]
  },
  {
   "cell_type": "markdown",
   "id": "e7a1c8c4-4e25-49a1-8a2a-c84488c1ade7",
   "metadata": {},
   "source": [
    "### Økonomisk oversikt drift"
   ]
  },
  {
   "cell_type": "code",
   "execution_count": null,
   "id": "d82dac5a-562e-40bb-8b7d-2976fcdfa45a",
   "metadata": {},
   "outputs": [],
   "source": [
    "okov_drift_konsern = bev_konsern[(bev_konsern['art'].isin(var_okovdrift_konsern)) &\n",
    "                            (~bev_konsern['region'].isin(bydelsliste)) &\n",
    "                            (bev_konsern['region'] != 'EAB') &\n",
    "                            (bev_konsern['funksjon']== 'FG2') & \n",
    "                            (bev_konsern['kontoklasse']== 'D')]"
   ]
  },
  {
   "cell_type": "code",
   "execution_count": null,
   "id": "e1b4b1ac-db51-419b-855e-39c2526c563d",
   "metadata": {},
   "outputs": [],
   "source": [
    "okov_fykom_drift_konsern = okov_drift_konsern.loc[((okov_drift_konsern['region'].str[2:]=='00')|\n",
    "                                        okov_drift_konsern['region'].str.contains('EAFK'))]"
   ]
  },
  {
   "cell_type": "markdown",
   "id": "81325c08-9953-494a-91fe-bcc5c435d0cb",
   "metadata": {},
   "source": [
    "### Økonomisk oversikt investering"
   ]
  },
  {
   "cell_type": "code",
   "execution_count": null,
   "id": "21485d0e-4c1a-45ac-8ef6-64498e5d56ff",
   "metadata": {},
   "outputs": [],
   "source": [
    "okov_inv_konsern = bev_konsern[(bev_konsern['art'].isin(var_okovinv_konsern)) &\n",
    "                            (~bev_konsern['region'].isin(bydelsliste)) &\n",
    "                            (bev_konsern['region'] != 'EAB') &\n",
    "                            (bev_konsern['funksjon']== 'FG2') & \n",
    "                            (bev_konsern['kontoklasse']== 'I')]"
   ]
  },
  {
   "cell_type": "markdown",
   "id": "c6384418-3278-418b-b43e-88e317502d27",
   "metadata": {},
   "source": [
    "### Økonomisk oversikt balanse"
   ]
  },
  {
   "cell_type": "code",
   "execution_count": null,
   "id": "c15ae00a-4110-44f4-bb6e-3d7384cd79d9",
   "metadata": {},
   "outputs": [],
   "source": [
    "okov_bal_konsern = bal_konsern[(bal_konsern['kapittel'].isin(var_okovbal_konsern)) &\n",
    "                            (~bal_konsern['region'].isin(bydelsliste)) &\n",
    "                            (bal_konsern['region'] != 'EAB')]"
   ]
  },
  {
   "cell_type": "code",
   "execution_count": null,
   "id": "b96f7611-2230-41b7-8c1e-d9fe327438bd",
   "metadata": {},
   "outputs": [],
   "source": [
    "%run ./Auto_grunnlag/bokeh_tabeller/okonomisk_oversikt_balanse_konsern.ipynb"
   ]
  },
  {
   "cell_type": "code",
   "execution_count": null,
   "id": "5ec496aa-884d-4d82-9e70-8d34d6d5c429",
   "metadata": {},
   "outputs": [],
   "source": [
    "show(okov_bal_konsern_tabell)"
   ]
  },
  {
   "cell_type": "code",
   "execution_count": null,
   "id": "36e6fbdd-2788-44e8-8621-085e2c0837e3",
   "metadata": {},
   "outputs": [],
   "source": []
  }
 ],
 "metadata": {
  "kernelspec": {
   "display_name": "Python 3",
   "language": "python",
   "name": "python3"
  },
  "language_info": {
   "codemirror_mode": {
    "name": "ipython",
    "version": 3
   },
   "file_extension": ".py",
   "mimetype": "text/x-python",
   "name": "python",
   "nbconvert_exporter": "python",
   "pygments_lexer": "ipython3",
   "version": "3.8.8"
  }
 },
 "nbformat": 4,
 "nbformat_minor": 5
}
