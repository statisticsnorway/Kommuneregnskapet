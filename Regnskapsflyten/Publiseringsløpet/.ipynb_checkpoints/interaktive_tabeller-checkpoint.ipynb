{
 "cells": [
  {
   "cell_type": "markdown",
   "id": "3f59d9ae-3ea5-47b0-8369-6265e84b36e5",
   "metadata": {},
   "source": [
    "**Ideen:**\n",
    "- Dette arket skal leses inn der tabellene lages. \n",
    "- Dersom en ønsker å få en interaktiv tabell kjøres linjen: %run ./interaktive_tabeller.ipynb i produksjonsboken\n",
    "- Dette arket kjøres og man får en ny fane med dash-tabellen\n",
    "- Må ha en bok som denne per tabell\n",
    "\n",
    "\n",
    "**OBS**  \n",
    "\n",
    "Denne fungerte en gang, men ikke igjen. Var overrasket over at jeg fikk laget en dash-tabell i det hele tatt. Prøv i\n",
    "Denne kolonnen kjører bøkene API_SSB og okonomiske oversiker. \n",
    "Følgende utføres:\n",
    "- Siste årgang av økonomisk oversikt tabellene hentes fra Statistikkbanken. Fra disse lages liste av alle variabler som skal være med i publiseringstabeller. \n",
    "    - Dersom output blir annet enn Resonse[200] har noe gått galt. Se i arket API_SSB for å finne ut hva\n",
    "- Alle økonomisk oversiktstabeller produseres. "
   ]
  },
  {
   "cell_type": "code",
   "execution_count": null,
   "id": "5117f1c2-cc34-4312-8059-fdebec0b98f5",
   "metadata": {},
   "outputs": [],
   "source": [
    "#%run ./okonomiske_oversikter.ipynb"
   ]
  },
  {
   "cell_type": "code",
   "execution_count": null,
   "id": "10c53137-c3b8-496d-97f3-904abfd54fc4",
   "metadata": {},
   "outputs": [],
   "source": [
    "import plotly.express as px\n",
    "from jupyter_dash import JupyterDash\n",
    "from jupyter_dash.comms import _send_jupyter_config_comm_request\n",
    "_send_jupyter_config_comm_request()\n",
    "import dash\n",
    "from dash import dash_table, dcc, html\n",
    "from dash.dependencies import Input, Output"
   ]
  },
  {
   "cell_type": "code",
   "execution_count": null,
   "id": "17675f87-a5a7-46db-93db-7e98d5bd8230",
   "metadata": {
    "jupyter": {
     "outputs_hidden": true
    },
    "tags": []
   },
   "outputs": [],
   "source": [
    "# må settes for å kunne kjøre i Jupyter (?)\n",
    "JupyterDash.infer_jupyter_proxy_config()"
   ]
  },
  {
   "cell_type": "code",
   "execution_count": null,
   "id": "a59a7757-ed63-4db1-b473-ecb731fe2a45",
   "metadata": {},
   "outputs": [],
   "source": [
    "# lager liste med kolonner som skal vises i tabellen\n",
    "my_cols = fykom_drift_konsern.columns\n",
    "#my_cols = ['data_id','KvpStonad','Stmnd4']"
   ]
  },
  {
   "cell_type": "code",
   "execution_count": null,
   "id": "afe65553-bfab-4ac3-9e83-3347bf37e5ad",
   "metadata": {},
   "outputs": [],
   "source": [
    "# lager app\n",
    "app = JupyterDash(__name__)"
   ]
  },
  {
   "cell_type": "code",
   "execution_count": null,
   "id": "4df6cb65-788f-418d-ad03-88e792d4d77e",
   "metadata": {},
   "outputs": [],
   "source": [
    "app.layout = html.Div(\n",
    "    html.Div(\n",
    "            [\n",
    "                dash_table.DataTable(\n",
    "                    id='table',\n",
    "                    columns=[{\"name\": i, \"id\": i} for i in my_cols],\n",
    "                    data=fykom_drift_konsern.to_dict('records'),\n",
    "                    editable=True, filter_action=\"native\", sort_action=\"native\", sort_mode=\"multi\", column_selectable=\"single\", row_selectable=\"multi\",\n",
    "                    selected_columns=[], selected_rows=[], page_action=\"native\", page_current= 0, page_size= 20, \n",
    "                    style_table={'height': 500,'overflowY': 'scroll', 'width': 1200},                    \n",
    "                )\n",
    "            ]\n",
    "        ))"
   ]
  },
  {
   "cell_type": "code",
   "execution_count": null,
   "id": "02546703-1584-4a8c-80ec-33e0e4a99aed",
   "metadata": {},
   "outputs": [],
   "source": [
    "app.run_server(mode='jupyterlab')"
   ]
  }
 ],
 "metadata": {
  "kernelspec": {
   "display_name": "Python 3",
   "language": "python",
   "name": "python3"
  },
  "language_info": {
   "codemirror_mode": {
    "name": "ipython",
    "version": 3
   },
   "file_extension": ".py",
   "mimetype": "text/x-python",
   "name": "python",
   "nbconvert_exporter": "python",
   "pygments_lexer": "ipython3",
   "version": "3.8.8"
  }
 },
 "nbformat": 4,
 "nbformat_minor": 5
}
