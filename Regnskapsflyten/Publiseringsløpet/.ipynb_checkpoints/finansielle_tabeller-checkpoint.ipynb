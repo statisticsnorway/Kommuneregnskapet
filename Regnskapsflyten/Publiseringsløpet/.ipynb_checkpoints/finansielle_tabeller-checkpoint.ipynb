{
 "cells": [
  {
   "cell_type": "markdown",
   "id": "b162bd2c-d069-4ef5-badf-fa53eba382e7",
   "metadata": {},
   "source": [
    "# Finansielle tabeller\n",
    "- Lager alle finansielle tabeller:\n",
    "    1. Finansielle grunnlagsdata\n",
    "    2. Finansielle nøkkeltall i kr per innbygger\n",
    "    3. Finansielle nøkkeltall i prosent av langsiktig gjeld\n",
    "    4. Finansielle nøkkeltall i prosent av brutto driftsinntekter\n",
    "    5. Utvalgte nøkkeltall\n",
    "- For regnskapsomfang\n",
    "    1. Kasse\n",
    "    2. Konsoliderte\n",
    "    3. Konsern\n",
    "- For region\n",
    "    1. Kommune\n",
    "    2. Fylkeskommune"
   ]
  },
  {
   "cell_type": "markdown",
   "id": "fc839392-dc34-4a8d-8c01-9e8a81c3be40",
   "metadata": {},
   "source": [
    "## Henter nødvendige pakker"
   ]
  },
  {
   "cell_type": "code",
   "execution_count": null,
   "id": "062f9872-7acb-40b4-acea-b9e64189a742",
   "metadata": {},
   "outputs": [],
   "source": [
    "import pandas as pd\n",
    "import numpy as np"
   ]
  },
  {
   "cell_type": "markdown",
   "id": "23324da8-73a8-4a8e-a660-7215e12121df",
   "metadata": {},
   "source": [
    "## Angi årgang som skal produseres"
   ]
  },
  {
   "cell_type": "code",
   "execution_count": null,
   "id": "3c9fd8ff-1d28-4556-93fb-83307bcec747",
   "metadata": {},
   "outputs": [],
   "source": [
    "%run ./../aargang.ipynb"
   ]
  },
  {
   "cell_type": "markdown",
   "id": "f9d1aa78-67e1-429a-9277-acefa4db7220",
   "metadata": {},
   "source": [
    "## Henter data"
   ]
  },
  {
   "cell_type": "code",
   "execution_count": null,
   "id": "b2a2eeeb-724e-44b3-a8c4-952bd719782e",
   "metadata": {},
   "outputs": [],
   "source": [
    "bev_konsern = pd.read_parquet('/ssb/stamme03/komakro/pilot_python/arbeidsdata/arbeidsfiler/'+aar+'/bev_konsern.parquet')\n",
    "bev_kako = pd.read_parquet('/ssb/stamme03/komakro/pilot_python/arbeidsdata/arbeidsfiler/'+aar+'/bev_kasse_konsolidert.parquet')"
   ]
  },
  {
   "cell_type": "code",
   "execution_count": null,
   "id": "c64d6242-aa0f-4421-a7d6-6a540d118da3",
   "metadata": {},
   "outputs": [],
   "source": [
    "bal_konsern = pd.read_parquet('/ssb/stamme03/komakro/pilot_python/arbeidsdata/arbeidsfiler/'+aar+'/bal_konsern.parquet')\n",
    "bal_kako = pd.read_parquet('/ssb/stamme03/komakro/pilot_python/arbeidsdata/arbeidsfiler/'+aar+'/bal_kasse_konsolidert.parquet')"
   ]
  },
  {
   "cell_type": "markdown",
   "id": "08a6af1b-8034-4f6c-a8a9-d2a5253171ca",
   "metadata": {},
   "source": [
    "## Fjerner bydel\n",
    "- Lager ikke finansielle tabeller for bydel\n",
    "**Er bydel fjernet for kasse? Om ikke kan de fjernes tidligere i løpet.**"
   ]
  },
  {
   "cell_type": "code",
   "execution_count": null,
   "id": "8afbe48b-9758-4f4e-8016-113c664f1c2f",
   "metadata": {},
   "outputs": [],
   "source": [
    "bydel = bev_konsern[(bev_konsern['region'].str.contains('0301'))\n",
    "                    & (bev_konsern['region'].str[4:]!='')]\n",
    "bydelsliste = bydel.region.unique()"
   ]
  },
  {
   "cell_type": "code",
   "execution_count": null,
   "id": "8dd60770-66af-4421-918f-e894c516161d",
   "metadata": {},
   "outputs": [],
   "source": [
    "bev_konsern_ub = bev_konsern[(~bev_konsern['region'].isin(bydelsliste)) &\n",
    "                            (bev_konsern['region'] != 'EAB')]"
   ]
  },
  {
   "cell_type": "code",
   "execution_count": null,
   "id": "eab35177-5601-4224-b226-2899f8d523ba",
   "metadata": {},
   "outputs": [],
   "source": [
    "bal_konsern_ub = bal_konsern[(~bal_konsern['region'].isin(bydelsliste)) &\n",
    "                            (bal_konsern['region'] != 'EAB')]"
   ]
  },
  {
   "cell_type": "markdown",
   "id": "65ba104a-cd37-4dba-95cf-0ed80f36b78b",
   "metadata": {},
   "source": [
    "## Finansielle grunnlagsdata\n",
    "- Mangler noe fra balanse. KG 38, 39 og 40 er ikke lagd!"
   ]
  },
  {
   "cell_type": "code",
   "execution_count": null,
   "id": "698c4dbc-300a-4cfd-abe8-f0ca09890d53",
   "metadata": {},
   "outputs": [],
   "source": [
    "filter_bev = pd.read_csv(\"/ssb/bruker/mtk/Testdata/inndata/Filter Finansielle grunnlagsdata.csv\", sep=';')\n",
    "#Dette filteret gjelder kun kommune. Fykom må ha et eget"
   ]
  },
  {
   "cell_type": "code",
   "execution_count": null,
   "id": "bf097c02-a62a-46e1-9bc6-fb642ebffbca",
   "metadata": {},
   "outputs": [],
   "source": [
    "keys = list(filter_bev.columns.values)\n",
    "i1 = bev_konsern_ub.set_index(keys).index\n",
    "i2 = filter_bev.set_index(keys).index\n",
    "fingr_bev= bev_konsern_ub[i1.isin(i2)]\n",
    "fingr_bev = fingr_bev.drop(columns=['funksjon', 'kontoklasse','regnskapsomfang']).reset_index(drop=True)\n",
    "fingr_bev.rename(columns={'art':'art_kap'}, inplace = True)"
   ]
  },
  {
   "cell_type": "code",
   "execution_count": null,
   "id": "9200d21f-0b4e-4f53-87c1-493ea59a4424",
   "metadata": {
    "tags": []
   },
   "outputs": [],
   "source": [
    "filter_bal = [\"5900\", \"KG14\", \"KG15\", \"KG28\", \"KG38\", \"56\", \"KG21\", \"KG25\", \"KG32\", \"KG18\", \"KG31\", \"KG40\", \"40\", \"KG39\", \"41\", \"42\", \"43\"]\n",
    "fingr_bal = bal_konsern_ub[(bal_konsern_ub['kapittel'].isin(filter_bal))]\n",
    "fingr_bal = fingr_bal.drop(columns=['regnskapsomfang']).reset_index(drop=True)\n",
    "fingr_bal.rename(columns={'kapittel':'art_kap'}, inplace = True)"
   ]
  },
  {
   "cell_type": "code",
   "execution_count": null,
   "id": "1e2db86f-79d8-4c85-962e-c1f901e403d2",
   "metadata": {},
   "outputs": [],
   "source": [
    "fingr_konsern = pd.concat([fingr_bal, fingr_bev])"
   ]
  },
  {
   "cell_type": "code",
   "execution_count": null,
   "id": "c407edef-311f-4cbf-94ac-e39d97a550b4",
   "metadata": {},
   "outputs": [],
   "source": [
    "#Fylkeskommune. Denne stemmer ikke siden det ikke er riktig filter\n",
    "fingn_komkonsern = fingr_konsern.loc[(fingr_konsern['region'].str[2:]!='00')&\n",
    "                                     (~fingr_konsern['region'].str.contains('EAFK'))]"
   ]
  },
  {
   "cell_type": "code",
   "execution_count": null,
   "id": "f5dd67e4-bf9e-450b-b3f3-ff250e4bb63c",
   "metadata": {
    "jupyter": {
     "outputs_hidden": true
    },
    "tags": []
   },
   "outputs": [],
   "source": [
    "fingn_komkonsern"
   ]
  },
  {
   "cell_type": "code",
   "execution_count": null,
   "id": "fba528cc-67fd-4656-b504-8ca47845f2c6",
   "metadata": {
    "jupyter": {
     "outputs_hidden": true
    },
    "tags": []
   },
   "outputs": [],
   "source": [
    "var = fingn_komkonsern.art_kap.unique()\n",
    "var.sort()\n",
    "var"
   ]
  },
  {
   "cell_type": "markdown",
   "id": "62747de9-bf6a-46a9-9a20-271d9aab1621",
   "metadata": {},
   "source": [
    "Hente de som mangler i skjema 23 via api/ skrape nettsiden"
   ]
  },
  {
   "cell_type": "code",
   "execution_count": null,
   "id": "a22f1cc1-7509-450b-8499-25f712954626",
   "metadata": {},
   "outputs": [],
   "source": [
    "url = 'https://skjema.ssb.no/xtra/mottatt.asp?skjemanr=23&filter='"
   ]
  },
  {
   "cell_type": "code",
   "execution_count": null,
   "id": "282cbbe4-0f5f-40db-b4c1-3d281cfc8d8c",
   "metadata": {},
   "outputs": [],
   "source": []
  }
 ],
 "metadata": {
  "kernelspec": {
   "display_name": "Python 3",
   "language": "python",
   "name": "python3"
  },
  "language_info": {
   "codemirror_mode": {
    "name": "ipython",
    "version": 3
   },
   "file_extension": ".py",
   "mimetype": "text/x-python",
   "name": "python",
   "nbconvert_exporter": "python",
   "pygments_lexer": "ipython3",
   "version": "3.8.8"
  }
 },
 "nbformat": 4,
 "nbformat_minor": 5
}
