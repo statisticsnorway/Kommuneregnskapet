{
 "cells": [
  {
   "cell_type": "code",
   "execution_count": null,
   "id": "416a7145-6d27-43dc-b0d5-63f3a054f5ae",
   "metadata": {},
   "outputs": [],
   "source": [
    "#def aargang():\n",
    "#    aar=input('Angi årgang for filene:' )\n",
    "#    aar_1t = str(int(aar) - 1)\n",
    "#    aar_t1 = str(int(aar) + 1)\n",
    "#    return(print(\"Du lager nå filer for \" + aar))"
   ]
  },
  {
   "cell_type": "code",
   "execution_count": null,
   "id": "f815f863-c458-479a-a366-4286c751dcc8",
   "metadata": {},
   "outputs": [],
   "source": [
    "aar=input('Angi årgang for filene:' )\n",
    "aar_1t = str(int(aar) - 1)\n",
    "aar_t1 = str(int(aar) + 1)\n",
    "print(\"Du lager nå filer for \" + aar)"
   ]
  },
  {
   "cell_type": "code",
   "execution_count": null,
   "id": "29dbe3d0-bafc-4d31-8aac-a4e5347e8fef",
   "metadata": {},
   "outputs": [],
   "source": []
  }
 ],
 "metadata": {
  "kernelspec": {
   "display_name": "Python 3",
   "language": "python",
   "name": "python3"
  },
  "language_info": {
   "codemirror_mode": {
    "name": "ipython",
    "version": 3
   },
   "file_extension": ".py",
   "mimetype": "text/x-python",
   "name": "python",
   "nbconvert_exporter": "python",
   "pygments_lexer": "ipython3",
   "version": "3.8.8"
  }
 },
 "nbformat": 4,
 "nbformat_minor": 5
}
