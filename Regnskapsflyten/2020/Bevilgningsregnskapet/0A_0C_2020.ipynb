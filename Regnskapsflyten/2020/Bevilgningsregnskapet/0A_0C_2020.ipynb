{
 "cells": [
  {
   "cell_type": "markdown",
   "id": "648939b2-e4db-4629-bb41-10332b88b921",
   "metadata": {},
   "source": [
    "# Replikere løpet for skjema A og C fra Kompis\n",
    "- Hente fra Dynarev\n",
    "- I Kompis slås A og C sammen etter operasjonene er gjort på hver av datasettene. Kan det gjøres før?\n",
    "- Må legge til bydeler på Oslo før de slås sammen. I kompis gjøres dette ved: identifier fylkesregion := if BYDEL <> \"00\" then t1.REGION || t1.BYDEL else t1.REGION,\n",
    "- Oslo: kopiere alle rader med region 0301 til 0300. \n",
    "- Kan jeg kontrollere at kun gyldige arter og funksjoner er inkludert på en annen måte enn filtrering? Kanskje en merge? "
   ]
  },
  {
   "cell_type": "code",
   "execution_count": null,
   "id": "a2d17656-98d8-4623-9f35-c3cf34eade8a",
   "metadata": {},
   "outputs": [],
   "source": [
    "import pandas as pd\n",
    "import numpy as np\n",
    "import glob\n",
    "import requests\n",
    "import io"
   ]
  },
  {
   "cell_type": "code",
   "execution_count": null,
   "id": "c195a0fe-cf21-43b7-a650-06f756b5c5b3",
   "metadata": {
    "tags": []
   },
   "outputs": [],
   "source": [
    "paths = glob.glob(\"/ssb/bruker/mtk/Testdata/inndata/*\")\n",
    "paths"
   ]
  },
  {
   "cell_type": "code",
   "execution_count": null,
   "id": "8df5b9a3-f330-4ad7-ac65-c5c79640fc6f",
   "metadata": {
    "tags": []
   },
   "outputs": [],
   "source": [
    "a_c_2020 = pd.read_csv(\"/ssb/bruker/mtk/Testdata/inndata/0A_0C_start_2020.csv\", sep = ';')"
   ]
  },
  {
   "cell_type": "code",
   "execution_count": null,
   "id": "942db921-2af8-48b8-aaca-7c7b65e8ce2a",
   "metadata": {
    "tags": []
   },
   "outputs": [],
   "source": [
    "a_c_2020.dtypes"
   ]
  },
  {
   "cell_type": "code",
   "execution_count": null,
   "id": "1ade095d-ed0c-443a-b52b-d00c168e527a",
   "metadata": {
    "tags": []
   },
   "outputs": [],
   "source": [
    "#Endrer datatype. Bør kunne gjøres på alle i et steg. \n",
    "a_c_2020['periode'] = a_c_2020['periode'].astype(\"str\")\n",
    "a_c_2020['fylkesregion'] = a_c_2020['fylkesregion'].astype(\"str\")\n",
    "a_c_2020['kontoklasse'] = a_c_2020['kontoklasse'].astype(\"str\")\n",
    "a_c_2020['funksjon'] = a_c_2020['funksjon'].astype(\"str\")\n",
    "a_c_2020['art'] = a_c_2020['art'].astype(\"str\")"
   ]
  },
  {
   "cell_type": "code",
   "execution_count": null,
   "id": "6d974d3d-9b4c-4597-afd2-1e0c1f3121c0",
   "metadata": {
    "tags": []
   },
   "outputs": [],
   "source": [
    "a_c_2020.dtypes"
   ]
  },
  {
   "cell_type": "code",
   "execution_count": null,
   "id": "efda2392-7f3b-4beb-a2e2-8a741fcc81c2",
   "metadata": {
    "tags": []
   },
   "outputs": [],
   "source": [
    "#start_a.head()"
   ]
  },
  {
   "cell_type": "code",
   "execution_count": null,
   "id": "8d0356e3-4315-4e6f-9071-5edf22db4ccc",
   "metadata": {
    "tags": []
   },
   "outputs": [],
   "source": [
    "#start_a_c.head(400)"
   ]
  },
  {
   "cell_type": "code",
   "execution_count": null,
   "id": "adb0ee1a-6b5b-4b27-9975-dcd8d7d84b6c",
   "metadata": {
    "tags": []
   },
   "outputs": [],
   "source": [
    "#Legger på ledende nuller. Forhåpentligvis slipper vi dette når data kan hentes direkte fra ISEE\n",
    "a_c_2020['art']=a_c_2020['art'].apply(lambda x: '{0:0>3}'.format(x))\n",
    "a_c_2020['fylkesregion']=a_c_2020['fylkesregion'].apply(lambda x: '{0:0>4}'.format(x))"
   ]
  },
  {
   "cell_type": "code",
   "execution_count": null,
   "id": "4955f139-d5b6-4e51-a2ed-355712bb41c1",
   "metadata": {},
   "outputs": [],
   "source": [
    "a_c_2020"
   ]
  },
  {
   "cell_type": "code",
   "execution_count": null,
   "id": "36f1ced5-c88b-41b8-97d8-cc8a0cde47da",
   "metadata": {},
   "outputs": [],
   "source": [
    "#Lagrer datasett\n",
    "a_c_2020.to_parquet(\"../../../../Testdata/arbeidsdata/a_c_2020.parquet\")"
   ]
  },
  {
   "cell_type": "code",
   "execution_count": null,
   "id": "928de9ed-2f81-4b40-a841-5280d7ea9cbd",
   "metadata": {},
   "outputs": [],
   "source": []
  }
 ],
 "metadata": {
  "kernelspec": {
   "display_name": "Python 3 (ipykernel)",
   "language": "python",
   "name": "python3"
  },
  "language_info": {
   "codemirror_mode": {
    "name": "ipython",
    "version": 3
   },
   "file_extension": ".py",
   "mimetype": "text/x-python",
   "name": "python",
   "nbconvert_exporter": "python",
   "pygments_lexer": "ipython3",
   "version": "3.8.8"
  }
 },
 "nbformat": 4,
 "nbformat_minor": 5
}
