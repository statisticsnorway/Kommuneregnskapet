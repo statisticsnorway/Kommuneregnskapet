{
 "cells": [
  {
   "cell_type": "code",
   "execution_count": null,
   "id": "ad282c2a-6f65-4fb8-90e4-0167d3b1439e",
   "metadata": {},
   "outputs": [],
   "source": [
    "import pandas as pd\n",
    "import numpy as np\n",
    "import glob\n",
    "exec(open('funksjoner.py').read())"
   ]
  },
  {
   "cell_type": "code",
   "execution_count": null,
   "id": "67fac218-4f7c-4f2d-8c98-71e33412eee0",
   "metadata": {
    "tags": []
   },
   "outputs": [],
   "source": [
    "createhierarchy()"
   ]
  },
  {
   "cell_type": "code",
   "execution_count": null,
   "id": "c45edea9-eb90-40ea-8003-38efee135fd0",
   "metadata": {},
   "outputs": [],
   "source": [
    "regnskap = pd.read_parquet(\"../../Testdata/arbeidsdata/KostraRegnskap/kostra0a_0c_basis_2021.parquet\")\n",
    "kommunehierarki = pd.read_parquet('kommunehierarki2021.parquet')"
   ]
  },
  {
   "cell_type": "code",
   "execution_count": null,
   "id": "227c7898-d524-49c8-82b1-64f0b326b69f",
   "metadata": {},
   "outputs": [],
   "source": [
    "hierarchy(regnskap,kommunehierarki)"
   ]
  },
  {
   "cell_type": "code",
   "execution_count": null,
   "id": "8c31a702-a9ea-4f5b-b27b-9b9504a3fd10",
   "metadata": {},
   "outputs": [],
   "source": []
  }
 ],
 "metadata": {
  "kernelspec": {
   "display_name": "Python 3",
   "language": "python",
   "name": "python3"
  },
  "language_info": {
   "codemirror_mode": {
    "name": "ipython",
    "version": 3
   },
   "file_extension": ".py",
   "mimetype": "text/x-python",
   "name": "python",
   "nbconvert_exporter": "python",
   "pygments_lexer": "ipython3",
   "version": "3.8.8"
  }
 },
 "nbformat": 4,
 "nbformat_minor": 5
}
