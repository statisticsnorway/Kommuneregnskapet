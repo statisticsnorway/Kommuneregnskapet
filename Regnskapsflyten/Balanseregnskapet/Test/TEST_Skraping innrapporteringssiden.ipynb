{
 "cells": [
  {
   "cell_type": "markdown",
   "id": "4b3eb71e-1549-43eb-8aa1-87bdda896b43",
   "metadata": {},
   "source": [
    "# Skraping av data fra innrapporteringssiden"
   ]
  },
  {
   "cell_type": "code",
   "execution_count": null,
   "id": "a5e39706-1cd8-4f85-868c-a0ef5a552ec3",
   "metadata": {},
   "outputs": [],
   "source": [
    "library(rvest)\n",
    "library(tidyverse)\n",
    "library(httr)"
   ]
  },
  {
   "cell_type": "code",
   "execution_count": null,
   "id": "7ebf89a7-4ea3-4612-b894-26a5f58db61a",
   "metadata": {},
   "outputs": [],
   "source": [
    "nettside <- httr::GET('https://skjema.ssb.no/xtra/mottatt.asp?skjemanr=23&filter=')"
   ]
  },
  {
   "cell_type": "code",
   "execution_count": null,
   "id": "e7c93c45-1e31-4cc2-a082-2ada90304099",
   "metadata": {},
   "outputs": [],
   "source": [
    "nettside %>% \n",
    "httr::content() %>%\n",
    "rvest::html_node('tbody') %>%\n",
    "rvest::html_nodes('td') %>%\n",
    "rvest::html_text()"
   ]
  },
  {
   "cell_type": "code",
   "execution_count": null,
   "id": "21939336-bb0e-48c3-81e7-6ee5c672c6d4",
   "metadata": {},
   "outputs": [],
   "source": [
    "nettside <- httr::GET(\"https://skjema.ssb.no/xtra/mottatt.asp?skjemanr=23&filter=\")\n",
    "\n",
    "test <- nettside %>% \n",
    "  httr::content() %>% \n",
    "  rvest::html_element(\"tbody\") %>% \n",
    "  rvest::html_elements(\"tr\") %>% \n",
    "  map(function(tr){\n",
    "    \n",
    "    strenger <- \n",
    "      tr %>% \n",
    "      rvest::html_elements(\"td\") %>% \n",
    "      rvest::html_text()\n",
    "    \n",
    "    names(strenger) <- c(\"kommunenr\", \"kommunenavn\")\n",
    "     \n",
    "    strenger\n",
    "    \n",
    "  }) %>% \n",
    "  bind_rows()\n"
   ]
  },
  {
   "cell_type": "code",
   "execution_count": null,
   "id": "13f3a3b3-1744-4929-aad0-ceb07453cbf3",
   "metadata": {},
   "outputs": [],
   "source": []
  },
  {
   "cell_type": "code",
   "execution_count": null,
   "id": "c83f14db-7e61-4310-bd5b-f6e5f819c0ac",
   "metadata": {},
   "outputs": [],
   "source": []
  }
 ],
 "metadata": {
  "kernelspec": {
   "display_name": "R",
   "language": "R",
   "name": "ir"
  },
  "language_info": {
   "codemirror_mode": "r",
   "file_extension": ".r",
   "mimetype": "text/x-r-source",
   "name": "R",
   "pygments_lexer": "r",
   "version": "4.1.3"
  }
 },
 "nbformat": 4,
 "nbformat_minor": 5
}
