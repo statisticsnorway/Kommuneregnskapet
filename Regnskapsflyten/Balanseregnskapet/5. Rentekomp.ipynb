{
 "cells": [
  {
   "cell_type": "markdown",
   "id": "4b5af2db-ec27-42aa-8765-2a621159cd51",
   "metadata": {},
   "source": [
    "# Lager rentekomp"
   ]
  },
  {
   "cell_type": "code",
   "execution_count": null,
   "id": "aa602f9e-851a-4e64-9eb5-b034bc39ff06",
   "metadata": {},
   "outputs": [],
   "source": [
    "import pandas as pd\n",
    "import numpy as np"
   ]
  },
  {
   "cell_type": "code",
   "execution_count": null,
   "id": "ed515a15-2779-4f16-b3b8-0a010ae69f50",
   "metadata": {},
   "outputs": [],
   "source": [
    "%run ./../aargang.ipynb"
   ]
  },
  {
   "cell_type": "markdown",
   "id": "b666c740-5ca1-4794-ab07-f42099a800ad",
   "metadata": {},
   "source": [
    "## Henter data\n",
    "- Utføres kun på konsernregnskapset"
   ]
  },
  {
   "cell_type": "code",
   "execution_count": null,
   "id": "0b5c9d0c-171f-4185-8a2e-85216ad2677f",
   "metadata": {},
   "outputs": [],
   "source": [
    "balanse = pd.read_parquet('/ssb/stamme03/komakro/pilot_python/arbeidsdata/arbeidsfiler/'+aar+'/bal_konsern.parquet')\n",
    "kommuner = pd.read_parquet('/ssb/stamme03/komakro/pilot_python/arbeidsdata/klass/' + aar + '/komm.parquet').astype(str)"
   ]
  },
  {
   "cell_type": "markdown",
   "id": "d7e3c96c-5efb-41cd-a919-414b7900a1a2",
   "metadata": {},
   "source": [
    "## Kalkylerenten"
   ]
  },
  {
   "cell_type": "code",
   "execution_count": null,
   "id": "f5ac8285-0f48-4629-8fe9-95c0a04a227b",
   "metadata": {},
   "outputs": [],
   "source": [
    "kalkylerente = {'periode': ['2015', '2016', '2017', '2018', '2019', '2020', '2021'],\n",
    "               'kalkylerente': [0.0158, 0.0168, 0.0198, 0.0237, 0.030, 0.0139, 0.0196]}\n",
    "kalkylerente = pd.DataFrame(kalkylerente)"
   ]
  },
  {
   "cell_type": "markdown",
   "id": "def3c43d-f6b8-4094-bc33-e12415c296a4",
   "metadata": {},
   "source": [
    "## Selvkostregnskapet for vann, avløp og renovasjon"
   ]
  },
  {
   "cell_type": "code",
   "execution_count": null,
   "id": "9058e339-10e8-4557-a8d7-6293a6642914",
   "metadata": {},
   "outputs": [],
   "source": [
    "%run ./Selvkostregnskap_for_VAR.ipynb"
   ]
  },
  {
   "cell_type": "code",
   "execution_count": null,
   "id": "9128540c-05dc-4d46-8365-351aecac7404",
   "metadata": {},
   "outputs": [],
   "source": [
    "keys = list(kommuner.columns.values)\n",
    "i1 = selvkost.set_index(keys).index\n",
    "i2 = kommuner.set_index(keys).index\n",
    "selvkostaar = selvkost[i1.isin(i2)]"
   ]
  },
  {
   "cell_type": "markdown",
   "id": "77862d5e-dd0d-4c4f-8aaa-cc67446bffed",
   "metadata": {},
   "source": [
    "### Ordner kalkulatoriake rentekostnader for vann, avløp og renovasjon\n",
    "Henter ut variablene \n",
    "- kalkulatoriske rentekostnader, intern produksjon (C1_klakrintern)\n",
    "- Kalkulatoria\\ske rentekostnader, ekstern produksjon (C21_kalkrsbedr)\n",
    "- Gebyrgrunnlag (F_gebyrgrlag) for renovasjon\n",
    "- For årganger tidligere enn 2020 benyttes kalkulatoriske rentekostnader (C_kalkrente) i stedet for C1 og C21. "
   ]
  },
  {
   "cell_type": "code",
   "execution_count": null,
   "id": "4ea1ff00-7ea5-4fbe-9442-e9b1548f4183",
   "metadata": {},
   "outputs": [],
   "source": [
    "if str(aar) >= '2020':\n",
    "    selvkostvar = {'kommunalsektor': ['2_a','2_a','1_v','1_v','3_r','3_r','3_r'],\n",
    "                   'post': ['C1_kalkrintern','C_21_kalkrsbedr','C1_kalkrintern','C_21_kalkrsbedr','C1_kalkrintern','C_21_kalkrsbedr','F_gebyrgrlag']}\n",
    "else:\n",
    "    selvkostvar = {'kommunalsektor': ['2_a','2_a','1_v','1_v','3_r','3_r'],\n",
    "                   'post': ['C1_kalkrintern','C_21_kalkrsbedr','C1_kalkrintern','C_21_kalkrsbedr','C_kalkrente','F_gebyrgrlag']}\n",
    "\n",
    "selvkostvar = pd.DataFrame(selvkostvar)"
   ]
  },
  {
   "cell_type": "markdown",
   "id": "2b68fcc7-b9bb-456b-aecb-261d26783cab",
   "metadata": {},
   "source": [
    "- Filtrerer ut men henys på årets kommuneliste"
   ]
  },
  {
   "cell_type": "code",
   "execution_count": null,
   "id": "a7f3a49b-1612-4cc3-8655-3bf83000e871",
   "metadata": {},
   "outputs": [],
   "source": [
    "keys = list(selvkostvar.columns.values)\n",
    "i1 = selvkostaar.set_index(keys).index\n",
    "i2 = selvkostvar.set_index(keys).index\n",
    "selvkostregn = selvkostaar[i1.isin(i2)]"
   ]
  },
  {
   "cell_type": "markdown",
   "id": "52ba01d9-9a1b-4596-87c4-50481434c0e5",
   "metadata": {},
   "source": [
    "#### Renovasjon\n",
    "- For renovasjon (kalt avfall) skal beløpet kun inkluderes dersom gebyrgrunnlaget er større enn null"
   ]
  },
  {
   "cell_type": "code",
   "execution_count": null,
   "id": "59f3a70c-e7b5-444e-8bd5-ba7034cba8f4",
   "metadata": {},
   "outputs": [],
   "source": [
    "kalk_avfall = selvkostregn[selvkostregn['kommunalsektor']=='3_r'].copy()\n",
    "kalk_avfall=kalkav.fillna(0)"
   ]
  },
  {
   "cell_type": "code",
   "execution_count": null,
   "id": "68781a78-4bd8-4288-a012-7ccbcbe6da67",
   "metadata": {
    "tags": []
   },
   "outputs": [],
   "source": [
    "snudd = kalk_avfall.pivot_table('belop',['region','kommunalsektor','periode'], 'post' )\n",
    "snudd.reset_index(drop=False, inplace=True)\n",
    "snudd['kalk_avfall'] = np.where(snudd['F_gebyrgrlag']>0,snudd['C1_kalkrintern'],0)\n",
    "avfall=snudd.drop(columns={'F_gebyrgrlag','C1_kalkrintern','kommunalsektor'}).rename_axis(None,axis=1)"
   ]
  },
  {
   "cell_type": "markdown",
   "id": "3bc6da65-df82-425b-9278-38d33ecda91b",
   "metadata": {},
   "source": [
    "### Vann og avløp\n",
    "- Summerer sammen intern og ekstern produksjon for vann og avløp"
   ]
  },
  {
   "cell_type": "code",
   "execution_count": null,
   "id": "9073770e-3086-4c08-b790-f38e986156e7",
   "metadata": {},
   "outputs": [],
   "source": [
    "kalk_vann_avlop = selvkostregn[selvkostregn['kommunalsektor']!='3_r'].copy()\n",
    "kalk_vann_avlop = kalk_vann_avlop.fillna(0)"
   ]
  },
  {
   "cell_type": "code",
   "execution_count": null,
   "id": "a474d0fa-3fe8-4e3a-a45b-35e82dba17e1",
   "metadata": {
    "tags": []
   },
   "outputs": [],
   "source": [
    "snudd_va = kalk_vann_avlop.groupby(['kommunalsektor','region','periode'])[['belop']].sum().reset_index()\n",
    "snudd_va = snudd_va.pivot_table('belop',['region','periode'], 'kommunalsektor' )\n",
    "snudd_va.reset_index(drop=False, inplace=True)\n",
    "snudd_va.rename(columns={'1_v':'kalk_vann','2_a':'kalk_avlop'}, inplace = True)\n",
    "vann_avlop = snudd_va.rename_axis(None,axis=1)"
   ]
  },
  {
   "cell_type": "markdown",
   "id": "1c4099e5-9221-41ca-bf15-c41015cc06d2",
   "metadata": {},
   "source": [
    "- Samler vann, avløp og renovasjon"
   ]
  },
  {
   "cell_type": "code",
   "execution_count": null,
   "id": "be6bd873-6648-459c-b61d-f908e424bff0",
   "metadata": {},
   "outputs": [],
   "source": [
    "selvkostregnskapet = pd.merge(vann_avlop, avfall, how='outer', on = ['region', 'periode'])"
   ]
  },
  {
   "cell_type": "code",
   "execution_count": null,
   "id": "3ee18127-b1e5-4d5c-abe6-fd5deb1a3ffe",
   "metadata": {},
   "outputs": [],
   "source": [
    "selvkostregnskapet['kalk_rente'] = selvkostregnskapet['kalk_vann'] + selvkostregnskapet['kalk_avlop'] + selvkostregnskapet['kalk_avfall']\n",
    "selvkostregnskapet=selvkostregnskapet.drop(columns={'kalk_vann', 'kalk_avlop', 'kalk_avfall'})"
   ]
  },
  {
   "cell_type": "markdown",
   "id": "e2c24029-fd24-4f92-ae39-1873b5e55e13",
   "metadata": {},
   "source": [
    "- Setter på kalkylerenten og lager kalkulatoriske rente vann, avløp og renovasjon"
   ]
  },
  {
   "cell_type": "code",
   "execution_count": null,
   "id": "6753a1fd-b174-4ddb-a9a1-5928ebd96112",
   "metadata": {},
   "outputs": [],
   "source": [
    "rente = pd.merge(selvkostregnskapet, kalkylerente, how = 'left', on = ['periode'])\n",
    "rente['kalkrenteVAR']= rente['kalk_rente'] / rente['kalkylerente']\n",
    "rente=rente.drop(columns={'kalk_rente', 'kalkylerente'})\n",
    "rente"
   ]
  },
  {
   "cell_type": "code",
   "execution_count": null,
   "id": "87da9c72-66ed-47af-aef4-c8b1b0ccd6b4",
   "metadata": {},
   "outputs": [],
   "source": [
    "rente['kalkrenteVAR'] = np.where(rente['kalkrenteVAR']>0,rente['kalkrenteVAR'],0)\n",
    "rente"
   ]
  },
  {
   "cell_type": "code",
   "execution_count": null,
   "id": "f83b219a-83ba-4f26-9e9e-b982d0362d75",
   "metadata": {},
   "outputs": [],
   "source": []
  }
 ],
 "metadata": {
  "kernelspec": {
   "display_name": "Python 3",
   "language": "python",
   "name": "python3"
  },
  "language_info": {
   "codemirror_mode": {
    "name": "ipython",
    "version": 3
   },
   "file_extension": ".py",
   "mimetype": "text/x-python",
   "name": "python",
   "nbconvert_exporter": "python",
   "pygments_lexer": "ipython3",
   "version": "3.8.8"
  }
 },
 "nbformat": 4,
 "nbformat_minor": 5
}
