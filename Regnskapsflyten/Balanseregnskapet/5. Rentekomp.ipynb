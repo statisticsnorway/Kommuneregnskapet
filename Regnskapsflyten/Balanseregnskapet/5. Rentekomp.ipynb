{
 "cells": [
  {
   "cell_type": "markdown",
   "id": "4b5af2db-ec27-42aa-8765-2a621159cd51",
   "metadata": {},
   "source": [
    "# Finansielle Grunnlagsdata inkludert Rentekompensasjon"
   ]
  },
  {
   "cell_type": "code",
   "execution_count": null,
   "id": "aa602f9e-851a-4e64-9eb5-b034bc39ff06",
   "metadata": {},
   "outputs": [],
   "source": [
    "import pandas as pd\n",
    "import numpy as np"
   ]
  },
  {
   "cell_type": "code",
   "execution_count": null,
   "id": "ed515a15-2779-4f16-b3b8-0a010ae69f50",
   "metadata": {},
   "outputs": [],
   "source": [
    "%run ./../aargang.ipynb"
   ]
  },
  {
   "cell_type": "markdown",
   "id": "b666c740-5ca1-4794-ab07-f42099a800ad",
   "metadata": {},
   "source": [
    "## Henter data\n",
    "- Utføres kun på konsernregnskapset\n",
    "\n",
    "**OBS**  \n",
    "Nå hentes rentekomp kun for kommune! Skal dette beregnes for fylkeskommune også må en anne fil hentes.  \n",
    "Bytt ut  \n",
    "rentekomp = pd.read_parquet(\"../../../Testdata/arbeidsdata/KostraRegnskap/Rentekomp_kom_2021.parquet\")  \n",
    "til  \n",
    "rentekomp = pd.read_parquet(\"../../../Testdata/arbeidsdata/KostraRegnskap/Rentekomp_2021.parquet\")"
   ]
  },
  {
   "cell_type": "code",
   "execution_count": null,
   "id": "0b5c9d0c-171f-4185-8a2e-85216ad2677f",
   "metadata": {},
   "outputs": [],
   "source": [
    "balanse = pd.read_parquet('/ssb/stamme03/komakro/pilot_python/arbeidsdata/arbeidsfiler/'+aar+'/bal_konsern.parquet')\n",
    "kommuner = pd.read_parquet('/ssb/stamme03/komakro/pilot_python/arbeidsdata/klass/' + aar + '/komm.parquet').astype(str)\n",
    "fylkeskommuner = pd.read_parquet(\"/ssb/stamme03/komakro/pilot_python/arbeidsdata/klass/\" + aar + \"/fykomm.parquet\")\n",
    "rentekomp = pd.read_parquet(\"../../../Testdata/arbeidsdata/KostraRegnskap/Rentekomp_kom_2021.parquet\")\n",
    "kommunehierarki = pd.read_parquet(\"/ssb/stamme03/komakro/pilot_python/arbeidsdata/klass/\" + aar + \"/kommunehierarki.parquet\")\n",
    "fylkeskommunehierarki= pd.read_parquet(\"/ssb/stamme03/komakro/pilot_python/arbeidsdata/klass/\" + aar + \"/fylkeskommunehierarki.parquet\")\n",
    "manglende = pd.read_parquet(\"/ssb/stamme03/komakro/pilot_python/arbeidsdata/arbeidsfiler/\" + aar + \"/kostra0b_0d_manglende_\" + aar + \".parquet\")"
   ]
  },
  {
   "cell_type": "markdown",
   "id": "d7e3c96c-5efb-41cd-a919-414b7900a1a2",
   "metadata": {},
   "source": [
    "## Kalkylerenten"
   ]
  },
  {
   "cell_type": "code",
   "execution_count": null,
   "id": "f5ac8285-0f48-4629-8fe9-95c0a04a227b",
   "metadata": {},
   "outputs": [],
   "source": [
    "kalkylerente = {'periode': ['2015', '2016', '2017', '2018', '2019', '2020', '2021'],\n",
    "               'kalkylerente': [0.0158, 0.0168, 0.0198, 0.0237, 0.030, 0.0139, 0.0196]}\n",
    "kalkylerente = pd.DataFrame(kalkylerente)"
   ]
  },
  {
   "cell_type": "markdown",
   "id": "def3c43d-f6b8-4094-bc33-e12415c296a4",
   "metadata": {},
   "source": [
    "# Selvkostregnskapet for vann, avløp og renovasjon"
   ]
  },
  {
   "cell_type": "code",
   "execution_count": null,
   "id": "9058e339-10e8-4557-a8d7-6293a6642914",
   "metadata": {},
   "outputs": [],
   "source": [
    "%run ./Selvkostregnskap_for_VAR.ipynb"
   ]
  },
  {
   "cell_type": "markdown",
   "id": "30999b86-b0f5-423d-8c7a-5c0b873ff2ee",
   "metadata": {},
   "source": [
    "- Filtrerer på gyldige kommuner og fylkeskommuner\n",
    "\n",
    "**OBS**  \n",
    "Nå er det kun lagt inn filter på kommune. Dette for jeg ikke har kommet til der/om disse tallene benyttes for fykom. \n",
    "Dersom fykom skal være med åpnes regionlisten og kommuner byttes ut med regioner i filteret. "
   ]
  },
  {
   "cell_type": "code",
   "execution_count": null,
   "id": "9128540c-05dc-4d46-8365-351aecac7404",
   "metadata": {},
   "outputs": [],
   "source": [
    "#regioner = pd.concat([kommuner, fylkeskommuner])\n",
    "\n",
    "keys = list(kommuner.columns.values)\n",
    "i1 = selvkost.set_index(keys).index\n",
    "i2 = kommuner.set_index(keys).index\n",
    "selvkostaar = selvkost[i1.isin(i2)]"
   ]
  },
  {
   "cell_type": "markdown",
   "id": "77862d5e-dd0d-4c4f-8aaa-cc67446bffed",
   "metadata": {},
   "source": [
    "## Ordner kalkulatoriake rentekostnader for vann, avløp og renovasjon\n",
    "Henter ut variablene \n",
    "- kalkulatoriske rentekostnader, intern produksjon (C1_klakrintern)\n",
    "- Kalkulatoria\\ske rentekostnader, ekstern produksjon (C21_kalkrsbedr)\n",
    "- Gebyrgrunnlag (F_gebyrgrlag) for renovasjon\n",
    "- For årganger tidligere enn 2020 benyttes kalkulatoriske rentekostnader (C_kalkrente) i stedet for C1 og C21. "
   ]
  },
  {
   "cell_type": "code",
   "execution_count": null,
   "id": "4ea1ff00-7ea5-4fbe-9442-e9b1548f4183",
   "metadata": {},
   "outputs": [],
   "source": [
    "if str(aar) >= '2020':\n",
    "    selvkostvar = {'kommunalsektor': ['2_a','2_a','1_v','1_v','3_r','3_r','3_r'],\n",
    "                   'post': ['C1_kalkrintern','C_21_kalkrsbedr','C1_kalkrintern','C_21_kalkrsbedr','C1_kalkrintern','C_21_kalkrsbedr','F_gebyrgrlag']}\n",
    "else:\n",
    "    selvkostvar = {'kommunalsektor': ['2_a','2_a','1_v','1_v','3_r','3_r'],\n",
    "                   'post': ['C1_kalkrintern','C_21_kalkrsbedr','C1_kalkrintern','C_21_kalkrsbedr','C_kalkrente','F_gebyrgrlag']}\n",
    "\n",
    "selvkostvar = pd.DataFrame(selvkostvar)"
   ]
  },
  {
   "cell_type": "markdown",
   "id": "2b68fcc7-b9bb-456b-aecb-261d26783cab",
   "metadata": {},
   "source": [
    "- Filtrerer selvkostregnskapet basert på filteret lagt over"
   ]
  },
  {
   "cell_type": "code",
   "execution_count": null,
   "id": "a7f3a49b-1612-4cc3-8655-3bf83000e871",
   "metadata": {},
   "outputs": [],
   "source": [
    "keys = list(selvkostvar.columns.values)\n",
    "i1 = selvkostaar.set_index(keys).index\n",
    "i2 = selvkostvar.set_index(keys).index\n",
    "selvkostregn = selvkostaar[i1.isin(i2)]"
   ]
  },
  {
   "cell_type": "markdown",
   "id": "52ba01d9-9a1b-4596-87c4-50481434c0e5",
   "metadata": {},
   "source": [
    "### Renovasjon\n",
    "- I første steg summeres rentekostnader på intern og ekstern produksjon for sektor og kommuner"
   ]
  },
  {
   "cell_type": "code",
   "execution_count": null,
   "id": "59f3a70c-e7b5-444e-8bd5-ba7034cba8f4",
   "metadata": {},
   "outputs": [],
   "source": [
    "kalk_avfall_start = selvkostregn[selvkostregn['kommunalsektor']=='3_r'].copy()\n",
    "kalk_avfall_start=kalk_avfall_start.fillna(0)"
   ]
  },
  {
   "cell_type": "code",
   "execution_count": null,
   "id": "07301fad-af9d-4e19-9672-299d2395d8d2",
   "metadata": {
    "tags": []
   },
   "outputs": [],
   "source": [
    "kalk_avfall_prod = kalk_avfall_start[(kalk_avfall_start['post']=='C1_kalkrintern') | (kalk_avfall_start['post']=='C21_kalkrsbedr')]\n",
    "kalk_avfall_prod = kalk_avfall_prod.groupby(['kommunalsektor','region','periode'])[['belop']].sum().reset_index()\n",
    "kalk_avfall_prod['post'] = 'kalkrente'"
   ]
  },
  {
   "cell_type": "markdown",
   "id": "95ff2ec6-49e1-42a4-9b5b-f1f16e227a10",
   "metadata": {},
   "source": [
    "*Rentekostnadene skal kun inkluderes dersom gebyrgrunnlaget er større enn null*\n",
    "- Filtrer ut gebyrgrunnlaget og slår det sammen med renten\n",
    "- Detter rentekostnadene til null dersom gebyr er mindre enn null"
   ]
  },
  {
   "cell_type": "code",
   "execution_count": null,
   "id": "6fe08a86-73df-4140-bf40-bec3fb497d8f",
   "metadata": {},
   "outputs": [],
   "source": [
    "kalk_avfall_gebyr = kalk_avfall_start[(kalk_avfall_start['post']=='F_gebyrgrlag')]\n",
    "avfall = pd.concat([kalk_avfall_prod, kalk_avfall_gebyr])"
   ]
  },
  {
   "cell_type": "code",
   "execution_count": null,
   "id": "6f48fc95-aa29-4475-885b-66bc84a424f2",
   "metadata": {
    "tags": []
   },
   "outputs": [],
   "source": [
    "snudd = avfall.pivot_table('belop',['region','kommunalsektor','periode'], 'post' )\n",
    "snudd.reset_index(drop=False, inplace=True)\n",
    "snudd['kalk_avfall'] = np.where(snudd['F_gebyrgrlag']>0,snudd['kalkrente'],0)\n",
    "kalk_avfall=snudd.drop(columns={'F_gebyrgrlag','kalkrente','kommunalsektor'}).rename_axis(None,axis=1)"
   ]
  },
  {
   "cell_type": "markdown",
   "id": "3bc6da65-df82-425b-9278-38d33ecda91b",
   "metadata": {},
   "source": [
    "### Vann og avløp\n",
    "- Summerer sammen intern og ekstern produksjon for vann og avløp"
   ]
  },
  {
   "cell_type": "code",
   "execution_count": null,
   "id": "9073770e-3086-4c08-b790-f38e986156e7",
   "metadata": {},
   "outputs": [],
   "source": [
    "vann_avlop = selvkostregn[selvkostregn['kommunalsektor']!='3_r'].copy()\n",
    "vann_avlop = vann_avlop.fillna(0)"
   ]
  },
  {
   "cell_type": "code",
   "execution_count": null,
   "id": "a474d0fa-3fe8-4e3a-a45b-35e82dba17e1",
   "metadata": {
    "tags": []
   },
   "outputs": [],
   "source": [
    "snudd_va = vann_avlop.groupby(['kommunalsektor','region','periode'])[['belop']].sum().reset_index()\n",
    "snudd_va = snudd_va.pivot_table('belop',['region','periode'], 'kommunalsektor' )\n",
    "snudd_va.reset_index(drop=False, inplace=True)\n",
    "snudd_va.rename(columns={'1_v':'kalk_vann','2_a':'kalk_avlop'}, inplace = True)\n",
    "kalk_vann_avlop = snudd_va.rename_axis(None,axis=1)"
   ]
  },
  {
   "cell_type": "markdown",
   "id": "1c4099e5-9221-41ca-bf15-c41015cc06d2",
   "metadata": {},
   "source": [
    "### Samler vann, avløp og renovasjon"
   ]
  },
  {
   "cell_type": "code",
   "execution_count": null,
   "id": "be6bd873-6648-459c-b61d-f908e424bff0",
   "metadata": {},
   "outputs": [],
   "source": [
    "selvkostregnskapet = pd.merge(kalk_vann_avlop, kalk_avfall, how='outer', on = ['region', 'periode'])"
   ]
  },
  {
   "cell_type": "code",
   "execution_count": null,
   "id": "3ee18127-b1e5-4d5c-abe6-fd5deb1a3ffe",
   "metadata": {},
   "outputs": [],
   "source": [
    "selvkostregnskapet['kalk_rente'] = selvkostregnskapet['kalk_vann'] + selvkostregnskapet['kalk_avlop'] + selvkostregnskapet['kalk_avfall']\n",
    "selvkostregnskapet=selvkostregnskapet.drop(columns={'kalk_vann', 'kalk_avlop', 'kalk_avfall'})"
   ]
  },
  {
   "cell_type": "markdown",
   "id": "e2c24029-fd24-4f92-ae39-1873b5e55e13",
   "metadata": {},
   "source": [
    "- Setter på kalkylerenten og lager kalkulatoriske rente vann, avløp og renovasjon"
   ]
  },
  {
   "cell_type": "code",
   "execution_count": null,
   "id": "6753a1fd-b174-4ddb-a9a1-5928ebd96112",
   "metadata": {
    "tags": []
   },
   "outputs": [],
   "source": [
    "rente = pd.merge(selvkostregnskapet, kalkylerente, how = 'left', on = ['periode'])\n",
    "rente['kalkVAR']= rente['kalk_rente'] / rente['kalkylerente']\n",
    "rente=rente.drop(columns={'kalk_rente', 'kalkylerente'})"
   ]
  },
  {
   "cell_type": "code",
   "execution_count": null,
   "id": "87da9c72-66ed-47af-aef4-c8b1b0ccd6b4",
   "metadata": {
    "tags": []
   },
   "outputs": [],
   "source": [
    "rente['kalkVAR'] = np.where(rente['kalkVAR']>0,rente['kalkVAR'],0)"
   ]
  },
  {
   "cell_type": "code",
   "execution_count": null,
   "id": "f83b219a-83ba-4f26-9e9e-b982d0362d75",
   "metadata": {
    "tags": []
   },
   "outputs": [],
   "source": [
    "kalkvar = pd.melt(rente,\n",
    "                  id_vars=['region','periode'],\n",
    "                  value_vars=list(rente.columns[2:]),\n",
    "                  var_name='kapittel',\n",
    "                  value_name='belop')"
   ]
  },
  {
   "cell_type": "markdown",
   "id": "bd30a2d6-e120-45f7-bbb2-9b86532ddb17",
   "metadata": {},
   "source": [
    "### Legger til Oslo fylkeskommune"
   ]
  },
  {
   "cell_type": "code",
   "execution_count": null,
   "id": "8661a0fa-893c-4d4f-a825-982e3d8f8c05",
   "metadata": {},
   "outputs": [],
   "source": [
    "#Henter ut Oslo og endrer regionskode til 0300. Legger Oslo fylkeskommune på arbeidsfilen. \n",
    "oslo=kalkvar[(kalkvar['region']=='0301')].copy()\n",
    "oslo['region'] = oslo['region'].str.replace('0301', '0300')"
   ]
  },
  {
   "cell_type": "code",
   "execution_count": null,
   "id": "e5bec999-8a55-46ea-8c70-744cbec86e69",
   "metadata": {},
   "outputs": [],
   "source": [
    "kalkylerenteVAR = pd.concat([kalkvar, oslo])"
   ]
  },
  {
   "cell_type": "markdown",
   "id": "abd8f872-c45a-4cfa-8835-c23ce6624f99",
   "metadata": {},
   "source": [
    "## Ordner balansen\n",
    "- Filtrerer på gyldige kommuner og fylkeskommuner\n",
    "\n",
    "**OBS**  \n",
    "Nå er det kun lagt inn filter på kommune. Dette for jeg ikke har kommet til der/om disse tallene benyttes for fykom. \n",
    "Dersom fykom skal være med åpnes regionlisten og kommuner byttes ut med regioner i filteret."
   ]
  },
  {
   "cell_type": "code",
   "execution_count": null,
   "id": "3b5a5510-dec7-43d9-bed2-c242e98d7745",
   "metadata": {},
   "outputs": [],
   "source": [
    "#regioner = pd.concat([kommuner, fylkeskommuner])\n",
    "\n",
    "keys_bal = list(kommuner.columns.values)\n",
    "i1 = balanse.set_index(keys_bal).index\n",
    "i2 = kommuner.set_index(keys_bal).index\n",
    "bal = balanse[i1.isin(i2)]"
   ]
  },
  {
   "cell_type": "code",
   "execution_count": null,
   "id": "114ae669-cc89-4674-940b-4681eedcb1ba",
   "metadata": {
    "tags": []
   },
   "outputs": [],
   "source": [
    "bal_var = bal[(bal['kapittel']=='KG31') | (bal['kapittel']=='KG18')]\n",
    "bal_var = bal_var.drop(columns={'regnskapsomfang'})"
   ]
  },
  {
   "cell_type": "markdown",
   "id": "3c88c978-125e-49e6-94c3-e9a498e2236f",
   "metadata": {},
   "source": [
    "## Ordner rentekomp"
   ]
  },
  {
   "cell_type": "code",
   "execution_count": null,
   "id": "65dff9fa-325d-4070-a31a-395a23d30396",
   "metadata": {},
   "outputs": [],
   "source": [
    "rentekomp = rentekomp.rename(columns={'rentekomp':'KG38'})"
   ]
  },
  {
   "cell_type": "code",
   "execution_count": null,
   "id": "e9bc867a-aef3-49c1-a7de-eac7d21c23ec",
   "metadata": {
    "tags": []
   },
   "outputs": [],
   "source": [
    "rentekompensasjon = pd.melt(rentekomp,\n",
    "                          id_vars=['region','periode'],\n",
    "                          value_vars=list(rentekomp.columns[2:]),\n",
    "                          var_name='kapittel',\n",
    "                          value_name='belop')"
   ]
  },
  {
   "cell_type": "markdown",
   "id": "3351ae0c-3078-4b41-824b-6df01c7e6970",
   "metadata": {},
   "source": [
    "## Slår sammen rentekomp, kalkylerenteVAR og balansevariabler"
   ]
  },
  {
   "cell_type": "code",
   "execution_count": null,
   "id": "90f9d4d5-d85b-45f4-ad95-2e64e4508748",
   "metadata": {
    "tags": []
   },
   "outputs": [],
   "source": [
    "samlet = pd.concat([rentekompensasjon, bal_var, kalkylerenteVAR])"
   ]
  },
  {
   "cell_type": "markdown",
   "id": "1e2dbbb9-be8c-43b1-ad23-1490bb643057",
   "metadata": {},
   "source": [
    "## Hierarkier"
   ]
  },
  {
   "cell_type": "markdown",
   "id": "dc0dfe3b-7e55-4ec8-b82c-83c2244f89b1",
   "metadata": {},
   "source": [
    "### Hierarki renteeksponert gjeld"
   ]
  },
  {
   "cell_type": "code",
   "execution_count": null,
   "id": "c63d4c62-5a05-4630-8358-9a51c0a5b42a",
   "metadata": {},
   "outputs": [],
   "source": [
    "hierarki = {'to': ['KG39', 'KG39', 'KG39', 'KG40', 'KG40', 'KG119', 'KG119', 'KG119', 'KG118', 'KG118'],\n",
    "            'from': ['KG31', 'KG38', 'kalkVAR', 'KG39','KG18', 'KG117', 'KG38', 'kalkVAR', 'KG119', 'KG18'],\n",
    "            'sign': ['+', '-', '-', '+', '-', '+', '-', '-', '+', '-']}\n",
    "hierarki = pd.DataFrame(hierarki)"
   ]
  },
  {
   "cell_type": "markdown",
   "id": "1fb03526-f3a5-49e8-ab9d-94c275b34a33",
   "metadata": {},
   "source": [
    "### Hierarki region\n",
    "\n",
    "**OBS**  \n",
    "Nå er det kun lagt inn hierarki på kommune. Dette for jeg ikke har kommet til der/om disse tallene benyttes for fykom. \n",
    "Dersom fykom skal være med åpnes det samlede hierarkiet og det for kun kommuner slettes."
   ]
  },
  {
   "cell_type": "code",
   "execution_count": null,
   "id": "abc0b73f-2d7e-4fc4-a604-ecf0203644c1",
   "metadata": {},
   "outputs": [],
   "source": [
    "#regionshierarki = pd.concat([fylkeskommunehierarki, kommunehierarki])\n",
    "regionshierarki = kommunehierarki"
   ]
  },
  {
   "cell_type": "markdown",
   "id": "90ce0def-7ee5-4094-8ece-46f2aa8c54c2",
   "metadata": {},
   "source": [
    "### Hierarkikjøringer\n",
    "- Disse må gjøres i R (siden vi ikke har en hierarkifunksjon i Python)"
   ]
  },
  {
   "cell_type": "code",
   "execution_count": null,
   "id": "1d968b8f-1763-48c0-bf54-09c054d294ea",
   "metadata": {},
   "outputs": [],
   "source": [
    "%load_ext rpy2.ipython"
   ]
  },
  {
   "cell_type": "code",
   "execution_count": null,
   "id": "88ecf026-0292-47b0-9f3a-d5f70e32f088",
   "metadata": {},
   "outputs": [],
   "source": [
    "%R library(SSBtools)"
   ]
  },
  {
   "cell_type": "markdown",
   "id": "9cf51220-f0fe-4412-9073-bf40fba2b4c7",
   "metadata": {},
   "source": [
    "- Sender objektene fra python til rpy2"
   ]
  },
  {
   "cell_type": "code",
   "execution_count": null,
   "id": "2944dfc8-15b5-4993-a40f-ee829689af7a",
   "metadata": {},
   "outputs": [],
   "source": [
    "%R -i hierarki\n",
    "%R -i regionshierarki\n",
    "%R -i samlet"
   ]
  },
  {
   "cell_type": "markdown",
   "id": "f8a7296e-d1f6-4b3a-9003-3184eb9e132e",
   "metadata": {},
   "source": [
    "#### Renteeksponert gjeld\n",
    "- Dette steget lager KG39, KG40, KG118 og KG119"
   ]
  },
  {
   "cell_type": "code",
   "execution_count": null,
   "id": "3a6ab845-e41f-40c6-b4ec-edbbd09aa4e9",
   "metadata": {
    "tags": []
   },
   "outputs": [],
   "source": [
    "%%R renteeksp_kap <- HierarchyCompute(data=samlet, valueVar = \"belop\", \n",
    "                                     hierarchies=list(kapittel = hierarki, periode = \"rowFactor\",  region = \"rowFactor\"), \n",
    "                                     hierarchyVarNames = c(mapsFrom = \"from\", mapsTo = \"to\", sign = \"sign\"), \n",
    "                                     colVar = \"kapittel\", rowSelect = unique(samlet[, c(\"periode\", \"region\")]), \n",
    "                                     inputInOutput = TRUE)"
   ]
  },
  {
   "cell_type": "markdown",
   "id": "c0aafef2-c998-4359-8b4a-fa8fd2becbf4",
   "metadata": {},
   "source": [
    "#### Regionshierarki"
   ]
  },
  {
   "cell_type": "code",
   "execution_count": null,
   "id": "a8147902-a1a6-4d4a-9e42-d8578773d71e",
   "metadata": {},
   "outputs": [],
   "source": [
    "%%R renteeksp <- HierarchyCompute(data=renteeksp_kap, valueVar = \"belop\", \n",
    "                                 hierarchies=list(region = regionshierarki, periode = \"rowFactor\",  kapittel = \"rowFactor\"), \n",
    "                                 hierarchyVarNames = c(mapsFrom = \"from\", mapsTo = \"to\", sign = \"sign\"), \n",
    "                                 colVar = \"region\", rowSelect = unique(renteeksp_kap[, c(\"periode\", \"kapittel\")]), \n",
    "                                 inputInOutput = TRUE)"
   ]
  },
  {
   "cell_type": "code",
   "execution_count": null,
   "id": "19e80003-4f68-4c61-998c-9d0dd4f30480",
   "metadata": {},
   "outputs": [],
   "source": [
    "%R -o renteeksp"
   ]
  },
  {
   "cell_type": "markdown",
   "id": "cfcf63a0-ea40-4379-8b4c-4b3d6e44254d",
   "metadata": {},
   "source": [
    "# Samler alle begrep til endelig fil\n",
    "- Her tar jeg kun med de som benyttes på kommune. De andre må jo også med - men usikker på hvor de brukes? Altså KG118 og KG119. \n",
    "- Eller brukes de ikke? Ta trengs de heller ikke lages!"
   ]
  },
  {
   "cell_type": "markdown",
   "id": "ac4dfe5d-9a4e-4a2c-8b99-ec350a230506",
   "metadata": {},
   "source": [
    "- Filtrerer kun med rentekompensasjonsvariablene.\n",
    "- Rentekompensasjonsvariablene lagt i renteeksponeringshierarkiet skal kun være med for kommuner som har levert balansen (0B og 0D)\n",
    "    - Filtrerer ut disse først, og filtrerer bort manglende kommuner\n",
    "- Filtrerer så med resten av variablene vi skal ha med på renteekp filen\n",
    "- Slår sammen de to"
   ]
  },
  {
   "cell_type": "code",
   "execution_count": null,
   "id": "3cd0bd97-8d69-4cc6-b773-d95a52ae70c6",
   "metadata": {},
   "outputs": [],
   "source": [
    "rente_var1 = ['KG39', 'KG38', 'KG40'] #skal kun ha med kommunar som har levert balanse for disse\n",
    "rente_var2 = ['KG18',  'KG31']\n",
    "\n",
    "#Filtrerer på første variabel.filter\n",
    "renteeksp_filter1 = renteeksp[renteeksp['kapittel'].isin(rente_var1)]\n",
    "\n",
    "#Lager liste over de manglende kommunene (manglende kommuner lages i flyten for KOSTRA skjema B og D). \n",
    "#Filtrerer på listen over manglende kommuner.\n",
    "manglende_liste = manglende.region.unique()\n",
    "renteeksp_kom_filter = renteeksp_filter1[(~renteeksp_filter1['region'].isin(manglende_liste))]\n",
    "\n",
    "#Filtrerer på andre variabel-filter\n",
    "renteeksp_filter2 = renteeksp[renteeksp['kapittel'].isin(rente_var2)]\n",
    "\n",
    "#Samler filene\n",
    "renteeksponering = pd.concat([renteeksp_kom_filter, renteeksp_filter2])"
   ]
  },
  {
   "cell_type": "markdown",
   "id": "f9f6c4c4-74b5-489d-8711-e14f5cde173a",
   "metadata": {},
   "source": [
    "- Filtrerer ut de resterende kapitlene som skal være med videre fra balansefilen"
   ]
  },
  {
   "cell_type": "code",
   "execution_count": null,
   "id": "d34267d8-5659-41ca-a3a2-d4c18a416ab9",
   "metadata": {
    "tags": []
   },
   "outputs": [],
   "source": [
    "kap = ['5900', 'KG25', 'KG14', 'KG15', 'KG28', '56', 'KG21', 'KG25', 'KG32', '40', '41', '42', '43']\n",
    "\n",
    "bal_filtrert = balanse[(balanse['kapittel'].isin(kap))]\n",
    "bal_filtrert = bal_filtrert.drop(columns={'regnskapsomfang'})"
   ]
  },
  {
   "cell_type": "markdown",
   "id": "f89117f2-ce31-4199-8c81-a90d849c04ea",
   "metadata": {},
   "source": [
    "- Samler balansefilene"
   ]
  },
  {
   "cell_type": "code",
   "execution_count": null,
   "id": "60d61b80-2ccf-4376-b4c3-153e668f1200",
   "metadata": {},
   "outputs": [],
   "source": [
    "fingr = pd.concat([renteeksponering, bal_filtrert])\n",
    "fingr = fingr.round(0)"
   ]
  },
  {
   "cell_type": "code",
   "execution_count": null,
   "id": "cc711615-43ef-45f0-bbf4-18972911e5f4",
   "metadata": {},
   "outputs": [],
   "source": [
    "fingr[fingr['region']=='1103']"
   ]
  },
  {
   "cell_type": "code",
   "execution_count": null,
   "id": "7efe42d0-802d-4d66-aff0-5ab560da779e",
   "metadata": {},
   "outputs": [],
   "source": []
  }
 ],
 "metadata": {
  "kernelspec": {
   "display_name": "Python 3",
   "language": "python",
   "name": "python3"
  },
  "language_info": {
   "codemirror_mode": {
    "name": "ipython",
    "version": 3
   },
   "file_extension": ".py",
   "mimetype": "text/x-python",
   "name": "python",
   "nbconvert_exporter": "python",
   "pygments_lexer": "ipython3",
   "version": "3.8.8"
  }
 },
 "nbformat": 4,
 "nbformat_minor": 5
}
