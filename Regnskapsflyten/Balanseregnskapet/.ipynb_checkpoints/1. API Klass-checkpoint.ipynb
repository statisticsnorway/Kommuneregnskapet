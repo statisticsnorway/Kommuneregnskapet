{
 "cells": [
  {
   "cell_type": "markdown",
   "id": "8b44b6f0-a259-4ffc-9b59-4f865d8b004e",
   "metadata": {},
   "source": [
    "# Notebook med API'er som benyttes i beregningene\n",
    "- Alle spørringer lagres i egen datamappe\n",
    "- I dette arket hentes kun kapittel. \n",
    "- Regionslister hentes i bevilgningsflyten"
   ]
  },
  {
   "cell_type": "markdown",
   "id": "9bf9afee-7c57-4375-8b0e-db44f614bb37",
   "metadata": {},
   "source": [
    "## Laster inn nødvendige pakker"
   ]
  },
  {
   "cell_type": "code",
   "execution_count": null,
   "id": "8c6082cf-43d9-4977-93a4-dcd94c10e39e",
   "metadata": {},
   "outputs": [],
   "source": [
    "import pandas as pd\n",
    "import requests\n",
    "import io"
   ]
  },
  {
   "cell_type": "markdown",
   "id": "f84ef750-fe02-4367-a49c-1246fa72c783",
   "metadata": {},
   "source": [
    "## Angi årgang som skal hentes\n",
    "- Årgangen som angis vil gjelde for hele arket\n",
    "- Skal det hentes flere årganger må arket kjøres flere ganger\n",
    "\n",
    "Mappen der filene skal lagres må allerede eksistere"
   ]
  },
  {
   "cell_type": "code",
   "execution_count": null,
   "id": "6ea49ec0-7273-4577-b851-9b693294adb8",
   "metadata": {},
   "outputs": [],
   "source": [
    "%run ./../aargang.ipynb"
   ]
  },
  {
   "cell_type": "markdown",
   "id": "fedd1e09-1078-4bf5-8d84-e392e786564d",
   "metadata": {},
   "source": [
    "### Kapittel"
   ]
  },
  {
   "cell_type": "code",
   "execution_count": null,
   "id": "0be9e2fb-4906-4a66-9722-116090073312",
   "metadata": {},
   "outputs": [],
   "source": [
    "#API mot KOSTRA regnskapsarter. \n",
    "headers = {'content-type': 'text/csv', 'charset' : 'ISO-8859-1'}\n",
    "response = requests.get(\"http://data.ssb.no/api/klass/v1/classifications/270/codes?from=\" + aar + \"-01-01&to=\" + aar_t1 + \"-01-01&csvSeparator=;\", headers=headers).content\n",
    "kap = pd.read_csv(io.StringIO(response.decode('ISO-8859-1')), sep = ';')\n",
    "\n",
    "#Ordner datasettet til ønsket struktur\n",
    "kap = kap[['code', 'validFromInRequestedRange']]\n",
    "kap.rename(columns={'code':'kapittel', 'validFromInRequestedRange':'periode'}, inplace = True)\n",
    "kap['periode']=pd.DatetimeIndex(kap['periode']).year\n",
    "kap = kap[~kap.kapittel.str.contains(\"K\")]\n",
    "kap.drop_duplicates().astype(str).info()\n",
    "kap.head(2)"
   ]
  },
  {
   "cell_type": "code",
   "execution_count": null,
   "id": "0324e807-2b55-4b93-aa01-574d179d4b09",
   "metadata": {},
   "outputs": [],
   "source": [
    "kap.to_parquet(\"/ssb/stamme03/komakro/pilot_python/arbeidsdata/klass/\" + aar + \"/kapittel.parquet\")"
   ]
  },
  {
   "cell_type": "code",
   "execution_count": null,
   "id": "651e8d22-7989-4399-9193-92521514e674",
   "metadata": {},
   "outputs": [],
   "source": []
  }
 ],
 "metadata": {
  "kernelspec": {
   "display_name": "Python 3",
   "language": "python",
   "name": "python3"
  },
  "language_info": {
   "codemirror_mode": {
    "name": "ipython",
    "version": 3
   },
   "file_extension": ".py",
   "mimetype": "text/x-python",
   "name": "python",
   "nbconvert_exporter": "python",
   "pygments_lexer": "ipython3",
   "version": "3.8.8"
  }
 },
 "nbformat": 4,
 "nbformat_minor": 5
}
