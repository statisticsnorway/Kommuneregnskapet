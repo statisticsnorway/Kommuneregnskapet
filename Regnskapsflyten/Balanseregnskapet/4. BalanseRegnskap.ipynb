{
 "cells": [
  {
   "cell_type": "markdown",
   "id": "1074a943-c9f5-4c30-a6d3-712103c0aa76",
   "metadata": {},
   "source": [
    "# BalanseRegnskap og regionsaggregering"
   ]
  },
  {
   "cell_type": "markdown",
   "id": "e49294c9-ac0d-42b8-85ce-df9ecb0dd03a",
   "metadata": {},
   "source": [
    "## Leser inn nødvendige pakker\n",
    "- Vi trenger følgende pakker i dette arket:\n",
    "    - Kostra\n",
    "    - arrow (for å lese inn parquet filer)\n",
    "    - Tidyverse (brukes strengt tatt ikke, men fin å ha med om man vil gjøre noe annet med datane)"
   ]
  },
  {
   "cell_type": "code",
   "execution_count": null,
   "id": "3ac4b319-27de-4e06-8f7a-b156bccabf88",
   "metadata": {
    "jupyter": {
     "outputs_hidden": true
    },
    "tags": []
   },
   "outputs": [],
   "source": [
    "library(Kostra)\n",
    "library(\"arrow\")\n",
    "library(tidyverse)"
   ]
  },
  {
   "cell_type": "code",
   "execution_count": null,
   "id": "6bf52281-e65b-4804-bcc9-8bb1df8f663e",
   "metadata": {},
   "outputs": [],
   "source": [
    "aar <- readline(prompt=\"Angi årgang:\")"
   ]
  },
  {
   "cell_type": "markdown",
   "id": "b40f0446-0dea-463e-99be-92081a973128",
   "metadata": {},
   "source": [
    "## Leser inn nødvendige filer\n",
    "- **Vi trenger følgende filer for å kjøre BalanseRegnskap**\n",
    "    - Kasseregnskapet \n",
    "        - *Gjør om filen til dataframe* \n",
    "        - *Fjerner ekstra kolonne som kommer med i regnskapsfilen. Dette bør ikke komme med. Må finne ut hvorfor å lese inn filen uten denne.*\n",
    "        - *Endrer kontoklasse fra tall til bokstaver*\n",
    "        - *Skriver ut de første linjene for å konstrollere at filen blir korrekt. Filen skal inneholde kolonner: periode, region, kontoklasse, art, belop, regnskapsomfang.*"
   ]
  },
  {
   "cell_type": "code",
   "execution_count": null,
   "id": "9b754803-789b-433d-8f8c-71cca8cea31c",
   "metadata": {},
   "outputs": [],
   "source": [
    "balanse <- read_parquet(paste('/ssb/stamme03/komakro/pilot_python/arbeidsdata/arbeidsfiler/',aar,'/balanse_basis_',aar,'.parquet', sep = \"\"))\n",
    "balanse <- as.data.frame(balanse)\n",
    "balanse <- select(balanse, -last_col())\n",
    "head(balanse,2)"
   ]
  },
  {
   "cell_type": "code",
   "execution_count": null,
   "id": "ca7ae105-4c61-4566-bb34-8b10b5386da6",
   "metadata": {},
   "outputs": [],
   "source": [
    "konsolidert <- read_parquet(paste('/ssb/stamme03/komakro/pilot_python/arbeidsdata/arbeidsfiler/',aar,'/kostra0n_0q_basis_',aar,'.parquet', sep = \"\"))\n",
    "konsolidert <- as.data.frame(konsolidert)\n",
    "konsolidert$regnskapsomfang <- gsub('C','B',konsolidert$regnskapsomfang)\n",
    "konsolidert <- select(konsolidert, -last_col())\n",
    "head(konsolidert)"
   ]
  },
  {
   "cell_type": "markdown",
   "id": "3befc5c4-4a60-4b73-abbf-ea27cb16d96c",
   "metadata": {},
   "source": [
    "- Kapittelhierarki\n",
    "    - *Gjør om filen til dataframe* "
   ]
  },
  {
   "cell_type": "code",
   "execution_count": null,
   "id": "34e832fd-358c-4083-a4f0-6fe2440494ea",
   "metadata": {},
   "outputs": [],
   "source": [
    "kapittelhierarki <- read_parquet(paste('../../../Testdata/arbeidsdata/KostraRegnskap/kapittelhierarki_',aar,'.parquet', sep = \"\"))\n",
    "kapittelhierarki <- as.data.frame(kapittelhierarki)\n",
    "head(kapittelhierarki,2)"
   ]
  },
  {
   "cell_type": "markdown",
   "id": "6ca608ce-4d85-47d7-9754-f428f6395045",
   "metadata": {},
   "source": [
    "- **Vi trenger følgende filer for å kjøre aggregering**\n",
    "    - Kommune og fylkeskommune hierarki\n",
    "        - Bydeler ikke med i balanse\n",
    "    \n",
    "- Ordner regionshierarkiet\n",
    "- Hierarkiet lages i \"API'er\""
   ]
  },
  {
   "cell_type": "code",
   "execution_count": null,
   "id": "bb2f016c-6432-4d19-a7a3-625bf1b1e9ee",
   "metadata": {},
   "outputs": [],
   "source": [
    "kommunehierarki <- read_parquet(paste('/ssb/stamme03/komakro/pilot_python/arbeidsdata/klass/',aar,'/kommunehierarki.parquet', sep = \"\"))\n",
    "kommunehierarki <- as.data.frame(kommunehierarki)\n",
    "kommunehierarki <- select(kommunehierarki, -last_col())\n",
    "summary(kommunehierarki)"
   ]
  },
  {
   "cell_type": "code",
   "execution_count": null,
   "id": "feae776c-ae68-440e-a1f3-8bbdff5fc23f",
   "metadata": {},
   "outputs": [],
   "source": [
    "fylkeskommunehierarki <- read_parquet(paste('/ssb/stamme03/komakro/pilot_python/arbeidsdata/klass/',aar,'/fylkeskommunehierarki.parquet', sep = \"\"))\n",
    "fylkeskommunehierarki <- as.data.frame(fylkeskommunehierarki)\n",
    "fylkeskommunehierarki <- select(fylkeskommunehierarki, -last_col())\n",
    "summary(fylkeskommunehierarki)"
   ]
  },
  {
   "cell_type": "markdown",
   "id": "1cb73bf4-c774-455e-980a-0bd0f25b7089",
   "metadata": {},
   "source": [
    "- **Trenger følgende for å fjerne estimerte kommuner**\n",
    "    - Kommuner som mangler for 0B og 0D"
   ]
  },
  {
   "cell_type": "code",
   "execution_count": null,
   "id": "1d6110a2-a3d8-4a1e-bc3f-9b30603404fc",
   "metadata": {},
   "outputs": [],
   "source": [
    "manglende <-  read_parquet(paste('/ssb/stamme03/komakro/pilot_python/arbeidsdata/arbeidsfiler/',aar,'/kostra0b_0d_manglende_',aar,'.parquet', sep = \"\"))\n",
    "manglende <- as.data.frame(manglende)"
   ]
  },
  {
   "cell_type": "markdown",
   "id": "1abf9600-3797-4d3e-824f-d97a04c5de5b",
   "metadata": {},
   "source": [
    "## Balanse regnskapsfunksjonen\n",
    "- Kjører funksjonen BalanseRegnskap fra Kostra biblioteket. Dette er den samme funksjonen som er lagt inn i Kompis.\n",
    "- Funksjonen må skrives med inputdata i følgende rekkefølge: \n",
    "    1. Balanseregnskapet (Kasse og særbedrifter samlet)\n",
    "    2. Kapittelhierarki"
   ]
  },
  {
   "cell_type": "code",
   "execution_count": null,
   "id": "9ef905e1-d132-47e2-81b2-983787b8a8ac",
   "metadata": {
    "jupyter": {
     "outputs_hidden": true
    },
    "tags": []
   },
   "outputs": [],
   "source": [
    "resultat <- BalanseRegnskap(balanse, kapittelhierarki, omfang = c('A','B','sbedr'))"
   ]
  },
  {
   "cell_type": "markdown",
   "id": "31b69903-f581-491e-9316-b331795c8272",
   "metadata": {},
   "source": [
    "**Sjekker output**  \n",
    "\n",
    "Legger på et filter for å kunne kontrollere output.  \n",
    "Kontrollerer output ved å sammenligne med verdiene i Kompis."
   ]
  },
  {
   "cell_type": "code",
   "execution_count": null,
   "id": "4ed05757-8ce2-4a83-8a4b-3f22e339d11d",
   "metadata": {},
   "outputs": [],
   "source": [
    "#summary(resultat)"
   ]
  },
  {
   "cell_type": "code",
   "execution_count": null,
   "id": "032eff9e-8735-46dd-a9a4-338538c35806",
   "metadata": {
    "tags": []
   },
   "outputs": [],
   "source": [
    "#filter(resultat, region == \"0301\", kapittel == \"KG25\")"
   ]
  },
  {
   "cell_type": "markdown",
   "id": "30fbb5e4-b508-4884-a0c3-794d372c719a",
   "metadata": {},
   "source": [
    "## Konsern\n",
    "- Filtrerer ut konsern-tall\n",
    "- Lager KG33, KG34, KG35, KG36\n",
    "- Aggregerer region\n",
    "- Fjerner estimerte kommuner"
   ]
  },
  {
   "cell_type": "code",
   "execution_count": null,
   "id": "c1a0a184-1447-45dc-83cc-1d618a5b62d3",
   "metadata": {},
   "outputs": [],
   "source": [
    "konsern_start <- filter(resultat, regnskapsomfang == \"A\")"
   ]
  },
  {
   "cell_type": "code",
   "execution_count": null,
   "id": "4abe41f3-d12a-46f6-9d10-c3efc603ca86",
   "metadata": {
    "tags": []
   },
   "outputs": [],
   "source": [
    "ny_var <- resultat %>% \n",
    "filter(kapittel %in% c('14','23','33','47') & regnskapsomfang %in% c('B','sbedr')) %>%\n",
    "pivot_wider(\n",
    "    names_from = c(regnskapsomfang, kapittel),\n",
    "    values_from = belop)%>%\n",
    "mutate (KG33 = B_14 - sbedr_33) %>%\n",
    "mutate (KG34 = B_23 - sbedr_47) %>%\n",
    "mutate (KG35 = B_33 - sbedr_14) %>%\n",
    "mutate (KG36 = B_47 - sbedr_23)\n",
    "\n",
    "ny_var <- ny_var[c('periode', 'region','KG33','KG34','KG35','KG36')]\n",
    "\n",
    "ny_var <- ny_var %>% \n",
    "pivot_longer(\n",
    "    cols = starts_with ('KG'), \n",
    "    names_to ='kapittel', \n",
    "    values_to = 'belop')%>%\n",
    "add_column(regnskapsomfang = 'A')"
   ]
  },
  {
   "cell_type": "code",
   "execution_count": null,
   "id": "aab4084f-cdce-4bb0-be98-bf7954c14940",
   "metadata": {
    "tags": []
   },
   "outputs": [],
   "source": [
    "konsern <- rbind(konsern_start, ny_var)"
   ]
  },
  {
   "cell_type": "code",
   "execution_count": null,
   "id": "7d3f4c8d-137c-402d-95ea-fa3f0a05c70e",
   "metadata": {},
   "outputs": [],
   "source": [
    "summary(konsern)"
   ]
  },
  {
   "cell_type": "markdown",
   "id": "c87c76c7-984a-4228-9a78-d1171459a4f7",
   "metadata": {},
   "source": [
    "### Aggregerer regnskapet\n",
    "- Kjører funksjon HierarchyCompute fra kostra biblioteket. \n",
    "- Funksjonen aggregerer regnskapet til følgende (så sant regionsfierarkiet er korrekt):\n",
    "    - EAK (Landet - kommuner)\n",
    "    - EAKUO (Landet uten Oslo - kommuner)\n",
    "    - EKAXX (Fylker)\n",
    "    - EKG (kostragrupper)\n",
    "    - EAFK (Landet - fylkeskommuner)\n",
    "    - EAFKUO (Landet uten Oslo - fylkeskommuner)\n",
    "    - EAFKXX (Landsdeler)\n",
    "<br>\n",
    "<br>\n",
    "- Vi lager kun aggregerte størrelser på konserntall. "
   ]
  },
  {
   "cell_type": "code",
   "execution_count": null,
   "id": "55d46146-4fe7-4a29-9668-b1d924091dbe",
   "metadata": {},
   "outputs": [],
   "source": [
    "regionshierarki <- rbind(kommunehierarki, fylkeskommunehierarki)"
   ]
  },
  {
   "cell_type": "code",
   "execution_count": null,
   "id": "a030658d-073f-4081-9d2d-1701427eb008",
   "metadata": {},
   "outputs": [],
   "source": [
    "# Kjører aggregering\n",
    "bal_konsern <- HierarchyCompute(data=konsern, valueVar = \"belop\", \n",
    "                      hierarchies=list(region = regionshierarki, regnskapsomfang = \"rowFactor\",  kapittel = \"rowFactor\"), \n",
    "                      hierarchyVarNames = c(mapsFrom = \"from\", mapsTo = \"to\", sign = \"sign\"), \n",
    "                      colVar = \"region\", rowSelect = unique(konsern[, c(\"regnskapsomfang\", \"kapittel\")]),\n",
    "                      inputInOutput = TRUE)"
   ]
  },
  {
   "cell_type": "code",
   "execution_count": null,
   "id": "bb5b08f5-7b7a-4b0c-add0-50ec17f89112",
   "metadata": {},
   "outputs": [],
   "source": [
    "bal_konsern <- bal_konsern[!bal_konsern$region %in% manglende$region,]"
   ]
  },
  {
   "cell_type": "code",
   "execution_count": null,
   "id": "15add0bc-1e54-4c52-b83f-73da15bbca44",
   "metadata": {},
   "outputs": [],
   "source": [
    "bal_konsern$periode <- '2021'"
   ]
  },
  {
   "cell_type": "code",
   "execution_count": null,
   "id": "ccffd8d4-0cfa-42fa-9248-bc0b77f29641",
   "metadata": {
    "jupyter": {
     "outputs_hidden": true
    },
    "tags": []
   },
   "outputs": [],
   "source": [
    "#summary(bal_konsern)"
   ]
  },
  {
   "cell_type": "markdown",
   "id": "dc90fc18-5469-48c9-bcf5-4aeed67e58c9",
   "metadata": {},
   "source": [
    "## Kasse\n",
    "- Filtrerer ut kasse-tall\n",
    "- Fjerner estimerte kommuner"
   ]
  },
  {
   "cell_type": "code",
   "execution_count": null,
   "id": "5e5c4316-982e-41e5-8158-821f8844c1bb",
   "metadata": {},
   "outputs": [],
   "source": [
    "bal_kasse <- filter(resultat, regnskapsomfang == \"B\")"
   ]
  },
  {
   "cell_type": "code",
   "execution_count": null,
   "id": "72cad0f8-112c-47e7-8eb8-d231a0423a20",
   "metadata": {},
   "outputs": [],
   "source": [
    "bal_kasse <- bal_kasse[!bal_kasse$region %in% manglende$region,]"
   ]
  },
  {
   "cell_type": "markdown",
   "id": "b8605411-fd06-4cb5-852b-6b38170aa2b1",
   "metadata": {},
   "source": [
    "## Konsolidert\n",
    "- KostraRegnskaps-funksjonen er ikke laget for konsolidert. \n",
    "- Konsolidert skal behandles likt som kasse. Mekker derfor til ved å kalle sette regnskapsomfang B på konsolidert og kjøre KostraRegnskap for kun B. \n",
    "- Etter kjøringen endres regnskapsomfang tilbake til C. "
   ]
  },
  {
   "cell_type": "code",
   "execution_count": null,
   "id": "b8d5f351-c2a2-4558-ba70-15604f0894a6",
   "metadata": {
    "jupyter": {
     "outputs_hidden": true
    },
    "tags": []
   },
   "outputs": [],
   "source": [
    "resultat_konsolidert <- BalanseRegnskap(konsolidert, kapittelhierarki, omfang = c('B'))"
   ]
  },
  {
   "cell_type": "code",
   "execution_count": null,
   "id": "32f24e57-87de-44c3-9b54-5cfd90cf664e",
   "metadata": {},
   "outputs": [],
   "source": [
    "resultat_konsolidert$regnskapsomfang <- gsub('B','C',resultat_konsolidert$regnskapsomfang)"
   ]
  },
  {
   "cell_type": "markdown",
   "id": "d4be4d28-7924-4629-9382-26d2b30142e0",
   "metadata": {},
   "source": [
    "## Samler kasse og konsolidert"
   ]
  },
  {
   "cell_type": "code",
   "execution_count": null,
   "id": "d3e648cc-8f5c-4aaf-8c77-92ee9a88bf42",
   "metadata": {},
   "outputs": [],
   "source": [
    "bal_kasse_konsolidert <- rbind(bal_kasse, resultat_konsolidert)"
   ]
  },
  {
   "cell_type": "code",
   "execution_count": null,
   "id": "1e3fe39b-7b46-43c6-8336-6680150f60f2",
   "metadata": {},
   "outputs": [],
   "source": [
    "#summary(bal_kasse_konsolidert)"
   ]
  },
  {
   "cell_type": "markdown",
   "id": "760958d9-d496-41f1-962f-b06e2358d41a",
   "metadata": {},
   "source": [
    "# Ferdige filer\n",
    "- Skriver det ferdig aggregerte konsernregnskapet til mappe"
   ]
  },
  {
   "cell_type": "code",
   "execution_count": null,
   "id": "b39f0581-8873-4b40-98a4-dd941fada6bd",
   "metadata": {},
   "outputs": [],
   "source": [
    "lagring_konsern <- paste('/ssb/stamme03/komakro/pilot_python/arbeidsdata/arbeidsfiler/',aar,'/bal_konsern.parquet', sep = \"\")"
   ]
  },
  {
   "cell_type": "code",
   "execution_count": null,
   "id": "6794d15d-1579-42dd-9437-d201fd725aff",
   "metadata": {},
   "outputs": [],
   "source": [
    "write_parquet(bal_konsern, lagring_konsern)"
   ]
  },
  {
   "cell_type": "markdown",
   "id": "a488e416-0ec3-4f9b-9bf5-6cd27065184c",
   "metadata": {},
   "source": [
    "- Filtrerer ut kasse-tallene fra resultatet av KostraRegnskaps-funksjonen \n",
    "- Skriver kasseregnskapet til mappe"
   ]
  },
  {
   "cell_type": "code",
   "execution_count": null,
   "id": "79297ea4-2c90-4458-9078-a297f2a9f8a1",
   "metadata": {},
   "outputs": [],
   "source": [
    "lagring_kasse_konsolidert <- paste('/ssb/stamme03/komakro/pilot_python/arbeidsdata/arbeidsfiler/',aar,'/bal_kasse_konsolidert.parquet', sep = \"\")"
   ]
  },
  {
   "cell_type": "code",
   "execution_count": null,
   "id": "c9528941-2ddc-4c69-afbf-c0e7e41483a7",
   "metadata": {},
   "outputs": [],
   "source": [
    "write_parquet(bal_kasse_konsolidert, lagring_kasse_konsolidert)"
   ]
  },
  {
   "cell_type": "code",
   "execution_count": null,
   "id": "86754aaa-af35-4d32-a9f0-43558d9594d1",
   "metadata": {},
   "outputs": [],
   "source": []
  }
 ],
 "metadata": {
  "kernelspec": {
   "display_name": "R",
   "language": "R",
   "name": "ir"
  },
  "language_info": {
   "codemirror_mode": "r",
   "file_extension": ".r",
   "mimetype": "text/x-r-source",
   "name": "R",
   "pygments_lexer": "r",
   "version": "4.1.3"
  }
 },
 "nbformat": 4,
 "nbformat_minor": 5
}
