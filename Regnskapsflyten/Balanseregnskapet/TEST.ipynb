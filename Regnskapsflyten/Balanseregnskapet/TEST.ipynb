{
 "cells": [
  {
   "cell_type": "code",
   "execution_count": null,
   "id": "d07bb48e-cffb-4931-8041-5da9e1f7c303",
   "metadata": {},
   "outputs": [],
   "source": [
    "library(tidyverse)"
   ]
  },
  {
   "cell_type": "code",
   "execution_count": null,
   "id": "d31280f6-073e-4cac-b127-c61654d0baa5",
   "metadata": {},
   "outputs": [],
   "source": [
    "x <- readline(prompt=\"Hva er 1+1?:\")\n",
    "while(x!=2){\n",
    "x <- readline(\"Faen, du er dum. Prøv igjen! Hva er 1+1?\")\n",
    "}\n",
    "print('Hurra, du er super smart! Bare å joine mensa nå!')"
   ]
  },
  {
   "cell_type": "code",
   "execution_count": null,
   "id": "2720f50d-0c62-4430-8cc4-32b8d9e101f3",
   "metadata": {},
   "outputs": [],
   "source": []
  }
 ],
 "metadata": {
  "kernelspec": {
   "display_name": "R",
   "language": "R",
   "name": "ir"
  },
  "language_info": {
   "codemirror_mode": "r",
   "file_extension": ".r",
   "mimetype": "text/x-r-source",
   "name": "R",
   "pygments_lexer": "r",
   "version": "4.1.3"
  }
 },
 "nbformat": 4,
 "nbformat_minor": 5
}
