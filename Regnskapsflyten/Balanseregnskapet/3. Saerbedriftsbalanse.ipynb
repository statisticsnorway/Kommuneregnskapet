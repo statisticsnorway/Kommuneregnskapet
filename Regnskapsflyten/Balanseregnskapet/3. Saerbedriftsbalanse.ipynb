{
 "cells": [
  {
   "cell_type": "markdown",
   "id": "e77bdc8c-8885-4e48-b12c-9dd4e22b058f",
   "metadata": {},
   "source": [
    "# KOSTRA skjema J og L\n",
    "\n",
    "## Henter nødvendige pakker\n",
    "**For løpet Kostra0J_0L trengs følgende pakker:**  \n",
    "   - Pandas\n",
    "   - Numpy\n",
    "   - Glob (for import fra Linux - ikke nødvendig når hele flyten er over)\n",
    "   - Selvlagde funksjoner lagret i fil funksjoner.py"
   ]
  },
  {
   "cell_type": "code",
   "execution_count": null,
   "id": "0703f4e3-7db9-4b4a-afb8-2b07261898a7",
   "metadata": {},
   "outputs": [],
   "source": [
    "import pandas as pd\n",
    "import numpy as np\n",
    "import glob\n",
    "exec(open('../funksjoner.py').read())"
   ]
  },
  {
   "cell_type": "markdown",
   "id": "0d9d34a8-55bf-4dc4-a865-ceab1c3830e0",
   "metadata": {},
   "source": [
    "## Angi årgang som produseres"
   ]
  },
  {
   "cell_type": "code",
   "execution_count": null,
   "id": "b4b7c6c3-602d-4e5f-a3ce-26d2e6319501",
   "metadata": {},
   "outputs": [],
   "source": [
    "aar=input('Angi årgang for filene:' )\n",
    "aar_1t = str(int(aar) - 1)\n",
    "aar_t1 = str(int(aar) + 1)\n",
    "print(\"Du lager nå filer for \" + aar)"
   ]
  },
  {
   "cell_type": "markdown",
   "id": "e9610590-f21d-419d-8d7c-cc1021b7c999",
   "metadata": {},
   "source": [
    "## Henter nødvendige datafiler\n",
    "**For løpet Kostra0J_0L trengs følgende datafiler:**\n",
    "- Import fra Driller\n",
    "    - Skjema KOSTRA0J\n",
    "    - Skjema KOSTRA0L\n",
    "- Lister fra KLASS\n",
    "    - Kodeliste for Kostra kapitler\n",
    "- Regnskapsfiler\n",
    "    - Kostra0b_0d_levert gjeldene årgang"
   ]
  },
  {
   "cell_type": "code",
   "execution_count": null,
   "id": "c5d7ff75-d3c0-4d28-a5a2-148d66eb150c",
   "metadata": {},
   "outputs": [],
   "source": [
    "#Henter nødvendige filer\n",
    "kostra0j = pd.read_parquet(\"/ssb/stamme03/komakro/pilot_python/arbeidsdata/import_driller/\" + aar + \"/kostra0j.parquet\")\n",
    "kostra0l = pd.read_parquet(\"/ssb/stamme03/komakro/pilot_python/arbeidsdata/import_driller/\" + aar + \"/kostra0l.parquet\")\n",
    "kap = pd.read_parquet(\"/ssb/stamme03/komakro/pilot_python/arbeidsdata/klass/\" + aar + \"/kapittel.parquet\").astype(str)\n",
    "levert = pd.read_parquet(\"/ssb/stamme03/komakro/pilot_python/arbeidsdata/arbeidsfiler/\" + aar + \"/kostra0b_0d_levert_\" + aar + \".parquet\")\n",
    "eierandel = pd.read_csv(\"/ssb/bruker/mtk/Testdata/inndata/Eierandel_\" + aar + \"_KOMPIS.csv\", sep=';', encoding='latin-1')\n",
    "kassa = pd.read_parquet(\"/ssb/stamme03/komakro/pilot_python/arbeidsdata/arbeidsfiler/\" + aar + \"/kostra0b_0d_basis_\" + aar + \".parquet\")"
   ]
  },
  {
   "cell_type": "markdown",
   "id": "699396e6-dc79-42e6-bf17-12dd85696537",
   "metadata": {},
   "source": [
    "## Bearbeider regnskapsfilene\n",
    "\n",
    "### Slår sammen Kostra0I og Kostra0K"
   ]
  },
  {
   "cell_type": "code",
   "execution_count": null,
   "id": "0971d444-1e1f-4c31-a32c-396f5f8d1e60",
   "metadata": {},
   "outputs": [],
   "source": [
    "jl = pd.concat([kostra0j, kostra0l])"
   ]
  },
  {
   "cell_type": "markdown",
   "id": "b3291a72-c016-417a-ab04-c3fe9aa750bd",
   "metadata": {},
   "source": [
    "### Ordner data\n",
    "- Definerer rett datatype\n",
    "- Endrer kolonnenavn\n",
    "    - Fra store til små bokstaver\n",
    "    - Endrer navn\n",
    "- Fjerner manglende observasjoner\n",
    "    - Har ikke sjekket om denne funksjonen faktisk fungerer da datasettet mitt ikke har noen manglende observasjonen. Jeg fjerne na. Men det kan jo være manglende registreres som NaN? Dette må kontrolleres!"
   ]
  },
  {
   "cell_type": "code",
   "execution_count": null,
   "id": "dda78cd8-3324-414a-9e44-76112d0e58b7",
   "metadata": {
    "tags": []
   },
   "outputs": [],
   "source": [
    "#Endrer datatype.\n",
    "jl = jl.astype({'ART_SEKTOR':str,'FUNKSJON_KAPITTEL':str,'KONTOKLASSE':str,'PERIODE':str,'ORG_NR':str})"
   ]
  },
  {
   "cell_type": "code",
   "execution_count": null,
   "id": "c46cd038-663f-4046-9b55-8a7cd0e6de1e",
   "metadata": {},
   "outputs": [],
   "source": [
    "#Endrer headingen fra store til små bokstaver og navn på to av variablene\n",
    "jl.columns = [x.lower() for x in jl.columns]\n",
    "jl.rename(columns={'funksjon_kapittel':'kapittel', 'org_nr':'saerbedrift'}, inplace = True)"
   ]
  },
  {
   "cell_type": "code",
   "execution_count": null,
   "id": "306a82a1-3838-412d-9fca-9b1c0bcc375d",
   "metadata": {},
   "outputs": [],
   "source": [
    "jl = jl.groupby(['kapittel', 'kontoklasse', 'periode', 'saerbedrift'])[['belop']].sum().reset_index()"
   ]
  },
  {
   "cell_type": "code",
   "execution_count": null,
   "id": "6dac1c13-6aed-4356-99df-d1ae3217ba6a",
   "metadata": {
    "tags": []
   },
   "outputs": [],
   "source": [
    "#Filtrerer bort alle rader med manglede verdier. Fungerer det? Må testes på et annet datasett som faktisk har manglende verdier... Denne er ikke med i KOMPIS?\n",
    "jl_null = jl.dropna()"
   ]
  },
  {
   "cell_type": "code",
   "execution_count": null,
   "id": "bc9c21da-9a9c-4fbe-bbe6-1c07f272ebe2",
   "metadata": {},
   "outputs": [],
   "source": [
    "kontroll_merge(jl,jl_null)"
   ]
  },
  {
   "cell_type": "markdown",
   "id": "6576e0c7-bd66-4651-ab55-c75718016759",
   "metadata": {},
   "source": [
    "### Snur fortegn for inntektsarter\n",
    "- Endrer alle verdier som har art høyere eller lik 600 til negative tall\n",
    "- Koden under snur fortegn på alle verdier hvor art starter på siffer 6 eller mer."
   ]
  },
  {
   "cell_type": "code",
   "execution_count": null,
   "id": "c2f0f3b2-28ae-4810-bb1d-0e1de9a1231f",
   "metadata": {},
   "outputs": [],
   "source": [
    "jl_snudd = jl_null.copy()"
   ]
  },
  {
   "cell_type": "code",
   "execution_count": null,
   "id": "28efd6d2-6c56-4a6d-ae0f-bd9a87bcf774",
   "metadata": {},
   "outputs": [],
   "source": [
    "jl_snudd['belop']=np.where((jl_snudd.kapittel >= '31') & (jl_snudd.kapittel <= '5990'),  jl_snudd.belop*-1, jl_snudd.belop)"
   ]
  },
  {
   "cell_type": "markdown",
   "id": "e48592f6-e6ee-4ae4-b866-9e2fd59e2392",
   "metadata": {},
   "source": [
    "## Filtrerer gyldige kapitler\n",
    "**Kapittel listen**\n",
    "- Hentes direkte fra KLASS via API i egen notebook (API Klass). \n",
    "- Filen laget i API-notebooken er lastet inn helt i starten av denne boken.\n",
    "\n",
    "**Kontroll**\n",
    "- Funksjonen kontroll_merge er laget i egen notebook (funksjoner.py)\n",
    "- Kontrollen lister ut alle rader som er fjernet i mergen over. Dersom ingen rader listes ut ble ingenting fjernet i operasjonen over."
   ]
  },
  {
   "cell_type": "markdown",
   "id": "93196ed6-bee6-4b2d-94b9-fe514c00f5df",
   "metadata": {},
   "source": [
    "### Kapittelfilter\n",
    "Merger alle gylige kapitler med regnskapsfilen. Dette fjerner alle reder med ugyldige kapitler"
   ]
  },
  {
   "cell_type": "code",
   "execution_count": null,
   "id": "20fb88f4-f1d0-408e-b2ec-e431f19bf7f7",
   "metadata": {},
   "outputs": [],
   "source": [
    "kap=kap.drop(columns={'periode'})\n",
    "gyldige_kap = list(kap.columns.values)\n",
    "k1 = jl_snudd.set_index(gyldige_kap).index\n",
    "k2 = kap.set_index(gyldige_kap).index\n",
    "kapittelfilter = jl_snudd[k1.isin(k2)]"
   ]
  },
  {
   "cell_type": "markdown",
   "id": "cfe4d468-2d4c-4581-9496-24810d668eaf",
   "metadata": {},
   "source": [
    "#### Kontrollerer fjernede rader"
   ]
  },
  {
   "cell_type": "code",
   "execution_count": null,
   "id": "54cbcc50-764f-4f9c-a4cd-31788764c458",
   "metadata": {},
   "outputs": [],
   "source": [
    "kontroll_merge(jl_snudd, kapittelfilter)"
   ]
  },
  {
   "cell_type": "markdown",
   "id": "b8b0a12f-7101-4207-afb0-c6cf745f5ab7",
   "metadata": {},
   "source": [
    "# * Føreløpig fil - kontrollert *"
   ]
  },
  {
   "cell_type": "code",
   "execution_count": null,
   "id": "6c3873aa-cc15-4d7a-9303-2762dda637f6",
   "metadata": {},
   "outputs": [],
   "source": [
    "kostra0j_0l_kontrollert = kapittelfilter.copy()"
   ]
  },
  {
   "cell_type": "markdown",
   "id": "bf164a69-f38e-4a33-aac0-50765235e3f7",
   "metadata": {},
   "source": [
    "## Eierandeler\n",
    "\n",
    "- Denne filen skal lages direkte i Python. Foreløpig hentes den fra linux. \n",
    "- Siden filen hentes fra Linux må ledene nuller legges til"
   ]
  },
  {
   "cell_type": "code",
   "execution_count": null,
   "id": "68b259b0-cf36-479e-947f-8f165aa73dc2",
   "metadata": {},
   "outputs": [],
   "source": [
    "eierandel['region']=eierandel['region'].apply(lambda x: '{0:0>4}'.format(x))\n",
    "eierandel = eierandel.astype({'periode':str,'saerbedrift':str})"
   ]
  },
  {
   "cell_type": "markdown",
   "id": "279551c7-6b7d-4ba1-a7fb-7c6320d4f5ea",
   "metadata": {},
   "source": [
    "Slår sammen eierandelene med listen over kommuner som har levert. På denne måten filtreres kommuner som ikke har levert bort."
   ]
  },
  {
   "cell_type": "code",
   "execution_count": null,
   "id": "9bb7acc5-2c4d-4af3-a0cb-a195a2d88f39",
   "metadata": {
    "tags": []
   },
   "outputs": [],
   "source": [
    "eier_levert = pd.merge(eierandel, levert, on=['region'])\n",
    "eier_levert = eier_levert.astype({'periode':str,'saerbedrift':str})"
   ]
  },
  {
   "cell_type": "markdown",
   "id": "32648b2b-b2e8-4362-94fe-7671c837610f",
   "metadata": {},
   "source": [
    "#### Kontrollerer fjernede rader"
   ]
  },
  {
   "cell_type": "code",
   "execution_count": null,
   "id": "9977cf3a-3b27-4011-b7f8-df85ee0c200a",
   "metadata": {
    "tags": []
   },
   "outputs": [],
   "source": [
    "kontroll_merge(eierandel, eier_levert)"
   ]
  },
  {
   "cell_type": "markdown",
   "id": "20df7177-9ff6-49a8-b650-db3c4c4207fe",
   "metadata": {},
   "source": [
    "### Fordeler særbedriftenes regnskap"
   ]
  },
  {
   "cell_type": "code",
   "execution_count": null,
   "id": "471587b9-67e1-42bb-8105-0964bfa6849d",
   "metadata": {
    "tags": []
   },
   "outputs": [],
   "source": [
    "fordelt = pd.merge(kostra0j_0l_kontrollert[['kapittel','kontoklasse','belop','saerbedrift']],\n",
    "                   eier_levert[['periode','saerbedrift','region','andel']], left_on=['saerbedrift'], right_on=['saerbedrift'])"
   ]
  },
  {
   "cell_type": "markdown",
   "id": "497cf194-f4a1-4c8b-abca-0a1fe918fe9c",
   "metadata": {},
   "source": [
    "Fordeler særbedriftenes regnskap på kommunene ved å gange beløp og andel"
   ]
  },
  {
   "cell_type": "code",
   "execution_count": null,
   "id": "97f779f8-f2ca-47d7-bf0c-6289f4d7beb1",
   "metadata": {},
   "outputs": [],
   "source": [
    "fordelt['fordelt'] = fordelt['belop'] * fordelt['andel']"
   ]
  },
  {
   "cell_type": "markdown",
   "id": "23f75913-70d0-4336-8021-e16db433603f",
   "metadata": {},
   "source": [
    "Fjerner overflødige kolonner"
   ]
  },
  {
   "cell_type": "code",
   "execution_count": null,
   "id": "9177a1e5-f41f-483c-816e-54ed63dc9f70",
   "metadata": {},
   "outputs": [],
   "source": [
    "fordelt = fordelt.drop(columns={'andel','belop'})\n",
    "fordelt = fordelt.rename(columns={'fordelt':'belop'})"
   ]
  },
  {
   "cell_type": "markdown",
   "id": "f3f0fd30-71ed-4064-a166-24cab10c6bb7",
   "metadata": {},
   "source": [
    "## Lager Oslo Fylkeskommune\n",
    "Tallene fra Oslo skal være med både for kommune og fylkeskommune. Vi må derfor kopiere alle Oslo tall og endre region på de kopierte radene fra 0301 til 0300. "
   ]
  },
  {
   "cell_type": "code",
   "execution_count": null,
   "id": "85be6285-84c5-4f00-94c0-f9f11d1461ae",
   "metadata": {},
   "outputs": [],
   "source": [
    "#Henter ut Oslo og endrer regionskode til 0300. Legger Oslo fylkeskommune på arbeidsfilen. \n",
    "oslo=fordelt[(fordelt['region']=='0301')].copy()\n",
    "oslo['region'] = oslo['region'].str.replace('0301', '0300')"
   ]
  },
  {
   "cell_type": "markdown",
   "id": "7b4d322c-945d-442c-8c27-686412d9ec29",
   "metadata": {},
   "source": [
    "Slår sammen Oslo Fylkeskommune med regnskapsfilen"
   ]
  },
  {
   "cell_type": "code",
   "execution_count": null,
   "id": "d2667504-78a0-4ab7-9306-9ff0b24cc250",
   "metadata": {},
   "outputs": [],
   "source": [
    "kostra0j_0l_fordelt = pd.concat([fordelt, oslo])"
   ]
  },
  {
   "cell_type": "markdown",
   "id": "382f8e6e-60a8-4d35-91ed-878a303da84f",
   "metadata": {},
   "source": [
    "## Fjerner organisasjonsnummer og summerer langs regnskapet"
   ]
  },
  {
   "cell_type": "code",
   "execution_count": null,
   "id": "d8567505-964e-4f4f-b12f-3bff61cb81fb",
   "metadata": {},
   "outputs": [],
   "source": [
    "kostra0j_0l_fordelt = kostra0j_0l_fordelt.groupby(['kapittel','kontoklasse','periode','region']).sum().reset_index()"
   ]
  },
  {
   "cell_type": "code",
   "execution_count": null,
   "id": "72cf390d-2579-4b4c-b1ed-b1c4bafa2b61",
   "metadata": {},
   "outputs": [],
   "source": [
    "kostra0j_0l_fordelt['regnskapsomfang'] = 'sbedr'"
   ]
  },
  {
   "cell_type": "markdown",
   "id": "5d3d2fc0-38f4-4d19-ba90-c90ca28864cd",
   "metadata": {},
   "source": [
    "## Samler kasse og særbedrift"
   ]
  },
  {
   "cell_type": "code",
   "execution_count": null,
   "id": "d30d71bd-63f6-434d-ae5d-be6bcc86b1e0",
   "metadata": {},
   "outputs": [],
   "source": [
    "balanse_basis = pd.concat([kassa, kostra0j_0l_fordelt])"
   ]
  },
  {
   "cell_type": "markdown",
   "id": "b5b38985-c783-4521-8c9f-01cea6c2c9fa",
   "metadata": {},
   "source": [
    "# Ferdig fil\n",
    "- Lagrer fil som er klar som input til KostraRegnskaps-metode"
   ]
  },
  {
   "cell_type": "code",
   "execution_count": null,
   "id": "1d475b9f-dc53-4b14-b705-8f0830b71021",
   "metadata": {},
   "outputs": [],
   "source": [
    "balanse_basis.to_parquet(\"/ssb/stamme03/komakro/pilot_python/arbeidsdata/arbeidsfiler/\" + aar + \"/balanse_basis_\" + aar + \".parquet\")"
   ]
  },
  {
   "cell_type": "markdown",
   "id": "33fa6a87-d52b-435a-b19c-999b3d512db8",
   "metadata": {},
   "source": [
    "#### Kontrollfilter"
   ]
  },
  {
   "cell_type": "code",
   "execution_count": null,
   "id": "d54ad1fa-cf00-4eec-aaad-080dc9fd7db2",
   "metadata": {},
   "outputs": [],
   "source": [
    "#sjekk=kostra0j_0l_fordelt[(kostra0j_0l_fordelt['region']=='4601') & (kostra0j_0l_fordelt['art']=='510') ].copy()\n",
    "#sjekk"
   ]
  },
  {
   "cell_type": "code",
   "execution_count": null,
   "id": "27fc6318-276f-4ddb-bc77-0745fae83211",
   "metadata": {},
   "outputs": [],
   "source": [
    "#agg = sjekk.groupby(['art','periode','kontoklasse','region'])[['belop']].sum().reset_index()\n",
    "#agg"
   ]
  },
  {
   "cell_type": "code",
   "execution_count": null,
   "id": "7cfcdeae-1e62-4e2c-b865-3ebc1def8b13",
   "metadata": {},
   "outputs": [],
   "source": [
    "#kostra0j_0l_fordelt"
   ]
  },
  {
   "cell_type": "code",
   "execution_count": null,
   "id": "d59ecc9d-0c4c-419f-ad44-bdde1a1cb326",
   "metadata": {},
   "outputs": [],
   "source": [
    "balanse_basis"
   ]
  },
  {
   "cell_type": "code",
   "execution_count": null,
   "id": "b7da3887-8d85-42c6-91ba-c0e125491ef8",
   "metadata": {},
   "outputs": [],
   "source": []
  }
 ],
 "metadata": {
  "kernelspec": {
   "display_name": "Python 3",
   "language": "python",
   "name": "python3"
  },
  "language_info": {
   "codemirror_mode": {
    "name": "ipython",
    "version": 3
   },
   "file_extension": ".py",
   "mimetype": "text/x-python",
   "name": "python",
   "nbconvert_exporter": "python",
   "pygments_lexer": "ipython3",
   "version": "3.8.8"
  },
  "toc-autonumbering": false,
  "toc-showmarkdowntxt": false,
  "toc-showtags": false
 },
 "nbformat": 4,
 "nbformat_minor": 5
}
