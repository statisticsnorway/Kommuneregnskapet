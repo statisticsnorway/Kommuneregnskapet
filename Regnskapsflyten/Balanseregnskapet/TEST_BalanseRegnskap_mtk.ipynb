{
 "cells": [
  {
   "cell_type": "code",
   "execution_count": null,
   "id": "ff366c75-b7e1-4619-a125-a3c658141a95",
   "metadata": {
    "tags": []
   },
   "outputs": [],
   "source": [
    "library(SSBtools)\n",
    "library(\"arrow\")\n",
    "library(tidyverse)\n",
    "source('../KostraPakken_redigert/BalanseRegnskap_mtk.R',echo=TRUE)"
   ]
  },
  {
   "cell_type": "code",
   "execution_count": null,
   "id": "0db76cbd-ad9c-42d4-907c-4927c1299e37",
   "metadata": {},
   "outputs": [],
   "source": [
    "aar <- readline(prompt=\"Angi årgang:\")"
   ]
  },
  {
   "cell_type": "code",
   "execution_count": null,
   "id": "5136f2d4-66a5-414c-83e9-c6b2e8ed6ef9",
   "metadata": {},
   "outputs": [],
   "source": [
    "balanse <- read_parquet(paste('/ssb/stamme03/komakro/pilot_python/arbeidsdata/arbeidsfiler/',aar,'/balanse_basis_',aar,'.parquet', sep = \"\"))\n",
    "balanse <- as.data.frame(balanse)\n",
    "balanse <- select(balanse, -last_col())"
   ]
  },
  {
   "cell_type": "code",
   "execution_count": null,
   "id": "292261ed-ae9a-4deb-a935-23250ea374fb",
   "metadata": {},
   "outputs": [],
   "source": [
    "konsolidert <- read_parquet(paste('/ssb/stamme03/komakro/pilot_python/arbeidsdata/arbeidsfiler/',aar,'/kostra0n_0q_basis_',aar,'.parquet', sep = \"\"))\n",
    "konsolidert <- as.data.frame(konsolidert)\n",
    "konsolidert <- select(konsolidert, -last_col())"
   ]
  },
  {
   "cell_type": "code",
   "execution_count": null,
   "id": "57ace70c-b347-48f5-9939-a9757b1bc525",
   "metadata": {},
   "outputs": [],
   "source": [
    "alle_regnskap <- rbind(balanse, konsolidert)"
   ]
  },
  {
   "cell_type": "code",
   "execution_count": null,
   "id": "22d7ffd7-6d07-4c08-bcec-794e7a6560fb",
   "metadata": {},
   "outputs": [],
   "source": [
    "kapittelhierarki <- read_parquet(paste('../../../Testdata/arbeidsdata/KostraRegnskap/kapittelhierarki_',aar,'.parquet', sep = \"\"))\n",
    "kapittelhierarki <- as.data.frame(kapittelhierarki)"
   ]
  },
  {
   "cell_type": "code",
   "execution_count": null,
   "id": "1ef72180-4379-4c7b-b49d-28e5690c6d5d",
   "metadata": {
    "jupyter": {
     "outputs_hidden": true
    },
    "tags": []
   },
   "outputs": [],
   "source": [
    "res <- BalanseRegnskap(alle_regnskap, kapittelhierarki)"
   ]
  },
  {
   "cell_type": "code",
   "execution_count": null,
   "id": "ec9aa756-325c-4421-b0f2-e57bd0f2d377",
   "metadata": {},
   "outputs": [],
   "source": [
    "filter(res, region == \"0301\", kapittel == \"KG25\")"
   ]
  },
  {
   "cell_type": "code",
   "execution_count": null,
   "id": "b320c7a8-e9f0-4200-acc2-928bf1a0306c",
   "metadata": {},
   "outputs": [],
   "source": []
  }
 ],
 "metadata": {
  "kernelspec": {
   "display_name": "R",
   "language": "R",
   "name": "ir"
  },
  "language_info": {
   "codemirror_mode": "r",
   "file_extension": ".r",
   "mimetype": "text/x-r-source",
   "name": "R",
   "pygments_lexer": "r",
   "version": "4.1.3"
  }
 },
 "nbformat": 4,
 "nbformat_minor": 5
}
