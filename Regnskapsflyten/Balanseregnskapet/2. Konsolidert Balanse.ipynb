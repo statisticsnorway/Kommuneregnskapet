{
 "cells": [
  {
   "cell_type": "markdown",
   "id": "648939b2-e4db-4629-bb41-10332b88b921",
   "metadata": {},
   "source": [
    "# KOSTRA skjema N og Q\n"
   ]
  },
  {
   "cell_type": "markdown",
   "id": "349e6a8f-f038-4b6d-9e02-8936ee73c10f",
   "metadata": {},
   "source": [
    "## Henter nødvendige pakker\n",
    "**For løpet Kostra0N_0Q trengs følgende pakker:**  \n",
    "   - Pandas\n",
    "   - Numpy\n",
    "   - Selvlagde funksjoner lagret i fil funksjoner.py"
   ]
  },
  {
   "cell_type": "code",
   "execution_count": null,
   "id": "a2d17656-98d8-4623-9f35-c3cf34eade8a",
   "metadata": {},
   "outputs": [],
   "source": [
    "import pandas as pd\n",
    "import numpy as np\n",
    "exec(open('../funksjoner.py').read())"
   ]
  },
  {
   "cell_type": "markdown",
   "id": "4c5c0030-4f29-4db3-94d2-b0ff06486558",
   "metadata": {},
   "source": [
    "## Angi årgang som produseres"
   ]
  },
  {
   "cell_type": "code",
   "execution_count": null,
   "id": "7720b429-25eb-4538-b606-de9538cc9f84",
   "metadata": {},
   "outputs": [],
   "source": [
    "%run ./../aargang.ipynb"
   ]
  },
  {
   "cell_type": "markdown",
   "id": "f0f7ba30-0176-4422-8f35-9facc7858393",
   "metadata": {},
   "source": [
    "## Henter nødvendige datafiler\n",
    "**For løpet Kostra0N_0Q trengs følgende datafiler:**\n",
    "- Import fra Driller\n",
    "    - Skjema KOSTRA0N\n",
    "    - Skjema KOSTRA0Q\n",
    "- Lister fra KLASS\n",
    "    - Kodeliste for Kostra balansekapitler\n",
    "    - Kommunelisten for gjeldene årgang\n",
    "    - Fylkeskommunelisten for gjeldene årgang"
   ]
  },
  {
   "cell_type": "code",
   "execution_count": null,
   "id": "8df5b9a3-f330-4ad7-ac65-c5c79640fc6f",
   "metadata": {
    "tags": []
   },
   "outputs": [],
   "source": [
    "kostra0n = pd.read_parquet(\"/ssb/stamme03/komakro/pilot_python/arbeidsdata/import_driller/\" + aar + \"/kostra0n.parquet\")\n",
    "kostra0q = pd.read_parquet(\"/ssb/stamme03/komakro/pilot_python/arbeidsdata/import_driller/\" + aar + \"/kostra0q.parquet\")\n",
    "kap = pd.read_parquet(\"/ssb/stamme03/komakro/pilot_python/arbeidsdata/klass/\" + aar + \"/kapittel.parquet\").astype(str)\n",
    "komm = pd.read_parquet(\"/ssb/stamme03/komakro/pilot_python/arbeidsdata/klass/\" + aar + \"/komm.parquet\").astype(str)\n",
    "fykomm = pd.read_parquet(\"/ssb/stamme03/komakro/pilot_python/arbeidsdata/klass/\" + aar + \"/fykomm.parquet\").astype(str)"
   ]
  },
  {
   "cell_type": "markdown",
   "id": "5571d632-b1e3-4cf8-b2a4-90599aeeacb2",
   "metadata": {},
   "source": [
    "## Bearbeider regnskapsfilene"
   ]
  },
  {
   "cell_type": "markdown",
   "id": "30c3534f-5d6c-4f52-98d2-45c507eaccb7",
   "metadata": {},
   "source": [
    "### Slår sammen Kostra0N og Kostra0Q"
   ]
  },
  {
   "cell_type": "code",
   "execution_count": null,
   "id": "81f21d68-1567-432d-b83a-77e9e9c76193",
   "metadata": {
    "tags": []
   },
   "outputs": [],
   "source": [
    "#Setter sammen skjema a og c\n",
    "nq = pd.concat([kostra0n, kostra0q])"
   ]
  },
  {
   "cell_type": "markdown",
   "id": "a91fc34a-f4a0-4728-bf9d-67c785737db4",
   "metadata": {},
   "source": [
    "### Ordner data\n",
    "- Definerer rett datatype\n",
    "- Endrer kolonnenavn\n",
    "    - Fra store til små bokstaver\n",
    "    - Endrer navn\n",
    "- Fjerner manglende observasjoner"
   ]
  },
  {
   "cell_type": "code",
   "execution_count": null,
   "id": "88efff66-6b0d-4ea9-90f7-138ab76beace",
   "metadata": {
    "tags": []
   },
   "outputs": [],
   "source": [
    "nq = nq.astype({'FUNKSJON_KAPITTEL':str,'ART_SEKTOR':str, 'KONTOKLASSE':str,'PERIODE':str,'REGION':str})"
   ]
  },
  {
   "cell_type": "code",
   "execution_count": null,
   "id": "4ef12d4e-07f6-4ee0-bcce-832022053260",
   "metadata": {},
   "outputs": [],
   "source": [
    "#Endrer headingen fra store til små bokstaver\n",
    "nq.columns = [x.lower() for x in nq.columns]"
   ]
  },
  {
   "cell_type": "code",
   "execution_count": null,
   "id": "ab323586-5389-4a25-8db7-23cbe1dfbca4",
   "metadata": {
    "tags": []
   },
   "outputs": [],
   "source": [
    "#Endrer navn på kapittel\n",
    "nq.rename(columns={'funksjon_kapittel':'kapittel'}, inplace = True)"
   ]
  },
  {
   "cell_type": "code",
   "execution_count": null,
   "id": "2e4eea54-b6b8-433a-a3e9-d540ee966aa7",
   "metadata": {},
   "outputs": [],
   "source": [
    "nq = nq.groupby(['kapittel', 'kontoklasse', 'periode', 'region'])[['belop']].sum().reset_index()"
   ]
  },
  {
   "cell_type": "code",
   "execution_count": null,
   "id": "79e99468-f4b8-4d68-9309-b12753f2af24",
   "metadata": {
    "tags": []
   },
   "outputs": [],
   "source": [
    "#Filtrerer bort alle rader med manglede verdier. Fungerer det? Må testes på et annet datasett som faktisk har manglende verdier... \n",
    "nq_null = nq.dropna()"
   ]
  },
  {
   "cell_type": "markdown",
   "id": "072d3e52-3c59-4186-b074-f4fe0060a6b6",
   "metadata": {},
   "source": [
    "#### Kontrollerer fjernede rader"
   ]
  },
  {
   "cell_type": "code",
   "execution_count": null,
   "id": "fe4a81d4-ab90-421c-9d7f-030a0b64bc7b",
   "metadata": {},
   "outputs": [],
   "source": [
    "kontroll_merge(nq,nq_null)"
   ]
  },
  {
   "cell_type": "markdown",
   "id": "f29b89fe-1884-4c7a-a139-930a2c856a0d",
   "metadata": {},
   "source": [
    "### Snur fortegn for inntektsarter\n",
    "- Endrer alle verdier som har art høyere eller lik 600 til negative tall"
   ]
  },
  {
   "cell_type": "code",
   "execution_count": null,
   "id": "e3971125-fa42-413e-88e7-d5250d2a73e3",
   "metadata": {},
   "outputs": [],
   "source": [
    "nq_snudd = nq_null.copy()"
   ]
  },
  {
   "cell_type": "code",
   "execution_count": null,
   "id": "d1065f9f-aa60-4a3c-a355-2044e757b034",
   "metadata": {},
   "outputs": [],
   "source": [
    "nq_snudd['belop']=np.where((nq_snudd.kapittel >= '31') & (nq_snudd.kapittel <= '5990'),  nq_snudd.belop*-1, nq_snudd.belop)"
   ]
  },
  {
   "cell_type": "markdown",
   "id": "e7c17110-9dca-476d-a1ed-691bed857900",
   "metadata": {},
   "source": [
    "## Lager Oslo Fylkeskommune\n",
    "- Tallene fra Oslo skal være med både for kommune og fylkeskommune. Vi må derfor kopiere alle Oslo tall og endre region på de kopierte radene fra 0301 til 0300. "
   ]
  },
  {
   "cell_type": "code",
   "execution_count": null,
   "id": "ae2bc33e-cfc7-4041-a8e1-73da380973be",
   "metadata": {
    "tags": []
   },
   "outputs": [],
   "source": [
    "#Henter ut Oslo og endrer regionskode til 0300. Legger Oslo fylkeskommune på arbeidsfilen. \n",
    "oslo=nq_snudd[(nq_snudd['region']=='0301')].copy()\n",
    "oslo['region'] = oslo['region'].str.replace('0301', '0300')"
   ]
  },
  {
   "cell_type": "markdown",
   "id": "3741052c-6f26-4ab0-b499-42cbd6e467ce",
   "metadata": {},
   "source": [
    "- Slår sammen Oslo Fylkeskommune med regnskapsfilen"
   ]
  },
  {
   "cell_type": "code",
   "execution_count": null,
   "id": "950a4499-de29-4944-aa84-f228e38b20ad",
   "metadata": {},
   "outputs": [],
   "source": [
    "nq_forts = pd.concat([nq_snudd, oslo])"
   ]
  },
  {
   "cell_type": "markdown",
   "id": "38746acc-5786-4360-b4ea-f535fe0e2aac",
   "metadata": {},
   "source": [
    "## Filtrerer gyldige kapitler\n",
    "**Kapittel listen**\n",
    "- Hentes direkte fra KLASS via API i egen notebook (API Klass). \n",
    "- Filen laget i API-notebooken er lastet inn helt i starten av denne boken.\n",
    "\n",
    "**Kontroll**\n",
    "- Funksjonen kontroll_merge er laget i egen notebook (funksjoner.py)\n",
    "- Kontrollen lister ut alle rader som er fjernet i mergen over. Dersom ingen rader listes ut ble ingenting fjernet i operasjonen over."
   ]
  },
  {
   "cell_type": "markdown",
   "id": "b277da04-8e21-4111-9b91-1c46f8331b0b",
   "metadata": {},
   "source": [
    "### Kapittelsfilter\n",
    "- Merger alle gylige kapitler med regnskapsfilen. Dette fjerner alle reder med ugyldige kapitler"
   ]
  },
  {
   "cell_type": "code",
   "execution_count": null,
   "id": "1b7ef0ef-def0-4e48-9cc0-8fc84ed67a0a",
   "metadata": {},
   "outputs": [],
   "source": [
    "kap=kap.drop(columns={'periode'})"
   ]
  },
  {
   "cell_type": "code",
   "execution_count": null,
   "id": "5a189947-280c-4457-9c0b-15564a6e038d",
   "metadata": {},
   "outputs": [],
   "source": [
    "gyldige_kap = list(kap.columns.values)"
   ]
  },
  {
   "cell_type": "code",
   "execution_count": null,
   "id": "ecfa250a-7957-4e7e-a4a2-1b5ac192984e",
   "metadata": {},
   "outputs": [],
   "source": [
    "k1 = nq_forts.set_index(gyldige_kap).index\n",
    "k2 = kap.set_index(gyldige_kap).index\n",
    "kapittelfilter = nq_forts[k1.isin(k2)]"
   ]
  },
  {
   "cell_type": "markdown",
   "id": "29997be3-b751-420c-852f-cc12b5337c21",
   "metadata": {},
   "source": [
    "#### Kontrollerer fjernede rader\n",
    "- Må kunne se nærmere på dataen"
   ]
  },
  {
   "cell_type": "code",
   "execution_count": null,
   "id": "2ca22fae-73d7-44f1-9d50-826dde68002e",
   "metadata": {},
   "outputs": [],
   "source": [
    "kontroll_merge(nq_forts, kapittelfilter)"
   ]
  },
  {
   "cell_type": "markdown",
   "id": "e3d1f848-f198-4c16-b944-b98ad59c11cc",
   "metadata": {},
   "source": [
    "# Foreløpig Fil - kontrollert"
   ]
  },
  {
   "cell_type": "code",
   "execution_count": null,
   "id": "10b3c68a-588c-47d4-b813-3ab3b1c9fcac",
   "metadata": {},
   "outputs": [],
   "source": [
    "kostra0n_0q_kontrollert = kapittelfilter"
   ]
  },
  {
   "cell_type": "markdown",
   "id": "06a14b0e-7c34-4ee9-9ea3-6dc652821f1f",
   "metadata": {},
   "source": [
    "## Finner manglende kommuner\n",
    "- For å finne hvem som mangler må vi koble opp mot regionslisten. Dette gjøres via API mot Klass (notebook API Klass).\n",
    "\n",
    "- Lagt opp mot kommuner og fylkeskommuner, ikke bydeler\n"
   ]
  },
  {
   "cell_type": "code",
   "execution_count": null,
   "id": "925f2b0a-6693-440c-a40a-bae4a2d61216",
   "metadata": {},
   "outputs": [],
   "source": [
    "#Lister ut alle kommuner og fylkeskommuner som er med i regnskapsfilen. \n",
    "#Lagrer filen til senere bruk.\n",
    "levert = kostra0n_0q_kontrollert[['region']].drop_duplicates()\n",
    "#levert.to_parquet(\"/ssb/stamme03/komakro/pilot_python/arbeidsdata/arbeidsfiler/\" + aar + \"/kostra0b_0d_levert_\" + aar + \".parquet\")"
   ]
  },
  {
   "cell_type": "markdown",
   "id": "81ae23f0-c232-4069-bd4b-05433e11feac",
   "metadata": {},
   "source": [
    "### Alle regioner"
   ]
  },
  {
   "cell_type": "code",
   "execution_count": null,
   "id": "bce1166b-2ffb-47cd-b50b-603e18d875d1",
   "metadata": {},
   "outputs": [],
   "source": [
    "#Slår sammen kommujne og fylkeskommunelisten tidligere hentet fra Klass. \n",
    "regioner = pd.concat([komm, fykomm])"
   ]
  },
  {
   "cell_type": "markdown",
   "id": "2181f441-8870-439b-bb1c-06833ba60031",
   "metadata": {},
   "source": [
    "### Manglende kommuner"
   ]
  },
  {
   "cell_type": "code",
   "execution_count": null,
   "id": "e51eb3c4-2062-4720-b9d3-34a53c0b73e9",
   "metadata": {},
   "outputs": [],
   "source": [
    "#Lister ut manglende kommuner\n",
    "manglende = kontroll_merge(regioner,levert)\n",
    "manglende"
   ]
  },
  {
   "cell_type": "code",
   "execution_count": null,
   "id": "13c3daf9-9066-4e85-af1b-6eeedce3d45d",
   "metadata": {},
   "outputs": [],
   "source": [
    "#manglende.to_parquet(\"/ssb/stamme03/komakro/pilot_python/arbeidsdata/arbeidsfiler/\" + aar + \"/kostra0n_0q_manglende_\" + aar + \".parquet\")"
   ]
  },
  {
   "cell_type": "markdown",
   "id": "bda29cec-eeec-47e8-beed-15c74fb3b136",
   "metadata": {},
   "source": [
    "## Oppretter regnskapsomfang\n",
    "- Regnskapsomfang C definerer at dette er konsoliderte tall"
   ]
  },
  {
   "cell_type": "code",
   "execution_count": null,
   "id": "5b60a40c-0972-4de5-a928-666f5134ea0d",
   "metadata": {},
   "outputs": [],
   "source": [
    "kostra0n_0q_kontrollert['regnskapsomfang'] = 'C'"
   ]
  },
  {
   "cell_type": "markdown",
   "id": "07b9c7de-3480-4b3b-97af-6984a5dce0f7",
   "metadata": {},
   "source": [
    "# Ferdig fil\n",
    "- Lagrer fil som er klar som input til KostraRegnskaps-metode\n",
    "- Her må vi ha mulighet for å se på dataen"
   ]
  },
  {
   "cell_type": "code",
   "execution_count": null,
   "id": "3d494bcd-642b-4196-9a78-14de8ab07fc3",
   "metadata": {},
   "outputs": [],
   "source": [
    "kostra0n_0q_kontrollert.to_parquet(\"/ssb/stamme03/komakro/pilot_python/arbeidsdata/arbeidsfiler/\" + aar + \"/kostra0n_0q_basis_\" + aar + \".parquet\")"
   ]
  },
  {
   "cell_type": "markdown",
   "id": "4f77fe21-1da7-411f-92c3-44e9386e4107",
   "metadata": {},
   "source": [
    "#### Kontrollfilter"
   ]
  },
  {
   "cell_type": "code",
   "execution_count": null,
   "id": "5e147b8b-49cf-4d55-97bf-8fd64b957ec8",
   "metadata": {},
   "outputs": [],
   "source": [
    "#sjekk=bd_basis[(bd_basis['region']=='4601') & (bd_basis['art']=='905') ].copy()\n",
    "#sjekk"
   ]
  },
  {
   "cell_type": "code",
   "execution_count": null,
   "id": "cf7c59f6-3c72-4cc2-ac05-ba18db604e99",
   "metadata": {},
   "outputs": [],
   "source": [
    "kostra0n_0q_kontrollert"
   ]
  },
  {
   "cell_type": "code",
   "execution_count": null,
   "id": "2b0cc6cf-0e14-415c-a036-314ce0178d8e",
   "metadata": {},
   "outputs": [],
   "source": []
  }
 ],
 "metadata": {
  "kernelspec": {
   "display_name": "Python 3",
   "language": "python",
   "name": "python3"
  },
  "language_info": {
   "codemirror_mode": {
    "name": "ipython",
    "version": 3
   },
   "file_extension": ".py",
   "mimetype": "text/x-python",
   "name": "python",
   "nbconvert_exporter": "python",
   "pygments_lexer": "ipython3",
   "version": "3.8.8"
  }
 },
 "nbformat": 4,
 "nbformat_minor": 5
}
