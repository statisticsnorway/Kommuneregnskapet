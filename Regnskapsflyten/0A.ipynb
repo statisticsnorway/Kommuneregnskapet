{
 "cells": [
  {
   "cell_type": "code",
   "execution_count": null,
   "id": "a2d17656-98d8-4623-9f35-c3cf34eade8a",
   "metadata": {},
   "outputs": [],
   "source": [
    "import pandas as pd\n",
    "import numpy as np\n",
    "import glob"
   ]
  },
  {
   "cell_type": "code",
   "execution_count": null,
   "id": "c195a0fe-cf21-43b7-a650-06f756b5c5b3",
   "metadata": {},
   "outputs": [],
   "source": [
    "paths = glob.glob(\"/ssb/bruker/mtk/Testdata/*\")\n",
    "paths"
   ]
  },
  {
   "cell_type": "code",
   "execution_count": null,
   "id": "8df5b9a3-f330-4ad7-ac65-c5c79640fc6f",
   "metadata": {},
   "outputs": [],
   "source": [
    "a = pd.read_csv(\"/ssb/bruker/mtk/Testdata/0A_2021.csv\", sep = ';')\n",
    "a.info()\n",
    "a.head()"
   ]
  },
  {
   "cell_type": "code",
   "execution_count": null,
   "id": "942db921-2af8-48b8-aaca-7c7b65e8ce2a",
   "metadata": {},
   "outputs": [],
   "source": []
  }
 ],
 "metadata": {
  "kernelspec": {
   "display_name": "Python 3 (ipykernel)",
   "language": "python",
   "name": "python3"
  },
  "language_info": {
   "codemirror_mode": {
    "name": "ipython",
    "version": 3
   },
   "file_extension": ".py",
   "mimetype": "text/x-python",
   "name": "python",
   "nbconvert_exporter": "python",
   "pygments_lexer": "ipython3",
   "version": "3.8.8"
  }
 },
 "nbformat": 4,
 "nbformat_minor": 5
}
